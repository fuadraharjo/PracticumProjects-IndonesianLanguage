{
 "cells": [
  {
   "cell_type": "markdown",
   "metadata": {},
   "source": [
    "# Model Prediksi Churn Nasabah Bank Menggunakan Machine Learning: Studi Kasus pada Data Bank Syariah <a id='intro'></a>"
   ]
  },
  {
   "cell_type": "markdown",
   "metadata": {},
   "source": [
    "Sebuah `Bank Syariah` yang menerapkan akad syariah `agama islam` dalam proses bisnisnya dimana hanya menyediakan layanan jual beli, bukan akad peminjaman uang dengan riba terhadap pihak pertama (`developer/penjual`), kedua(`bank`) dan ketiga(`nasabah`). Nasabah yang menginginkan sesuatu namun terkendala biaya bisa menggunakan fasilitas ini, dimana barang dibeli oleh bank kemudian dijual kembali dengan margin yang lebih tinggi kepada nasabah dengan pembayaran cicil selama jangka waktu tertentu. Dataset ini bukan merupakan dataset asli dari `Bank Syariah`, hanya dijadikan sebagai tujuan pembelajaran.\n",
    "\n",
    "Nasabah `Bank Syariah` pergi meninggalkan perusahaan: sedikit demi sedikit, jumlah mereka berkurang setiap bulannya. Para pegawai bank menyadari bahwa akan lebih menghemat biaya jika perusahaan fokus untuk mempertahankan nasabah lama mereka yang setia daripada menarik nasabah baru.\n",
    "Pada kasus ini, tugas kita adalah untuk memprediksi apakah seorang nasabah akan segera meninggalkan bank atau tidak. Kita memiliki data terkait perilaku para klien di masa lalu dan riwayat pemutusan kontrak mereka dengan bank. Target dinyatakan dengan `Kelas 0` bahwa nasabah tidak segera pergi dan `Kelas 1` bahwa nasabah akan segera pergi.\n",
    "\n",
    "Berdasarkan penjelasan diatas, `model machine learning` yang dipilih adalah jenis `klasifikasi - supervised learning`. Kita akan mencari F1 Skor semaksimal mungkin dan melihat metrik AUC-ROC. Ambang batas (threshold) F1 yang ditetapkan untuk projek ini sebesar 0.59.\n",
    "\n",
    "Beberapa tujuan dan rumusan masalah dari analisis projek ini:\n",
    "- Mengetahui algoritma terbaik untuk `model machine learning` untuk dataset `Bank Syariah`\n",
    "- `Hyperparameter` terbaik seperti apa pada `model machine learning`\n",
    "- Apakah ketidak seimbangan (`imbalance`) kelas mempengaruhi metrik kualitas `model machine learning`?\n",
    "- Benarkah model yang sudah dilatih menggunakan kelas data yang seimbang (`balance`) menghasilkan metrik kualitas F1 yang lebih baik?"
   ]
  },
  {
   "cell_type": "markdown",
   "metadata": {},
   "source": [
    "# Konten <a id='back'></a>\n",
    "\n",
    "* [Pendahuluan](#intro)\n",
    "* [Konten](#back)\n",
    "* [Tahap 1. Mempersiapkan Dataset](#cont_1)\n",
    "    * [1.1 Memuat Library](#cont_2) \n",
    "    * [1.2 Memuat Dataset](#cont_3)\n",
    "    * [1.3 Menseleksi Fitur](#cont_4) \n",
    "    * [1.4 Mengecek Duplikasi](#cont_5) \n",
    "    * [1.5 Mengecek Nilai Yang Hilang](#cont_6) \n",
    "* [Tahap 2. Preparasi Model Machine Learning](#cont_7)\n",
    "    * [2.1 Membuat One Hot Encoding (OHE)](#cont_8) \n",
    "    * [2.2 Memisahkan Fitur dan Target dari Dataset](#cont_9) \n",
    "    * [2.3 Menskalakan Fitur](#cont_10) \n",
    "    * [2.4 Keseimbangan Kelas](#cont_11) \n",
    "    * [2.5 Membagi Dataset](#cont_12) \n",
    "* [Tahap 3. Aplikasi Model Machine Learning](#cont_13)\n",
    "    * [3.1 Algoritma Klasifikasi Decision Tree](#cont_14) \n",
    "    * [3.2 Algoritma Klasifikasi Random Forest](#cont_15) \n",
    "    * [3.3 Algoritma Regresi Logistik](#cont_16) \n",
    "* [Tahap 4. Kesimpulan Umum](#cont_17)\n",
    "    * [4.1 Mengatasi Kelas yang Tidak Seimbang (Imbalance)](#cont_18) \n",
    "    * [4.2 Metrik Kualitas Model Terbaik (Optimized Model)](#cont_19) \n",
    "* [Tahap 5. Kesimpulan Umum](#cont_20)"
   ]
  },
  {
   "cell_type": "markdown",
   "metadata": {},
   "source": [
    "# Mempersiapkan Dataset <a id='cont_1'></a>"
   ]
  },
  {
   "cell_type": "markdown",
   "metadata": {},
   "source": [
    "Tahap pertama yang perlu dilakukan adalah mempersiapkan dataset mulai dari `memuat library` yang diperlukan, `memuat dataset kedalam projek`, `mengecek sampel data`, `mengecek nilai yang hilang`, `mengecek duplikat`, `mengecek tipe data` dan `mengecek keseimbangan kelas`."
   ]
  },
  {
   "cell_type": "markdown",
   "metadata": {},
   "source": [
    "## Memuat Library <a id='cont_2'></a>"
   ]
  },
  {
   "cell_type": "markdown",
   "metadata": {},
   "source": [
    "Selanjutnya kita akan memuat library yang diperlukan. Disini kita membutuhkan beberapa library yaitu `pandas` untuk mengolah dataset, `seaborn` untuk visualisasi data dan `scikit learn` untuk pemodelan `machine learning`. Mari kita muat library yang dibutuhkan."
   ]
  },
  {
   "cell_type": "code",
   "execution_count": 24,
   "metadata": {},
   "outputs": [],
   "source": [
    "# memuat library\n",
    "import pandas as pd\n",
    "import matplotlib.pyplot as plt\n",
    "import seaborn as sns\n",
    "from sklearn.preprocessing import StandardScaler\n",
    "from sklearn.model_selection import train_test_split\n",
    "from sklearn.metrics import f1_score, roc_auc_score\n",
    "from sklearn.tree import DecisionTreeClassifier\n",
    "from sklearn.ensemble import RandomForestClassifier\n",
    "from sklearn.linear_model import LogisticRegression\n",
    "from sklearn.utils import shuffle\n",
    "\n",
    "# set tema seaborn\n",
    "sns.set_theme(palette='bright')"
   ]
  },
  {
   "cell_type": "markdown",
   "metadata": {},
   "source": [
    "## Memuat Dataset <a id='cont_3'></a>"
   ]
  },
  {
   "cell_type": "markdown",
   "metadata": {},
   "source": [
    "Mari kita muat dataset `Bank Syariah` kedalam projek menggunakan library `pandas`. Dataset ini bukan merupakan dataset asli dari bank syariah dan ini hanya sebuah latihan `model machine learning`."
   ]
  },
  {
   "cell_type": "code",
   "execution_count": 25,
   "metadata": {},
   "outputs": [],
   "source": [
    "# memuat dataset\n",
    "df_churn = pd.read_csv('Churn.csv')"
   ]
  },
  {
   "cell_type": "markdown",
   "metadata": {},
   "source": [
    "Selanjutnya kita akan menampilkan informasi dan sampel data dari dataset `Bank Syariah`."
   ]
  },
  {
   "cell_type": "code",
   "execution_count": 26,
   "metadata": {},
   "outputs": [
    {
     "name": "stdout",
     "output_type": "stream",
     "text": [
      "<class 'pandas.core.frame.DataFrame'>\n",
      "RangeIndex: 10000 entries, 0 to 9999\n",
      "Data columns (total 14 columns):\n",
      " #   Column           Non-Null Count  Dtype  \n",
      "---  ------           --------------  -----  \n",
      " 0   RowNumber        10000 non-null  int64  \n",
      " 1   CustomerId       10000 non-null  int64  \n",
      " 2   Surname          10000 non-null  object \n",
      " 3   CreditScore      10000 non-null  int64  \n",
      " 4   Geography        10000 non-null  object \n",
      " 5   Gender           10000 non-null  object \n",
      " 6   Age              10000 non-null  int64  \n",
      " 7   Tenure           9091 non-null   float64\n",
      " 8   Balance          10000 non-null  float64\n",
      " 9   NumOfProducts    10000 non-null  int64  \n",
      " 10  HasCrCard        10000 non-null  int64  \n",
      " 11  IsActiveMember   10000 non-null  int64  \n",
      " 12  EstimatedSalary  10000 non-null  float64\n",
      " 13  Exited           10000 non-null  int64  \n",
      "dtypes: float64(3), int64(8), object(3)\n",
      "memory usage: 1.1+ MB\n",
      "None\n"
     ]
    },
    {
     "data": {
      "text/html": [
       "<div>\n",
       "<style scoped>\n",
       "    .dataframe tbody tr th:only-of-type {\n",
       "        vertical-align: middle;\n",
       "    }\n",
       "\n",
       "    .dataframe tbody tr th {\n",
       "        vertical-align: top;\n",
       "    }\n",
       "\n",
       "    .dataframe thead th {\n",
       "        text-align: right;\n",
       "    }\n",
       "</style>\n",
       "<table border=\"1\" class=\"dataframe\">\n",
       "  <thead>\n",
       "    <tr style=\"text-align: right;\">\n",
       "      <th></th>\n",
       "      <th>RowNumber</th>\n",
       "      <th>CustomerId</th>\n",
       "      <th>Surname</th>\n",
       "      <th>CreditScore</th>\n",
       "      <th>Geography</th>\n",
       "      <th>Gender</th>\n",
       "      <th>Age</th>\n",
       "      <th>Tenure</th>\n",
       "      <th>Balance</th>\n",
       "      <th>NumOfProducts</th>\n",
       "      <th>HasCrCard</th>\n",
       "      <th>IsActiveMember</th>\n",
       "      <th>EstimatedSalary</th>\n",
       "      <th>Exited</th>\n",
       "    </tr>\n",
       "  </thead>\n",
       "  <tbody>\n",
       "    <tr>\n",
       "      <th>0</th>\n",
       "      <td>1</td>\n",
       "      <td>15634602</td>\n",
       "      <td>Hargrave</td>\n",
       "      <td>619</td>\n",
       "      <td>France</td>\n",
       "      <td>Female</td>\n",
       "      <td>42</td>\n",
       "      <td>2.0</td>\n",
       "      <td>0.00</td>\n",
       "      <td>1</td>\n",
       "      <td>1</td>\n",
       "      <td>1</td>\n",
       "      <td>101348.88</td>\n",
       "      <td>1</td>\n",
       "    </tr>\n",
       "    <tr>\n",
       "      <th>1</th>\n",
       "      <td>2</td>\n",
       "      <td>15647311</td>\n",
       "      <td>Hill</td>\n",
       "      <td>608</td>\n",
       "      <td>Spain</td>\n",
       "      <td>Female</td>\n",
       "      <td>41</td>\n",
       "      <td>1.0</td>\n",
       "      <td>83807.86</td>\n",
       "      <td>1</td>\n",
       "      <td>0</td>\n",
       "      <td>1</td>\n",
       "      <td>112542.58</td>\n",
       "      <td>0</td>\n",
       "    </tr>\n",
       "    <tr>\n",
       "      <th>2</th>\n",
       "      <td>3</td>\n",
       "      <td>15619304</td>\n",
       "      <td>Onio</td>\n",
       "      <td>502</td>\n",
       "      <td>France</td>\n",
       "      <td>Female</td>\n",
       "      <td>42</td>\n",
       "      <td>8.0</td>\n",
       "      <td>159660.80</td>\n",
       "      <td>3</td>\n",
       "      <td>1</td>\n",
       "      <td>0</td>\n",
       "      <td>113931.57</td>\n",
       "      <td>1</td>\n",
       "    </tr>\n",
       "    <tr>\n",
       "      <th>3</th>\n",
       "      <td>4</td>\n",
       "      <td>15701354</td>\n",
       "      <td>Boni</td>\n",
       "      <td>699</td>\n",
       "      <td>France</td>\n",
       "      <td>Female</td>\n",
       "      <td>39</td>\n",
       "      <td>1.0</td>\n",
       "      <td>0.00</td>\n",
       "      <td>2</td>\n",
       "      <td>0</td>\n",
       "      <td>0</td>\n",
       "      <td>93826.63</td>\n",
       "      <td>0</td>\n",
       "    </tr>\n",
       "    <tr>\n",
       "      <th>4</th>\n",
       "      <td>5</td>\n",
       "      <td>15737888</td>\n",
       "      <td>Mitchell</td>\n",
       "      <td>850</td>\n",
       "      <td>Spain</td>\n",
       "      <td>Female</td>\n",
       "      <td>43</td>\n",
       "      <td>2.0</td>\n",
       "      <td>125510.82</td>\n",
       "      <td>1</td>\n",
       "      <td>1</td>\n",
       "      <td>1</td>\n",
       "      <td>79084.10</td>\n",
       "      <td>0</td>\n",
       "    </tr>\n",
       "  </tbody>\n",
       "</table>\n",
       "</div>"
      ],
      "text/plain": [
       "   RowNumber  CustomerId   Surname  CreditScore Geography  Gender  Age   \n",
       "0          1    15634602  Hargrave          619    France  Female   42  \\\n",
       "1          2    15647311      Hill          608     Spain  Female   41   \n",
       "2          3    15619304      Onio          502    France  Female   42   \n",
       "3          4    15701354      Boni          699    France  Female   39   \n",
       "4          5    15737888  Mitchell          850     Spain  Female   43   \n",
       "\n",
       "   Tenure    Balance  NumOfProducts  HasCrCard  IsActiveMember   \n",
       "0     2.0       0.00              1          1               1  \\\n",
       "1     1.0   83807.86              1          0               1   \n",
       "2     8.0  159660.80              3          1               0   \n",
       "3     1.0       0.00              2          0               0   \n",
       "4     2.0  125510.82              1          1               1   \n",
       "\n",
       "   EstimatedSalary  Exited  \n",
       "0        101348.88       1  \n",
       "1        112542.58       0  \n",
       "2        113931.57       1  \n",
       "3         93826.63       0  \n",
       "4         79084.10       0  "
      ]
     },
     "execution_count": 26,
     "metadata": {},
     "output_type": "execute_result"
    }
   ],
   "source": [
    "# mengecek informasi dataset\n",
    "print(df_churn.info())\n",
    "\n",
    "# menampilkan sampel data\n",
    "df_churn.head()"
   ]
  },
  {
   "cell_type": "markdown",
   "metadata": {},
   "source": [
    "Dataset berisi berbagai variabel/kolom yang dirincikan sebagai berikut:\n",
    "<br><br>\n",
    "Fitur-fitur:\n",
    "- `RowNumber` — merupakan indeks dari record dataset\n",
    "- `CustomerId` — merupakan ID nasabah\n",
    "- `Surname` — merupakan nama belakang\n",
    "- `CreditScore` — merupakan skor kredit\n",
    "- `Geography` — merupakan negara domisili\n",
    "- `Gender` — merupakan jenis kelamin\n",
    "- `Age` — merupakan usia nasabah\n",
    "- `Tenure` — merupakan tenor dalam tahun\n",
    "- `Balance` — merupakan saldo rekening nasabah\n",
    "- `NumOfProducts` — merupakan jumlah produk yang digunakan nasabah\n",
    "- `HasCrCard` — apakah nasabah mempunyai kartu, jika ya maka 1, tidak maka 0\n",
    "- `IsActiveMember` — apakah nasabah merupakan member aktif, jika ya maka 1, tidak maka 0\n",
    "- `EstimatedSalary` — merupakan jumlah gaji\n",
    "\n",
    "Target:\n",
    "- `Exited` — apakah nasabah telah berhenti, jika ya maka 1, tidak maka 0"
   ]
  },
  {
   "cell_type": "markdown",
   "metadata": {},
   "source": [
    "Berdasarkan informasi diatas menunjukan bahwa dataset terdiri dari `10000 baris` dan `14 kolom` serta memiliki `nilai yang hilang` pada kolom `Tenure`."
   ]
  },
  {
   "cell_type": "markdown",
   "metadata": {},
   "source": [
    "## Menseleksi Fitur <a id='cont_4'></a>"
   ]
  },
  {
   "cell_type": "markdown",
   "metadata": {},
   "source": [
    "Berdasarkan informasi diatas terdapat beberapa Fitur/kolom yang tidak mendukung dalam pelatihan `Model Machine Learning` diantaranya kolom `RowNumber`, `CustomerId`, `Surname`. Mari kita singkirkan variabel tersebut"
   ]
  },
  {
   "cell_type": "code",
   "execution_count": 27,
   "metadata": {},
   "outputs": [
    {
     "data": {
      "text/html": [
       "<div>\n",
       "<style scoped>\n",
       "    .dataframe tbody tr th:only-of-type {\n",
       "        vertical-align: middle;\n",
       "    }\n",
       "\n",
       "    .dataframe tbody tr th {\n",
       "        vertical-align: top;\n",
       "    }\n",
       "\n",
       "    .dataframe thead th {\n",
       "        text-align: right;\n",
       "    }\n",
       "</style>\n",
       "<table border=\"1\" class=\"dataframe\">\n",
       "  <thead>\n",
       "    <tr style=\"text-align: right;\">\n",
       "      <th></th>\n",
       "      <th>CreditScore</th>\n",
       "      <th>Geography</th>\n",
       "      <th>Gender</th>\n",
       "      <th>Age</th>\n",
       "      <th>Tenure</th>\n",
       "      <th>Balance</th>\n",
       "      <th>NumOfProducts</th>\n",
       "      <th>HasCrCard</th>\n",
       "      <th>IsActiveMember</th>\n",
       "      <th>EstimatedSalary</th>\n",
       "      <th>Exited</th>\n",
       "    </tr>\n",
       "  </thead>\n",
       "  <tbody>\n",
       "    <tr>\n",
       "      <th>0</th>\n",
       "      <td>619</td>\n",
       "      <td>France</td>\n",
       "      <td>Female</td>\n",
       "      <td>42</td>\n",
       "      <td>2.0</td>\n",
       "      <td>0.00</td>\n",
       "      <td>1</td>\n",
       "      <td>1</td>\n",
       "      <td>1</td>\n",
       "      <td>101348.88</td>\n",
       "      <td>1</td>\n",
       "    </tr>\n",
       "    <tr>\n",
       "      <th>1</th>\n",
       "      <td>608</td>\n",
       "      <td>Spain</td>\n",
       "      <td>Female</td>\n",
       "      <td>41</td>\n",
       "      <td>1.0</td>\n",
       "      <td>83807.86</td>\n",
       "      <td>1</td>\n",
       "      <td>0</td>\n",
       "      <td>1</td>\n",
       "      <td>112542.58</td>\n",
       "      <td>0</td>\n",
       "    </tr>\n",
       "    <tr>\n",
       "      <th>2</th>\n",
       "      <td>502</td>\n",
       "      <td>France</td>\n",
       "      <td>Female</td>\n",
       "      <td>42</td>\n",
       "      <td>8.0</td>\n",
       "      <td>159660.80</td>\n",
       "      <td>3</td>\n",
       "      <td>1</td>\n",
       "      <td>0</td>\n",
       "      <td>113931.57</td>\n",
       "      <td>1</td>\n",
       "    </tr>\n",
       "    <tr>\n",
       "      <th>3</th>\n",
       "      <td>699</td>\n",
       "      <td>France</td>\n",
       "      <td>Female</td>\n",
       "      <td>39</td>\n",
       "      <td>1.0</td>\n",
       "      <td>0.00</td>\n",
       "      <td>2</td>\n",
       "      <td>0</td>\n",
       "      <td>0</td>\n",
       "      <td>93826.63</td>\n",
       "      <td>0</td>\n",
       "    </tr>\n",
       "    <tr>\n",
       "      <th>4</th>\n",
       "      <td>850</td>\n",
       "      <td>Spain</td>\n",
       "      <td>Female</td>\n",
       "      <td>43</td>\n",
       "      <td>2.0</td>\n",
       "      <td>125510.82</td>\n",
       "      <td>1</td>\n",
       "      <td>1</td>\n",
       "      <td>1</td>\n",
       "      <td>79084.10</td>\n",
       "      <td>0</td>\n",
       "    </tr>\n",
       "  </tbody>\n",
       "</table>\n",
       "</div>"
      ],
      "text/plain": [
       "   CreditScore Geography  Gender  Age  Tenure    Balance  NumOfProducts   \n",
       "0          619    France  Female   42     2.0       0.00              1  \\\n",
       "1          608     Spain  Female   41     1.0   83807.86              1   \n",
       "2          502    France  Female   42     8.0  159660.80              3   \n",
       "3          699    France  Female   39     1.0       0.00              2   \n",
       "4          850     Spain  Female   43     2.0  125510.82              1   \n",
       "\n",
       "   HasCrCard  IsActiveMember  EstimatedSalary  Exited  \n",
       "0          1               1        101348.88       1  \n",
       "1          0               1        112542.58       0  \n",
       "2          1               0        113931.57       1  \n",
       "3          0               0         93826.63       0  \n",
       "4          1               1         79084.10       0  "
      ]
     },
     "execution_count": 27,
     "metadata": {},
     "output_type": "execute_result"
    }
   ],
   "source": [
    "# membuang kolom `RowNumber`, `CustomerId`, `Surname`\n",
    "df_churn.drop(columns=['RowNumber','CustomerId','Surname'], inplace=True)\n",
    "\n",
    "# menampilkan sampel dataset\n",
    "df_churn.head()"
   ]
  },
  {
   "cell_type": "markdown",
   "metadata": {},
   "source": [
    "Kolom `RowNumber`, `CustomerId`, `Surname` sudah kita singkirkan."
   ]
  },
  {
   "cell_type": "markdown",
   "metadata": {},
   "source": [
    "## Mengecek Duplikasi <a id='cont_5'></a>"
   ]
  },
  {
   "cell_type": "markdown",
   "metadata": {},
   "source": [
    "Selanjutnya kita akan mengecek duplikasi pada dataset. Jika terdapat banyak duplikat baris yang sama, maka akan mengurangi keakuratan `model machine learning` yang akan kita buat."
   ]
  },
  {
   "cell_type": "code",
   "execution_count": 28,
   "metadata": {},
   "outputs": [
    {
     "data": {
      "text/plain": [
       "0"
      ]
     },
     "execution_count": 28,
     "metadata": {},
     "output_type": "execute_result"
    }
   ],
   "source": [
    "# mengecek duplikasi pada dataset\n",
    "df_churn.duplicated().sum()"
   ]
  },
  {
   "cell_type": "markdown",
   "metadata": {},
   "source": [
    "Bisa dilihat kita tidak memiliki duplikat data yang sama pada dataset ini."
   ]
  },
  {
   "cell_type": "markdown",
   "metadata": {},
   "source": [
    "## Mengecek Nilai Yang Hilang <a id='cont_6'></a>"
   ]
  },
  {
   "cell_type": "markdown",
   "metadata": {},
   "source": [
    "Mari kita pastikan kembali untuk nilai yang hilang pada datasets yang kita miliki."
   ]
  },
  {
   "cell_type": "code",
   "execution_count": 29,
   "metadata": {},
   "outputs": [
    {
     "data": {
      "text/plain": [
       "CreditScore          0\n",
       "Geography            0\n",
       "Gender               0\n",
       "Age                  0\n",
       "Tenure             909\n",
       "Balance              0\n",
       "NumOfProducts        0\n",
       "HasCrCard            0\n",
       "IsActiveMember       0\n",
       "EstimatedSalary      0\n",
       "Exited               0\n",
       "dtype: int64"
      ]
     },
     "execution_count": 29,
     "metadata": {},
     "output_type": "execute_result"
    }
   ],
   "source": [
    "# mengecek nilai yang hilang pada dataset\n",
    "df_churn.isna().sum()"
   ]
  },
  {
   "cell_type": "markdown",
   "metadata": {},
   "source": [
    "Terdapat `909` nilai yang hilang pada kolom `Tenure`. Mari kita perbaiki nilai yang hilang tersebut dengan menggunakan nilai `mean` atau `median`. Mari kita cari tahu distribusi data pada kolom tersebut dengan menggunakan `boxplot`."
   ]
  },
  {
   "cell_type": "code",
   "execution_count": 30,
   "metadata": {},
   "outputs": [
    {
     "data": {
      "image/png": "[encoded data removed]",
      "text/plain": [
       "<Figure size 500x600 with 1 Axes>"
      ]
     },
     "metadata": {},
     "output_type": "display_data"
    }
   ],
   "source": [
    "# mengecek distribusi kolom 'Tenure' dengan boxplot\n",
    "plt.figure(figsize=(5,6))\n",
    "sns.boxplot(data=df_churn, y='Tenure', color='yellow')\n",
    "\n",
    "# menambahkan atribut pada grafik\n",
    "plt.title('Tenure Distribution Data')\n",
    "plt.ylabel('Year')\n",
    "plt.xlabel('Tenure')\n",
    "\n",
    "# menampilkan grafik\n",
    "plt.show()"
   ]
  },
  {
   "cell_type": "markdown",
   "metadata": {},
   "source": [
    "Bisa dilihiat bahwa data pada kolom ini tidak memilki `outliers`, sehingga bisa kita isi dengan menggunakan nilai `mean`."
   ]
  },
  {
   "cell_type": "code",
   "execution_count": 31,
   "metadata": {},
   "outputs": [
    {
     "data": {
      "text/plain": [
       "5"
      ]
     },
     "execution_count": 31,
     "metadata": {},
     "output_type": "execute_result"
    }
   ],
   "source": [
    "# rata-rata tenure\n",
    "mean_tenure = round(df_churn['Tenure'].mean())\n",
    "mean_tenure"
   ]
  },
  {
   "cell_type": "code",
   "execution_count": 32,
   "metadata": {},
   "outputs": [
    {
     "data": {
      "text/plain": [
       "0"
      ]
     },
     "execution_count": 32,
     "metadata": {},
     "output_type": "execute_result"
    }
   ],
   "source": [
    "# mengisi nilai yang hilang pada kolom 'Tenure'\n",
    "df_churn['Tenure'].fillna(mean_tenure, inplace=True)\n",
    "\n",
    "# mengecek nilai yang hilang pada kolom 'Tenure'\n",
    "df_churn['Tenure'].isna().sum()"
   ]
  },
  {
   "cell_type": "markdown",
   "metadata": {},
   "source": [
    "Sekarang kita tidak mempunyai dataset yang memiliki nilai yang hilang dan data siap diproses."
   ]
  },
  {
   "cell_type": "markdown",
   "metadata": {},
   "source": [
    "# Preparasi Model Machine Learning <a id='cont_7'></a>"
   ]
  },
  {
   "cell_type": "markdown",
   "metadata": {},
   "source": [
    "Membuat `model machine learning` yang terbaik diperlukan beberapa tahapan diantaranya: pembagian dataset, memilih algoritma, menguji algoritma, `tuning hyperparamater`. Mempersiapkan dataset untuk melatih `model machine learning` berbeda dengan mempersiapkan data untuk analisis statistik biasa."
   ]
  },
  {
   "cell_type": "markdown",
   "metadata": {},
   "source": [
    "## Membuat One Hot Encoding (OHE) <a id='cont_8'></a>"
   ]
  },
  {
   "cell_type": "markdown",
   "metadata": {},
   "source": [
    "Pada dataset terdapat fitur/kolom yang berisi kelas kategorik seperti pada kolom `Geography` dan `Gender`. Kita cek apakah kolom tersebut cocok untuk diterapkan One Hot Encoding (OHE)."
   ]
  },
  {
   "cell_type": "code",
   "execution_count": 33,
   "metadata": {},
   "outputs": [
    {
     "name": "stdout",
     "output_type": "stream",
     "text": [
      "Geography --> ['France' 'Spain' 'Germany']\n",
      "Gender --> ['Female' 'Male']\n"
     ]
    }
   ],
   "source": [
    "# mengecek data kategori\n",
    "# menampilkan kolom geografi\n",
    "print('Geography -->',df_churn['Geography'].unique())\n",
    "\n",
    "# menampilkan kolom jenis kelamin\n",
    "print('Gender -->',df_churn['Gender'].unique())"
   ]
  },
  {
   "cell_type": "markdown",
   "metadata": {},
   "source": [
    "Karena kolom `Geography` dan `Gender` hanya memuat kelas yang sedikit maka kita bisa terapkan `One Hot Encoder (OHE)`."
   ]
  },
  {
   "cell_type": "code",
   "execution_count": 34,
   "metadata": {},
   "outputs": [
    {
     "data": {
      "text/html": [
       "<div>\n",
       "<style scoped>\n",
       "    .dataframe tbody tr th:only-of-type {\n",
       "        vertical-align: middle;\n",
       "    }\n",
       "\n",
       "    .dataframe tbody tr th {\n",
       "        vertical-align: top;\n",
       "    }\n",
       "\n",
       "    .dataframe thead th {\n",
       "        text-align: right;\n",
       "    }\n",
       "</style>\n",
       "<table border=\"1\" class=\"dataframe\">\n",
       "  <thead>\n",
       "    <tr style=\"text-align: right;\">\n",
       "      <th></th>\n",
       "      <th>CreditScore</th>\n",
       "      <th>Age</th>\n",
       "      <th>Tenure</th>\n",
       "      <th>Balance</th>\n",
       "      <th>NumOfProducts</th>\n",
       "      <th>HasCrCard</th>\n",
       "      <th>IsActiveMember</th>\n",
       "      <th>EstimatedSalary</th>\n",
       "      <th>Exited</th>\n",
       "      <th>Geography_Germany</th>\n",
       "      <th>Geography_Spain</th>\n",
       "      <th>Gender_Male</th>\n",
       "    </tr>\n",
       "  </thead>\n",
       "  <tbody>\n",
       "    <tr>\n",
       "      <th>0</th>\n",
       "      <td>619</td>\n",
       "      <td>42</td>\n",
       "      <td>2.0</td>\n",
       "      <td>0.00</td>\n",
       "      <td>1</td>\n",
       "      <td>1</td>\n",
       "      <td>1</td>\n",
       "      <td>101348.88</td>\n",
       "      <td>1</td>\n",
       "      <td>False</td>\n",
       "      <td>False</td>\n",
       "      <td>False</td>\n",
       "    </tr>\n",
       "    <tr>\n",
       "      <th>1</th>\n",
       "      <td>608</td>\n",
       "      <td>41</td>\n",
       "      <td>1.0</td>\n",
       "      <td>83807.86</td>\n",
       "      <td>1</td>\n",
       "      <td>0</td>\n",
       "      <td>1</td>\n",
       "      <td>112542.58</td>\n",
       "      <td>0</td>\n",
       "      <td>False</td>\n",
       "      <td>True</td>\n",
       "      <td>False</td>\n",
       "    </tr>\n",
       "    <tr>\n",
       "      <th>2</th>\n",
       "      <td>502</td>\n",
       "      <td>42</td>\n",
       "      <td>8.0</td>\n",
       "      <td>159660.80</td>\n",
       "      <td>3</td>\n",
       "      <td>1</td>\n",
       "      <td>0</td>\n",
       "      <td>113931.57</td>\n",
       "      <td>1</td>\n",
       "      <td>False</td>\n",
       "      <td>False</td>\n",
       "      <td>False</td>\n",
       "    </tr>\n",
       "    <tr>\n",
       "      <th>3</th>\n",
       "      <td>699</td>\n",
       "      <td>39</td>\n",
       "      <td>1.0</td>\n",
       "      <td>0.00</td>\n",
       "      <td>2</td>\n",
       "      <td>0</td>\n",
       "      <td>0</td>\n",
       "      <td>93826.63</td>\n",
       "      <td>0</td>\n",
       "      <td>False</td>\n",
       "      <td>False</td>\n",
       "      <td>False</td>\n",
       "    </tr>\n",
       "    <tr>\n",
       "      <th>4</th>\n",
       "      <td>850</td>\n",
       "      <td>43</td>\n",
       "      <td>2.0</td>\n",
       "      <td>125510.82</td>\n",
       "      <td>1</td>\n",
       "      <td>1</td>\n",
       "      <td>1</td>\n",
       "      <td>79084.10</td>\n",
       "      <td>0</td>\n",
       "      <td>False</td>\n",
       "      <td>True</td>\n",
       "      <td>False</td>\n",
       "    </tr>\n",
       "  </tbody>\n",
       "</table>\n",
       "</div>"
      ],
      "text/plain": [
       "   CreditScore  Age  Tenure    Balance  NumOfProducts  HasCrCard   \n",
       "0          619   42     2.0       0.00              1          1  \\\n",
       "1          608   41     1.0   83807.86              1          0   \n",
       "2          502   42     8.0  159660.80              3          1   \n",
       "3          699   39     1.0       0.00              2          0   \n",
       "4          850   43     2.0  125510.82              1          1   \n",
       "\n",
       "   IsActiveMember  EstimatedSalary  Exited  Geography_Germany   \n",
       "0               1        101348.88       1              False  \\\n",
       "1               1        112542.58       0              False   \n",
       "2               0        113931.57       1              False   \n",
       "3               0         93826.63       0              False   \n",
       "4               1         79084.10       0              False   \n",
       "\n",
       "   Geography_Spain  Gender_Male  \n",
       "0            False        False  \n",
       "1             True        False  \n",
       "2            False        False  \n",
       "3            False        False  \n",
       "4             True        False  "
      ]
     },
     "execution_count": 34,
     "metadata": {},
     "output_type": "execute_result"
    }
   ],
   "source": [
    "# membuat dummies pada kolom kategorik\n",
    "df_churn = pd.get_dummies(df_churn, drop_first=True)\n",
    "\n",
    "# menampilkan sampel dataset terbaru\n",
    "df_churn.head()"
   ]
  },
  {
   "cell_type": "markdown",
   "metadata": {},
   "source": [
    "`One Hot Encoder (OHE)` sudah bisa kita terapkan."
   ]
  },
  {
   "cell_type": "markdown",
   "metadata": {},
   "source": [
    "## Memisahkan Fitur dan Target dari Dataset <a id='cont_9'></a>"
   ]
  },
  {
   "cell_type": "markdown",
   "metadata": {},
   "source": [
    "Disini kita akan menentukan kolom `Exited` sebagai `target` dan sisanya sebagai `Fitur`."
   ]
  },
  {
   "cell_type": "code",
   "execution_count": 35,
   "metadata": {},
   "outputs": [
    {
     "name": "stdout",
     "output_type": "stream",
     "text": [
      "Features --> (10000, 11)\n",
      "Target --> (10000,)\n"
     ]
    }
   ],
   "source": [
    "# memisahkan fitur dan target dari dataset\n",
    "features = df_churn.drop('Exited',axis=1)\n",
    "target = df_churn['Exited']\n",
    "\n",
    "print('Features -->', features.shape)\n",
    "print('Target -->', target.shape)"
   ]
  },
  {
   "cell_type": "markdown",
   "metadata": {},
   "source": [
    "Sekarang kita memiliki `11 Fitur` dan `1 Target`."
   ]
  },
  {
   "cell_type": "markdown",
   "metadata": {},
   "source": [
    "## Menskalakan Fitur <a id='cont_10'></a>"
   ]
  },
  {
   "cell_type": "markdown",
   "metadata": {},
   "source": [
    "Disini kita akan melakukan `scaling` pada fitur numerik untuk memudahkan pelatihan pada `model machine learning`. Mari kita cek fitur numerik mana yang akan kita `scaling`. Beberapa fitur numerik yang besar seperti pada 'CreditScore', 'Age', 'Balance', 'EstimatedSalary', namun untuk 'Tenure' dan 'NumOfProducts' kita akan meninjaunya."
   ]
  },
  {
   "cell_type": "code",
   "execution_count": 36,
   "metadata": {},
   "outputs": [
    {
     "name": "stdout",
     "output_type": "stream",
     "text": [
      "Tenure --> [ 2.  1.  8.  7.  4.  6.  3. 10.  5.  9.  0.]\n",
      "NumOfProducts --> [1 3 2 4]\n"
     ]
    }
   ],
   "source": [
    "# nilai unik pada kolom 'Tenure' dan 'NumOfProducts'\n",
    "print('Tenure -->',features['Tenure'].unique())\n",
    "print('NumOfProducts -->',features['NumOfProducts'].unique())"
   ]
  },
  {
   "cell_type": "markdown",
   "metadata": {},
   "source": [
    "Bisa kita lihat kelas-kelas yang ada pada kedua fitur tersebut tidak memiliki rentang yang cukup jauh, sehingga kita tidak akan melakukan `scaling` pada kolom ini."
   ]
  },
  {
   "cell_type": "markdown",
   "metadata": {},
   "source": [
    "Selanjutnya kita lakukan `scaling` untuk fitur 'CreditScore', 'Age', 'Balance', 'EstimatedSalary'."
   ]
  },
  {
   "cell_type": "code",
   "execution_count": 37,
   "metadata": {},
   "outputs": [
    {
     "data": {
      "text/html": [
       "<div>\n",
       "<style scoped>\n",
       "    .dataframe tbody tr th:only-of-type {\n",
       "        vertical-align: middle;\n",
       "    }\n",
       "\n",
       "    .dataframe tbody tr th {\n",
       "        vertical-align: top;\n",
       "    }\n",
       "\n",
       "    .dataframe thead th {\n",
       "        text-align: right;\n",
       "    }\n",
       "</style>\n",
       "<table border=\"1\" class=\"dataframe\">\n",
       "  <thead>\n",
       "    <tr style=\"text-align: right;\">\n",
       "      <th></th>\n",
       "      <th>CreditScore</th>\n",
       "      <th>Age</th>\n",
       "      <th>Tenure</th>\n",
       "      <th>Balance</th>\n",
       "      <th>NumOfProducts</th>\n",
       "      <th>HasCrCard</th>\n",
       "      <th>IsActiveMember</th>\n",
       "      <th>EstimatedSalary</th>\n",
       "      <th>Geography_Germany</th>\n",
       "      <th>Geography_Spain</th>\n",
       "      <th>Gender_Male</th>\n",
       "    </tr>\n",
       "  </thead>\n",
       "  <tbody>\n",
       "    <tr>\n",
       "      <th>0</th>\n",
       "      <td>-0.326221</td>\n",
       "      <td>0.293517</td>\n",
       "      <td>2.0</td>\n",
       "      <td>-1.225848</td>\n",
       "      <td>1</td>\n",
       "      <td>1</td>\n",
       "      <td>1</td>\n",
       "      <td>0.021886</td>\n",
       "      <td>False</td>\n",
       "      <td>False</td>\n",
       "      <td>False</td>\n",
       "    </tr>\n",
       "    <tr>\n",
       "      <th>1</th>\n",
       "      <td>-0.440036</td>\n",
       "      <td>0.198164</td>\n",
       "      <td>1.0</td>\n",
       "      <td>0.117350</td>\n",
       "      <td>1</td>\n",
       "      <td>0</td>\n",
       "      <td>1</td>\n",
       "      <td>0.216534</td>\n",
       "      <td>False</td>\n",
       "      <td>True</td>\n",
       "      <td>False</td>\n",
       "    </tr>\n",
       "    <tr>\n",
       "      <th>2</th>\n",
       "      <td>-1.536794</td>\n",
       "      <td>0.293517</td>\n",
       "      <td>8.0</td>\n",
       "      <td>1.333053</td>\n",
       "      <td>3</td>\n",
       "      <td>1</td>\n",
       "      <td>0</td>\n",
       "      <td>0.240687</td>\n",
       "      <td>False</td>\n",
       "      <td>False</td>\n",
       "      <td>False</td>\n",
       "    </tr>\n",
       "    <tr>\n",
       "      <th>3</th>\n",
       "      <td>0.501521</td>\n",
       "      <td>0.007457</td>\n",
       "      <td>1.0</td>\n",
       "      <td>-1.225848</td>\n",
       "      <td>2</td>\n",
       "      <td>0</td>\n",
       "      <td>0</td>\n",
       "      <td>-0.108918</td>\n",
       "      <td>False</td>\n",
       "      <td>False</td>\n",
       "      <td>False</td>\n",
       "    </tr>\n",
       "    <tr>\n",
       "      <th>4</th>\n",
       "      <td>2.063884</td>\n",
       "      <td>0.388871</td>\n",
       "      <td>2.0</td>\n",
       "      <td>0.785728</td>\n",
       "      <td>1</td>\n",
       "      <td>1</td>\n",
       "      <td>1</td>\n",
       "      <td>-0.365276</td>\n",
       "      <td>False</td>\n",
       "      <td>True</td>\n",
       "      <td>False</td>\n",
       "    </tr>\n",
       "  </tbody>\n",
       "</table>\n",
       "</div>"
      ],
      "text/plain": [
       "   CreditScore       Age  Tenure   Balance  NumOfProducts  HasCrCard   \n",
       "0    -0.326221  0.293517     2.0 -1.225848              1          1  \\\n",
       "1    -0.440036  0.198164     1.0  0.117350              1          0   \n",
       "2    -1.536794  0.293517     8.0  1.333053              3          1   \n",
       "3     0.501521  0.007457     1.0 -1.225848              2          0   \n",
       "4     2.063884  0.388871     2.0  0.785728              1          1   \n",
       "\n",
       "   IsActiveMember  EstimatedSalary  Geography_Germany  Geography_Spain   \n",
       "0               1         0.021886              False            False  \\\n",
       "1               1         0.216534              False             True   \n",
       "2               0         0.240687              False            False   \n",
       "3               0        -0.108918              False            False   \n",
       "4               1        -0.365276              False             True   \n",
       "\n",
       "   Gender_Male  \n",
       "0        False  \n",
       "1        False  \n",
       "2        False  \n",
       "3        False  \n",
       "4        False  "
      ]
     },
     "execution_count": 37,
     "metadata": {},
     "output_type": "execute_result"
    }
   ],
   "source": [
    "# menskalakan fitur menggunakan 'StandardScaler'\n",
    "numeric = ['CreditScore','Age','Balance','EstimatedSalary']\n",
    "features[numeric] = StandardScaler().fit_transform(features[numeric])\n",
    "\n",
    "# menampilkan sampel fitur\n",
    "features.head()"
   ]
  },
  {
   "cell_type": "markdown",
   "metadata": {},
   "source": [
    "Fitur-fitur tersebut sudah selesai kita `scaling`."
   ]
  },
  {
   "cell_type": "markdown",
   "metadata": {},
   "source": [
    "## Keseimbangan Kelas <a id='cont_11'></a>"
   ]
  },
  {
   "cell_type": "markdown",
   "metadata": {},
   "source": [
    "Untuk mengetahui apakah dataset kita seimbang atau tidak seimbang (imbalance), kita bisa mengetahuinya pada kolom `target`. Mari kita cari tahu."
   ]
  },
  {
   "cell_type": "code",
   "execution_count": 38,
   "metadata": {},
   "outputs": [
    {
     "data": {
      "text/plain": [
       "Exited\n",
       "0    0.7963\n",
       "1    0.2037\n",
       "Name: proportion, dtype: float64"
      ]
     },
     "execution_count": 38,
     "metadata": {},
     "output_type": "execute_result"
    }
   ],
   "source": [
    "# cek keseimbangan dataset menggunakan kolom target\n",
    "target.value_counts(normalize=True)"
   ]
  },
  {
   "cell_type": "markdown",
   "metadata": {},
   "source": [
    "Bisa terlihat bahwa dataset yang kita punya ternyata tidak seimbang (imbalance) dimana proporsi `kelas 0` jauh lebih banyak dari `kelas 1`. "
   ]
  },
  {
   "cell_type": "markdown",
   "metadata": {},
   "source": [
    "## Membagi Dataset <a id='cont_12'></a>"
   ]
  },
  {
   "cell_type": "markdown",
   "metadata": {},
   "source": [
    "Karena kita hanya memilki satu buah dataset, kita akan membaginya kedalam dua kelompok untuk membuat `model machine learning`. Pembagian dipecah menjadi `80%` dataset untuk `training` dan `20%` dataset untuk `validasi`."
   ]
  },
  {
   "cell_type": "code",
   "execution_count": 39,
   "metadata": {},
   "outputs": [
    {
     "name": "stdout",
     "output_type": "stream",
     "text": [
      "feature train --> (8000, 11)\n",
      "feature valid --> (2000, 11)\n",
      "target train --> (8000,)\n",
      "target valid --> (2000,)\n"
     ]
    }
   ],
   "source": [
    "# membagi dataset menjadi dua macam dengan porsi training(80%) dan validasi(20%)\n",
    "features_train, features_valid, target_train, target_valid = train_test_split(features, target, test_size=0.20, random_state=12345)\n",
    "\n",
    "# menampilkan shape dari variabel diatas\n",
    "print('feature train -->', features_train.shape)\n",
    "print('feature valid -->', features_valid.shape)\n",
    "print('target train -->', target_train.shape)\n",
    "print('target valid -->', target_valid.shape)"
   ]
  },
  {
   "cell_type": "markdown",
   "metadata": {},
   "source": [
    "Dataset sudah berhasil kita `split` sesuai dengan persentasenya."
   ]
  },
  {
   "cell_type": "markdown",
   "metadata": {},
   "source": [
    "# Aplikasi Model Machine Learning <a id='cont_13'></a>"
   ]
  },
  {
   "cell_type": "markdown",
   "metadata": {},
   "source": [
    "Selanjutnya kita akan membuat `model` serta `mengujinya` menggunakan algoritma yang cocok untuk jenis analisis klasifikasi diantaranya:\n",
    "- Algoritma Klasifikasi Decision Tree\n",
    "- Algoritma Klasifikasi Random Forest\n",
    "- Algoritma Regresi Logistik\n",
    "\n",
    "Metriks yang digunakan untuk menguji kualitas model yang akan kita terapkan diantaranya:\n",
    "- F1 Score\n",
    "- AUC-ROC"
   ]
  },
  {
   "cell_type": "markdown",
   "metadata": {},
   "source": [
    "### Algoritma Klasifikasi Decision Tree <a id='cont_14'></a>"
   ]
  },
  {
   "cell_type": "markdown",
   "metadata": {},
   "source": [
    "Disini kita akan mecari tahu kedalaman (`depth`) optimal untuk Algoritma Klasifikasi Decision Tree. Kita set kedalaman dari 1 hingga 50."
   ]
  },
  {
   "cell_type": "code",
   "execution_count": 40,
   "metadata": {},
   "outputs": [
    {
     "name": "stdout",
     "output_type": "stream",
     "text": [
      "Model Terbaik (Decision Tree)\n",
      "Depth --> 5\n",
      "F1 Score --> 0.5632183908045977\n",
      "AUC_ROC --> 0.8451183689633763\n"
     ]
    }
   ],
   "source": [
    "# pecobaan algoritma decision tree\n",
    "\n",
    "# membuat temporary variabel\n",
    "f1_best = 0\n",
    "AUC_ROC_best = 0\n",
    "depth_best = 0\n",
    "\n",
    "# pengujian kedalaman model decision tree (depth -> 1 ~ 50)\n",
    "for depth in range(1, 51):\n",
    "\t# membuat model decision tree\n",
    "\tmodel = DecisionTreeClassifier(random_state=12345, max_depth=depth) \n",
    "\t# melatih model menggunakan features dan target train\n",
    "\tmodel.fit(features_train, target_train)\n",
    "\t# prediksi model\n",
    "\tpredict = model.predict(features_valid)\n",
    "\tpredict_proba = model.predict_proba(features_valid)\n",
    "\tpredict_one_valid = predict_proba[:,1]\n",
    "\t# menghitung F1 dan AUC_ROC menggunakan features dan target validation\n",
    "\tf1 = f1_score(target_valid,predict)\n",
    "\tAUC_ROC = roc_auc_score(target_valid,predict_one_valid)\n",
    "\n",
    "\tif f1 > f1_best and AUC_ROC > AUC_ROC_best:\n",
    "\t\tf1_best = f1\n",
    "\t\tAUC_ROC_best = AUC_ROC\n",
    "\t\tdepth_best = depth\n",
    "\n",
    "# menampilkan output        \n",
    "print(\"Model Terbaik (Decision Tree)\")\n",
    "print('Depth -->', depth_best)\n",
    "print('F1 Score -->', f1_best)\n",
    "print('AUC_ROC -->', AUC_ROC_best)"
   ]
  },
  {
   "cell_type": "markdown",
   "metadata": {},
   "source": [
    "Dari sini bisa kita kita lihat kedalaman optimal berada pada `depth=5` dimana kualitas model menghasilkan `F1 Score = 0.56` dan `AUC_ROC=0.84`."
   ]
  },
  {
   "cell_type": "markdown",
   "metadata": {},
   "source": [
    "### Algoritma Klasifikasi Random Forest <a id='cont_15'></a>"
   ]
  },
  {
   "cell_type": "markdown",
   "metadata": {},
   "source": [
    "Dengan cara yang sama kita set kedalaman pohon (`depth`) dari 1 hingga 20, sedangkan jumlah pohon (`n_estimators`) kita set dari 1 hingga 60."
   ]
  },
  {
   "cell_type": "code",
   "execution_count": 41,
   "metadata": {},
   "outputs": [
    {
     "name": "stdout",
     "output_type": "stream",
     "text": [
      "Model Terbaik (Random Forest)\n",
      "Depth --> 10\n",
      "Trees --> 21\n",
      "F1 Score --> 0.5523520485584218\n",
      "AUC_ROC --> 0.863364653230525\n"
     ]
    }
   ],
   "source": [
    "# pecobaan algoritma random forest\n",
    "# kedalaman pohon: depth -> 1 ~ 20\n",
    "# jumlah pohon: n_estimators -> 1 ~ 60 {increment 10}\n",
    "\n",
    "# membuat temporary\n",
    "f1_best = 0\n",
    "AUC_ROC_best = 0\n",
    "depth_best = 0\n",
    "estimators_best = 0\n",
    "\n",
    "# pengujian kedalaman model dan jumlah pohon\n",
    "# pengaturan jumlah pohon\n",
    "for est in range(1, 61, 10):\n",
    "    # pengaturan jumlah kedalaman pohon\n",
    "    for depth in range (1, 21):\n",
    "        # membuat model random forest classifier\n",
    "        model = RandomForestClassifier(random_state=12345, n_estimators=est, max_depth=depth)\n",
    "        # melatih model menggunakan features dan target train\n",
    "        model.fit(features_train, target_train)\n",
    "        predict = model.predict(features_valid)\n",
    "        predict_proba = model.predict_proba(features_valid)\n",
    "        predict_one_valid = predict_proba[:,1]\n",
    "        # menghitung F1 dan AUC_ROC menggunakan features dan target validation\n",
    "        f1 = f1_score(target_valid,predict)\n",
    "        AUC_ROC = roc_auc_score(target_valid,predict_one_valid)\n",
    "\n",
    "        if f1 > f1_best and AUC_ROC > AUC_ROC_best:\n",
    "            f1_best = f1\n",
    "            AUC_ROC_best = AUC_ROC\n",
    "            depth_best = depth\n",
    "            estimators_best = est\n",
    "\n",
    "# menampilkan output        \n",
    "print(\"Model Terbaik (Random Forest)\")\n",
    "print('Depth -->', depth_best)\n",
    "print('Trees -->', estimators_best)\n",
    "print('F1 Score -->', f1_best)\n",
    "print('AUC_ROC -->', AUC_ROC_best)"
   ]
  },
  {
   "cell_type": "markdown",
   "metadata": {},
   "source": [
    "Dari sini bisa kita kita lihat kedalaman optimal berada pada `depth=10` dan jumlah pohon optimal berada pada `n_estimators=21` dimana kualitas model menghasilkan `F1 Score = 0.55` dan `AUC_ROC=0.86`."
   ]
  },
  {
   "cell_type": "markdown",
   "metadata": {},
   "source": [
    "### Algoritma Regresi Logistik <a id='cont_16'></a>"
   ]
  },
  {
   "cell_type": "markdown",
   "metadata": {},
   "source": [
    "Dengan cara yang sama kita akan menguji `algoritma regresi logistik` menggunakan `solver` 'liblinear'."
   ]
  },
  {
   "cell_type": "code",
   "execution_count": 42,
   "metadata": {},
   "outputs": [
    {
     "name": "stdout",
     "output_type": "stream",
     "text": [
      "Model Regresi Logistik\n",
      "F1 Score --> 0.2857142857142857\n",
      "AUC_ROC --> 0.7575881644436042\n"
     ]
    }
   ],
   "source": [
    "# pecobaan algoritma regresi logistik\n",
    "\n",
    "# membuat model regresi logistik\n",
    "model = LogisticRegression(random_state=12345, solver='liblinear') \n",
    "\n",
    "# melatih model menggunakan features dan target train\n",
    "model.fit(features_train, target_train)\n",
    "\n",
    "# menghitung akurasi menggunakan features dan target validation\n",
    "predict = model.predict(features_valid)\n",
    "predict_proba = model.predict_proba(features_valid)\n",
    "predict_one_valid = predict_proba[:,1]\n",
    "\n",
    "# menghitung F1 Skor dan AUC_ROC\n",
    "f1 = f1_score(target_valid,predict)\n",
    "AUC_ROC = roc_auc_score(target_valid,predict_one_valid)\n",
    "\n",
    "# menampilkan output        \n",
    "print(\"Model Regresi Logistik\")\n",
    "print('F1 Score -->', f1)\n",
    "print('AUC_ROC -->', AUC_ROC)"
   ]
  },
  {
   "cell_type": "markdown",
   "metadata": {},
   "source": [
    "Dari sini bisa kita kita lihat kualitas model menghasilkan `F1 Score = 0.28` dan `AUC_ROC=0.76`."
   ]
  },
  {
   "cell_type": "markdown",
   "metadata": {},
   "source": [
    "Dari ketiga model tersebut, yang akan kita pilih sebagai algoritma terbaik adalah `algoritma random forest` dengan `hyperparamater` terbaik pada `depth=10` dan `n_estimators=21`."
   ]
  },
  {
   "cell_type": "markdown",
   "metadata": {},
   "source": [
    "# Optimaliasi Model Machine Learning <a id='cont_17'></a>"
   ]
  },
  {
   "cell_type": "markdown",
   "metadata": {},
   "source": [
    "Berdasarkan informasi sebelumnya bahwa dataset yang kita punya memiliki kelas yang tidak seimbang (`imbalance`), sehingga model dilatih yang kurang optimal. Mari kita optimalkan dataset agar menjadi seimbang (`balance`) dan `F1 Skor` melampaui `threshold` yang ditetapkan `0.59`."
   ]
  },
  {
   "cell_type": "markdown",
   "metadata": {},
   "source": [
    "## Mengatasi Kelas yang Tidak Seimbang (Imbalance) <a id='cont_18'></a>"
   ]
  },
  {
   "cell_type": "markdown",
   "metadata": {},
   "source": [
    "Metode yang akan kita gunakan untuk menyeimbangkan dataset yaitu `teknik upsampling`, `downsampling` pada dataset dan juga mengaktifkan `class_weight = 'balanced'` pada model.\n",
    "\n",
    "`Kelas 0` memiliki jumlah yang jauh lebih banyak dibandingkan dengan `Kelas 1`, sehingga kita akan menggandakan `Kelas 1` dan mereduksi `Kelas 0`. Mari kita buat fungsinya."
   ]
  },
  {
   "cell_type": "code",
   "execution_count": 43,
   "metadata": {},
   "outputs": [],
   "source": [
    "# melakukan upsampling dan downsampling pada dataset\n",
    "\n",
    "def up_down(feature,target,repeat,fraction):\n",
    "    features_zero = feature[target == 0]\n",
    "    feature_one = feature[target == 1]\n",
    "    target_zero = target[target == 0]\n",
    "    target_one = target[target == 1]\n",
    "\n",
    "    # downsampling dataset\n",
    "    down_1 = features_zero.sample(frac=fraction,random_state=12345)\n",
    "    down_2 = target_zero.sample(frac=fraction,random_state=12345)\n",
    "\n",
    "    # upsampling dataset\n",
    "    temp_1 = pd.concat([down_1] + [feature_one]*repeat)\n",
    "    temp_2 = pd.concat([down_2] + [target_one]*repeat)\n",
    "\n",
    "    # mengacak data\n",
    "    features_new, target_new = shuffle(temp_1, temp_2, random_state=12345)\n",
    "\n",
    "    return features_new, target_new"
   ]
  },
  {
   "cell_type": "markdown",
   "metadata": {},
   "source": [
    "Selanjutnya mari kita buat fitur dan target yang baru. Agar seimbang mari kita gandakan `Kelas 1` sebanyak `2x` dan kita `reduksi 50%` pada `Kelas 0`."
   ]
  },
  {
   "cell_type": "code",
   "execution_count": 44,
   "metadata": {},
   "outputs": [
    {
     "data": {
      "text/plain": [
       "Exited\n",
       "1    0.501949\n",
       "0    0.498051\n",
       "Name: proportion, dtype: float64"
      ]
     },
     "execution_count": 44,
     "metadata": {},
     "output_type": "execute_result"
    }
   ],
   "source": [
    "# menerapkan ke dalam fungsi yang sudah dibuat repeat=2, fraksi=50%\n",
    "features_updown, target_updown = up_down(features_train, target_train, 2, 0.5)\n",
    "\n",
    "# cek kembali keseimbangan dataset pada target\n",
    "target_updown.value_counts(normalize=True)"
   ]
  },
  {
   "cell_type": "markdown",
   "metadata": {},
   "source": [
    "Sudah terlihat bahwa `Kelas 1` dan `Kelas 0` yang baru hampir mendekati seimbang (`balance`)."
   ]
  },
  {
   "cell_type": "markdown",
   "metadata": {},
   "source": [
    "## Metrik Kualitas Model Terbaik (Optimized Model) <a id='cont_19'></a>"
   ]
  },
  {
   "cell_type": "markdown",
   "metadata": {},
   "source": [
    "Selanjutnya kita buat model yang optimal serta mengujinya menggunakan dataset yang seimbang (`balance`). Kita menggunakan `Algoritma Random Forest` untuk `depth=10` dan `n_estimators=21` serta mengaktifkan `class_weight = 'balanced'`."
   ]
  },
  {
   "cell_type": "code",
   "execution_count": 45,
   "metadata": {},
   "outputs": [
    {
     "data": {
      "text/html": [
       "<style>#sk-container-id-2 {color: black;background-color: white;}#sk-container-id-2 pre{padding: 0;}#sk-container-id-2 div.sk-toggleable {background-color: white;}#sk-container-id-2 label.sk-toggleable__label {cursor: pointer;display: block;width: 100%;margin-bottom: 0;padding: 0.3em;box-sizing: border-box;text-align: center;}#sk-container-id-2 label.sk-toggleable__label-arrow:before {content: \"▸\";float: left;margin-right: 0.25em;color: #696969;}#sk-container-id-2 label.sk-toggleable__label-arrow:hover:before {color: black;}#sk-container-id-2 div.sk-estimator:hover label.sk-toggleable__label-arrow:before {color: black;}#sk-container-id-2 div.sk-toggleable__content {max-height: 0;max-width: 0;overflow: hidden;text-align: left;background-color: #f0f8ff;}#sk-container-id-2 div.sk-toggleable__content pre {margin: 0.2em;color: black;border-radius: 0.25em;background-color: #f0f8ff;}#sk-container-id-2 input.sk-toggleable__control:checked~div.sk-toggleable__content {max-height: 200px;max-width: 100%;overflow: auto;}#sk-container-id-2 input.sk-toggleable__control:checked~label.sk-toggleable__label-arrow:before {content: \"▾\";}#sk-container-id-2 div.sk-estimator input.sk-toggleable__control:checked~label.sk-toggleable__label {background-color: #d4ebff;}#sk-container-id-2 div.sk-label input.sk-toggleable__control:checked~label.sk-toggleable__label {background-color: #d4ebff;}#sk-container-id-2 input.sk-hidden--visually {border: 0;clip: rect(1px 1px 1px 1px);clip: rect(1px, 1px, 1px, 1px);height: 1px;margin: -1px;overflow: hidden;padding: 0;position: absolute;width: 1px;}#sk-container-id-2 div.sk-estimator {font-family: monospace;background-color: #f0f8ff;border: 1px dotted black;border-radius: 0.25em;box-sizing: border-box;margin-bottom: 0.5em;}#sk-container-id-2 div.sk-estimator:hover {background-color: #d4ebff;}#sk-container-id-2 div.sk-parallel-item::after {content: \"\";width: 100%;border-bottom: 1px solid gray;flex-grow: 1;}#sk-container-id-2 div.sk-label:hover label.sk-toggleable__label {background-color: #d4ebff;}#sk-container-id-2 div.sk-serial::before {content: \"\";position: absolute;border-left: 1px solid gray;box-sizing: border-box;top: 0;bottom: 0;left: 50%;z-index: 0;}#sk-container-id-2 div.sk-serial {display: flex;flex-direction: column;align-items: center;background-color: white;padding-right: 0.2em;padding-left: 0.2em;position: relative;}#sk-container-id-2 div.sk-item {position: relative;z-index: 1;}#sk-container-id-2 div.sk-parallel {display: flex;align-items: stretch;justify-content: center;background-color: white;position: relative;}#sk-container-id-2 div.sk-item::before, #sk-container-id-2 div.sk-parallel-item::before {content: \"\";position: absolute;border-left: 1px solid gray;box-sizing: border-box;top: 0;bottom: 0;left: 50%;z-index: -1;}#sk-container-id-2 div.sk-parallel-item {display: flex;flex-direction: column;z-index: 1;position: relative;background-color: white;}#sk-container-id-2 div.sk-parallel-item:first-child::after {align-self: flex-end;width: 50%;}#sk-container-id-2 div.sk-parallel-item:last-child::after {align-self: flex-start;width: 50%;}#sk-container-id-2 div.sk-parallel-item:only-child::after {width: 0;}#sk-container-id-2 div.sk-dashed-wrapped {border: 1px dashed gray;margin: 0 0.4em 0.5em 0.4em;box-sizing: border-box;padding-bottom: 0.4em;background-color: white;}#sk-container-id-2 div.sk-label label {font-family: monospace;font-weight: bold;display: inline-block;line-height: 1.2em;}#sk-container-id-2 div.sk-label-container {text-align: center;}#sk-container-id-2 div.sk-container {/* jupyter's `normalize.less` sets `[hidden] { display: none; }` but bootstrap.min.css set `[hidden] { display: none !important; }` so we also need the `!important` here to be able to override the default hidden behavior on the sphinx rendered scikit-learn.org. See: https://github.com/scikit-learn/scikit-learn/issues/21755 */display: inline-block !important;position: relative;}#sk-container-id-2 div.sk-text-repr-fallback {display: none;}</style><div id=\"sk-container-id-2\" class=\"sk-top-container\"><div class=\"sk-text-repr-fallback\"><pre>RandomForestClassifier(class_weight=&#x27;balanced&#x27;, max_depth=10, n_estimators=21,\n",
       "                       random_state=12345)</pre><b>In a Jupyter environment, please rerun this cell to show the HTML representation or trust the notebook. <br />On GitHub, the HTML representation is unable to render, please try loading this page with nbviewer.org.</b></div><div class=\"sk-container\" hidden><div class=\"sk-item\"><div class=\"sk-estimator sk-toggleable\"><input class=\"sk-toggleable__control sk-hidden--visually\" id=\"sk-estimator-id-2\" type=\"checkbox\" checked><label for=\"sk-estimator-id-2\" class=\"sk-toggleable__label sk-toggleable__label-arrow\">RandomForestClassifier</label><div class=\"sk-toggleable__content\"><pre>RandomForestClassifier(class_weight=&#x27;balanced&#x27;, max_depth=10, n_estimators=21,\n",
       "                       random_state=12345)</pre></div></div></div></div></div>"
      ],
      "text/plain": [
       "RandomForestClassifier(class_weight='balanced', max_depth=10, n_estimators=21,\n",
       "                       random_state=12345)"
      ]
     },
     "execution_count": 45,
     "metadata": {},
     "output_type": "execute_result"
    }
   ],
   "source": [
    "# membuat model random forest dengan balancing weight \n",
    "# n_estimators = 21\n",
    "# depth = 10\n",
    "\n",
    "model = RandomForestClassifier(\n",
    "    random_state = 12345, \n",
    "    n_estimators = 21, \n",
    "    max_depth = 10,\n",
    "    class_weight = 'balanced'\n",
    "    )\n",
    "\n",
    "# melatih model menggunakan dataset yang baru\n",
    "model.fit(features_updown, target_updown)"
   ]
  },
  {
   "cell_type": "markdown",
   "metadata": {},
   "source": [
    "Mari kita latih model terbaik serta uji kualitasnya."
   ]
  },
  {
   "cell_type": "code",
   "execution_count": 46,
   "metadata": {},
   "outputs": [
    {
     "name": "stdout",
     "output_type": "stream",
     "text": [
      "Optimizes Model (Random Forest)\n",
      "F1 Score --> 0.6252465483234714\n",
      "AUC_ROC --> 0.857552283781792\n"
     ]
    }
   ],
   "source": [
    "# membuat prediksi berdasarkan model\n",
    "predict = model.predict(features_valid)\n",
    "predict_proba = model.predict_proba(features_valid)\n",
    "predict_one_valid = predict_proba[:,1]\n",
    "\n",
    "# membuat f1 skor dan AUC_ROC\n",
    "f1 = f1_score(target_valid,predict)\n",
    "AUC_ROC = roc_auc_score(target_valid,predict_one_valid)\n",
    "\n",
    "print(\"Optimizes Model (Random Forest)\")\n",
    "print('F1 Score -->', f1)\n",
    "print('AUC_ROC -->', AUC_ROC)"
   ]
  },
  {
   "cell_type": "markdown",
   "metadata": {},
   "source": [
    "Sekarang model kita memiliki `F1 Skor` sebesar `0.62` yang melampaui `threshold` yang ditetapkan sebesar `0.59`."
   ]
  },
  {
   "cell_type": "markdown",
   "metadata": {},
   "source": [
    "# Kesimpulan Umum <a id='cont_20'></a>"
   ]
  },
  {
   "cell_type": "markdown",
   "metadata": {},
   "source": [
    "Dari projek ini kita sudah memuat library yang diperlukan, mempersiapkan dataset, membagi dataset, melatih serta menguji `model machine learning` serta melakukan optimasi pada model dengan mengatasi adanya `imbalance` pada dataset. Dapat disimpulkan sebagai berikut:\n",
    "- Pembagian dataset untuk melatih serta menguji `model machine learning` dibagi menjadi `80%` untuk `training` dan `20%` untuk `validasi`.\n",
    "- Algoritma yang diujikan diantaranya: `Klasifikasi Decision Tree`, `Klasifikasi Random Forest` dan `Regresi Logistik`.\n",
    "- Algoritma terbaik dengan `hyperparameter`nya adalah `Algoritma Klasifikasi Random Forest` dengan `hyperparameter` untuk `depth=10` dan `n_estimators=21` dengan kualitas `F1 Skor` sebersar `0.55` dan `AUC_ROC` sebesar `0.86`.\n",
    "- Metode untuk mengatasi ketidak seimbangan kelas (imbalance) yaitu `teknik upsampling`, `downsampling` pada dataset dan juga mengaktifkan `class_weight = 'balanced'` pada model.\n",
    "- Kualitas model yang dihasilkan setelah optimasi menghasilkan `F1 Skor` sebesar `0.62` yang melebihi `threshold` yang titetapkan sebesar `0.59`."
   ]
  }
 ],
 "metadata": {
  "kernelspec": {
   "display_name": "Python 3 (ipykernel)",
   "language": "python",
   "name": "python3"
  },
  "language_info": {
   "codemirror_mode": {
    "name": "ipython",
    "version": 3
   },
   "file_extension": ".py",
   "mimetype": "text/x-python",
   "name": "python",
   "nbconvert_exporter": "python",
   "pygments_lexer": "ipython3",
   "version": "3.11.5"
  },
  "toc": {
   "base_numbering": 1,
   "nav_menu": {},
   "number_sections": true,
   "sideBar": true,
   "skip_h1_title": true,
   "title_cell": "Table of Contents",
   "title_sidebar": "Contents",
   "toc_cell": false,
   "toc_position": {},
   "toc_section_display": true,
   "toc_window_display": false
  }
 },
 "nbformat": 4,
 "nbformat_minor": 2
}
