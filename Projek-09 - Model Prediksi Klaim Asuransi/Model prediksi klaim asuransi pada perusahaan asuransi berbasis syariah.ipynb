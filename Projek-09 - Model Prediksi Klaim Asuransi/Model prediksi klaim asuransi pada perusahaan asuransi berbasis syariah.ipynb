{
 "cells": [
  {
   "cell_type": "markdown",
   "metadata": {},
   "source": [
    "# Model Prediksi Klaim Asuransi pada Perusahaan Asuransi Berbasis Syariah <a id='intro'></a>"
   ]
  },
  {
   "cell_type": "markdown",
   "metadata": {},
   "source": [
    "Sebuah perusahaan `asuransi sosial` fiktif berbasis `syariah` bernama \"Sure Tomorrow\" ingin menyelesaikan beberapa masalah dengan bantuan *machine learning*. Perusahaan ini, ingin menciptakan model yang bisa memprediksi apakah calon klien mereka sebagai `penerima manfaat asuransi` atau sebagai `donatur asuransi`. Keuntungan perusahaan diperoleh dari jasa yang ditawarkan kepada `donatur asuransi`, perusahaan ini ingin agar terciptanya keseimbangan antara `penerima manfaat asuransi` dan `donatur asuransi` sehingga operasi perusahaan tetap berjalan. Perusahaan memiliki dataset untuk melatih model berdasarkan informasi pribadi calon klien mereka seperti `gender`, `age`, `income`, `family_members`, dan\t`insurance_benefits`. Beberapa tugas yang harus bisa diselesaikan oleh `model` diantaranya:\n",
    "\n",
    "- Tugas 1: Menemukan klien yang mirip dengan kriteria klien tertentu. Tugas ini akan memudahkan perusahaan untuk melakukan pemasaran.\n",
    "- Tugas 2: Melakukan prediksi apakah klien baru kemungkinan akan mengambil `klaim asuransi` atau sebagai `donatur asuransi`. Apakah prediksi model lebih baik daripada prediksi model *dummy*?\n",
    "- Tugas 3: Melakukan prediksi besaran `klaim asuransi` yang mungkin diterima `klien baru` menggunakan model `regresi linier`.\n",
    "- Tugas 4: Melindungi `data pribadi` klien tanpa merusak model dari tugas sebelumnya. Sangatlah penting untuk mengembangkan `algoritme transformasi` data yang dapat mencegah penyalahgunaan informasi pribadi klien jika data tersebut jatuh ke tangan yang salah. Hal ini disebut `penyembunyian` data atau `pengaburan data`. Namun, prosedur perlindungan datanya pun perlu diperhatikan agar kualitas *model machine* learning tidak menurun."
   ]
  },
  {
   "cell_type": "markdown",
   "metadata": {},
   "source": [
    "# Konten <a id='back'></a>\n",
    "\n",
    "* [Pendahuluan](#intro)\n",
    "* [Konten](#back)\n",
    "* [Tahap 1. Pra-pemrosesan & Eksplorasi Data](#cont_1)\n",
    "    * [1.1 Muat Data](#cont_2) \n",
    "    * [1.2 Analisis Data Eksploratif (EDA)](#cont_3)\n",
    "* [Tahap 2. Klien yang Mirip](#cont_4)\n",
    "    * [2.1 Membandingkan Hasil KNN Menggunakan Dataset Asli dan Dataset Skala](#cont_5) \n",
    "    * [2.2 Membandingkan Hasil KNN Menggunakan Metrik Euklides dan Manhattan](#cont_6) \n",
    "* [Tahap 3. Apakah Klien Kemungkinan Menerima Klaim Asuransi?](#cont_7)\n",
    "    * [3.1 Random Generator](#cont_8) \n",
    "    * [3.2 KNN Menggunakan Dataset Asli](#cont_9) \n",
    "    * [3.3 KNN Menggunakan Dataset Skala](#cont_10)\n",
    "* [Tahap 4. Besaran Klaim Asuransi yang Didapat (Regresi Linier)](#cont_11)\n",
    "    * [4.1 Regresi Linier Menggunakan Dataset Asli](#cont_12) \n",
    "    * [4.2 Regresi Linier Menggunakan Dataset Skala](#cont_13) \n",
    "* [Tahap 5. Pengaburan Data](#cont_14)\n",
    "* [Tahap 6. Uji Regresi Linear dengan Pengaburan Data](#cont_15)\n",
    "    * [6.1 Skor RMSE dan R2 Menggunakan Fitur Asli](#cont_16) \n",
    "    * [6.2 Skor RMSE dan R2 Menggunakan Fitur Transformasi](#cont_17) \n",
    "* [Tahap 7. Kesimpulan](#cont_18)"
   ]
  },
  {
   "cell_type": "markdown",
   "metadata": {},
   "source": [
    "# Pra-pemrosesan & Eksplorasi Data <a id='cont_1'></a>\n",
    "\n",
    "## Inisialisasi"
   ]
  },
  {
   "cell_type": "markdown",
   "metadata": {},
   "source": [
    "Dataset yang digunakan berasal dari `insurance_us.csv`. Dataset ini bukan merupakan dataset asli dari perusahaan asuransi syariah dan ini hanya sebuah latihan analisis."
   ]
  },
  {
   "cell_type": "code",
   "execution_count": 1,
   "metadata": {},
   "outputs": [],
   "source": [
    "# memuat modul\n",
    "import numpy as np\n",
    "import pandas as pd\n",
    "import math\n",
    "import seaborn as sns\n",
    "import matplotlib.pyplot as plt\n",
    "import sklearn.linear_model\n",
    "import sklearn.metrics\n",
    "import sklearn.neighbors\n",
    "from sklearn.neighbors import kneighbors_graph\n",
    "import sklearn.preprocessing\n",
    "from sklearn.model_selection import train_test_split\n",
    "from IPython.display import display\n",
    "import warnings\n",
    "\n",
    "sns.set_theme(palette='bright')\n",
    "warnings.filterwarnings(\"ignore\")"
   ]
  },
  {
   "cell_type": "markdown",
   "metadata": {},
   "source": [
    "## Muat Data <a id='cont_2'></a>"
   ]
  },
  {
   "cell_type": "markdown",
   "metadata": {},
   "source": [
    "Kita akan memuat data dan melakukan pemeriksaan untuk memastikan data bebas dari permasalahan."
   ]
  },
  {
   "cell_type": "code",
   "execution_count": 2,
   "metadata": {},
   "outputs": [],
   "source": [
    "# memuat dataset\n",
    "try:\n",
    "    df = pd.read_csv('insurance_us.csv')\n",
    "except:\n",
    "    df = pd.read_csv('/datasets/insurance_us.csv')"
   ]
  },
  {
   "cell_type": "markdown",
   "metadata": {},
   "source": [
    "Selanjutnya, mengganti nama kolom untuk membuat kode terlihat lebih konsisten dengan gayanya."
   ]
  },
  {
   "cell_type": "code",
   "execution_count": 3,
   "metadata": {},
   "outputs": [],
   "source": [
    "# mengubah nama kolom\n",
    "df = df.rename(columns={'Gender': 'gender', 'Age': 'age', 'Salary': 'income', 'Family members': 'family_members', 'Insurance benefits': 'insurance_benefits'})"
   ]
  },
  {
   "cell_type": "code",
   "execution_count": 4,
   "metadata": {},
   "outputs": [
    {
     "data": {
      "text/html": [
       "<div>\n",
       "<style scoped>\n",
       "    .dataframe tbody tr th:only-of-type {\n",
       "        vertical-align: middle;\n",
       "    }\n",
       "\n",
       "    .dataframe tbody tr th {\n",
       "        vertical-align: top;\n",
       "    }\n",
       "\n",
       "    .dataframe thead th {\n",
       "        text-align: right;\n",
       "    }\n",
       "</style>\n",
       "<table border=\"1\" class=\"dataframe\">\n",
       "  <thead>\n",
       "    <tr style=\"text-align: right;\">\n",
       "      <th></th>\n",
       "      <th>gender</th>\n",
       "      <th>age</th>\n",
       "      <th>income</th>\n",
       "      <th>family_members</th>\n",
       "      <th>insurance_benefits</th>\n",
       "    </tr>\n",
       "  </thead>\n",
       "  <tbody>\n",
       "    <tr>\n",
       "      <th>4899</th>\n",
       "      <td>0</td>\n",
       "      <td>21.0</td>\n",
       "      <td>59900.0</td>\n",
       "      <td>1</td>\n",
       "      <td>0</td>\n",
       "    </tr>\n",
       "    <tr>\n",
       "      <th>4048</th>\n",
       "      <td>0</td>\n",
       "      <td>23.0</td>\n",
       "      <td>41600.0</td>\n",
       "      <td>0</td>\n",
       "      <td>0</td>\n",
       "    </tr>\n",
       "    <tr>\n",
       "      <th>2621</th>\n",
       "      <td>0</td>\n",
       "      <td>31.0</td>\n",
       "      <td>29400.0</td>\n",
       "      <td>2</td>\n",
       "      <td>0</td>\n",
       "    </tr>\n",
       "    <tr>\n",
       "      <th>2590</th>\n",
       "      <td>0</td>\n",
       "      <td>38.0</td>\n",
       "      <td>40200.0</td>\n",
       "      <td>0</td>\n",
       "      <td>0</td>\n",
       "    </tr>\n",
       "    <tr>\n",
       "      <th>2134</th>\n",
       "      <td>0</td>\n",
       "      <td>35.0</td>\n",
       "      <td>30100.0</td>\n",
       "      <td>0</td>\n",
       "      <td>0</td>\n",
       "    </tr>\n",
       "    <tr>\n",
       "      <th>74</th>\n",
       "      <td>1</td>\n",
       "      <td>24.0</td>\n",
       "      <td>47000.0</td>\n",
       "      <td>3</td>\n",
       "      <td>0</td>\n",
       "    </tr>\n",
       "    <tr>\n",
       "      <th>1579</th>\n",
       "      <td>1</td>\n",
       "      <td>38.0</td>\n",
       "      <td>52900.0</td>\n",
       "      <td>2</td>\n",
       "      <td>0</td>\n",
       "    </tr>\n",
       "    <tr>\n",
       "      <th>4483</th>\n",
       "      <td>1</td>\n",
       "      <td>29.0</td>\n",
       "      <td>40700.0</td>\n",
       "      <td>0</td>\n",
       "      <td>0</td>\n",
       "    </tr>\n",
       "    <tr>\n",
       "      <th>3120</th>\n",
       "      <td>0</td>\n",
       "      <td>40.0</td>\n",
       "      <td>34100.0</td>\n",
       "      <td>1</td>\n",
       "      <td>0</td>\n",
       "    </tr>\n",
       "    <tr>\n",
       "      <th>899</th>\n",
       "      <td>0</td>\n",
       "      <td>36.0</td>\n",
       "      <td>34600.0</td>\n",
       "      <td>3</td>\n",
       "      <td>0</td>\n",
       "    </tr>\n",
       "  </tbody>\n",
       "</table>\n",
       "</div>"
      ],
      "text/plain": [
       "      gender   age   income  family_members  insurance_benefits\n",
       "4899       0  21.0  59900.0               1                   0\n",
       "4048       0  23.0  41600.0               0                   0\n",
       "2621       0  31.0  29400.0               2                   0\n",
       "2590       0  38.0  40200.0               0                   0\n",
       "2134       0  35.0  30100.0               0                   0\n",
       "74         1  24.0  47000.0               3                   0\n",
       "1579       1  38.0  52900.0               2                   0\n",
       "4483       1  29.0  40700.0               0                   0\n",
       "3120       0  40.0  34100.0               1                   0\n",
       "899        0  36.0  34600.0               3                   0"
      ]
     },
     "execution_count": 4,
     "metadata": {},
     "output_type": "execute_result"
    }
   ],
   "source": [
    "# menampilkan sampel dataset\n",
    "df.sample(10)"
   ]
  },
  {
   "cell_type": "markdown",
   "metadata": {},
   "source": [
    "Dataset ini berisi beberapa kolom/variabel seperti:\n",
    "- `gender` merupakan jenis kelamin\n",
    "- `age`  merupakan usia klien\n",
    "- `income` merupakan besaran gaji\n",
    "- `family_members` merupakan jumlah anggota keluarga\n",
    "- `insurance_benefits` merupakan besaran klaim asuransi yang didapat"
   ]
  },
  {
   "cell_type": "code",
   "execution_count": 5,
   "metadata": {},
   "outputs": [
    {
     "name": "stdout",
     "output_type": "stream",
     "text": [
      "<class 'pandas.core.frame.DataFrame'>\n",
      "RangeIndex: 5000 entries, 0 to 4999\n",
      "Data columns (total 5 columns):\n",
      " #   Column              Non-Null Count  Dtype  \n",
      "---  ------              --------------  -----  \n",
      " 0   gender              5000 non-null   int64  \n",
      " 1   age                 5000 non-null   float64\n",
      " 2   income              5000 non-null   float64\n",
      " 3   family_members      5000 non-null   int64  \n",
      " 4   insurance_benefits  5000 non-null   int64  \n",
      "dtypes: float64(2), int64(3)\n",
      "memory usage: 195.4 KB\n"
     ]
    }
   ],
   "source": [
    "# menampilkan informasi dataset\n",
    "df.info()"
   ]
  },
  {
   "cell_type": "markdown",
   "metadata": {},
   "source": [
    "Dari sini bisa kita lihat bahwa kita tidak memiliki `nilai yang hilang` pada dataset. Keseluruhan dataset berisi tipe data `numeric`, namun untuk kolom `age` kurang relevan jika menggunakan tipe data `float`. Mari kita ubah agar menjadi tipe data `integer`."
   ]
  },
  {
   "cell_type": "code",
   "execution_count": 6,
   "metadata": {},
   "outputs": [],
   "source": [
    "# mengubah tipe data kolom `age` menjadi `integer`\n",
    "df.age = df.age.astype('int')"
   ]
  },
  {
   "cell_type": "code",
   "execution_count": 7,
   "metadata": {},
   "outputs": [
    {
     "name": "stdout",
     "output_type": "stream",
     "text": [
      "<class 'pandas.core.frame.DataFrame'>\n",
      "RangeIndex: 5000 entries, 0 to 4999\n",
      "Data columns (total 5 columns):\n",
      " #   Column              Non-Null Count  Dtype  \n",
      "---  ------              --------------  -----  \n",
      " 0   gender              5000 non-null   int64  \n",
      " 1   age                 5000 non-null   int32  \n",
      " 2   income              5000 non-null   float64\n",
      " 3   family_members      5000 non-null   int64  \n",
      " 4   insurance_benefits  5000 non-null   int64  \n",
      "dtypes: float64(1), int32(1), int64(3)\n",
      "memory usage: 175.9 KB\n"
     ]
    }
   ],
   "source": [
    "# mengecek kembali tipe dataset\n",
    "df.info()"
   ]
  },
  {
   "cell_type": "code",
   "execution_count": 8,
   "metadata": {},
   "outputs": [
    {
     "data": {
      "text/html": [
       "<div>\n",
       "<style scoped>\n",
       "    .dataframe tbody tr th:only-of-type {\n",
       "        vertical-align: middle;\n",
       "    }\n",
       "\n",
       "    .dataframe tbody tr th {\n",
       "        vertical-align: top;\n",
       "    }\n",
       "\n",
       "    .dataframe thead th {\n",
       "        text-align: right;\n",
       "    }\n",
       "</style>\n",
       "<table border=\"1\" class=\"dataframe\">\n",
       "  <thead>\n",
       "    <tr style=\"text-align: right;\">\n",
       "      <th></th>\n",
       "      <th>gender</th>\n",
       "      <th>age</th>\n",
       "      <th>income</th>\n",
       "      <th>family_members</th>\n",
       "      <th>insurance_benefits</th>\n",
       "    </tr>\n",
       "  </thead>\n",
       "  <tbody>\n",
       "    <tr>\n",
       "      <th>count</th>\n",
       "      <td>5000.000000</td>\n",
       "      <td>5000.000000</td>\n",
       "      <td>5000.000000</td>\n",
       "      <td>5000.000000</td>\n",
       "      <td>5000.000000</td>\n",
       "    </tr>\n",
       "    <tr>\n",
       "      <th>mean</th>\n",
       "      <td>0.499000</td>\n",
       "      <td>30.952800</td>\n",
       "      <td>39916.360000</td>\n",
       "      <td>1.194200</td>\n",
       "      <td>0.148000</td>\n",
       "    </tr>\n",
       "    <tr>\n",
       "      <th>std</th>\n",
       "      <td>0.500049</td>\n",
       "      <td>8.440807</td>\n",
       "      <td>9900.083569</td>\n",
       "      <td>1.091387</td>\n",
       "      <td>0.463183</td>\n",
       "    </tr>\n",
       "    <tr>\n",
       "      <th>min</th>\n",
       "      <td>0.000000</td>\n",
       "      <td>18.000000</td>\n",
       "      <td>5300.000000</td>\n",
       "      <td>0.000000</td>\n",
       "      <td>0.000000</td>\n",
       "    </tr>\n",
       "    <tr>\n",
       "      <th>25%</th>\n",
       "      <td>0.000000</td>\n",
       "      <td>24.000000</td>\n",
       "      <td>33300.000000</td>\n",
       "      <td>0.000000</td>\n",
       "      <td>0.000000</td>\n",
       "    </tr>\n",
       "    <tr>\n",
       "      <th>50%</th>\n",
       "      <td>0.000000</td>\n",
       "      <td>30.000000</td>\n",
       "      <td>40200.000000</td>\n",
       "      <td>1.000000</td>\n",
       "      <td>0.000000</td>\n",
       "    </tr>\n",
       "    <tr>\n",
       "      <th>75%</th>\n",
       "      <td>1.000000</td>\n",
       "      <td>37.000000</td>\n",
       "      <td>46600.000000</td>\n",
       "      <td>2.000000</td>\n",
       "      <td>0.000000</td>\n",
       "    </tr>\n",
       "    <tr>\n",
       "      <th>max</th>\n",
       "      <td>1.000000</td>\n",
       "      <td>65.000000</td>\n",
       "      <td>79000.000000</td>\n",
       "      <td>6.000000</td>\n",
       "      <td>5.000000</td>\n",
       "    </tr>\n",
       "  </tbody>\n",
       "</table>\n",
       "</div>"
      ],
      "text/plain": [
       "            gender          age        income  family_members  \\\n",
       "count  5000.000000  5000.000000   5000.000000     5000.000000   \n",
       "mean      0.499000    30.952800  39916.360000        1.194200   \n",
       "std       0.500049     8.440807   9900.083569        1.091387   \n",
       "min       0.000000    18.000000   5300.000000        0.000000   \n",
       "25%       0.000000    24.000000  33300.000000        0.000000   \n",
       "50%       0.000000    30.000000  40200.000000        1.000000   \n",
       "75%       1.000000    37.000000  46600.000000        2.000000   \n",
       "max       1.000000    65.000000  79000.000000        6.000000   \n",
       "\n",
       "       insurance_benefits  \n",
       "count         5000.000000  \n",
       "mean             0.148000  \n",
       "std              0.463183  \n",
       "min              0.000000  \n",
       "25%              0.000000  \n",
       "50%              0.000000  \n",
       "75%              0.000000  \n",
       "max              5.000000  "
      ]
     },
     "execution_count": 8,
     "metadata": {},
     "output_type": "execute_result"
    }
   ],
   "source": [
    "# mengamati data menggunakan statistika deskriptif\n",
    "df.describe()"
   ]
  },
  {
   "cell_type": "markdown",
   "metadata": {},
   "source": [
    "Dari informasi statistika deskriptif terhilat bahwa dataset yang kita punya tidak memiliki `outlier` sehingga aman untuk diproses lebih lanjut."
   ]
  },
  {
   "cell_type": "code",
   "execution_count": 9,
   "metadata": {},
   "outputs": [
    {
     "data": {
      "text/plain": [
       "153"
      ]
     },
     "execution_count": 9,
     "metadata": {},
     "output_type": "execute_result"
    }
   ],
   "source": [
    "# mengecek duplikasi data\n",
    "df.duplicated().sum()"
   ]
  },
  {
   "cell_type": "markdown",
   "metadata": {},
   "source": [
    "Disini kita memiliki `duplikasi data` sebanyak `153` akan tetapi kita tidak akan menghapusnya dikarenakan kita tidak tahu apakah itu merupakan `ID yang sama` atau bisa saja kebetulan datanya sama namun `ID-nya berbeda`."
   ]
  },
  {
   "cell_type": "markdown",
   "metadata": {},
   "source": [
    "## Analisis Data Eksploratif (EDA) <a id='cont_3'></a>"
   ]
  },
  {
   "cell_type": "markdown",
   "metadata": {},
   "source": [
    "Mari kita periksa dengan cepat, apakah ada kelompok pelanggan tertentu dengan melihat plot pasangan?"
   ]
  },
  {
   "cell_type": "code",
   "execution_count": 10,
   "metadata": {},
   "outputs": [
    {
     "data": {
      "image/png": "[encoded data removed]",
      "text/plain": [
       "<Figure size 1200x1200 with 30 Axes>"
      ]
     },
     "metadata": {},
     "output_type": "display_data"
    }
   ],
   "source": [
    "# melakukan visualisasi dataset menggunakan `pairplot`\n",
    "g = sns.pairplot(df, kind='hist')\n",
    "g.fig.set_size_inches(12, 12)"
   ]
  },
  {
   "cell_type": "markdown",
   "metadata": {},
   "source": [
    "Baiklah, sepertinya agak sulit untuk melihat kelompok (klaster) yang jelas mengingat sulitnya menggabungkan beberapa variabel secara bersamaan (untuk menganalisis distribusi multivariat). Namun, itulah gunanya `Linear Algebra` dan `Machine Learning` di sini."
   ]
  },
  {
   "cell_type": "markdown",
   "metadata": {},
   "source": [
    "Apakah ada korelasi antara masing-masing kolom? kita akan melihatnya menggunakan tabel korelasi berikut."
   ]
  },
  {
   "cell_type": "code",
   "execution_count": 11,
   "metadata": {},
   "outputs": [
    {
     "data": {
      "image/png": "[encoded data removed]",
      "text/plain": [
       "<Figure size 800x500 with 2 Axes>"
      ]
     },
     "metadata": {},
     "output_type": "display_data"
    }
   ],
   "source": [
    "# mengecek korelasi menggunakan tabel korelasi\n",
    "plt.figure(figsize=(8,5))\n",
    "sns.heatmap(df.corr(),annot=True,cmap='viridis')\n",
    "plt.xticks(rotation=10)\n",
    "plt.show()"
   ]
  },
  {
   "cell_type": "markdown",
   "metadata": {},
   "source": [
    "Dari sini bisa kita lihat target `insurance_benefit` memiliki korelasi yang kuat dengan `age` sedangkan untuk korelasi antar fitur tidak ada sehingga aman dari `kolinearitas`."
   ]
  },
  {
   "cell_type": "markdown",
   "metadata": {},
   "source": [
    "# Tugas 1. Klien yang Mirip <a id='cont_4'></a>"
   ]
  },
  {
   "cell_type": "markdown",
   "metadata": {},
   "source": [
    "Dalam bahasa pemrograman `Machine Learning`, penting untuk mengembangkan prosedur yang bisa menentukan *k-nearest neighbors* (objek) pada objek tertentu berdasarkan jarak antar objek. Kita akan membandingkan hasil *k-nearest neighbors* dengan menggunakan dua tipe pengukuran jarak diantaranya:\n",
    "\n",
    "- Jarak Antar Vektor -> Jarak Euklides\n",
    "- Jarak Antar Vektor -> Jarak Manhattan\n",
    "\n",
    "Kita akan membuat sebuah fungsi yang menampilkan *k-nearest neighbors* terdekat untuk objek ke-*n* berdasarkan metrik jarak tertentu. Menguji algoritme *k-nearest neighbors* untuk empat kombinasi dari dua kasus berikut:\n",
    "- Penskalaan\n",
    "  - data tidak diskalakan\n",
    "  - data diskalakan dengan `MaxAbsScaler`\n",
    "- Metrik Jarak\n",
    "  - Euklides\n",
    "  - Manhattan"
   ]
  },
  {
   "cell_type": "code",
   "execution_count": 12,
   "metadata": {},
   "outputs": [],
   "source": [
    "# nama-nama fitur\n",
    "feature_names = ['gender', 'age', 'income', 'family_members']"
   ]
  },
  {
   "cell_type": "code",
   "execution_count": 13,
   "metadata": {},
   "outputs": [],
   "source": [
    "# fungsi untuk menghitung jarak lokasi terhadap k-tetangga terdekat\n",
    "def get_knn(df, n, k, metric):\n",
    "    \"\"\"\n",
    "    Menampilkan k nearest neighbors\n",
    "    :param df: DataFrame Pandas digunakan untuk menemukan objek-objek yang mirip di dalamnya\n",
    "    :param n: nomor objek yang dicari k nearest neighbors\n",
    "    :param k: jumlah k nearest neighbors yang ditampilkan\n",
    "    :param metric: nama metrik jarak\n",
    "    \"\"\"\n",
    "\n",
    "    nbrs = sklearn.neighbors.NearestNeighbors(metric=metric)\n",
    "    nbrs.fit(df[feature_names])\n",
    "    nbrs_distances, nbrs_indices = nbrs.kneighbors([df.iloc[n][feature_names]], k, return_distance=True)\n",
    "    \n",
    "    df_res = pd.concat([\n",
    "        df.iloc[nbrs_indices[0]], \n",
    "        pd.DataFrame(nbrs_distances.T, index=nbrs_indices[0], columns=['distance'])\n",
    "        ], axis=1)\n",
    "    \n",
    "    return df_res"
   ]
  },
  {
   "cell_type": "markdown",
   "metadata": {},
   "source": [
    "Selanjutnya kita akan melakukan `feature enginering` yaitu `scaling` menggunakan `MaxAbsScaler` dan buat menjadi dataset baru secara terpisah."
   ]
  },
  {
   "cell_type": "code",
   "execution_count": 14,
   "metadata": {},
   "outputs": [],
   "source": [
    "# melakukan scaling pada data asli serta menjadikanya sebagai dataset baru\n",
    "transformer_mas = sklearn.preprocessing.MaxAbsScaler().fit(df[feature_names].to_numpy())\n",
    "df_scaled = df.copy()\n",
    "df_scaled.loc[:, feature_names] = transformer_mas.transform(df[feature_names].to_numpy())"
   ]
  },
  {
   "cell_type": "code",
   "execution_count": 15,
   "metadata": {},
   "outputs": [
    {
     "data": {
      "text/html": [
       "<div>\n",
       "<style scoped>\n",
       "    .dataframe tbody tr th:only-of-type {\n",
       "        vertical-align: middle;\n",
       "    }\n",
       "\n",
       "    .dataframe tbody tr th {\n",
       "        vertical-align: top;\n",
       "    }\n",
       "\n",
       "    .dataframe thead th {\n",
       "        text-align: right;\n",
       "    }\n",
       "</style>\n",
       "<table border=\"1\" class=\"dataframe\">\n",
       "  <thead>\n",
       "    <tr style=\"text-align: right;\">\n",
       "      <th></th>\n",
       "      <th>gender</th>\n",
       "      <th>age</th>\n",
       "      <th>income</th>\n",
       "      <th>family_members</th>\n",
       "      <th>insurance_benefits</th>\n",
       "    </tr>\n",
       "  </thead>\n",
       "  <tbody>\n",
       "    <tr>\n",
       "      <th>2470</th>\n",
       "      <td>0</td>\n",
       "      <td>0.523077</td>\n",
       "      <td>0.505063</td>\n",
       "      <td>0.000000</td>\n",
       "      <td>0</td>\n",
       "    </tr>\n",
       "    <tr>\n",
       "      <th>128</th>\n",
       "      <td>0</td>\n",
       "      <td>0.307692</td>\n",
       "      <td>0.498734</td>\n",
       "      <td>0.166667</td>\n",
       "      <td>0</td>\n",
       "    </tr>\n",
       "    <tr>\n",
       "      <th>1588</th>\n",
       "      <td>0</td>\n",
       "      <td>0.538462</td>\n",
       "      <td>0.556962</td>\n",
       "      <td>0.166667</td>\n",
       "      <td>0</td>\n",
       "    </tr>\n",
       "    <tr>\n",
       "      <th>3989</th>\n",
       "      <td>1</td>\n",
       "      <td>0.292308</td>\n",
       "      <td>0.618987</td>\n",
       "      <td>0.333333</td>\n",
       "      <td>0</td>\n",
       "    </tr>\n",
       "    <tr>\n",
       "      <th>2066</th>\n",
       "      <td>0</td>\n",
       "      <td>0.292308</td>\n",
       "      <td>0.507595</td>\n",
       "      <td>0.166667</td>\n",
       "      <td>0</td>\n",
       "    </tr>\n",
       "  </tbody>\n",
       "</table>\n",
       "</div>"
      ],
      "text/plain": [
       "      gender       age    income  family_members  insurance_benefits\n",
       "2470       0  0.523077  0.505063        0.000000                   0\n",
       "128        0  0.307692  0.498734        0.166667                   0\n",
       "1588       0  0.538462  0.556962        0.166667                   0\n",
       "3989       1  0.292308  0.618987        0.333333                   0\n",
       "2066       0  0.292308  0.507595        0.166667                   0"
      ]
     },
     "execution_count": 15,
     "metadata": {},
     "output_type": "execute_result"
    }
   ],
   "source": [
    "# menampilkan sampel dataset yang sudah dilakukan scaling\n",
    "df_scaled.sample(5)"
   ]
  },
  {
   "cell_type": "markdown",
   "metadata": {},
   "source": [
    "Sekarang, mari kita mulai dapatkan catatan yang mirip untuk setiap kombinasi yang ada."
   ]
  },
  {
   "cell_type": "markdown",
   "metadata": {},
   "source": [
    "### Membandingkan Hasil KNN Menggunakan Dataset Asli dan Dataset Skala <a id='cont_5'></a>"
   ]
  },
  {
   "cell_type": "code",
   "execution_count": 16,
   "metadata": {},
   "outputs": [
    {
     "data": {
      "text/html": [
       "<div>\n",
       "<style scoped>\n",
       "    .dataframe tbody tr th:only-of-type {\n",
       "        vertical-align: middle;\n",
       "    }\n",
       "\n",
       "    .dataframe tbody tr th {\n",
       "        vertical-align: top;\n",
       "    }\n",
       "\n",
       "    .dataframe thead th {\n",
       "        text-align: right;\n",
       "    }\n",
       "</style>\n",
       "<table border=\"1\" class=\"dataframe\">\n",
       "  <thead>\n",
       "    <tr style=\"text-align: right;\">\n",
       "      <th></th>\n",
       "      <th>gender</th>\n",
       "      <th>age</th>\n",
       "      <th>income</th>\n",
       "      <th>family_members</th>\n",
       "      <th>insurance_benefits</th>\n",
       "      <th>distance</th>\n",
       "    </tr>\n",
       "  </thead>\n",
       "  <tbody>\n",
       "    <tr>\n",
       "      <th>100</th>\n",
       "      <td>0</td>\n",
       "      <td>19</td>\n",
       "      <td>37300.0</td>\n",
       "      <td>1</td>\n",
       "      <td>0</td>\n",
       "      <td>0.000000</td>\n",
       "    </tr>\n",
       "    <tr>\n",
       "      <th>4278</th>\n",
       "      <td>1</td>\n",
       "      <td>19</td>\n",
       "      <td>37300.0</td>\n",
       "      <td>2</td>\n",
       "      <td>0</td>\n",
       "      <td>1.414214</td>\n",
       "    </tr>\n",
       "    <tr>\n",
       "      <th>2624</th>\n",
       "      <td>1</td>\n",
       "      <td>19</td>\n",
       "      <td>37300.0</td>\n",
       "      <td>0</td>\n",
       "      <td>0</td>\n",
       "      <td>1.414214</td>\n",
       "    </tr>\n",
       "    <tr>\n",
       "      <th>1831</th>\n",
       "      <td>0</td>\n",
       "      <td>20</td>\n",
       "      <td>37300.0</td>\n",
       "      <td>2</td>\n",
       "      <td>0</td>\n",
       "      <td>1.414214</td>\n",
       "    </tr>\n",
       "    <tr>\n",
       "      <th>1086</th>\n",
       "      <td>0</td>\n",
       "      <td>22</td>\n",
       "      <td>37300.0</td>\n",
       "      <td>3</td>\n",
       "      <td>0</td>\n",
       "      <td>3.605551</td>\n",
       "    </tr>\n",
       "  </tbody>\n",
       "</table>\n",
       "</div>"
      ],
      "text/plain": [
       "      gender  age   income  family_members  insurance_benefits  distance\n",
       "100        0   19  37300.0               1                   0  0.000000\n",
       "4278       1   19  37300.0               2                   0  1.414214\n",
       "2624       1   19  37300.0               0                   0  1.414214\n",
       "1831       0   20  37300.0               2                   0  1.414214\n",
       "1086       0   22  37300.0               3                   0  3.605551"
      ]
     },
     "execution_count": 16,
     "metadata": {},
     "output_type": "execute_result"
    }
   ],
   "source": [
    "# hasil KNN menggunakan dataset asli\n",
    "without_scale = get_knn(df=df,n=100,k=5,metric='euclidean')\n",
    "without_scale"
   ]
  },
  {
   "cell_type": "code",
   "execution_count": 17,
   "metadata": {},
   "outputs": [
    {
     "data": {
      "text/html": [
       "<div>\n",
       "<style scoped>\n",
       "    .dataframe tbody tr th:only-of-type {\n",
       "        vertical-align: middle;\n",
       "    }\n",
       "\n",
       "    .dataframe tbody tr th {\n",
       "        vertical-align: top;\n",
       "    }\n",
       "\n",
       "    .dataframe thead th {\n",
       "        text-align: right;\n",
       "    }\n",
       "</style>\n",
       "<table border=\"1\" class=\"dataframe\">\n",
       "  <thead>\n",
       "    <tr style=\"text-align: right;\">\n",
       "      <th></th>\n",
       "      <th>gender</th>\n",
       "      <th>age</th>\n",
       "      <th>income</th>\n",
       "      <th>family_members</th>\n",
       "      <th>insurance_benefits</th>\n",
       "      <th>distance</th>\n",
       "    </tr>\n",
       "  </thead>\n",
       "  <tbody>\n",
       "    <tr>\n",
       "      <th>100</th>\n",
       "      <td>0</td>\n",
       "      <td>0.292308</td>\n",
       "      <td>0.472152</td>\n",
       "      <td>0.166667</td>\n",
       "      <td>0</td>\n",
       "      <td>0.000000</td>\n",
       "    </tr>\n",
       "    <tr>\n",
       "      <th>4915</th>\n",
       "      <td>0</td>\n",
       "      <td>0.292308</td>\n",
       "      <td>0.477215</td>\n",
       "      <td>0.166667</td>\n",
       "      <td>0</td>\n",
       "      <td>0.005063</td>\n",
       "    </tr>\n",
       "    <tr>\n",
       "      <th>243</th>\n",
       "      <td>0</td>\n",
       "      <td>0.292308</td>\n",
       "      <td>0.467089</td>\n",
       "      <td>0.166667</td>\n",
       "      <td>0</td>\n",
       "      <td>0.005063</td>\n",
       "    </tr>\n",
       "    <tr>\n",
       "      <th>1323</th>\n",
       "      <td>0</td>\n",
       "      <td>0.292308</td>\n",
       "      <td>0.456962</td>\n",
       "      <td>0.166667</td>\n",
       "      <td>0</td>\n",
       "      <td>0.015190</td>\n",
       "    </tr>\n",
       "    <tr>\n",
       "      <th>811</th>\n",
       "      <td>0</td>\n",
       "      <td>0.307692</td>\n",
       "      <td>0.470886</td>\n",
       "      <td>0.166667</td>\n",
       "      <td>0</td>\n",
       "      <td>0.015437</td>\n",
       "    </tr>\n",
       "  </tbody>\n",
       "</table>\n",
       "</div>"
      ],
      "text/plain": [
       "      gender       age    income  family_members  insurance_benefits  distance\n",
       "100        0  0.292308  0.472152        0.166667                   0  0.000000\n",
       "4915       0  0.292308  0.477215        0.166667                   0  0.005063\n",
       "243        0  0.292308  0.467089        0.166667                   0  0.005063\n",
       "1323       0  0.292308  0.456962        0.166667                   0  0.015190\n",
       "811        0  0.307692  0.470886        0.166667                   0  0.015437"
      ]
     },
     "execution_count": 17,
     "metadata": {},
     "output_type": "execute_result"
    }
   ],
   "source": [
    "# hasil KNN menggunakan dataset skala\n",
    "with_scale = get_knn(df=df_scaled,n=100,k=5,metric='euclidean')\n",
    "with_scale"
   ]
  },
  {
   "cell_type": "code",
   "execution_count": 18,
   "metadata": {},
   "outputs": [
    {
     "data": {
      "image/png": "[encoded data removed]",
      "text/plain": [
       "<Figure size 800x800 with 1 Axes>"
      ]
     },
     "metadata": {},
     "output_type": "display_data"
    }
   ],
   "source": [
    "# visualisasi bentuk k-nearest neighbor untuk dataset original dan dataset scaled\n",
    "k = 5\n",
    "n = 30\n",
    "graph_ori = kneighbors_graph(df.head(n).to_numpy(),n_neighbors=k,mode='distance')\n",
    "graph_scale = kneighbors_graph(df_scaled.head(n).to_numpy(),n_neighbors=k,mode='distance')\n",
    "plt.figure(figsize=(8, 8))\n",
    "plt.spy(graph_ori, markersize=10,c='g',label='original')\n",
    "plt.spy(graph_scale, markersize=10,c='blue',label='scaled')\n",
    "plt.title(f'K-Neighbors Graph (k={k})')\n",
    "plt.xlabel('Sampel')\n",
    "plt.ylabel('Sampel')\n",
    "plt.legend()\n",
    "plt.xlim(-5,n)\n",
    "plt.show()"
   ]
  },
  {
   "cell_type": "markdown",
   "metadata": {},
   "source": [
    "Dari hasil perhitungan menggunakan `metric euklides` antara dataset `original` dan dataset `scaling`, bahwa pada dataset `scaling` memberikan jarak yang lebih dekat jika dibandingkan dengan dataset `original`. Visualiasi juga mendukung dimana untuk dataset `scaling`, data lebih sering berkumpul dan jaraknya pendek jika dibandingkan dengan dataset `original`. "
   ]
  },
  {
   "cell_type": "markdown",
   "metadata": {},
   "source": [
    "### Membandingkan Hasil KNN Menggunakan Metrik Euklides dan Manhattan <a id='cont_6'></a>"
   ]
  },
  {
   "cell_type": "code",
   "execution_count": 19,
   "metadata": {},
   "outputs": [
    {
     "data": {
      "text/html": [
       "<div>\n",
       "<style scoped>\n",
       "    .dataframe tbody tr th:only-of-type {\n",
       "        vertical-align: middle;\n",
       "    }\n",
       "\n",
       "    .dataframe tbody tr th {\n",
       "        vertical-align: top;\n",
       "    }\n",
       "\n",
       "    .dataframe thead th {\n",
       "        text-align: right;\n",
       "    }\n",
       "</style>\n",
       "<table border=\"1\" class=\"dataframe\">\n",
       "  <thead>\n",
       "    <tr style=\"text-align: right;\">\n",
       "      <th></th>\n",
       "      <th>gender</th>\n",
       "      <th>age</th>\n",
       "      <th>income</th>\n",
       "      <th>family_members</th>\n",
       "      <th>insurance_benefits</th>\n",
       "      <th>distance</th>\n",
       "    </tr>\n",
       "  </thead>\n",
       "  <tbody>\n",
       "    <tr>\n",
       "      <th>100</th>\n",
       "      <td>0</td>\n",
       "      <td>0.292308</td>\n",
       "      <td>0.472152</td>\n",
       "      <td>0.166667</td>\n",
       "      <td>0</td>\n",
       "      <td>0.000000</td>\n",
       "    </tr>\n",
       "    <tr>\n",
       "      <th>4915</th>\n",
       "      <td>0</td>\n",
       "      <td>0.292308</td>\n",
       "      <td>0.477215</td>\n",
       "      <td>0.166667</td>\n",
       "      <td>0</td>\n",
       "      <td>0.005063</td>\n",
       "    </tr>\n",
       "    <tr>\n",
       "      <th>243</th>\n",
       "      <td>0</td>\n",
       "      <td>0.292308</td>\n",
       "      <td>0.467089</td>\n",
       "      <td>0.166667</td>\n",
       "      <td>0</td>\n",
       "      <td>0.005063</td>\n",
       "    </tr>\n",
       "    <tr>\n",
       "      <th>1323</th>\n",
       "      <td>0</td>\n",
       "      <td>0.292308</td>\n",
       "      <td>0.456962</td>\n",
       "      <td>0.166667</td>\n",
       "      <td>0</td>\n",
       "      <td>0.015190</td>\n",
       "    </tr>\n",
       "    <tr>\n",
       "      <th>811</th>\n",
       "      <td>0</td>\n",
       "      <td>0.307692</td>\n",
       "      <td>0.470886</td>\n",
       "      <td>0.166667</td>\n",
       "      <td>0</td>\n",
       "      <td>0.015437</td>\n",
       "    </tr>\n",
       "  </tbody>\n",
       "</table>\n",
       "</div>"
      ],
      "text/plain": [
       "      gender       age    income  family_members  insurance_benefits  distance\n",
       "100        0  0.292308  0.472152        0.166667                   0  0.000000\n",
       "4915       0  0.292308  0.477215        0.166667                   0  0.005063\n",
       "243        0  0.292308  0.467089        0.166667                   0  0.005063\n",
       "1323       0  0.292308  0.456962        0.166667                   0  0.015190\n",
       "811        0  0.307692  0.470886        0.166667                   0  0.015437"
      ]
     },
     "execution_count": 19,
     "metadata": {},
     "output_type": "execute_result"
    }
   ],
   "source": [
    "# KNN menggunakan metrik `euklides`\n",
    "euclidean = get_knn(df=df_scaled,n=100,k=5,metric='euclidean')\n",
    "euclidean"
   ]
  },
  {
   "cell_type": "code",
   "execution_count": 20,
   "metadata": {},
   "outputs": [
    {
     "data": {
      "text/html": [
       "<div>\n",
       "<style scoped>\n",
       "    .dataframe tbody tr th:only-of-type {\n",
       "        vertical-align: middle;\n",
       "    }\n",
       "\n",
       "    .dataframe tbody tr th {\n",
       "        vertical-align: top;\n",
       "    }\n",
       "\n",
       "    .dataframe thead th {\n",
       "        text-align: right;\n",
       "    }\n",
       "</style>\n",
       "<table border=\"1\" class=\"dataframe\">\n",
       "  <thead>\n",
       "    <tr style=\"text-align: right;\">\n",
       "      <th></th>\n",
       "      <th>gender</th>\n",
       "      <th>age</th>\n",
       "      <th>income</th>\n",
       "      <th>family_members</th>\n",
       "      <th>insurance_benefits</th>\n",
       "      <th>distance</th>\n",
       "    </tr>\n",
       "  </thead>\n",
       "  <tbody>\n",
       "    <tr>\n",
       "      <th>100</th>\n",
       "      <td>0</td>\n",
       "      <td>0.292308</td>\n",
       "      <td>0.472152</td>\n",
       "      <td>0.166667</td>\n",
       "      <td>0</td>\n",
       "      <td>0.000000</td>\n",
       "    </tr>\n",
       "    <tr>\n",
       "      <th>4915</th>\n",
       "      <td>0</td>\n",
       "      <td>0.292308</td>\n",
       "      <td>0.477215</td>\n",
       "      <td>0.166667</td>\n",
       "      <td>0</td>\n",
       "      <td>0.005063</td>\n",
       "    </tr>\n",
       "    <tr>\n",
       "      <th>243</th>\n",
       "      <td>0</td>\n",
       "      <td>0.292308</td>\n",
       "      <td>0.467089</td>\n",
       "      <td>0.166667</td>\n",
       "      <td>0</td>\n",
       "      <td>0.005063</td>\n",
       "    </tr>\n",
       "    <tr>\n",
       "      <th>1323</th>\n",
       "      <td>0</td>\n",
       "      <td>0.292308</td>\n",
       "      <td>0.456962</td>\n",
       "      <td>0.166667</td>\n",
       "      <td>0</td>\n",
       "      <td>0.015190</td>\n",
       "    </tr>\n",
       "    <tr>\n",
       "      <th>811</th>\n",
       "      <td>0</td>\n",
       "      <td>0.307692</td>\n",
       "      <td>0.470886</td>\n",
       "      <td>0.166667</td>\n",
       "      <td>0</td>\n",
       "      <td>0.016650</td>\n",
       "    </tr>\n",
       "  </tbody>\n",
       "</table>\n",
       "</div>"
      ],
      "text/plain": [
       "      gender       age    income  family_members  insurance_benefits  distance\n",
       "100        0  0.292308  0.472152        0.166667                   0  0.000000\n",
       "4915       0  0.292308  0.477215        0.166667                   0  0.005063\n",
       "243        0  0.292308  0.467089        0.166667                   0  0.005063\n",
       "1323       0  0.292308  0.456962        0.166667                   0  0.015190\n",
       "811        0  0.307692  0.470886        0.166667                   0  0.016650"
      ]
     },
     "execution_count": 20,
     "metadata": {},
     "output_type": "execute_result"
    }
   ],
   "source": [
    "# KNN menggunakan metrik `manhattan`\n",
    "manhattan = get_knn(df=df_scaled,n=100,k=5,metric='manhattan')\n",
    "manhattan"
   ]
  },
  {
   "cell_type": "markdown",
   "metadata": {},
   "source": [
    "Dari hasil perhitungan jarak, tidak ada perbedaan bahkan sama persis jika menggunakan metrik `euklides` maupun metrik `manhattan`."
   ]
  },
  {
   "cell_type": "markdown",
   "metadata": {},
   "source": [
    "# Tugas 2. Apakah Klien Kemungkinan Menerima Klaim Asuransi? <a id='cont_7'></a>"
   ]
  },
  {
   "cell_type": "markdown",
   "metadata": {},
   "source": [
    "Untuk menentukan klien `menerima klaim asuransi` atau `tidak menerima klaim asuransi`, kita perlu mengelompokanya menjadi dua kelas. `Kelas-1` adalah kelas `penerima klaim asuransi` sedangkan `kelas-0` adalah kelas `bukan penerima asuransi`. Tugas ini mirip dengan klasifikasi biner (*binary classification*). Disini kita akan melakukan beberapa rangkaian untuk melatih `model machine learning` beserta kualitasnya:\n",
    "- Membuat kolom tambahan yang berisi `kelompok penerima asuransi (kelas-1)` dan `kelompok bukan penerima asuransi (kelas-0)`.\n",
    "- Membuat model `dummy` yang hasil prediksinya berdasarkan angka acak dari `BitGenerator (PCG64)` untuk angka `binomial` berdasarkan `pobabilitas`. Model `dummy` harusnya menampilkan `1` dengan beberapa `probabilitas`. Mari kita uji model dengan empat nilai probabilitas: `0, probabilitas klaim asuransi yang diterima; 0,5; 1`.\n",
    "\n",
    "    Probabilitas klaim asuransi dapat didefinisikan sebagai\n",
    "\n",
    "$$\n",
    "P\\{\\text{klaim asuransi yang diterima}\\}=\\frac{\\text{jumlah klien yang menerima klaim asuransi}}{\\text{jumlah klien secara keseluruhan}}\n",
    "$$\n",
    "\n",
    "- Membuat model *k-Nearest Neighbor* dengan jumlah `k=1,...,10` untuk melatih dan menguji dataset. Dataset yang kita uji adalah `dataset asli` dan `dataset skala`.\n",
    "- Dataset dipisah menjadi 70:30 untuk proporsi *training* dan *test set*.\n",
    "- Skor metrik yang digunakan melihat kualitas model adalah `F1 Score` serta menampilkan `confusion matrix`nya."
   ]
  },
  {
   "cell_type": "code",
   "execution_count": 21,
   "metadata": {},
   "outputs": [],
   "source": [
    "# membuat kolom klasifikasi biner untuk penerima asuransi dan bukan penerima asuransi\n",
    "df['insurance_benefits_received'] = df['insurance_benefits'].apply(lambda x: 1 if x > 0 else 0)"
   ]
  },
  {
   "cell_type": "code",
   "execution_count": 22,
   "metadata": {},
   "outputs": [
    {
     "data": {
      "text/plain": [
       "insurance_benefits_received\n",
       "0    4436\n",
       "1     564\n",
       "Name: count, dtype: int64"
      ]
     },
     "execution_count": 22,
     "metadata": {},
     "output_type": "execute_result"
    }
   ],
   "source": [
    "# memeriksa keseimbangkan kelas penerima asuransi dan bukan penerima asuransi\n",
    "df.insurance_benefits_received.value_counts()"
   ]
  },
  {
   "cell_type": "code",
   "execution_count": 23,
   "metadata": {},
   "outputs": [],
   "source": [
    "# fungsi untuk menghitung F1 skor dan confusion matrix\n",
    "def eval_classifier(y_true, y_pred):   \n",
    "    f1_score = sklearn.metrics.f1_score(y_true, y_pred)\n",
    "    print(f'F1: {f1_score:.2f}')\n",
    "    cm = sklearn.metrics.confusion_matrix(y_true, y_pred, normalize='all')\n",
    "    print('Matriks Kesalahan')\n",
    "    print(cm)"
   ]
  },
  {
   "cell_type": "code",
   "execution_count": 24,
   "metadata": {},
   "outputs": [],
   "source": [
    "# fungsi untuk menghasilkan output dari model acak menggunakan random generator untuk binomial_number\n",
    "def rnd_model_predict(P, size, seed=42):\n",
    "    rng = np.random.default_rng(seed=seed)\n",
    "    return rng.binomial(n=1, p=P, size=size)"
   ]
  },
  {
   "cell_type": "markdown",
   "metadata": {},
   "source": [
    "### Random Generator <a id='cont_8'></a>"
   ]
  },
  {
   "cell_type": "code",
   "execution_count": 25,
   "metadata": {},
   "outputs": [
    {
     "name": "stdout",
     "output_type": "stream",
     "text": [
      "Probabilitasnya: 0.00\n",
      "F1: 0.00\n",
      "Matriks Kesalahan\n",
      "[[0.8872 0.    ]\n",
      " [0.1128 0.    ]]\n",
      "\n",
      "Probabilitasnya: 0.11\n",
      "F1: 0.12\n",
      "Matriks Kesalahan\n",
      "[[0.7914 0.0958]\n",
      " [0.0994 0.0134]]\n",
      "\n",
      "Probabilitasnya: 0.50\n",
      "F1: 0.20\n",
      "Matriks Kesalahan\n",
      "[[0.456  0.4312]\n",
      " [0.053  0.0598]]\n",
      "\n",
      "Probabilitasnya: 1.00\n",
      "F1: 0.20\n",
      "Matriks Kesalahan\n",
      "[[0.     0.8872]\n",
      " [0.     0.1128]]\n",
      "\n"
     ]
    }
   ],
   "source": [
    "# menghitung F1 skor dan Confusion Matrix menggunakan model `dummy`\n",
    "for P in [0, df['insurance_benefits_received'].sum() / len(df), 0.5, 1]:\n",
    "    print(f'Probabilitasnya: {P:.2f}')\n",
    "    y_pred_rnd = rnd_model_predict(P,size=len(df))\n",
    "    eval_classifier(df['insurance_benefits_received'], y_pred_rnd)\n",
    "    print()"
   ]
  },
  {
   "cell_type": "markdown",
   "metadata": {},
   "source": [
    "### KNN Menggunakan Dataset Asli <a id='cont_9'></a>"
   ]
  },
  {
   "cell_type": "code",
   "execution_count": 26,
   "metadata": {},
   "outputs": [],
   "source": [
    "# membagi dataset menjadi train dan test beserta porsinya\n",
    "X1 = df.drop('insurance_benefits_received',axis=1)\n",
    "y1 = df.insurance_benefits_received\n",
    "X1_train, X1_test, y1_train, y1_test = train_test_split(X1,y1, stratify=y1, test_size=0.3)"
   ]
  },
  {
   "cell_type": "code",
   "execution_count": 27,
   "metadata": {},
   "outputs": [
    {
     "name": "stdout",
     "output_type": "stream",
     "text": [
      "K: 1\n",
      "F1: 0.60\n",
      "Matriks Kesalahan\n",
      "[[0.87266667 0.01466667]\n",
      " [0.058      0.05466667]]\n",
      "\n",
      "K: 2\n",
      "F1: 0.60\n",
      "Matriks Kesalahan\n",
      "[[0.87266667 0.01466667]\n",
      " [0.058      0.05466667]]\n",
      "\n",
      "K: 3\n",
      "F1: 0.54\n",
      "Matriks Kesalahan\n",
      "[[0.876      0.01133333]\n",
      " [0.06733333 0.04533333]]\n",
      "\n",
      "K: 4\n",
      "F1: 0.53\n",
      "Matriks Kesalahan\n",
      "[[0.87866667 0.00866667]\n",
      " [0.06866667 0.044     ]]\n",
      "\n",
      "K: 5\n",
      "F1: 0.49\n",
      "Matriks Kesalahan\n",
      "[[0.878      0.00933333]\n",
      " [0.07266667 0.04      ]]\n",
      "\n",
      "K: 6\n",
      "F1: 0.49\n",
      "Matriks Kesalahan\n",
      "[[0.87933333 0.008     ]\n",
      " [0.07333333 0.03933333]]\n",
      "\n",
      "K: 7\n",
      "F1: 0.46\n",
      "Matriks Kesalahan\n",
      "[[0.88       0.00733333]\n",
      " [0.07666667 0.036     ]]\n",
      "\n",
      "K: 8\n",
      "F1: 0.43\n",
      "Matriks Kesalahan\n",
      "[[0.88       0.00733333]\n",
      " [0.07933333 0.03333333]]\n",
      "\n",
      "K: 9\n",
      "F1: 0.41\n",
      "Matriks Kesalahan\n",
      "[[0.88       0.00733333]\n",
      " [0.082      0.03066667]]\n",
      "\n",
      "K: 10\n",
      "F1: 0.39\n",
      "Matriks Kesalahan\n",
      "[[0.88066667 0.00666667]\n",
      " [0.08333333 0.02933333]]\n",
      "\n"
     ]
    }
   ],
   "source": [
    "# menghitung F1 Skor dan confusion matrix dengan k[1~10]\n",
    "for k in range(1,11):\n",
    "    KNN = sklearn.neighbors.KNeighborsClassifier(n_neighbors=k,weights='distance')\n",
    "    KNN.fit(X1_train,y1_train)\n",
    "    y_pred_knn = KNN.predict(X1_test)\n",
    "    print('K:',k)\n",
    "    eval_classifier(y1_test, y_pred_knn)\n",
    "    print()"
   ]
  },
  {
   "cell_type": "markdown",
   "metadata": {},
   "source": [
    "### KNN Menggunakan Dataset Skala <a id='cont_10'></a>"
   ]
  },
  {
   "cell_type": "code",
   "execution_count": 28,
   "metadata": {},
   "outputs": [],
   "source": [
    "# membagi dataset menjadi train dan test beserta porsinya\n",
    "df_scaled['insurance_benefits_received'] = df_scaled['insurance_benefits'].apply(lambda x: 1 if x > 0 else 0)\n",
    "X2 = df_scaled.drop('insurance_benefits_received',axis=1)\n",
    "y2 = df_scaled.insurance_benefits_received\n",
    "X2_train, X2_test, y2_train, y2_test = train_test_split(X2,y2, stratify=y2, test_size=0.3)"
   ]
  },
  {
   "cell_type": "code",
   "execution_count": 29,
   "metadata": {},
   "outputs": [
    {
     "name": "stdout",
     "output_type": "stream",
     "text": [
      "K: 1\n",
      "F1: 1.00\n",
      "Matriks Kesalahan\n",
      "[[0.88733333 0.        ]\n",
      " [0.         0.11266667]]\n",
      "\n",
      "K: 2\n",
      "F1: 1.00\n",
      "Matriks Kesalahan\n",
      "[[0.88733333 0.        ]\n",
      " [0.         0.11266667]]\n",
      "\n",
      "K: 3\n",
      "F1: 1.00\n",
      "Matriks Kesalahan\n",
      "[[0.88733333 0.        ]\n",
      " [0.         0.11266667]]\n",
      "\n",
      "K: 4\n",
      "F1: 1.00\n",
      "Matriks Kesalahan\n",
      "[[0.88733333 0.        ]\n",
      " [0.         0.11266667]]\n",
      "\n",
      "K: 5\n",
      "F1: 1.00\n",
      "Matriks Kesalahan\n",
      "[[0.88733333 0.        ]\n",
      " [0.         0.11266667]]\n",
      "\n",
      "K: 6\n",
      "F1: 1.00\n",
      "Matriks Kesalahan\n",
      "[[0.88733333 0.        ]\n",
      " [0.         0.11266667]]\n",
      "\n",
      "K: 7\n",
      "F1: 1.00\n",
      "Matriks Kesalahan\n",
      "[[0.88733333 0.        ]\n",
      " [0.         0.11266667]]\n",
      "\n",
      "K: 8\n",
      "F1: 1.00\n",
      "Matriks Kesalahan\n",
      "[[0.88733333 0.        ]\n",
      " [0.         0.11266667]]\n",
      "\n",
      "K: 9\n",
      "F1: 1.00\n",
      "Matriks Kesalahan\n",
      "[[0.88733333 0.        ]\n",
      " [0.         0.11266667]]\n",
      "\n",
      "K: 10\n",
      "F1: 1.00\n",
      "Matriks Kesalahan\n",
      "[[0.88733333 0.        ]\n",
      " [0.         0.11266667]]\n",
      "\n"
     ]
    }
   ],
   "source": [
    "# menghitung F1 Skor dan confusion matrix dengan k[1~10]\n",
    "for k in range(1,11):\n",
    "    KNN = sklearn.neighbors.KNeighborsClassifier(n_neighbors=10,weights='distance')\n",
    "    KNN.fit(X2_train,y2_train)\n",
    "    y_pred_knn = KNN.predict(X2_test)\n",
    "    print('K:',k)\n",
    "    eval_classifier(y2_test, y_pred_knn)\n",
    "    print()"
   ]
  },
  {
   "cell_type": "markdown",
   "metadata": {},
   "source": [
    "Rangkuman:\n",
    "* Model `KNN Classifier` memberikan hasil `F1 Score` yang lebih baik jika dibandingkan dengan menggunakan model `dummy`.\n",
    "* Dataset `scaling` memberikan hasil `F1 Score` yang lebih baik dibandingkan dengan dataset `original`. \n",
    "* Semakin banyak jumlah `k-neighbors` semakin rendah `F1 Score` pada dataset `original` sedangkan pada dataset `scaling` tidak berpengaruh terhadap jumlah `k-neighbors`."
   ]
  },
  {
   "cell_type": "markdown",
   "metadata": {},
   "source": [
    "# Tugas 3. Besaran Klaim Asuransi yang Didapat (Regresi Linier) <a id='cont_11'></a>"
   ]
  },
  {
   "cell_type": "markdown",
   "metadata": {},
   "source": [
    "Disini kita akan melakukan `prediksi` serta menghitung skor dari model regresi linier menggunakan `RMSE score` dan `R2 Score`. Selain itu, kita akan mencoba membuat `model regresi linier` secara mandiri dengan menggunakan `Linear Algebra` dan menampilkan `weight`nya. Dengan `insurance_benefit` sebagai target, kita akan mengetahui `RMSE` dan `R2` untuk model `regresi linier` yang kita buat untuk `dataset asli` maupun `dataset skala`. Berikut merupakan langkah-langkah untuk membuat model regresi linier:\n",
    "\n",
    "Variabel-variabel:\n",
    "- $X$ — matriks fitur, satu baris merepresentasikan satu kasus, tiap kolom adalah fitur, kolom pertama terdiri dari satuan\n",
    "- $y$ — target (vektor)\n",
    "- $\\hat{y}$ — estimasi target (vektor)\n",
    "- $w$ — bobot vektor\n",
    "\n",
    "Matriks untuk regresi linear dapat dirumuskan sebagai\n",
    "\n",
    "$$\n",
    "y = Xw\n",
    "$$\n",
    "\n",
    "Tujuan pelatihan untuk menemukan $w$ yang akan meminimalkan jarak L2 (MSE) antara $Xw$ dan $y$:\n",
    "\n",
    "$$\n",
    "\\min_w d_2(Xw, y) \\quad \\text{atau} \\quad \\min_w \\text{MSE}(Xw, y)\n",
    "$$\n",
    "\n",
    "Sepertinya ada solusi analitis untuk masalah di atas:\n",
    "\n",
    "$$\n",
    "w = (X^T X)^{-1} X^T y\n",
    "$$\n",
    "\n",
    "Rumus di atas bisa digunakan untuk menemukan bobot $w$ dan yang terakhir dapat digunakan untuk menghitung nilai prediksi:\n",
    "\n",
    "$$\n",
    "\\hat{y} = X_{val}w\n",
    "$$"
   ]
  },
  {
   "cell_type": "code",
   "execution_count": 30,
   "metadata": {},
   "outputs": [],
   "source": [
    "# membuat model regresi linier\n",
    "class MyLinearRegression:\n",
    "    def __init__(self):\n",
    "        self.weights = None\n",
    "    \n",
    "    def fit(self, X, y):\n",
    "        # menambahkan satuan\n",
    "        X2 = np.append(np.ones([len(X), 1]), X, axis=1)\n",
    "        w = np.linalg.inv(X2.T.dot(X2)).dot(X2.T).dot(y)\n",
    "        self.weights = w[1:]\n",
    "        self.weights_0 = w[0]\n",
    "\n",
    "    def predict(self, X):\n",
    "        # menambahkan satuan\n",
    "        X2 = X\n",
    "        y_pred = X2.dot(self.weights) + self.weights_0\n",
    "        return y_pred"
   ]
  },
  {
   "cell_type": "code",
   "execution_count": 31,
   "metadata": {},
   "outputs": [],
   "source": [
    "# fungsi untuk menghitung RMSE dan R2\n",
    "def eval_regressor(y_true, y_pred):\n",
    "    \n",
    "    rmse = math.sqrt(sklearn.metrics.mean_squared_error(y_true, y_pred))\n",
    "    print(f'RMSE: {rmse:.2f}')\n",
    "    \n",
    "    r2_score = math.sqrt(sklearn.metrics.r2_score(y_true, y_pred))\n",
    "    print(f'R2: {r2_score:.2f}')    "
   ]
  },
  {
   "cell_type": "markdown",
   "metadata": {},
   "source": [
    "### Regresi Linier Menggunakan Dataset Asli <a id='cont_12'></a>"
   ]
  },
  {
   "cell_type": "markdown",
   "metadata": {},
   "source": [
    "Selanjutnya, memisahkan keseluruhan data menjadi *training set* dan *validation set* dengan proporsi `70:30`. Terakhir evaluasi model menggunakan `RMSE score` dan `R2 score`."
   ]
  },
  {
   "cell_type": "code",
   "execution_count": 32,
   "metadata": {},
   "outputs": [
    {
     "name": "stdout",
     "output_type": "stream",
     "text": [
      "[ 3.57495491e-02  1.64272726e-02 -2.60743659e-07 -1.16902127e-02]\n",
      "RMSE: 0.34\n",
      "R2: 0.66\n"
     ]
    }
   ],
   "source": [
    "# menghitung skor RMSE dan R2 menggunakan dataset asli\n",
    "X = df[['age', 'gender', 'income', 'family_members']].to_numpy()\n",
    "y = df['insurance_benefits'].to_numpy()\n",
    "\n",
    "X_train, X_test, y_train, y_test = train_test_split(X, y, test_size=0.3, random_state=12345)\n",
    "\n",
    "lr = MyLinearRegression()\n",
    "\n",
    "lr.fit(X_train, y_train)\n",
    "print(lr.weights)\n",
    "\n",
    "y_test_pred = lr.predict(X_test)\n",
    "eval_regressor(y_test, y_test_pred)"
   ]
  },
  {
   "cell_type": "markdown",
   "metadata": {},
   "source": [
    "### Regresi Linier Menggunakan Dataset Skala <a id='cont_13'></a>"
   ]
  },
  {
   "cell_type": "code",
   "execution_count": 33,
   "metadata": {},
   "outputs": [
    {
     "name": "stdout",
     "output_type": "stream",
     "text": [
      "[ 2.32372069  0.01642727 -0.02059875 -0.07014128]\n",
      "RMSE: 0.34\n",
      "R2: 0.66\n"
     ]
    }
   ],
   "source": [
    "# menghitung skor RMSE dan R2 menggunakan dataset skala\n",
    "X = df_scaled[['age', 'gender', 'income', 'family_members']].to_numpy()\n",
    "y = df_scaled['insurance_benefits'].to_numpy()\n",
    "\n",
    "X_train, X_test, y_train, y_test = train_test_split(X, y, test_size=0.3, random_state=12345)\n",
    "\n",
    "lr = MyLinearRegression()\n",
    "\n",
    "lr.fit(X_train, y_train)\n",
    "print(lr.weights)\n",
    "\n",
    "y_test_pred = lr.predict(X_test)\n",
    "eval_regressor(y_test, y_test_pred)"
   ]
  },
  {
   "cell_type": "markdown",
   "metadata": {},
   "source": [
    "Dari hasil perhitungan menunjukan bahwa skor `RMSE` dan `R2` tidak berpengaruh terhadap model `regresi linier` untuk dataset `original` maupun `scaling`. Untuk nilai `predictors/weight` menunjukan perbedaan jika menggunakan dataset `original` atau dataset `scaling`."
   ]
  },
  {
   "cell_type": "markdown",
   "metadata": {},
   "source": [
    "# Tugas 4. Pengaburan Data <a id='cont_14'></a>"
   ]
  },
  {
   "cell_type": "markdown",
   "metadata": {},
   "source": [
    "Disini kita akan melakukan penjagaan terhadap data dengan cara mengaburkanya, sehingga tidak memiliki makna sesungguhnya. Cara terbaik untuk mengaburkan data adalah dengan mengalikan fitur-fitur numerik (fitur-fitur tersebut bisa di lihat di matriks $X$) dengan matriks yang dapat dibalik (*invertible*) $P$. \n",
    "\n",
    "$$\n",
    "X' = X \\times P\n",
    "$$\n",
    "\n",
    "Pastikan matriks $P$ bersifat *invertible* yaitu jika matriks $P$ dikalikan dengan matriks inversnya $P'$ akan menjadi matriks *identitas*. Sifat *invertible* sangat penting pada kasus ini, jadi pastikan bahwa $P$ bersifat *invertible*. Setelah sudah dipastikan bahwa matriks $P$ *invertible*, kita bisa melakukan transformasi fitur."
   ]
  },
  {
   "cell_type": "code",
   "execution_count": 34,
   "metadata": {},
   "outputs": [],
   "source": [
    "# mengelompokan fitur\n",
    "personal_info_column_list = ['gender', 'age', 'income', 'family_members']\n",
    "df_pn = df[personal_info_column_list]"
   ]
  },
  {
   "cell_type": "code",
   "execution_count": 35,
   "metadata": {},
   "outputs": [],
   "source": [
    "# mengubah dataset menjadi numpy array\n",
    "X = df_pn.to_numpy()"
   ]
  },
  {
   "cell_type": "markdown",
   "metadata": {},
   "source": [
    "Membuat matriks acak $P$."
   ]
  },
  {
   "cell_type": "code",
   "execution_count": 36,
   "metadata": {},
   "outputs": [
    {
     "data": {
      "text/plain": [
       "array([[0.77395605, 0.43887844, 0.85859792, 0.69736803],\n",
       "       [0.09417735, 0.97562235, 0.7611397 , 0.78606431],\n",
       "       [0.12811363, 0.45038594, 0.37079802, 0.92676499],\n",
       "       [0.64386512, 0.82276161, 0.4434142 , 0.22723872]])"
      ]
     },
     "execution_count": 36,
     "metadata": {},
     "output_type": "execute_result"
    }
   ],
   "source": [
    "# membuat matriks acak P\n",
    "rng = np.random.default_rng(seed=42)\n",
    "P = rng.random(size=(X.shape[1], X.shape[1]))\n",
    "P"
   ]
  },
  {
   "cell_type": "markdown",
   "metadata": {},
   "source": [
    "Memeriksa apakah matriks $P$ *invertible*"
   ]
  },
  {
   "cell_type": "code",
   "execution_count": 37,
   "metadata": {},
   "outputs": [
    {
     "data": {
      "text/plain": [
       "array([[ 1.,  0., -0., -0.],\n",
       "       [ 0.,  1., -0.,  0.],\n",
       "       [ 0.,  0.,  1., -0.],\n",
       "       [-0., -0., -0.,  1.]])"
      ]
     },
     "execution_count": 37,
     "metadata": {},
     "output_type": "execute_result"
    }
   ],
   "source": [
    "# memeriksa matriks P invertible atau tidak\n",
    "inv_P = np.linalg.inv(P)\n",
    "I = np.around(P.dot(inv_P))\n",
    "I"
   ]
  },
  {
   "cell_type": "markdown",
   "metadata": {},
   "source": [
    "Terlihat hasil perkalian matriks `P` dengan inversnya menghasilkan matriks `Identitas`."
   ]
  },
  {
   "cell_type": "markdown",
   "metadata": {},
   "source": [
    "Kita akan mencoba menebak usia klien atau pendapatanya setelah dilakukan transformasi seperti berikut:"
   ]
  },
  {
   "cell_type": "code",
   "execution_count": 38,
   "metadata": {},
   "outputs": [
    {
     "data": {
      "text/html": [
       "<div>\n",
       "<style scoped>\n",
       "    .dataframe tbody tr th:only-of-type {\n",
       "        vertical-align: middle;\n",
       "    }\n",
       "\n",
       "    .dataframe tbody tr th {\n",
       "        vertical-align: top;\n",
       "    }\n",
       "\n",
       "    .dataframe thead th {\n",
       "        text-align: right;\n",
       "    }\n",
       "</style>\n",
       "<table border=\"1\" class=\"dataframe\">\n",
       "  <thead>\n",
       "    <tr style=\"text-align: right;\">\n",
       "      <th></th>\n",
       "      <th>gender</th>\n",
       "      <th>age</th>\n",
       "      <th>income</th>\n",
       "      <th>family_members</th>\n",
       "    </tr>\n",
       "  </thead>\n",
       "  <tbody>\n",
       "    <tr>\n",
       "      <th>0</th>\n",
       "      <td>1.0</td>\n",
       "      <td>41.0</td>\n",
       "      <td>49600.0</td>\n",
       "      <td>1.0</td>\n",
       "    </tr>\n",
       "  </tbody>\n",
       "</table>\n",
       "</div>"
      ],
      "text/plain": [
       "   gender   age   income  family_members\n",
       "0     1.0  41.0  49600.0             1.0"
      ]
     },
     "execution_count": 38,
     "metadata": {},
     "output_type": "execute_result"
    }
   ],
   "source": [
    "# mengambil sampel dataset\n",
    "client = df.iloc[0,:-2].to_numpy().reshape(1,-1)\n",
    "pd.DataFrame(client,columns=personal_info_column_list).head()"
   ]
  },
  {
   "cell_type": "code",
   "execution_count": 39,
   "metadata": {},
   "outputs": [
    {
     "data": {
      "text/html": [
       "<div>\n",
       "<style scoped>\n",
       "    .dataframe tbody tr th:only-of-type {\n",
       "        vertical-align: middle;\n",
       "    }\n",
       "\n",
       "    .dataframe tbody tr th {\n",
       "        vertical-align: top;\n",
       "    }\n",
       "\n",
       "    .dataframe thead th {\n",
       "        text-align: right;\n",
       "    }\n",
       "</style>\n",
       "<table border=\"1\" class=\"dataframe\">\n",
       "  <thead>\n",
       "    <tr style=\"text-align: right;\">\n",
       "      <th></th>\n",
       "      <th>gender</th>\n",
       "      <th>age</th>\n",
       "      <th>income</th>\n",
       "      <th>family_members</th>\n",
       "    </tr>\n",
       "  </thead>\n",
       "  <tbody>\n",
       "    <tr>\n",
       "      <th>0</th>\n",
       "      <td>6359.715273</td>\n",
       "      <td>22380.404676</td>\n",
       "      <td>18424.090742</td>\n",
       "      <td>46000.69669</td>\n",
       "    </tr>\n",
       "  </tbody>\n",
       "</table>\n",
       "</div>"
      ],
      "text/plain": [
       "        gender           age        income  family_members\n",
       "0  6359.715273  22380.404676  18424.090742     46000.69669"
      ]
     },
     "execution_count": 39,
     "metadata": {},
     "output_type": "execute_result"
    }
   ],
   "source": [
    "# mentransformasikan dataset menggunakan matriks P\n",
    "client_transform = client.dot(P)\n",
    "pd.DataFrame(client_transform,columns=personal_info_column_list).head()"
   ]
  },
  {
   "cell_type": "markdown",
   "metadata": {},
   "source": [
    "Selanjutnya, kita akan mencoba memulihkan fitur yang sudah ditransformasi $X'$, jika $P$ sudah diketahui. Kita bisa mengalikanya kembali dengan invers matriks $P'$ dengan $X'$ untuk mengembalikan fitur asli seperti semula."
   ]
  },
  {
   "cell_type": "code",
   "execution_count": 40,
   "metadata": {},
   "outputs": [
    {
     "data": {
      "text/html": [
       "<div>\n",
       "<style scoped>\n",
       "    .dataframe tbody tr th:only-of-type {\n",
       "        vertical-align: middle;\n",
       "    }\n",
       "\n",
       "    .dataframe tbody tr th {\n",
       "        vertical-align: top;\n",
       "    }\n",
       "\n",
       "    .dataframe thead th {\n",
       "        text-align: right;\n",
       "    }\n",
       "</style>\n",
       "<table border=\"1\" class=\"dataframe\">\n",
       "  <thead>\n",
       "    <tr style=\"text-align: right;\">\n",
       "      <th></th>\n",
       "      <th>gender</th>\n",
       "      <th>age</th>\n",
       "      <th>income</th>\n",
       "      <th>family_members</th>\n",
       "    </tr>\n",
       "  </thead>\n",
       "  <tbody>\n",
       "    <tr>\n",
       "      <th>0</th>\n",
       "      <td>1.0</td>\n",
       "      <td>41.0</td>\n",
       "      <td>49600.0</td>\n",
       "      <td>1.0</td>\n",
       "    </tr>\n",
       "  </tbody>\n",
       "</table>\n",
       "</div>"
      ],
      "text/plain": [
       "   gender   age   income  family_members\n",
       "0     1.0  41.0  49600.0             1.0"
      ]
     },
     "execution_count": 40,
     "metadata": {},
     "output_type": "execute_result"
    }
   ],
   "source": [
    "# mengembalikan nilai semula dari hasil transformasi\n",
    "client_reverse = client_transform.dot(inv_P)\n",
    "pd.DataFrame(client_reverse,columns=personal_info_column_list).head()"
   ]
  },
  {
   "cell_type": "markdown",
   "metadata": {},
   "source": [
    "Disini kita akan mencoba jumlah sampel yang lebih banyak:\n",
    "- Data asli\n",
    "- Data yang sudah ditransformasikan\n",
    "- Data yang telah dipulihkan ke semula"
   ]
  },
  {
   "cell_type": "code",
   "execution_count": 41,
   "metadata": {},
   "outputs": [
    {
     "data": {
      "text/html": [
       "<div>\n",
       "<style scoped>\n",
       "    .dataframe tbody tr th:only-of-type {\n",
       "        vertical-align: middle;\n",
       "    }\n",
       "\n",
       "    .dataframe tbody tr th {\n",
       "        vertical-align: top;\n",
       "    }\n",
       "\n",
       "    .dataframe thead th {\n",
       "        text-align: right;\n",
       "    }\n",
       "</style>\n",
       "<table border=\"1\" class=\"dataframe\">\n",
       "  <thead>\n",
       "    <tr style=\"text-align: right;\">\n",
       "      <th></th>\n",
       "      <th>gender</th>\n",
       "      <th>age</th>\n",
       "      <th>income</th>\n",
       "      <th>family_members</th>\n",
       "    </tr>\n",
       "  </thead>\n",
       "  <tbody>\n",
       "    <tr>\n",
       "      <th>0</th>\n",
       "      <td>1.0</td>\n",
       "      <td>41.0</td>\n",
       "      <td>49600.0</td>\n",
       "      <td>1.0</td>\n",
       "    </tr>\n",
       "    <tr>\n",
       "      <th>1</th>\n",
       "      <td>0.0</td>\n",
       "      <td>46.0</td>\n",
       "      <td>38000.0</td>\n",
       "      <td>1.0</td>\n",
       "    </tr>\n",
       "    <tr>\n",
       "      <th>2</th>\n",
       "      <td>0.0</td>\n",
       "      <td>29.0</td>\n",
       "      <td>21000.0</td>\n",
       "      <td>0.0</td>\n",
       "    </tr>\n",
       "    <tr>\n",
       "      <th>3</th>\n",
       "      <td>0.0</td>\n",
       "      <td>21.0</td>\n",
       "      <td>41700.0</td>\n",
       "      <td>2.0</td>\n",
       "    </tr>\n",
       "    <tr>\n",
       "      <th>4</th>\n",
       "      <td>1.0</td>\n",
       "      <td>28.0</td>\n",
       "      <td>26100.0</td>\n",
       "      <td>0.0</td>\n",
       "    </tr>\n",
       "  </tbody>\n",
       "</table>\n",
       "</div>"
      ],
      "text/plain": [
       "   gender   age   income  family_members\n",
       "0     1.0  41.0  49600.0             1.0\n",
       "1     0.0  46.0  38000.0             1.0\n",
       "2     0.0  29.0  21000.0             0.0\n",
       "3     0.0  21.0  41700.0             2.0\n",
       "4     1.0  28.0  26100.0             0.0"
      ]
     },
     "execution_count": 41,
     "metadata": {},
     "output_type": "execute_result"
    }
   ],
   "source": [
    "# mengambil beberapa sampel dataset\n",
    "pd.DataFrame(X,columns=personal_info_column_list).head()"
   ]
  },
  {
   "cell_type": "code",
   "execution_count": 42,
   "metadata": {},
   "outputs": [
    {
     "data": {
      "text/html": [
       "<div>\n",
       "<style scoped>\n",
       "    .dataframe tbody tr th:only-of-type {\n",
       "        vertical-align: middle;\n",
       "    }\n",
       "\n",
       "    .dataframe tbody tr th {\n",
       "        vertical-align: top;\n",
       "    }\n",
       "\n",
       "    .dataframe thead th {\n",
       "        text-align: right;\n",
       "    }\n",
       "</style>\n",
       "<table border=\"1\" class=\"dataframe\">\n",
       "  <thead>\n",
       "    <tr style=\"text-align: right;\">\n",
       "      <th></th>\n",
       "      <th>gender</th>\n",
       "      <th>age</th>\n",
       "      <th>income</th>\n",
       "      <th>family_members</th>\n",
       "    </tr>\n",
       "  </thead>\n",
       "  <tbody>\n",
       "    <tr>\n",
       "      <th>0</th>\n",
       "      <td>6359.715273</td>\n",
       "      <td>22380.404676</td>\n",
       "      <td>18424.090742</td>\n",
       "      <td>46000.696690</td>\n",
       "    </tr>\n",
       "    <tr>\n",
       "      <th>1</th>\n",
       "      <td>4873.294065</td>\n",
       "      <td>17160.367030</td>\n",
       "      <td>14125.780761</td>\n",
       "      <td>35253.455773</td>\n",
       "    </tr>\n",
       "    <tr>\n",
       "      <th>2</th>\n",
       "      <td>2693.117429</td>\n",
       "      <td>9486.397744</td>\n",
       "      <td>7808.831560</td>\n",
       "      <td>19484.860631</td>\n",
       "    </tr>\n",
       "    <tr>\n",
       "      <th>3</th>\n",
       "      <td>5345.603937</td>\n",
       "      <td>18803.227203</td>\n",
       "      <td>15479.148373</td>\n",
       "      <td>38663.061863</td>\n",
       "    </tr>\n",
       "    <tr>\n",
       "      <th>4</th>\n",
       "      <td>3347.176735</td>\n",
       "      <td>11782.829283</td>\n",
       "      <td>9699.998942</td>\n",
       "      <td>24211.273378</td>\n",
       "    </tr>\n",
       "  </tbody>\n",
       "</table>\n",
       "</div>"
      ],
      "text/plain": [
       "        gender           age        income  family_members\n",
       "0  6359.715273  22380.404676  18424.090742    46000.696690\n",
       "1  4873.294065  17160.367030  14125.780761    35253.455773\n",
       "2  2693.117429   9486.397744   7808.831560    19484.860631\n",
       "3  5345.603937  18803.227203  15479.148373    38663.061863\n",
       "4  3347.176735  11782.829283   9699.998942    24211.273378"
      ]
     },
     "execution_count": 42,
     "metadata": {},
     "output_type": "execute_result"
    }
   ],
   "source": [
    "# mentransformasikan dataset menggunakan matriks P\n",
    "X_trans = X.dot(P)\n",
    "pd.DataFrame(X_trans,columns=personal_info_column_list).head()"
   ]
  },
  {
   "cell_type": "code",
   "execution_count": 43,
   "metadata": {},
   "outputs": [
    {
     "data": {
      "text/html": [
       "<div>\n",
       "<style scoped>\n",
       "    .dataframe tbody tr th:only-of-type {\n",
       "        vertical-align: middle;\n",
       "    }\n",
       "\n",
       "    .dataframe tbody tr th {\n",
       "        vertical-align: top;\n",
       "    }\n",
       "\n",
       "    .dataframe thead th {\n",
       "        text-align: right;\n",
       "    }\n",
       "</style>\n",
       "<table border=\"1\" class=\"dataframe\">\n",
       "  <thead>\n",
       "    <tr style=\"text-align: right;\">\n",
       "      <th></th>\n",
       "      <th>gender</th>\n",
       "      <th>age</th>\n",
       "      <th>income</th>\n",
       "      <th>family_members</th>\n",
       "    </tr>\n",
       "  </thead>\n",
       "  <tbody>\n",
       "    <tr>\n",
       "      <th>0</th>\n",
       "      <td>1.000000e+00</td>\n",
       "      <td>41.0</td>\n",
       "      <td>49600.0</td>\n",
       "      <td>1.000000e+00</td>\n",
       "    </tr>\n",
       "    <tr>\n",
       "      <th>1</th>\n",
       "      <td>1.679528e-12</td>\n",
       "      <td>46.0</td>\n",
       "      <td>38000.0</td>\n",
       "      <td>1.000000e+00</td>\n",
       "    </tr>\n",
       "    <tr>\n",
       "      <th>2</th>\n",
       "      <td>-6.230214e-13</td>\n",
       "      <td>29.0</td>\n",
       "      <td>21000.0</td>\n",
       "      <td>-2.030327e-13</td>\n",
       "    </tr>\n",
       "    <tr>\n",
       "      <th>3</th>\n",
       "      <td>-1.089078e-12</td>\n",
       "      <td>21.0</td>\n",
       "      <td>41700.0</td>\n",
       "      <td>2.000000e+00</td>\n",
       "    </tr>\n",
       "    <tr>\n",
       "      <th>4</th>\n",
       "      <td>1.000000e+00</td>\n",
       "      <td>28.0</td>\n",
       "      <td>26100.0</td>\n",
       "      <td>-1.524242e-12</td>\n",
       "    </tr>\n",
       "  </tbody>\n",
       "</table>\n",
       "</div>"
      ],
      "text/plain": [
       "         gender   age   income  family_members\n",
       "0  1.000000e+00  41.0  49600.0    1.000000e+00\n",
       "1  1.679528e-12  46.0  38000.0    1.000000e+00\n",
       "2 -6.230214e-13  29.0  21000.0   -2.030327e-13\n",
       "3 -1.089078e-12  21.0  41700.0    2.000000e+00\n",
       "4  1.000000e+00  28.0  26100.0   -1.524242e-12"
      ]
     },
     "execution_count": 43,
     "metadata": {},
     "output_type": "execute_result"
    }
   ],
   "source": [
    "# mengembalikan nilai semula dari hasil transformasi\n",
    "X_reverse = X_trans.dot(inv_P)\n",
    "pd.DataFrame(X_reverse,columns=personal_info_column_list).head()"
   ]
  },
  {
   "cell_type": "markdown",
   "metadata": {},
   "source": [
    "Dari hasil menunjukan bahwa kita bisa melakukan transformasi fitur menggunakan matriks $P$ dan mengembalikanya kesemula dari hasil transformasi dengan syarat matriks $P$ *invertible*. Hasil terlihat tidak menunjukan sama persis dikarenakan invers $P$ menghasilkan bilangan pecahan yang sangat kecil."
   ]
  },
  {
   "cell_type": "markdown",
   "metadata": {},
   "source": [
    "##  Pengaburan Data Bisa Bekerja dengan Model Regresi Linier "
   ]
  },
  {
   "cell_type": "markdown",
   "metadata": {},
   "source": [
    "Tugas regresi pada proyek ini telah diselesaikan dengan regresi linier. Tugas selanjutnya adalah untuk membuktikan secara analitis bahwa metode pengaburan data tertentu tidak akan memengaruhi prediksi nilai regresi linier - nilai-nilai prediksi tersebut tidak akan berubah dari hasil awalnya."
   ]
  },
  {
   "cell_type": "markdown",
   "metadata": {},
   "source": [
    "Jadi, data yang ada telah dikaburkan dan sekarang terdapat $X \\times P$ alih-alih hanya $X$. Akibatnya, ada bobot lain $w_P$ sebagai\n",
    "$$\n",
    "w = (X^T X)^{-1} X^T y \\quad \\Rightarrow \\quad w_P = [(XP)^T XP]^{-1} (XP)^T y\n",
    "$$\n",
    "\n",
    "Kita akan menghubungkan $w$ dan $w_P$ jika menyederhanakan rumus untuk $w_P$ di atas seperti berikut:"
   ]
  },
  {
   "cell_type": "markdown",
   "metadata": {},
   "source": [
    "Hubungan antara $w$ dengan $w_P$:\n",
    "$$\n",
    "w_P = \\frac{w}{P}\n",
    "$$\n",
    "Proses transformasi dataset tidak mempengaruhi perhitungan skor `RMSE` atau `R2`."
   ]
  },
  {
   "cell_type": "markdown",
   "metadata": {},
   "source": [
    "**Bukti analitis**"
   ]
  },
  {
   "cell_type": "markdown",
   "metadata": {},
   "source": [
    "$$\n",
    "\\begin{aligned}\n",
    "w_P &= [(XP)^T XP]^{-1} (XP)^Ty\\\\\n",
    "w_P &= [X^TP^TXP]^{-1} X^TP^Ty\\\\\n",
    "w_P &= [X^TX]^{-1}[P^TP]^{-1} X^TP^Ty\\\\\n",
    "w_P &= [P^TP]^{-1}P^T[X^TX]^{-1}X^Ty\\\\\n",
    "w_P &= \\frac{P^T}{P^TP}[X^T X]^{-1} X^T y\\\\\n",
    "w_P &= \\frac{1}{P}[X^T X]^{-1} X^T y\\\\\n",
    "\\end{aligned}\n",
    "$$\n",
    "Jika $w = [X^T X]^{-1} X^T y$, maka $w_P$ akan menjadi:\n",
    "$$\n",
    "w_P = \\frac{w}{P}\n",
    "$$\n",
    "Jika $w_P$ dimasukan kedalam RMSE akan menjadi:\n",
    "$$\n",
    "\\begin{aligned}\n",
    "w_p &= \\frac{y}{X_{(p)}} \\\\[4ex]\n",
    "\\hat{y} &= X_{val(p)}w_p\\\\[2ex]\n",
    "RMSE &= \\sqrt{\\frac{1}{N} \\sum_{i=1}^{N} (y_i - \\hat{y}_i)^2}\\\\[5ex]\n",
    "RMSE &= \\sqrt{\\frac{1}{N} \\sum_{i=1}^{N} (y_{i(w_P)} - \\hat{y}_{i(w_P)})^2}\n",
    "\\end{aligned}\n",
    "$$\n",
    "`RMSE` tidak akan berpengaruh karena hanya menghitung selisih hasil `true` $y_i$ dan hasil `predict` $\\hat{y}_i$ berdasarkan data yang sudah ditransformasikan $P$."
   ]
  },
  {
   "cell_type": "markdown",
   "metadata": {},
   "source": [
    "# Uji Regresi Linear dengan Pengaburan Data <a id='cont_15'></a>"
   ]
  },
  {
   "cell_type": "markdown",
   "metadata": {},
   "source": [
    "Apakah benar dengan `pengaburan data` kita bisa membuat skor `model tetap sama` dengan `tanpa pengaburan data`? Mari kita buktikan kalau `Regresi Linier` dapat bekerja secara komputasi dengan transformasi pengaburan yang dipilih. Berikut ini merupakan langkah-langkah pembuktian:\n",
    "\n",
    "- Membuat matriks persegi $P$ dari angka acak.\n",
    "- Memeriksa apakah matriks tersebut *invertible*. Jika tidak, ulangi dari langkah pertama sampai kita mendapatkan matriks yang bisa dibalik (*invertible*).\n",
    "- Membagi dataset menjadi fitur dan target.\n",
    "- Menggunakan fitur yang sudah ditransformasi $XP$ sebagai matriks fitur baru.\n",
    "- Melakukan pengujian skor `RMSE` dan `R2` linier regresi untuk fitur asli dan fitur transformasi."
   ]
  },
  {
   "cell_type": "markdown",
   "metadata": {},
   "source": [
    "### Matriks Acak"
   ]
  },
  {
   "cell_type": "markdown",
   "metadata": {},
   "source": [
    "Membuat matriks acak $P_{new}$."
   ]
  },
  {
   "cell_type": "code",
   "execution_count": 44,
   "metadata": {},
   "outputs": [
    {
     "data": {
      "text/plain": [
       "array([[19, 10,  3, 11],\n",
       "       [ 5,  4, 13,  7],\n",
       "       [12, 15, 10, 14],\n",
       "       [14,  1, 18, 14]])"
      ]
     },
     "execution_count": 44,
     "metadata": {},
     "output_type": "execute_result"
    }
   ],
   "source": [
    "# membuat matriks acak\n",
    "P_new = np.random.randint(1,20,(X.shape[1], X.shape[1]))\n",
    "P_new"
   ]
  },
  {
   "cell_type": "code",
   "execution_count": 45,
   "metadata": {},
   "outputs": [
    {
     "data": {
      "text/plain": [
       "array([[ 1., -0.,  0.,  0.],\n",
       "       [ 0.,  1., -0., -0.],\n",
       "       [ 0.,  0.,  1., -0.],\n",
       "       [ 0.,  0., -0.,  1.]])"
      ]
     },
     "execution_count": 45,
     "metadata": {},
     "output_type": "execute_result"
    }
   ],
   "source": [
    "# pengujian matriks acak apakah invertible atau tidak\n",
    "inv_P_new = np.linalg.inv(P_new)\n",
    "I = np.around(P_new.dot(inv_P_new))\n",
    "I"
   ]
  },
  {
   "cell_type": "markdown",
   "metadata": {},
   "source": [
    "Matriks acak $P_{new}$ merupakan matriks *invertible*."
   ]
  },
  {
   "cell_type": "markdown",
   "metadata": {},
   "source": [
    "### Skor RMSE dan R2 Menggunakan Fitur Asli <a id='cont_16'></a>"
   ]
  },
  {
   "cell_type": "code",
   "execution_count": 46,
   "metadata": {},
   "outputs": [
    {
     "name": "stdout",
     "output_type": "stream",
     "text": [
      "[ 3.57495491e-02  1.64272726e-02 -2.60743659e-07 -1.16902127e-02]\n",
      "RMSE: 0.34\n",
      "R2: 0.66\n"
     ]
    }
   ],
   "source": [
    "# menghitung skor RMSE dan R2 menggunakan fitur asli\n",
    "X = df[['age', 'gender', 'income', 'family_members']].to_numpy()\n",
    "y = df['insurance_benefits'].to_numpy()\n",
    "\n",
    "X_train, X_test, y_train, y_test = train_test_split(X, y, test_size=0.3, random_state=12345)\n",
    "\n",
    "lr = MyLinearRegression()\n",
    "\n",
    "lr.fit(X_train, y_train)\n",
    "print(lr.weights)\n",
    "\n",
    "y_test_pred = lr.predict(X_test)\n",
    "eval_regressor(y_test, y_test_pred)"
   ]
  },
  {
   "cell_type": "markdown",
   "metadata": {},
   "source": [
    "### Skor RMSE dan R2 Menggunakan Fitur Transformasi <a id='cont_17'></a>"
   ]
  },
  {
   "cell_type": "code",
   "execution_count": 47,
   "metadata": {},
   "outputs": [
    {
     "data": {
      "text/plain": [
       "array([[595998., 744415., 496154., 694872.],\n",
       "       [456888., 570461., 380156., 532520.],\n",
       "       [252551., 315290., 210087., 294319.],\n",
       "       ...,\n",
       "       [407208., 508702., 339096., 474848.],\n",
       "       [392865., 490727., 327133., 458091.],\n",
       "       [487751., 609285., 406115., 568729.]])"
      ]
     },
     "execution_count": 47,
     "metadata": {},
     "output_type": "execute_result"
    }
   ],
   "source": [
    "# transformasi fitur\n",
    "X_transform = X.dot(P_new)\n",
    "X_transform"
   ]
  },
  {
   "cell_type": "code",
   "execution_count": 48,
   "metadata": {},
   "outputs": [
    {
     "name": "stdout",
     "output_type": "stream",
     "text": [
      "[ 0.00716143  0.00472391  0.00501525 -0.01478204]\n",
      "RMSE: 0.34\n",
      "R2: 0.66\n"
     ]
    }
   ],
   "source": [
    "# menghitung skor RMSE dan R2 menggunakan fitur transformasi\n",
    "X_train, X_test, y_train, y_test = train_test_split(X_transform, y, test_size=0.3, random_state=12345)\n",
    "\n",
    "lr = MyLinearRegression()\n",
    "\n",
    "lr.fit(X_train, y_train)\n",
    "print(lr.weights)\n",
    "\n",
    "y_test_pred = lr.predict(X_test)\n",
    "eval_regressor(y_test, y_test_pred)"
   ]
  },
  {
   "cell_type": "markdown",
   "metadata": {},
   "source": [
    "Hasil menunjukan bahwa setelah dilakukan transformasi pada fitur menggunakan matriks acak `P` yang invertible, tidak ada perbedaan skor `RMSE` dan `R2` baik untuk `fitur asli` maupun `fitur transformasi`."
   ]
  },
  {
   "cell_type": "markdown",
   "metadata": {},
   "source": [
    "# Kesimpulan <a id='cont_18'></a>"
   ]
  },
  {
   "cell_type": "markdown",
   "metadata": {},
   "source": [
    "Projek ini merupakan kombinasi antara `kasus klasifikasi` dan `kasus regresi` dimana kita akan mengetahui beberapa parameter yang berpengaruh terhadap skor seperti pada `kasus klasifikasi`, metrik `F1 skor` terhadap parameter model `K-Nearest Neighbor`. Pada `kasus regresi` kita melakukan pengaburan fitur dimana fitur ditransformasikan menggunakan matriks `P` yang invertible apakah akan mempengaruhi skor `RMSE` dan `R2`. Kita juga melakukan `reverse fitur` untuk mengembalikan nilai sesungguhnya dari `transform fitur`. Beberapa kesimpulan dirangkum sebagai berikut:\n",
    "- Perhitungan menggunakan `metrik euklides` antara dataset `original` dan dataset `scaling`, bahwa pada dataset `scaling` memberikan jarak yang lebih dekat jika dibandingkan dengan dataset `original`. Visualiasi juga mendukung dimana untuk dataset `scaling`, data lebih sering berkumpul dan jaraknya pendek jika dibandingkan dengan dataset `original`. \n",
    "- Tidak ada perbedaan jarak `(distance)` bahkan sama persis jika menggunakan metrik `euklides` maupun metrik `manhattan`.\n",
    "- Model `KNN Classifier` memberikan hasil `F1 Score` yang lebih baik jika dibandingkan dengan menggunakan model `dummy`.\n",
    "- Dataset `scaling` memberikan hasil `F1 Score` yang lebih baik dibandingkan dengan dataset `original`. \n",
    "- Semakin banyak jumlah `k-neighbors` semakin rendah `F1 Score` pada dataset `original` sedangkan pada dataset `scaling` tidak berpengaruh terhadap jumlah `k-neighbors`.\n",
    "- Skor `RMSE` dan `R2` tidak berpengaruh terhadap model `regresi linier` untuk dataset `original` maupun `scaling`. Untuk nilai `predictors/weight` menunjukan perbedaan jika menggunakan dataset `original` atau dataset `scaling`.\n",
    "- Dari hasil menunjukan bahwa kita bisa melakukan transformasi fitur menggunakan matriks `P` dan mengembalikanya kesemula dari hasil transformasi dengan syarat matriks `P` invertible.\n",
    "- Proses transformasi pada fitur menggunakan matriks acak `P` yang invertible, tidak ada perbedaan skor `RMSE` dan `R2` baik untuk `fitur asli` maupun `fitur transformasi`."
   ]
  }
 ],
 "metadata": {
  "kernelspec": {
   "display_name": "Python 3 (ipykernel)",
   "language": "python",
   "name": "python3"
  },
  "language_info": {
   "codemirror_mode": {
    "name": "ipython",
    "version": 3
   },
   "file_extension": ".py",
   "mimetype": "text/x-python",
   "name": "python",
   "nbconvert_exporter": "python",
   "pygments_lexer": "ipython3",
   "version": "3.11.4"
  },
  "toc": {
   "base_numbering": 1,
   "nav_menu": {},
   "number_sections": true,
   "sideBar": true,
   "skip_h1_title": true,
   "title_cell": "Table of Contents",
   "title_sidebar": "Contents",
   "toc_cell": false,
   "toc_position": {},
   "toc_section_display": true,
   "toc_window_display": false
  }
 },
 "nbformat": 4,
 "nbformat_minor": 4
}
