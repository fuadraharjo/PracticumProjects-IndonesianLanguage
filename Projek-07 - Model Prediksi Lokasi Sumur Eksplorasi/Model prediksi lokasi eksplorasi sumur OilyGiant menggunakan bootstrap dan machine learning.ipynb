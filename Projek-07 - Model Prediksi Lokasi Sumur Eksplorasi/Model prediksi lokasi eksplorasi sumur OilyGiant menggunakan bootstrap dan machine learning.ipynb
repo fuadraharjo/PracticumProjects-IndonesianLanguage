{
 "cells": [
  {
   "attachments": {},
   "cell_type": "markdown",
   "metadata": {},
   "source": [
    "# Model Prediksi Lokasi Eksplorasi Sumur OilyGiant Menggunakan Bootstrap dan Machine Learning <a id='intro'></a>"
   ]
  },
  {
   "attachments": {},
   "cell_type": "markdown",
   "metadata": {},
   "source": [
    "Sebuah perusahaan bernama `OilyGiant` ingin melakukan eksplorasi minyak untuk tiga wilayah. Kita diminta untuk menentukan lokasi mana yang cocok untuk dilakukan eksplorasi dengan memperhatikan aspek bisnis mereka agar tidak mengalami/mengurangi potensi kerugian dengan ambang batas risiko dibawah `2.5%` serta memperoleh laba yang tinggi. `OilyGiant` memiliki modal sebsar `100 Juta USD` dengan harga `per barel` minyak sebesar `4.5 USD`. \n",
    "\n",
    "Dataset yang berasal dari `OilyGiant` memiliki beberapa variabel yang mempengaruhi `kandungan minyak`. Kita akan membuat `model machine learning` yang mampu memprediksi lokasi dengan `kandungan minyak` paling tinggi. Kemudian dilanjutkan dengan analisis `keuntungan/margin profit` dan analisis `risiko` dengan teknik `bootstrapping`. Beberapa tujuan dan rumusan masalah untuk projek ini diantaranya: \n",
    "1. Kriteria seperti apa agar perusahaan `OilyGiant` tidak mengalami kerugian?\n",
    "2. Bagaimana performa `model machine learning` terhadap dataset?\n",
    "3. Wilayah mana yang cocok dijadikan lokasi `200 titik` explorasi sumur?\n",
    "4. Seberapa besar rata-rata `profit margin` untuk lokasi yang terpilih menggunakan teknik `bootstrapping`?\n",
    "5. Berapa `selang kepercercayaan` untuk lokasi tersebut dengan `tingkat keyakinan 95%`?"
   ]
  },
  {
   "attachments": {},
   "cell_type": "markdown",
   "metadata": {},
   "source": [
    "# Konten <a id='back'></a>\n",
    "\n",
    "* [Pendahuluan](#intro)\n",
    "* [Konten](#back)\n",
    "* [Tahap 1. Pra-pemrosesan Data](#cont_1)\n",
    "    * [1.1 Inisialisasi Library](#cont_2) \n",
    "    * [1.2 Memuat Dataset dan Menampilkan Informasi](#cont_3)\n",
    "    * [1.3 Mengecek Nilai yang Hilang](#cont_4) \n",
    "    * [1.4 Mengecek Dupliasi Dataset](#cont_5) \n",
    "* [Tahap 2. Analisis Data Eksploratif (EDA)](#cont_6)\n",
    "    * [2.1 Analisis Boxplot Kandungan Minyak](#cont_7) \n",
    "    * [2.2 Tabel Korelasi](#cont_8) \n",
    "* [Tahap 3. Machine Learning untuk Mendapatkan Lokasi Minyak Terbaik](#cont_9)\n",
    "    * [3.1 Membagi Dataset](#cont_10) \n",
    "    * [3.2 Menghitung Metrik Machine Learning](#cont_11) \n",
    "    * [3.3 Variabel Penting Bisnis](#cont_12) \n",
    "    * [3.4 Estimasi Margin Profit](#cont_13) \n",
    "        * [3.4.1 Margin Profit Tanpa Teknik Bootstrap](#cont_14) \n",
    "        * [3.4.2 Margin Profit Menggunakan Teknik Bootstrap](#cont_15) \n",
    "    * [3.5 Selang Kepercayaan dan Risiko untuk Bootstrap Margin Profit](#cont_16) \n",
    "* [Tahap 4. Kesimpulan Umum](#cont_17)"
   ]
  },
  {
   "attachments": {},
   "cell_type": "markdown",
   "metadata": {},
   "source": [
    "# Pra-pemrosesan Data <a id='cont_1'></a>"
   ]
  },
  {
   "attachments": {},
   "cell_type": "markdown",
   "metadata": {},
   "source": [
    "Tahap pertama yang perlu dilakukan adalah mempersiapkan dataset mulai dari `memuat library` yang diperlukan, `memuat semua dataset kedalam projek`, `mengecek sampel data`, `mengecek nilai yang hilang` dan `mengecek duplikat`."
   ]
  },
  {
   "attachments": {},
   "cell_type": "markdown",
   "metadata": {},
   "source": [
    "## Inisialisasi Library <a id='cont_2'></a>"
   ]
  },
  {
   "attachments": {},
   "cell_type": "markdown",
   "metadata": {},
   "source": [
    "Selanjutnya kita akan memuat library yang diperlukan. Disini kita membutuhkan beberapa library yaitu `pandas` untuk mengolah dataset, `numpy` untuk keperluan numerik, `seaborn` dan `matplotlib` untuk visualisasi data serta `scikit learn` untuk pemodelan `machine learning`. Mari kita muat library yang dibutuhkan."
   ]
  },
  {
   "cell_type": "code",
   "execution_count": 1,
   "metadata": {},
   "outputs": [],
   "source": [
    "# memuat library yang dibutuhkan\n",
    "import pandas as pd\n",
    "import numpy as np\n",
    "import seaborn as sns\n",
    "import matplotlib.pyplot as plt\n",
    "from sklearn.model_selection import train_test_split\n",
    "from sklearn.linear_model import LinearRegression\n",
    "from sklearn.metrics import mean_squared_error\n",
    "\n",
    "# set tema seaborn\n",
    "sns.set_theme(palette='bright')"
   ]
  },
  {
   "attachments": {},
   "cell_type": "markdown",
   "metadata": {},
   "source": [
    "## Memuat Dataset dan Menampilkan Informasi <a id='cont_3'></a>"
   ]
  },
  {
   "attachments": {},
   "cell_type": "markdown",
   "metadata": {},
   "source": [
    "Dataset terdiri dari tiga macam yang mewakilkan setiap wilayah yang memiliki potensi sumber minyak beserta parameter-parameter lainya."
   ]
  },
  {
   "cell_type": "code",
   "execution_count": 2,
   "metadata": {},
   "outputs": [],
   "source": [
    "# memuat dataset geo_1\n",
    "try:\n",
    "    geo_df1 = pd.read_csv('geo_data_0.csv')\n",
    "except:\n",
    "    geo_df1 = pd.read_csv('/datasets/geo_data_0.csv')"
   ]
  },
  {
   "cell_type": "code",
   "execution_count": 3,
   "metadata": {},
   "outputs": [
    {
     "name": "stdout",
     "output_type": "stream",
     "text": [
      "<class 'pandas.core.frame.DataFrame'>\n",
      "RangeIndex: 100000 entries, 0 to 99999\n",
      "Data columns (total 5 columns):\n",
      " #   Column   Non-Null Count   Dtype  \n",
      "---  ------   --------------   -----  \n",
      " 0   id       100000 non-null  object \n",
      " 1   f0       100000 non-null  float64\n",
      " 2   f1       100000 non-null  float64\n",
      " 3   f2       100000 non-null  float64\n",
      " 4   product  100000 non-null  float64\n",
      "dtypes: float64(4), object(1)\n",
      "memory usage: 3.8+ MB\n",
      "None\n"
     ]
    },
    {
     "data": {
      "text/html": [
       "<div>\n",
       "<style scoped>\n",
       "    .dataframe tbody tr th:only-of-type {\n",
       "        vertical-align: middle;\n",
       "    }\n",
       "\n",
       "    .dataframe tbody tr th {\n",
       "        vertical-align: top;\n",
       "    }\n",
       "\n",
       "    .dataframe thead th {\n",
       "        text-align: right;\n",
       "    }\n",
       "</style>\n",
       "<table border=\"1\" class=\"dataframe\">\n",
       "  <thead>\n",
       "    <tr style=\"text-align: right;\">\n",
       "      <th></th>\n",
       "      <th>id</th>\n",
       "      <th>f0</th>\n",
       "      <th>f1</th>\n",
       "      <th>f2</th>\n",
       "      <th>product</th>\n",
       "    </tr>\n",
       "  </thead>\n",
       "  <tbody>\n",
       "    <tr>\n",
       "      <th>0</th>\n",
       "      <td>txEyH</td>\n",
       "      <td>0.705745</td>\n",
       "      <td>-0.497823</td>\n",
       "      <td>1.221170</td>\n",
       "      <td>105.280062</td>\n",
       "    </tr>\n",
       "    <tr>\n",
       "      <th>1</th>\n",
       "      <td>2acmU</td>\n",
       "      <td>1.334711</td>\n",
       "      <td>-0.340164</td>\n",
       "      <td>4.365080</td>\n",
       "      <td>73.037750</td>\n",
       "    </tr>\n",
       "    <tr>\n",
       "      <th>2</th>\n",
       "      <td>409Wp</td>\n",
       "      <td>1.022732</td>\n",
       "      <td>0.151990</td>\n",
       "      <td>1.419926</td>\n",
       "      <td>85.265647</td>\n",
       "    </tr>\n",
       "    <tr>\n",
       "      <th>3</th>\n",
       "      <td>iJLyR</td>\n",
       "      <td>-0.032172</td>\n",
       "      <td>0.139033</td>\n",
       "      <td>2.978566</td>\n",
       "      <td>168.620776</td>\n",
       "    </tr>\n",
       "    <tr>\n",
       "      <th>4</th>\n",
       "      <td>Xdl7t</td>\n",
       "      <td>1.988431</td>\n",
       "      <td>0.155413</td>\n",
       "      <td>4.751769</td>\n",
       "      <td>154.036647</td>\n",
       "    </tr>\n",
       "  </tbody>\n",
       "</table>\n",
       "</div>"
      ],
      "text/plain": [
       "      id        f0        f1        f2     product\n",
       "0  txEyH  0.705745 -0.497823  1.221170  105.280062\n",
       "1  2acmU  1.334711 -0.340164  4.365080   73.037750\n",
       "2  409Wp  1.022732  0.151990  1.419926   85.265647\n",
       "3  iJLyR -0.032172  0.139033  2.978566  168.620776\n",
       "4  Xdl7t  1.988431  0.155413  4.751769  154.036647"
      ]
     },
     "execution_count": 3,
     "metadata": {},
     "output_type": "execute_result"
    }
   ],
   "source": [
    "# memuat informasi dataset\n",
    "print(geo_df1.info())\n",
    "\n",
    "# menampilkan sampel dataset\n",
    "geo_df1.head()"
   ]
  },
  {
   "cell_type": "code",
   "execution_count": 4,
   "metadata": {},
   "outputs": [],
   "source": [
    "# memuat dataset geo_2\n",
    "try:\n",
    "    geo_df2 = pd.read_csv('geo_data_1.csv')\n",
    "except:\n",
    "    geo_df2 = pd.read_csv('/datasets/geo_data_1.csv')"
   ]
  },
  {
   "cell_type": "code",
   "execution_count": 5,
   "metadata": {},
   "outputs": [
    {
     "name": "stdout",
     "output_type": "stream",
     "text": [
      "<class 'pandas.core.frame.DataFrame'>\n",
      "RangeIndex: 100000 entries, 0 to 99999\n",
      "Data columns (total 5 columns):\n",
      " #   Column   Non-Null Count   Dtype  \n",
      "---  ------   --------------   -----  \n",
      " 0   id       100000 non-null  object \n",
      " 1   f0       100000 non-null  float64\n",
      " 2   f1       100000 non-null  float64\n",
      " 3   f2       100000 non-null  float64\n",
      " 4   product  100000 non-null  float64\n",
      "dtypes: float64(4), object(1)\n",
      "memory usage: 3.8+ MB\n",
      "None\n"
     ]
    },
    {
     "data": {
      "text/html": [
       "<div>\n",
       "<style scoped>\n",
       "    .dataframe tbody tr th:only-of-type {\n",
       "        vertical-align: middle;\n",
       "    }\n",
       "\n",
       "    .dataframe tbody tr th {\n",
       "        vertical-align: top;\n",
       "    }\n",
       "\n",
       "    .dataframe thead th {\n",
       "        text-align: right;\n",
       "    }\n",
       "</style>\n",
       "<table border=\"1\" class=\"dataframe\">\n",
       "  <thead>\n",
       "    <tr style=\"text-align: right;\">\n",
       "      <th></th>\n",
       "      <th>id</th>\n",
       "      <th>f0</th>\n",
       "      <th>f1</th>\n",
       "      <th>f2</th>\n",
       "      <th>product</th>\n",
       "    </tr>\n",
       "  </thead>\n",
       "  <tbody>\n",
       "    <tr>\n",
       "      <th>0</th>\n",
       "      <td>kBEdx</td>\n",
       "      <td>-15.001348</td>\n",
       "      <td>-8.276000</td>\n",
       "      <td>-0.005876</td>\n",
       "      <td>3.179103</td>\n",
       "    </tr>\n",
       "    <tr>\n",
       "      <th>1</th>\n",
       "      <td>62mP7</td>\n",
       "      <td>14.272088</td>\n",
       "      <td>-3.475083</td>\n",
       "      <td>0.999183</td>\n",
       "      <td>26.953261</td>\n",
       "    </tr>\n",
       "    <tr>\n",
       "      <th>2</th>\n",
       "      <td>vyE1P</td>\n",
       "      <td>6.263187</td>\n",
       "      <td>-5.948386</td>\n",
       "      <td>5.001160</td>\n",
       "      <td>134.766305</td>\n",
       "    </tr>\n",
       "    <tr>\n",
       "      <th>3</th>\n",
       "      <td>KcrkZ</td>\n",
       "      <td>-13.081196</td>\n",
       "      <td>-11.506057</td>\n",
       "      <td>4.999415</td>\n",
       "      <td>137.945408</td>\n",
       "    </tr>\n",
       "    <tr>\n",
       "      <th>4</th>\n",
       "      <td>AHL4O</td>\n",
       "      <td>12.702195</td>\n",
       "      <td>-8.147433</td>\n",
       "      <td>5.004363</td>\n",
       "      <td>134.766305</td>\n",
       "    </tr>\n",
       "  </tbody>\n",
       "</table>\n",
       "</div>"
      ],
      "text/plain": [
       "      id         f0         f1        f2     product\n",
       "0  kBEdx -15.001348  -8.276000 -0.005876    3.179103\n",
       "1  62mP7  14.272088  -3.475083  0.999183   26.953261\n",
       "2  vyE1P   6.263187  -5.948386  5.001160  134.766305\n",
       "3  KcrkZ -13.081196 -11.506057  4.999415  137.945408\n",
       "4  AHL4O  12.702195  -8.147433  5.004363  134.766305"
      ]
     },
     "execution_count": 5,
     "metadata": {},
     "output_type": "execute_result"
    }
   ],
   "source": [
    "# memuat informasi dataset\n",
    "print(geo_df2.info())\n",
    "\n",
    "# menampilkan sampel dataset\n",
    "geo_df2.head()"
   ]
  },
  {
   "cell_type": "code",
   "execution_count": 6,
   "metadata": {},
   "outputs": [],
   "source": [
    "# memuat dataset geo_3\n",
    "try:\n",
    "    geo_df3 = pd.read_csv('geo_data_2.csv')\n",
    "except:\n",
    "    geo_df3 = pd.read_csv('/datasets/geo_data_2.csv')"
   ]
  },
  {
   "cell_type": "code",
   "execution_count": 7,
   "metadata": {},
   "outputs": [
    {
     "name": "stdout",
     "output_type": "stream",
     "text": [
      "<class 'pandas.core.frame.DataFrame'>\n",
      "RangeIndex: 100000 entries, 0 to 99999\n",
      "Data columns (total 5 columns):\n",
      " #   Column   Non-Null Count   Dtype  \n",
      "---  ------   --------------   -----  \n",
      " 0   id       100000 non-null  object \n",
      " 1   f0       100000 non-null  float64\n",
      " 2   f1       100000 non-null  float64\n",
      " 3   f2       100000 non-null  float64\n",
      " 4   product  100000 non-null  float64\n",
      "dtypes: float64(4), object(1)\n",
      "memory usage: 3.8+ MB\n",
      "None\n"
     ]
    },
    {
     "data": {
      "text/html": [
       "<div>\n",
       "<style scoped>\n",
       "    .dataframe tbody tr th:only-of-type {\n",
       "        vertical-align: middle;\n",
       "    }\n",
       "\n",
       "    .dataframe tbody tr th {\n",
       "        vertical-align: top;\n",
       "    }\n",
       "\n",
       "    .dataframe thead th {\n",
       "        text-align: right;\n",
       "    }\n",
       "</style>\n",
       "<table border=\"1\" class=\"dataframe\">\n",
       "  <thead>\n",
       "    <tr style=\"text-align: right;\">\n",
       "      <th></th>\n",
       "      <th>id</th>\n",
       "      <th>f0</th>\n",
       "      <th>f1</th>\n",
       "      <th>f2</th>\n",
       "      <th>product</th>\n",
       "    </tr>\n",
       "  </thead>\n",
       "  <tbody>\n",
       "    <tr>\n",
       "      <th>0</th>\n",
       "      <td>fwXo0</td>\n",
       "      <td>-1.146987</td>\n",
       "      <td>0.963328</td>\n",
       "      <td>-0.828965</td>\n",
       "      <td>27.758673</td>\n",
       "    </tr>\n",
       "    <tr>\n",
       "      <th>1</th>\n",
       "      <td>WJtFt</td>\n",
       "      <td>0.262778</td>\n",
       "      <td>0.269839</td>\n",
       "      <td>-2.530187</td>\n",
       "      <td>56.069697</td>\n",
       "    </tr>\n",
       "    <tr>\n",
       "      <th>2</th>\n",
       "      <td>ovLUW</td>\n",
       "      <td>0.194587</td>\n",
       "      <td>0.289035</td>\n",
       "      <td>-5.586433</td>\n",
       "      <td>62.871910</td>\n",
       "    </tr>\n",
       "    <tr>\n",
       "      <th>3</th>\n",
       "      <td>q6cA6</td>\n",
       "      <td>2.236060</td>\n",
       "      <td>-0.553760</td>\n",
       "      <td>0.930038</td>\n",
       "      <td>114.572842</td>\n",
       "    </tr>\n",
       "    <tr>\n",
       "      <th>4</th>\n",
       "      <td>WPMUX</td>\n",
       "      <td>-0.515993</td>\n",
       "      <td>1.716266</td>\n",
       "      <td>5.899011</td>\n",
       "      <td>149.600746</td>\n",
       "    </tr>\n",
       "  </tbody>\n",
       "</table>\n",
       "</div>"
      ],
      "text/plain": [
       "      id        f0        f1        f2     product\n",
       "0  fwXo0 -1.146987  0.963328 -0.828965   27.758673\n",
       "1  WJtFt  0.262778  0.269839 -2.530187   56.069697\n",
       "2  ovLUW  0.194587  0.289035 -5.586433   62.871910\n",
       "3  q6cA6  2.236060 -0.553760  0.930038  114.572842\n",
       "4  WPMUX -0.515993  1.716266  5.899011  149.600746"
      ]
     },
     "execution_count": 7,
     "metadata": {},
     "output_type": "execute_result"
    }
   ],
   "source": [
    "# memuat informasi dataset\n",
    "print(geo_df3.info())\n",
    "\n",
    "# menampilkan sampel dataset\n",
    "geo_df3.head()"
   ]
  },
  {
   "attachments": {},
   "cell_type": "markdown",
   "metadata": {},
   "source": [
    "Terapat `100000 baris` dan `4 kolom` disetiap dataset wilayah/region. Berikut ini penjelasan masing-masing kolom:\n",
    "- Kolom `id` merupakan kode unik yang mewakili lokasi sumur minyak\n",
    "- Kolom `f0, f1, f2` merupakan tiga fitur titik (makna spesifiknya tidak penting, tetapi fitur itu sendiri signifikan)\n",
    "- Kolom `product` merupakan volume cadangan minyak di lokasi sumur dalam satuan ribuan barel."
   ]
  },
  {
   "attachments": {},
   "cell_type": "markdown",
   "metadata": {},
   "source": [
    "## Mengecek Nilai yang Hilang <a id='cont_4'></a>"
   ]
  },
  {
   "cell_type": "code",
   "execution_count": 8,
   "metadata": {},
   "outputs": [
    {
     "data": {
      "text/plain": [
       "id         0\n",
       "f0         0\n",
       "f1         0\n",
       "f2         0\n",
       "product    0\n",
       "dtype: int64"
      ]
     },
     "execution_count": 8,
     "metadata": {},
     "output_type": "execute_result"
    }
   ],
   "source": [
    "# mengecek nilai yang hilang geo_1\n",
    "geo_df1.isna().sum()"
   ]
  },
  {
   "cell_type": "code",
   "execution_count": 9,
   "metadata": {},
   "outputs": [
    {
     "data": {
      "text/plain": [
       "id         0\n",
       "f0         0\n",
       "f1         0\n",
       "f2         0\n",
       "product    0\n",
       "dtype: int64"
      ]
     },
     "execution_count": 9,
     "metadata": {},
     "output_type": "execute_result"
    }
   ],
   "source": [
    "# mengecek nilai yang hilang geo_2\n",
    "geo_df2.isna().sum()"
   ]
  },
  {
   "cell_type": "code",
   "execution_count": 10,
   "metadata": {},
   "outputs": [
    {
     "data": {
      "text/plain": [
       "id         0\n",
       "f0         0\n",
       "f1         0\n",
       "f2         0\n",
       "product    0\n",
       "dtype: int64"
      ]
     },
     "execution_count": 10,
     "metadata": {},
     "output_type": "execute_result"
    }
   ],
   "source": [
    "# mengecek nilai yang hilang geo_3\n",
    "geo_df3.isna().sum()"
   ]
  },
  {
   "attachments": {},
   "cell_type": "markdown",
   "metadata": {},
   "source": [
    "Disini kita tidak memiliki satupun `nilai yang hilang` disetiap dataset."
   ]
  },
  {
   "attachments": {},
   "cell_type": "markdown",
   "metadata": {},
   "source": [
    "## Mengecek Dupliasi Dataset <a id='cont_5'></a>"
   ]
  },
  {
   "cell_type": "code",
   "execution_count": 11,
   "metadata": {},
   "outputs": [
    {
     "name": "stdout",
     "output_type": "stream",
     "text": [
      "Dataset Region-1 --> 0 duplikat\n",
      "Dataset Region-2 --> 0 duplikat\n",
      "Dataset Region-3 --> 0 duplikat\n"
     ]
    }
   ],
   "source": [
    "# mengecek duplikat dataset\n",
    "print('Dataset Region-1 -->',geo_df1.duplicated().sum(),'duplikat')\n",
    "print('Dataset Region-2 -->',geo_df2.duplicated().sum(),'duplikat')\n",
    "print('Dataset Region-3 -->',geo_df3.duplicated().sum(),'duplikat')"
   ]
  },
  {
   "attachments": {},
   "cell_type": "markdown",
   "metadata": {},
   "source": [
    "Disini kita tidak memiliki satupun `dupliasi data` disetiap dataset."
   ]
  },
  {
   "attachments": {},
   "cell_type": "markdown",
   "metadata": {},
   "source": [
    "# Analisis Data Eksploratif (EDA) <a id='cont_6'></a>"
   ]
  },
  {
   "attachments": {},
   "cell_type": "markdown",
   "metadata": {},
   "source": [
    "Selanjutnya kita akan mengeksploarasi data seperti membuat `boxplot` untuk melihat kandungan `minyak` disetiap wilayah serta membuat `tabel korelasi`. "
   ]
  },
  {
   "attachments": {},
   "cell_type": "markdown",
   "metadata": {},
   "source": [
    "## Analisis Boxplot Kandungan Minyak <a id='cont_7'></a>"
   ]
  },
  {
   "cell_type": "code",
   "execution_count": 12,
   "metadata": {},
   "outputs": [
    {
     "data": {
      "image/png": "[encoded data removed]",
      "text/plain": [
       "<Figure size 640x480 with 1 Axes>"
      ]
     },
     "metadata": {},
     "output_type": "display_data"
    }
   ],
   "source": [
    "# menggabungkan kolom `product` dari masing-masing dataset\n",
    "product = pd.concat([geo_df1['product'],geo_df2['product'],geo_df3['product']],axis=1)\n",
    "product.columns = ['Region-1','Region-2','Region-3']\n",
    "\n",
    "# membuat boxplot\n",
    "sns.boxplot(product)\n",
    "plt.title('Volume Distribution of Location')\n",
    "plt.ylabel('Volume in Thousand of Barrels')\n",
    "plt.xlabel('Dataset')\n",
    "\n",
    "# menampilkan boxplot\n",
    "plt.show()"
   ]
  },
  {
   "attachments": {},
   "cell_type": "markdown",
   "metadata": {},
   "source": [
    "Bisa kita lihat sekilas bahwa `Region-3` nampak memiliki kandungan yang paling banyak dibandingkan wilayah lainya. Sedangkan yang paling rendah kandungan minyak berada di `Region-2`."
   ]
  },
  {
   "attachments": {},
   "cell_type": "markdown",
   "metadata": {},
   "source": [
    "## Tabel Korelasi <a id='cont_8'></a>"
   ]
  },
  {
   "cell_type": "code",
   "execution_count": 13,
   "metadata": {},
   "outputs": [
    {
     "data": {
      "image/png": "[encoded data removed]",
      "text/plain": [
       "<Figure size 640x480 with 2 Axes>"
      ]
     },
     "metadata": {},
     "output_type": "display_data"
    }
   ],
   "source": [
    "# membuat tabel korelasi antar variabel pada dataset `geo_1`\n",
    "corr_tab1 = geo_df1.select_dtypes(exclude='object').corr()\n",
    "sns.heatmap(corr_tab1,annot=True,cmap='viridis').set_title('Region-1')\n",
    "plt.show()"
   ]
  },
  {
   "cell_type": "code",
   "execution_count": 14,
   "metadata": {},
   "outputs": [
    {
     "data": {
      "image/png": "[encoded data removed]",
      "text/plain": [
       "<Figure size 640x480 with 2 Axes>"
      ]
     },
     "metadata": {},
     "output_type": "display_data"
    }
   ],
   "source": [
    "# membuat tabel korelasi antar variabel pada dataset `geo_2`\n",
    "corr_tab2 = geo_df2.select_dtypes(exclude='object').corr()\n",
    "sns.heatmap(corr_tab2,annot=True,cmap='inferno').set_title('Region-2')\n",
    "plt.show()"
   ]
  },
  {
   "cell_type": "code",
   "execution_count": 15,
   "metadata": {},
   "outputs": [
    {
     "data": {
      "image/png": "[encoded data removed]",
      "text/plain": [
       "<Figure size 640x480 with 2 Axes>"
      ]
     },
     "metadata": {},
     "output_type": "display_data"
    }
   ],
   "source": [
    "# membuat tabel korelasi antar variabel pada dataset `geo_3`\n",
    "corr_tab3 = geo_df3.select_dtypes(exclude='object').corr()\n",
    "sns.heatmap(corr_tab3,annot=True,cmap='cividis').set_title('Region-3')\n",
    "plt.show()"
   ]
  },
  {
   "attachments": {},
   "cell_type": "markdown",
   "metadata": {},
   "source": [
    "Bisa terlihat bahwa kandungan minyak `product` memiliki korelasi yang cukup kuat terhadap variabel `f2` sedangkan lemah terhadap variabel lain `f0` dan `f1`."
   ]
  },
  {
   "attachments": {},
   "cell_type": "markdown",
   "metadata": {},
   "source": [
    "# Machine Learning untuk Mendapatkan Lokasi Minyak Terbaik <a id='cont_9'></a>"
   ]
  },
  {
   "attachments": {},
   "cell_type": "markdown",
   "metadata": {},
   "source": [
    "## Membagi Dataset <a id='cont_10'></a>"
   ]
  },
  {
   "attachments": {},
   "cell_type": "markdown",
   "metadata": {},
   "source": [
    "Disini kita akan membagi dataset menjadi `fitur` dan `target` serta membagi persentase dataset menjadi `75% training` dan `25% validasi`."
   ]
  },
  {
   "cell_type": "code",
   "execution_count": 16,
   "metadata": {},
   "outputs": [],
   "source": [
    "# memisahkan dataset menjadi fitur dan target untuk dataset geo_1\n",
    "features_geo1 = geo_df1.drop(['product','id'],axis=1)\n",
    "target_geo1 = geo_df1['product']\n",
    "\n",
    "# memisahkan dataset menjadi fitur dan target untuk dataset geo_2\n",
    "features_geo2 = geo_df2.drop(['product','id'],axis=1)\n",
    "target_geo2 = geo_df2['product']\n",
    "\n",
    "# memisahkan dataset menjadi fitur dan target untuk dataset geo_3\n",
    "features_geo3 = geo_df3.drop(['product','id'],axis=1)\n",
    "target_geo3 = geo_df3['product']"
   ]
  },
  {
   "cell_type": "code",
   "execution_count": 17,
   "metadata": {},
   "outputs": [],
   "source": [
    "# membagi dataset menjadi 75% training dan 25% valid untuk dataset geo_1\n",
    "features_train_geo1, features_valid_geo1, target_train_geo1, target_valid_geo1 = train_test_split(features_geo1, target_geo1, test_size=0.25, random_state=12345)\n",
    "\n",
    "# membagi dataset menjadi 75% training dan 25% valid untuk dataset geo_2\n",
    "features_train_geo2, features_valid_geo2, target_train_geo2, target_valid_geo2 = train_test_split(features_geo2, target_geo2, test_size=0.25, random_state=12345)\n",
    "\n",
    "# membagi dataset menjadi 75% training dan 25% valid untuk dataset geo_3\n",
    "features_train_geo3, features_valid_geo3, target_train_geo3, target_valid_geo3 = train_test_split(features_geo3, target_geo3, test_size=0.25, random_state=12345)"
   ]
  },
  {
   "attachments": {},
   "cell_type": "markdown",
   "metadata": {},
   "source": [
    "## Menghitung Metrik Machine Learning <a id='cont_11'></a>"
   ]
  },
  {
   "attachments": {},
   "cell_type": "markdown",
   "metadata": {},
   "source": [
    "Selanjutnya kita lihat performa dari `model machine learning` menggunakan `root mean square error (RMSE)`. Model yang kita buat adalah `regresi linier` dari `scikit-learn`."
   ]
  },
  {
   "cell_type": "code",
   "execution_count": 18,
   "metadata": {},
   "outputs": [],
   "source": [
    "# membuat fungsi untuk menghitung rata-rata prediksi volume minyak beserta RMSE model\n",
    "def oil_pred(feature_train,feature_valid,target_train,target_valid):\n",
    "    # membuat model regresi linier\n",
    "    model = LinearRegression()\n",
    "    # melatih model menggunakan dataset training\n",
    "    model.fit(feature_train,target_train)\n",
    "    # memprediksi rata-rata volume minyak\n",
    "    vol = model.predict(feature_valid)\n",
    "    # menghitung RMSE\n",
    "    rmse = mean_squared_error(target_valid,vol)**0.5\n",
    "    # mengembalikan nilai volume minyak dan nilai RMSE\n",
    "    return vol, rmse"
   ]
  },
  {
   "cell_type": "code",
   "execution_count": 19,
   "metadata": {},
   "outputs": [
    {
     "name": "stdout",
     "output_type": "stream",
     "text": [
      "Rata-rata volume minyak --> 92.59 ribu barel\n",
      "RMSE --> 37.58 ribu barel\n"
     ]
    }
   ],
   "source": [
    "# menghitung estimasi prediksi rata-rata volume minyak dan nilai RMSEnya untuk dataset geo_1\n",
    "vol_1, rmse_1 = oil_pred(features_train_geo1, features_valid_geo1, target_train_geo1, target_valid_geo1)\n",
    "print('Rata-rata volume minyak -->', round(vol_1.mean(),2),'ribu barel')\n",
    "print('RMSE -->', round(rmse_1,2),'ribu barel')"
   ]
  },
  {
   "cell_type": "code",
   "execution_count": 20,
   "metadata": {},
   "outputs": [
    {
     "name": "stdout",
     "output_type": "stream",
     "text": [
      "Rata-rata volume minyak --> 68.73 ribu barel\n",
      "RMSE --> 0.89 ribu barel\n"
     ]
    }
   ],
   "source": [
    "# menghitung estimasi prediksi rata-rata volume minyak dan nilai RMSEnya untuk dataset geo_2\n",
    "vol_2, rmse_2 = oil_pred(features_train_geo2, features_valid_geo2, target_train_geo2, target_valid_geo2)\n",
    "print('Rata-rata volume minyak -->', round(vol_2.mean(),2),'ribu barel')\n",
    "print('RMSE -->', round(rmse_2,2),'ribu barel')"
   ]
  },
  {
   "cell_type": "code",
   "execution_count": 21,
   "metadata": {},
   "outputs": [
    {
     "name": "stdout",
     "output_type": "stream",
     "text": [
      "Rata-rata volume minyak --> 94.97 ribu barel\n",
      "RMSE --> 40.03 ribu barel\n"
     ]
    }
   ],
   "source": [
    "# menghitung estimasi prediksi rata-rata volume minyak dan nilai RMSEnya untuk dataset geo_3\n",
    "vol_3, rmse_3 = oil_pred(features_train_geo3, features_valid_geo3, target_train_geo3, target_valid_geo3)\n",
    "print('Rata-rata volume minyak -->', round(vol_3.mean(),2),'ribu barel')\n",
    "print('RMSE -->', round(rmse_3,2),'ribu barel')"
   ]
  },
  {
   "attachments": {},
   "cell_type": "markdown",
   "metadata": {},
   "source": [
    "Bisa terlihat dari ketiga wilayah, `model` memberikan skor terbaik pada wilayah `Region-2` yang memiliki `RMSE` sebesar `0.89 ribu barel`. Sedangkan Rata-rata volume minyak terbanyak berada di wilayah `Region-3` sebanyak `94.97 ribu barel`."
   ]
  },
  {
   "attachments": {},
   "cell_type": "markdown",
   "metadata": {},
   "source": [
    "## Variabel Penting Bisnis <a id='cont_12'></a>"
   ]
  },
  {
   "attachments": {},
   "cell_type": "markdown",
   "metadata": {},
   "source": [
    "Berikut ini merupakan variabel penting dalam bisnis `OilyGiant` yaitu `modal investasi`, `jumlah target lokasi titik`, `harga minyak per barel`. Kita akan memperjelasnya kedalam beberapa poin:\n",
    "- Berapa produksi dalam ribuan barel tiap sumur (titik) agar tidak mengalami kerugian?\n",
    "- Membandingkan revenue tanpa kerugian dan revenue dari masing-masing wilayah."
   ]
  },
  {
   "cell_type": "code",
   "execution_count": 22,
   "metadata": {},
   "outputs": [
    {
     "name": "stdout",
     "output_type": "stream",
     "text": [
      "Besarnya Unit Produk Tanpa Rugi 111.11 ribu barel\n"
     ]
    }
   ],
   "source": [
    "# beberapa rangkuman data bisnis\n",
    "\n",
    "# jumlah lokasi point terbaik\n",
    "n_best = 200\n",
    "\n",
    "# modal investasi (USD)\n",
    "invest = 100000000\n",
    "\n",
    "# harga per barel (USD/barel)\n",
    "price_vol = 4.5\n",
    "\n",
    "# harga per unit produk (USD/1000barel)\n",
    "price_prod = 4.5*1000\n",
    "\n",
    "# mengetahui berapa unit produk yang bisa dihasilkan dari modal investasi untuk 200 lokasi\n",
    "n_prod = invest/(price_prod*n_best)\n",
    "\n",
    "print('Besarnya Unit Produk Tanpa Rugi',round(n_prod,2),'ribu barel')"
   ]
  },
  {
   "cell_type": "code",
   "execution_count": 23,
   "metadata": {},
   "outputs": [
    {
     "name": "stdout",
     "output_type": "stream",
     "text": [
      "Besarnya Unit Produk Region-1 92.59 ribu barel\n",
      "Besarnya Unit Produk Region-2 68.73 ribu barel\n",
      "Besarnya Unit Produk Region-3 94.97 ribu barel\n"
     ]
    }
   ],
   "source": [
    "# menampilkan kembali perhitungan sebelumnya\n",
    "print('Besarnya Unit Produk Region-1',round(vol_1.mean(),2),'ribu barel')\n",
    "print('Besarnya Unit Produk Region-2',round(vol_2.mean(),2),'ribu barel')\n",
    "print('Besarnya Unit Produk Region-3',round(vol_3.mean(),2),'ribu barel')"
   ]
  },
  {
   "attachments": {},
   "cell_type": "markdown",
   "metadata": {},
   "source": [
    "Dari perhitungan jelas bahwa jika kita ingin tidak rugi maka `unit produk` yang harus dihasilkan `200 titik` masing-masing sebanyak `111.11 ribu barel`. Faktanya rata-rata ketiga wilayah menghasilkan `unit produk` dibawah `unit produk tanpa rugi` yang menghasilkan kerugian. "
   ]
  },
  {
   "attachments": {},
   "cell_type": "markdown",
   "metadata": {},
   "source": [
    "## Estimasi Margin Profit <a id='cont_13'></a>"
   ]
  },
  {
   "attachments": {},
   "cell_type": "markdown",
   "metadata": {},
   "source": [
    "Berdasarkan perhitungan diatas nampaknya tidak masuk akal kalau kita menggunakan nilai rata-rata tersebut pada semua wilayah karena menghasilkan kerugian. Disini kita akan mengestimasikanya dengan menggunakan beberapa teknik diantaranya:"
   ]
  },
  {
   "attachments": {},
   "cell_type": "markdown",
   "metadata": {},
   "source": [
    "### Margin Profit Tanpa Teknik Bootstrap <a id='cont_14'></a>"
   ]
  },
  {
   "attachments": {},
   "cell_type": "markdown",
   "metadata": {},
   "source": [
    "Disini kita hanya mengambil `200 lokasi` yang memiliki kandungan minyak paling banyak berdasarkan hasil prediksi model. Kemudian menghitung `Margin Profit` yang dihasilkan dari `200 lokasi` terhadap `modal investasi (revenue tanpa kerugian)`."
   ]
  },
  {
   "cell_type": "code",
   "execution_count": 24,
   "metadata": {},
   "outputs": [],
   "source": [
    "# membuat fungsi untuk menghitung margin profit antara prediksi model dan revenue tanpa kerugian\n",
    "# data dari prediksi model(predict) dan data target validasi(target) untuk n_best=200\n",
    "def margin_profit(predict,target):\n",
    "    # membuat series untuk data dari prediksi\n",
    "    pred = pd.Series(predict)\n",
    "    # mereset index pada data target agar sesuai dengan index prediksi\n",
    "    tar = target.reset_index(drop=True)\n",
    "    # mengurutkan data prediksi dari yang terbesar\n",
    "    pred.sort_values(ascending=False,inplace=True)\n",
    "    # mengeluarkan nilai target berdasarkan index prediksi yang sudah diurutkan\n",
    "    tar = tar[pred.index]\n",
    "    # menghitung selisih revenue antara model prediksi dan revenue tanpa kerugian\n",
    "    # margin = [jumlah revenue prediksi] - [jumlah revenue tanpa kerugian]\n",
    "    # mengambil data terbaik sebanyak `n_best=200`\n",
    "    margin = price_prod*(tar[:n_best].sum() - n_prod*n_best)\n",
    "\n",
    "    # mengembalikan margin profit\n",
    "    return margin"
   ]
  },
  {
   "cell_type": "code",
   "execution_count": 25,
   "metadata": {},
   "outputs": [
    {
     "name": "stdout",
     "output_type": "stream",
     "text": [
      "Margin Profit [Region-1] --> 33208260.43 USD\n",
      "Margin Profit [Region-2] --> 24150866.97 USD\n",
      "Margin Profit [Region-3] --> 27103499.64 USD\n"
     ]
    }
   ],
   "source": [
    "# menghitung margin profit menggunakan 200 titik terbaik untuk tiap dataset\n",
    "rev_geo1 = margin_profit(vol_1,target_valid_geo1)\n",
    "rev_geo2 = margin_profit(vol_2,target_valid_geo2)\n",
    "rev_geo3 = margin_profit(vol_3,target_valid_geo3)\n",
    "\n",
    "# menampilkan revenue 200 titik lokasi terbaik\n",
    "print('Margin Profit [Region-1] -->',round(rev_geo1,2),'USD')\n",
    "print('Margin Profit [Region-2] -->',round(rev_geo2,2),'USD')\n",
    "print('Margin Profit [Region-3] -->',round(rev_geo3,2),'USD')"
   ]
  },
  {
   "attachments": {},
   "cell_type": "markdown",
   "metadata": {},
   "source": [
    "Ternyata ketika kita mengambil `200 lokasi` terbaik dari dataset kita `tidak mengalami kerugian`, bahkan `menunjukan keuntungan (nilai positif margin)`. Berbeda dengan perhitungan sebelumnya ketika menggunakan rata-rata `unit produk`."
   ]
  },
  {
   "attachments": {},
   "cell_type": "markdown",
   "metadata": {},
   "source": [
    "### Margin Profit Menggunakan Teknik Bootstrap <a id='cont_15'></a>"
   ]
  },
  {
   "attachments": {},
   "cell_type": "markdown",
   "metadata": {},
   "source": [
    "Pembahasanya sudah bagus bahwa kita tidak mengalami `kerugian` bahkan meningkat. Namun kita apakah bisa memprediksi `resiko kerugian` dengan menggunakan fungsi sebelumnya? kita tidak tahu apakah mungkin terjadi kerugian atau tidak, kecuali dengan teknik `bootstrapping` seperti berikut untuk melihat distribusi `margin profit` untuk masing-masing wilayah. Kita akan membuat `1000 sampel bootsrap` dengan pengambilan sebanyak `500 sampel` untuk menentukan `200 lokasi`."
   ]
  },
  {
   "cell_type": "code",
   "execution_count": 26,
   "metadata": {},
   "outputs": [],
   "source": [
    "# jumlah sampel bootstrap\n",
    "n_boot = 1000\n",
    "\n",
    "# jumlah sampel point\n",
    "n_point = 500\n",
    "\n",
    "# membuat fungsi untuk menghitung margin profit menggunakan teknik bootstrap\n",
    "def margin_bootsrap(predict,target):\n",
    "    # tempat penampungan nilai margin untuk sampel bootstrap ke-i\n",
    "    margin = []\n",
    "    # mengubah data dari predict menjadi series\n",
    "    predict = pd.Series(predict)\n",
    "    # mereset index pada data target\n",
    "    target = target.reset_index(drop=True)\n",
    "    # membuat randomstate dari numpy\n",
    "    random = np.random.RandomState(12345)\n",
    "\n",
    "    # membuat bootstrap untuk sebanyak `n_boot=1000` untuk menghitung revenue\n",
    "    for i in range(n_boot):\n",
    "        # mengambil sampel sebanyak `n_point=500` dari data target\n",
    "        tar_sample = target.sample(n_point,replace=True,random_state=random)\n",
    "        # mengambil nilai prediksi yang sesuai dengan indeks target sampel\n",
    "        predict_sample = predict[tar_sample.index]\n",
    "        # mereset indeks taget sampel\n",
    "        tar_sample.reset_index(drop=True,inplace=True)\n",
    "        # mereset indeks prediksi sampel\n",
    "        predict_sample.reset_index(drop=True,inplace=True)\n",
    "        # menghitung besarnya margin profit dan menambahkanya ke tempat penampungan `margin`\n",
    "        margin.append(margin_profit(predict_sample,tar_sample))\n",
    "\n",
    "    # mengembalikan nilai margin\n",
    "    return margin"
   ]
  },
  {
   "cell_type": "code",
   "execution_count": 27,
   "metadata": {},
   "outputs": [
    {
     "name": "stdout",
     "output_type": "stream",
     "text": [
      "Rata-rata Profit Margin [Region-1] --> 3961649.85 USD\n",
      "Rata-rata Profit Margin [Region-2] --> 4560451.06 USD\n",
      "Rata-rata Profit Margin [Region-3] --> 4044038.67 USD\n"
     ]
    }
   ],
   "source": [
    "# menghitung profit margin menggunakan teknik bootstrap untuk tiap dataset\n",
    "rev_geo1_boot = margin_bootsrap(vol_1,target_valid_geo1)\n",
    "rev_geo2_boot = margin_bootsrap(vol_2,target_valid_geo2)\n",
    "rev_geo3_boot = margin_bootsrap(vol_3,target_valid_geo3)\n",
    "\n",
    "# menampilkan rata-rata margin profit menggunakan bootstrap\n",
    "print('Rata-rata Profit Margin [Region-1] -->',round(np.mean(rev_geo1_boot),2),'USD')\n",
    "print('Rata-rata Profit Margin [Region-2] -->',round(np.mean(rev_geo2_boot),2),'USD')\n",
    "print('Rata-rata Profit Margin [Region-3] -->',round(np.mean(rev_geo3_boot),2),'USD')"
   ]
  },
  {
   "cell_type": "code",
   "execution_count": 28,
   "metadata": {},
   "outputs": [
    {
     "data": {
      "image/png": "[encoded data removed]",
      "text/plain": [
       "<Figure size 800x500 with 1 Axes>"
      ]
     },
     "metadata": {},
     "output_type": "display_data"
    }
   ],
   "source": [
    "# menggabungkan hasil perhitungan bootstrapping\n",
    "geo1 = pd.Series(rev_geo1_boot,name='Region-1')/1000000 # agar menjadi juta USD\n",
    "geo2 = pd.Series(rev_geo2_boot,name='Region-2')/1000000 # agar menjadi juta USD\n",
    "geo3 = pd.Series(rev_geo3_boot,name='Region-3')/1000000 # agar menjadi juta USD\n",
    "combine = pd.concat([geo1,geo2,geo3],axis=1)\n",
    "\n",
    "# membuat kde plot untuk data gabungan\n",
    "plt.figure(figsize=(8,5))\n",
    "sns.kdeplot(combine,fill=True)\n",
    "plt.xlabel('Margin Profit in Millions of USD')\n",
    "plt.title('KDE Plot of Margin Profit')\n",
    "plt.xticks(np.arange(-5,15,1))\n",
    "plt.axvline(x=0, color='r', linestyle='--')\n",
    "plt.show()"
   ]
  },
  {
   "attachments": {},
   "cell_type": "markdown",
   "metadata": {},
   "source": [
    "Bedasarkan grafik diatas terlihat bahwa semua dataset kita memberikan probabilitas `margin profit` yang `positif` lebih banyak dibandingkan dengan `margin profit` yang `negatif` yang ditandai dengan perbatasan `garis merah`. Luas area disebelah kanan `garis merah` jauh lebih besar dari pada disebelah kiri. Dari ketiga wilayah, `Region-2` yang memberikan rata-rata `margin profit` yang paling tinggi sebanyak `4.5 juta USD`."
   ]
  },
  {
   "attachments": {},
   "cell_type": "markdown",
   "metadata": {},
   "source": [
    "## Selang Kepercayaan dan Risiko untuk Bootstrap Margin Profit <a id='cont_16'></a>"
   ]
  },
  {
   "attachments": {},
   "cell_type": "markdown",
   "metadata": {},
   "source": [
    "Penting untuk mengetahui risiko dari masing-masing wilayah, kita akan memilih wilayah yang memiliki `risiko` paling rendah dengan ambang batas di bawah `2.5%` dan memilih `rata-rata margin profit paling tinggi`. Kita akan mencari `selang kepercayaan` berdasarkan `tingkat keyakinan` sebesar `95%`."
   ]
  },
  {
   "cell_type": "code",
   "execution_count": 29,
   "metadata": {},
   "outputs": [],
   "source": [
    "# selang kepercayaan 95%\n",
    "cfd_interval = 0.95\n",
    "\n",
    "# ambang batas kerugian 2.5%\n",
    "risk_threshold = 0.25"
   ]
  },
  {
   "cell_type": "code",
   "execution_count": 30,
   "metadata": {},
   "outputs": [],
   "source": [
    "# membuat fungsi untuk menghitung risiko dan selang kepercayaan\n",
    "def cfd_risk(dif_rev,sample):\n",
    "    # membuat selang kepercayaan\n",
    "    low = round((1 - cfd_interval)/2,3) # menghitung quantil bawah\n",
    "    # menghitung quantile atas\n",
    "    high = cfd_interval + low\n",
    "    # menghitung quantil bawah untuk margin profit\n",
    "    low_cfd = dif_rev.quantile(low)*1000000 # mengembalikan harga ke USD\n",
    "    # menghitung quantil atas untuk margin profit\n",
    "    hight_cfd = dif_rev.quantile(high)*1000000 # mengembalikan harga ke USD\n",
    "\n",
    "    # mengitung risiko negatif dari margin profit\n",
    "    negative = [neg for neg in dif_rev if neg < 0] # menghitung count negatif\n",
    "    # menghitung persentase risiko negatif\n",
    "    risk = len(negative)/sample*100\n",
    "    \n",
    "    # mengembalikan nilai\n",
    "    return low_cfd, hight_cfd, risk"
   ]
  },
  {
   "cell_type": "code",
   "execution_count": 31,
   "metadata": {},
   "outputs": [
    {
     "name": "stdout",
     "output_type": "stream",
     "text": [
      "Wilayah Region-1\n",
      "Rata-rata Margin Profit 3961649.85 USD\n",
      "Confidence Interval (95% Keyakinan) dari -1112155.46 USD hingga 9097669.42 USD\n",
      "Persentase Risiko Negatif Revenue 6.9 %\n"
     ]
    }
   ],
   "source": [
    "# menghitung selang kepercayaan dan risiko\n",
    "low, high, risk = cfd_risk(geo1,n_boot)\n",
    "print('Wilayah Region-1')\n",
    "print('Rata-rata Margin Profit',round(np.mean(rev_geo1_boot),2),'USD')\n",
    "print(f'Confidence Interval (95% Keyakinan) dari',round(low,2),'USD','hingga',round(high,2),'USD')\n",
    "print('Persentase Risiko Negatif Revenue',risk,'%')"
   ]
  },
  {
   "cell_type": "code",
   "execution_count": 32,
   "metadata": {},
   "outputs": [
    {
     "name": "stdout",
     "output_type": "stream",
     "text": [
      "Wilayah Region-2\n",
      "Rata-rata Margin Profit 4560451.06 USD\n",
      "Confidence Interval (95% Keyakinan) dari 338205.09 USD hingga 8522894.54 USD\n",
      "Persentase Risiko Negatif Revenue 1.5 %\n"
     ]
    }
   ],
   "source": [
    "# menghitung selang kepercayaan dan risiko\n",
    "low, high, risk = cfd_risk(geo2,n_boot)\n",
    "print('Wilayah Region-2')\n",
    "print('Rata-rata Margin Profit',round(np.mean(rev_geo2_boot),2),'USD')\n",
    "print(f'Confidence Interval (95% Keyakinan) dari',round(low,2),'USD','hingga',round(high,2),'USD')\n",
    "print('Persentase Risiko Negatif Revenue',risk,'%')"
   ]
  },
  {
   "cell_type": "code",
   "execution_count": 33,
   "metadata": {},
   "outputs": [
    {
     "name": "stdout",
     "output_type": "stream",
     "text": [
      "Wilayah Region-3\n",
      "Rata-rata Margin Profit 4044038.67 USD\n",
      "Confidence Interval (95% Keyakinan) dari -1633504.13 USD hingga 9503595.75 USD\n",
      "Persentase Risiko Negatif Revenue 7.6 %\n"
     ]
    }
   ],
   "source": [
    "# menghitung selang kepercayaan dan risiko\n",
    "low, high, risk = cfd_risk(geo3,n_boot)\n",
    "print('Wilayah Region-3')\n",
    "print('Rata-rata Margin Profit',round(np.mean(rev_geo3_boot),2),'USD')\n",
    "print(f'Confidence Interval (95% Keyakinan) dari',round(low,2),'USD','hingga',round(high,2),'USD')\n",
    "print('Persentase Risiko Negatif Revenue',risk,'%')"
   ]
  },
  {
   "attachments": {},
   "cell_type": "markdown",
   "metadata": {},
   "source": [
    "Berdasarkan analisis risiko menunjukan bahwa hanya wilayah `Region-2` yang memenuhi kriteria dibawah `risiko 2.5%` dan memiliki `rata-rata margin profit` paling tinggi berkisar `4.65 juta USD` dengan `95% Keyakinan` berada pada `338205.09 USD` hingga `8522894.54 USD`."
   ]
  },
  {
   "attachments": {},
   "cell_type": "markdown",
   "metadata": {},
   "source": [
    "# Kesimpulan Umum <a id='cont_17'></a>"
   ]
  },
  {
   "attachments": {},
   "cell_type": "markdown",
   "metadata": {},
   "source": [
    "Berikut ini yang bisa disimpulkan dari projek model prediksi lokasi ekplorasi sumur minyak `OilyGiant` diantaranya:\n",
    "- Berdasarkan `analisis boxplot`, wilayah `Region-3` memiliki rata-rata kandungan minyak paling tinggi dibandingkan wilayah lain.\n",
    "- Tabel korelasi menunjukan hanya variabel/fitur `f2` yang memiliki korelasi cukup baik dengan target `product` dibandingkan dengan variabel/fitur lain.\n",
    "- Analisis dasar bisnis menunjukan jika kita tidak mengalami kerugian dengan modal investasi `100 juta USD` untuk `200 titik`, maka semua titik harus memproduksi sebanyak `111.11 ribu barel`. Jika kita menggunakan rata-rata `kandungan minyak` untuk tiap wilayah, maka kita akan merugi.\n",
    "- Ketika kita mengambil `200 lokasi` dengan kandungan minyak terbanyak maka akan diperoleh keuntungan.\n",
    "- Bootstrapping digunakan untuk melihat persebaran `margin profit` dan risiko (`margin profit negatif`) diperoleh `risiko Region-1` sebesar `6.9%`, `risiko Region-2` sebesar `1.5%` dan `risiko Region-3` sebesar `7.6%`.\n",
    "- Wilayah `Region-2` yang memenuhi kriteria dibawah `risiko 2.5%` dan memiliki `rata-rata margin profit` paling tinggi berkisar `4.65 juta USD` dengan `95% Keyakinan` berada pada `338205.09 USD` hingga `8522894.54 USD`."
   ]
  }
 ],
 "metadata": {
  "kernelspec": {
   "display_name": "Python 3 (ipykernel)",
   "language": "python",
   "name": "python3"
  },
  "language_info": {
   "codemirror_mode": {
    "name": "ipython",
    "version": 3
   },
   "file_extension": ".py",
   "mimetype": "text/x-python",
   "name": "python",
   "nbconvert_exporter": "python",
   "pygments_lexer": "ipython3",
   "version": "3.11.2"
  },
  "toc": {
   "base_numbering": 1,
   "nav_menu": {},
   "number_sections": true,
   "sideBar": true,
   "skip_h1_title": true,
   "title_cell": "Table of Contents",
   "title_sidebar": "Contents",
   "toc_cell": false,
   "toc_position": {},
   "toc_section_display": true,
   "toc_window_display": false
  }
 },
 "nbformat": 4,
 "nbformat_minor": 2
}
