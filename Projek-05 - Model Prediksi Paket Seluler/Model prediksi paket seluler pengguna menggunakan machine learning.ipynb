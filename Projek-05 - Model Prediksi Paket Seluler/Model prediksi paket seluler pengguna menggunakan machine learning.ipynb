{
 "cells": [
  {
   "cell_type": "markdown",
   "metadata": {},
   "source": [
    "# Model Prediksi Paket Seluler Pengguna Menggunakan Machine Learning <a id='intro'></a>"
   ]
  },
  {
   "cell_type": "markdown",
   "metadata": {},
   "source": [
    "Sebuah operator seluler bernama `Megaline` merasa tidak puas karena banyak pelanggan mereka yang \n",
    "masih menggunakan paket lama. Perusahaan tersebut ingin mengembangkan sebuah \n",
    "model yang dapat menganalisis perilaku konsumen dan merekomendasikan salah satu \n",
    "dari kedua paket terbaru Megaline: `Smart` atau `Ultra`.\n",
    "\n",
    "`Megaline` memiliki dataset yang berisi prilaku pengguna paket `Smart` dan `Ultra`. Disini kita akan memuat `model machine learning` untuk menentukan paket mana yang diberikan berdasarkan prilaku pelanggan (`jumlah panggilan`, `durasi panggilan`, `sms`, `jumlah paket data`) tersebut. Pada proyek ini, ambang batas untuk tingkat accuracy-nya adalah 0,75. \n",
    "\n",
    "Beberapa tujuan dan rumusan masalah dari analisis projek ini:\n",
    "- Mengetahui algoritma terbaik untuk `model machine learning` untuk dataset `Megaline`\n",
    "- `Hyperparameter` terbaik seperti apa pada `model machine learning`\n",
    "- Apakah `model machine learning` yang dipilih bisa memenuhi uji kelayakan (`sanity check`)?\n",
    "- Benarkah `model machine learning` yang dipilih bisa menguji sampel data sembarang?"
   ]
  },
  {
   "cell_type": "markdown",
   "metadata": {},
   "source": [
    "# Konten <a id='back'></a>\n",
    "\n",
    "* [Pendahuluan](#intro)\n",
    "* [Konten](#back)\n",
    "* [Tahap 1. Mempersiapkan Dataset](#cont_1)\n",
    "    * [1.1 Memuat Library](#cont_2) \n",
    "    * [1.2 Memuat Dataset](#cont_3) \n",
    "    * [1.3 Mengecek Duplikasi](#cont_4) \n",
    "    * [1.4 Mengubah Tipe Data](#cont_5) \n",
    "* [Tahap 2. Membuat Model Machine Learning](#cont_6)\n",
    "    * [2.1 Pembagian Dataset](#cont_7) \n",
    "    * [2.2 Melatih dan Menguji Algoritma Machine Learning](#cont_8) \n",
    "        * [2.2.1 Algoritma Klasifikasi Decision Tree](#cont_9) \n",
    "        * [2.2.2 Algoritma Klasifikasi Random Forest](#cont_10) \n",
    "        * [2.2.3 Algoritma Regresi Logistik](#cont_11) \n",
    "    * [2.3 Model Dengan Algoritma Terbaik](#cont_12) \n",
    "    * [2.4 Menguji Kelayakan Model (Sanity Check)](#cont_13) \n",
    "* [Tahap 3. Aplikasi Model Machine Learning](#cont_14)\n",
    "* [Tahap 4. Kesimpulan Umum](#cont_15)"
   ]
  },
  {
   "cell_type": "markdown",
   "metadata": {},
   "source": [
    "# Mempersiapkan Dataset <a id='cont_1'></a>"
   ]
  },
  {
   "cell_type": "markdown",
   "metadata": {},
   "source": [
    "Tahap pertama yang perlu dilakukan adalah mempersiapkan dataset mulai dari memuat library yang diperlukan, memuat dataset kedalam projek, mengecek sampel data, mengecek nilai yang hilang, mengecek duplikat dan mengecek tipe data."
   ]
  },
  {
   "cell_type": "markdown",
   "metadata": {},
   "source": [
    "## Memuat Library <a id='cont_2'></a>"
   ]
  },
  {
   "cell_type": "markdown",
   "metadata": {},
   "source": [
    "Selanjutnya kita akan memuat library yang diperlukan. Disini kita hanya membutuhkan dua library yaitu `pandas` untuk mengolah dataset dan `scikit learn` untuk pemodelan `machine learning`. Mari kita muat library keduanya."
   ]
  },
  {
   "cell_type": "code",
   "execution_count": 7,
   "metadata": {},
   "outputs": [],
   "source": [
    "# memuat library\n",
    "import pandas as pd\n",
    "from sklearn.model_selection import train_test_split \n",
    "from sklearn.tree import DecisionTreeClassifier\n",
    "from sklearn.ensemble import RandomForestClassifier\n",
    "from sklearn.linear_model import LogisticRegression"
   ]
  },
  {
   "cell_type": "markdown",
   "metadata": {},
   "source": [
    "## Memuat Dataset <a id='cont_3'></a>"
   ]
  },
  {
   "cell_type": "markdown",
   "metadata": {},
   "source": [
    "Mari kita muat dataset `Megaline` kedalam projek menggunakan library `pandas`."
   ]
  },
  {
   "cell_type": "code",
   "execution_count": 8,
   "metadata": {},
   "outputs": [],
   "source": [
    "# memuat dataset megaline\n",
    "df_megaline = pd.read_csv('users_behavior.csv')"
   ]
  },
  {
   "cell_type": "markdown",
   "metadata": {},
   "source": [
    "Selanjutnya kita akan menampilkan informasi dan sampel data dari dataset `Megaline`."
   ]
  },
  {
   "cell_type": "code",
   "execution_count": 9,
   "metadata": {},
   "outputs": [
    {
     "name": "stdout",
     "output_type": "stream",
     "text": [
      "<class 'pandas.core.frame.DataFrame'>\n",
      "RangeIndex: 3214 entries, 0 to 3213\n",
      "Data columns (total 5 columns):\n",
      " #   Column    Non-Null Count  Dtype  \n",
      "---  ------    --------------  -----  \n",
      " 0   calls     3214 non-null   float64\n",
      " 1   minutes   3214 non-null   float64\n",
      " 2   messages  3214 non-null   float64\n",
      " 3   mb_used   3214 non-null   float64\n",
      " 4   is_ultra  3214 non-null   int64  \n",
      "dtypes: float64(4), int64(1)\n",
      "memory usage: 125.7 KB\n",
      "None\n"
     ]
    },
    {
     "data": {
      "text/html": [
       "<div>\n",
       "<style scoped>\n",
       "    .dataframe tbody tr th:only-of-type {\n",
       "        vertical-align: middle;\n",
       "    }\n",
       "\n",
       "    .dataframe tbody tr th {\n",
       "        vertical-align: top;\n",
       "    }\n",
       "\n",
       "    .dataframe thead th {\n",
       "        text-align: right;\n",
       "    }\n",
       "</style>\n",
       "<table border=\"1\" class=\"dataframe\">\n",
       "  <thead>\n",
       "    <tr style=\"text-align: right;\">\n",
       "      <th></th>\n",
       "      <th>calls</th>\n",
       "      <th>minutes</th>\n",
       "      <th>messages</th>\n",
       "      <th>mb_used</th>\n",
       "      <th>is_ultra</th>\n",
       "    </tr>\n",
       "  </thead>\n",
       "  <tbody>\n",
       "    <tr>\n",
       "      <th>0</th>\n",
       "      <td>40.0</td>\n",
       "      <td>311.90</td>\n",
       "      <td>83.0</td>\n",
       "      <td>19915.42</td>\n",
       "      <td>0</td>\n",
       "    </tr>\n",
       "    <tr>\n",
       "      <th>1</th>\n",
       "      <td>85.0</td>\n",
       "      <td>516.75</td>\n",
       "      <td>56.0</td>\n",
       "      <td>22696.96</td>\n",
       "      <td>0</td>\n",
       "    </tr>\n",
       "    <tr>\n",
       "      <th>2</th>\n",
       "      <td>77.0</td>\n",
       "      <td>467.66</td>\n",
       "      <td>86.0</td>\n",
       "      <td>21060.45</td>\n",
       "      <td>0</td>\n",
       "    </tr>\n",
       "    <tr>\n",
       "      <th>3</th>\n",
       "      <td>106.0</td>\n",
       "      <td>745.53</td>\n",
       "      <td>81.0</td>\n",
       "      <td>8437.39</td>\n",
       "      <td>1</td>\n",
       "    </tr>\n",
       "    <tr>\n",
       "      <th>4</th>\n",
       "      <td>66.0</td>\n",
       "      <td>418.74</td>\n",
       "      <td>1.0</td>\n",
       "      <td>14502.75</td>\n",
       "      <td>0</td>\n",
       "    </tr>\n",
       "  </tbody>\n",
       "</table>\n",
       "</div>"
      ],
      "text/plain": [
       "   calls  minutes  messages   mb_used  is_ultra\n",
       "0   40.0   311.90      83.0  19915.42         0\n",
       "1   85.0   516.75      56.0  22696.96         0\n",
       "2   77.0   467.66      86.0  21060.45         0\n",
       "3  106.0   745.53      81.0   8437.39         1\n",
       "4   66.0   418.74       1.0  14502.75         0"
      ]
     },
     "execution_count": 9,
     "metadata": {},
     "output_type": "execute_result"
    }
   ],
   "source": [
    "# mengecek informasi data\n",
    "print(df_megaline.info())\n",
    "\n",
    "# mengecek sampel data\n",
    "df_megaline.head()"
   ]
  },
  {
   "cell_type": "markdown",
   "metadata": {},
   "source": [
    "Dataset berisi kolom-kolom berikut:\n",
    "- `calls` merupakan jumlah panggilan\n",
    "- `minutes` merupakan durasi panggilan dalam satuan menit\n",
    "- `messages` merupakan jumlah pesan\n",
    "- `mb_used` merupakan jumlah penggunaan data internet dalam satuan MB\n",
    "- `is_ultra` merupakan kolom penentu apakah pengguna menggunakan paket ultra (bernilai 1) atau tidak (bernilai 0)"
   ]
  },
  {
   "cell_type": "markdown",
   "metadata": {},
   "source": [
    "Berdasarkan informasi diatas menunjukan bahwa dataset terdiri dari `3214 baris` dan `5 kolom`, tidak memiliki `nilai yang hilang`. Bisa dilihat pada kolom `calls` dan `messages` memiliki tipe data yang salah, kita akan perbaikinya nanti."
   ]
  },
  {
   "cell_type": "markdown",
   "metadata": {},
   "source": [
    "## Mengecek Duplikasi <a id='cont_4'></a>"
   ]
  },
  {
   "cell_type": "markdown",
   "metadata": {},
   "source": [
    "Selanjutnya kita akan mengecek duplikasi pada dataset. Jika terdapat banyak duplikat baris yang sama, maka akan mengurangi keakuratan model machine learning yang akan kita buat."
   ]
  },
  {
   "cell_type": "code",
   "execution_count": 10,
   "metadata": {},
   "outputs": [
    {
     "data": {
      "text/plain": [
       "0"
      ]
     },
     "execution_count": 10,
     "metadata": {},
     "output_type": "execute_result"
    }
   ],
   "source": [
    "# mengecek duplikasi\n",
    "df_megaline.duplicated().sum()"
   ]
  },
  {
   "cell_type": "markdown",
   "metadata": {},
   "source": [
    "Bisa dilihat kita tidak memiliki duplikat data yang sama pada dataset ini."
   ]
  },
  {
   "cell_type": "markdown",
   "metadata": {},
   "source": [
    "## Mengubah Tipe Data <a id='cont_5'></a>"
   ]
  },
  {
   "cell_type": "markdown",
   "metadata": {},
   "source": [
    "Berdasarkan pengamatan sebelumnya, kita akan mengubah tipe data pada kolom `calls` dan `messages` dari tipe `float` menjadi `integer`."
   ]
  },
  {
   "cell_type": "code",
   "execution_count": 11,
   "metadata": {},
   "outputs": [
    {
     "name": "stdout",
     "output_type": "stream",
     "text": [
      "<class 'pandas.core.frame.DataFrame'>\n",
      "RangeIndex: 3214 entries, 0 to 3213\n",
      "Data columns (total 5 columns):\n",
      " #   Column    Non-Null Count  Dtype  \n",
      "---  ------    --------------  -----  \n",
      " 0   calls     3214 non-null   int32  \n",
      " 1   minutes   3214 non-null   float64\n",
      " 2   messages  3214 non-null   int32  \n",
      " 3   mb_used   3214 non-null   float64\n",
      " 4   is_ultra  3214 non-null   int64  \n",
      "dtypes: float64(2), int32(2), int64(1)\n",
      "memory usage: 100.6 KB\n"
     ]
    }
   ],
   "source": [
    "# mengubah tipe data kolom calls menjadi integer\n",
    "df_megaline['calls'] = df_megaline['calls'].astype('int')\n",
    "\n",
    "# mengubah tipe data kolom messages menjadi integer\n",
    "df_megaline['messages'] = df_megaline['messages'].astype('int')\n",
    "\n",
    "# mengecek tipe data yang baru\n",
    "df_megaline.info()"
   ]
  },
  {
   "cell_type": "markdown",
   "metadata": {},
   "source": [
    "Kolom `calls` dan `messages` sudah berhasil diubah menjadi tipe data `integer`."
   ]
  },
  {
   "cell_type": "markdown",
   "metadata": {},
   "source": [
    "# Membuat Model Machine Learning <a id='cont_6'></a>"
   ]
  },
  {
   "cell_type": "markdown",
   "metadata": {},
   "source": [
    "Membuat `model machine learning` yang terbaik diperlukan beberapa tahapan diantaranya: pembagian dataset, memilih algoritma, menguji algoritma, `tuning hyperparamater`.\n",
    "\n",
    "Beberapa `algoritma machine learning` akan kita uji dan memilih yang paling efektif digunakan. Beberapa algoritma tersebut diantranya:\n",
    "- Algoritma Klasifikasi Decision Tree\n",
    "- Algoritma Klasifikasi Random Forest\n",
    "- Algoritma Regresi Logistik"
   ]
  },
  {
   "cell_type": "markdown",
   "metadata": {},
   "source": [
    "## Pembagian Dataset <a id='cont_7'></a>"
   ]
  },
  {
   "cell_type": "markdown",
   "metadata": {},
   "source": [
    "Disini kita akan menentukan paket apa yang direkomendasikan sebagai `target` berdasarkan beberapa `fitur` yang berkaitan. Fitur-fitur tersebut diantranya `calls`, `minutes`, `messages` dan `mb_used`.\n",
    "\n",
    "Karena kita hanya memilki satu buah dataset, kiata akan membaginya kedalam beberapa kelompok untuk membuat `model machine learning`. Pembagian dipecah menjadi `60%` dataset untuk `training`, `20%` dataset untuk `validasi` dan `20%` untuk `testing`."
   ]
  },
  {
   "cell_type": "code",
   "execution_count": 12,
   "metadata": {},
   "outputs": [],
   "source": [
    "# membagi dataset menjadi 60% training, 20% validasi dan 20% test\n",
    "\n",
    "# membagi dataset megaline menjadi 60% untuk training dan 40% untuk (validasi + test)\n",
    "df_train, df_temp = train_test_split(df_megaline, test_size=0.6, random_state=147)\n",
    "\n",
    "# membagi dataset temporary menjadi 50% untuk validation dan 50% untuk test\n",
    "df_validation, df_test = train_test_split(df_temp, test_size=0.5, random_state=147)"
   ]
  },
  {
   "cell_type": "code",
   "execution_count": 13,
   "metadata": {},
   "outputs": [
    {
     "name": "stdout",
     "output_type": "stream",
     "text": [
      "features_train: (1285, 4)\n",
      "target_train: (1285,) \n",
      "\n",
      "features_valid: (964, 4)\n",
      "target_valid: (964,) \n",
      "\n",
      "features_test: (965, 4)\n",
      "target_test: (965,)\n"
     ]
    }
   ],
   "source": [
    "# membagi dataset training menjadi fitur dan target\n",
    "features_train = df_train.drop(['is_ultra'],axis=1)\n",
    "target_train = df_train['is_ultra']\n",
    "\n",
    "# membagi dataset validation menjadi fitur dan target\n",
    "features_valid = df_validation.drop(['is_ultra'],axis=1)\n",
    "target_valid = df_validation['is_ultra']\n",
    "\n",
    "# membagi dataset test menjadi fitur dan target\n",
    "features_test = df_test.drop(['is_ultra'],axis=1)\n",
    "target_test = df_test['is_ultra']\n",
    "\n",
    "# menampilkan shape dari training dan validation\n",
    "print('features_train:',features_train.shape)\n",
    "print('target_train:',target_train.shape,'\\n')\n",
    "\n",
    "print('features_valid:',features_valid.shape)\n",
    "print('target_valid:',target_valid.shape,'\\n')\n",
    "\n",
    "print('features_test:',features_test.shape)\n",
    "print('target_test:',target_test.shape)"
   ]
  },
  {
   "cell_type": "markdown",
   "metadata": {},
   "source": [
    "## Melatih dan Menguji Algoritma Machine Learning <a id='cont_8'></a>"
   ]
  },
  {
   "cell_type": "markdown",
   "metadata": {},
   "source": [
    "Berdasarkan jenis fitur dan target pada pembagian dataset sebelumnya, kita simpulkan `model machine learning` yang bisa dibuat adalah tipe `supervised learning - klasifikasi `. Mari kita latih dan uji model-model yang sudah disebutkan sebelumnya:"
   ]
  },
  {
   "cell_type": "markdown",
   "metadata": {},
   "source": [
    "### Algoritma Klasifikasi Decision Tree <a id='cont_9'></a>"
   ]
  },
  {
   "cell_type": "markdown",
   "metadata": {},
   "source": [
    "Selanjutnya kita akan menguji `algoritma klasifikasi decision tree` dimana `hyperparameter` untuk kedalaman pohon akan kita uji untuk mendapatkan `hyperparameter` yang terbaik."
   ]
  },
  {
   "cell_type": "code",
   "execution_count": 14,
   "metadata": {},
   "outputs": [
    {
     "name": "stdout",
     "output_type": "stream",
     "text": [
      "Akurasi Model Terbaik (Decision Tree)\n",
      "Akurasi\t: 0.79876\n",
      "Depth\t: 3\n"
     ]
    }
   ],
   "source": [
    "# percobaan algoritma decision tree\n",
    "\n",
    "# membuat temporary variabel\n",
    "best_result = 0\n",
    "best_depth = 0\n",
    "\n",
    "# pengujian kedalaman model decision tree (depth -> 1 ~ 50)\n",
    "for depth in range(1, 51):\n",
    "    # membuat model decision tree\n",
    "    model = DecisionTreeClassifier(random_state=147, max_depth=depth) \n",
    "    # melatih model menggunakan features dan target train\n",
    "    model.fit(features_train, target_train)\n",
    "    # menghitung akurasi menggunakan features dan target validation\n",
    "    result = model.score(features_valid,target_valid)\n",
    "    if result > best_result:\n",
    "        best_model = model\n",
    "        best_result = result\n",
    "        best_depth = depth\n",
    "\n",
    "# menampilkan output        \n",
    "print(\"Akurasi Model Terbaik (Decision Tree)\")\n",
    "print(f\"Akurasi\\t: {best_result:.5f}\")\n",
    "print(f\"Depth\\t: {best_depth}\")"
   ]
  },
  {
   "cell_type": "markdown",
   "metadata": {},
   "source": [
    "Dari sini bisa kita kita lihat akurasi skor terbaik yang diperoleh sebesar `79,88%` pada kedalaman pohon `depth` sebanyak `3`."
   ]
  },
  {
   "cell_type": "markdown",
   "metadata": {},
   "source": [
    "### Algoritma Klasifikasi Random Forest <a id='cont_10'></a>"
   ]
  },
  {
   "cell_type": "markdown",
   "metadata": {},
   "source": [
    "Dengan cara yang sama kita akan menguji `algoritma klasifikasi decision tree` dimana `hyperparameter` untuk `random forest` yang akan kita `tuning` adalah jumlah pohon `n_estimators` dan kedalaman pohon `depth`. \n",
    "\n",
    "Disini kita akan coba untuk kedalaman pohon `1 hingga 10`, dan jumlah pohon `1 hingga 15` yang akan kita cari `hyperparameter` terbaiknya."
   ]
  },
  {
   "cell_type": "code",
   "execution_count": 15,
   "metadata": {},
   "outputs": [
    {
     "name": "stdout",
     "output_type": "stream",
     "text": [
      "Akurasi Model Terbaik (Random Forest)\n",
      "Akurasi\t\t: 0.81017\n",
      "Depth\t\t: 7\n",
      "N_Estimators\t: 6\n"
     ]
    }
   ],
   "source": [
    "# percobaan algoritma random forest\n",
    "# kedalaman pohon: depth -> 1 ~ 10\n",
    "# jumlah pohon: n_estimators -> 1 ~ 15\n",
    "\n",
    "# membuat temporary variabel\n",
    "best_result = 0\n",
    "best_est = 0\n",
    "best_depth = 0\n",
    "\n",
    "# pengujian kedalaman model dan jumlah pohon \n",
    "# pengaturan jumlah pohon\n",
    "for est in range(1, 16):\n",
    "    # pengaturan jumlah kedalaman pohon\n",
    "    for depth in range (1, 11):\n",
    "        # membuat model random forest classifier\n",
    "        model = RandomForestClassifier(random_state=147, n_estimators=est, max_depth=depth)\n",
    "        # melatih model menggunakan features dan target train\n",
    "        model.fit(features_train, target_train)\n",
    "        # menghitung akurasi menggunakan features dan target validation\n",
    "        result = model.score(features_valid,target_valid)\n",
    "        if result > best_result:\n",
    "            best_result = result\n",
    "            best_est = est\n",
    "            best_depth = depth\n",
    "\n",
    "# menampilkan output        \n",
    "print(\"Akurasi Model Terbaik (Random Forest)\")\n",
    "print(f\"Akurasi\\t\\t: {best_result:.5f}\")\n",
    "print(f\"Depth\\t\\t: {best_depth}\")\n",
    "print(f\"N_Estimators\\t: {best_est}\")"
   ]
  },
  {
   "cell_type": "markdown",
   "metadata": {},
   "source": [
    "Bisa dilihat kita bisa mendapatkan akurasi skor sebesar `81,02%` hanya menggunakan kedalaman pohon `7` dan jumlah pohon `6`.\n",
    "\n",
    "Mari kita coba tingkatkan `hyperparameter` apakah kita bisa mendapatkan yang lebih baik akurasi skornya dibandingkan skor ini."
   ]
  },
  {
   "cell_type": "markdown",
   "metadata": {},
   "source": [
    "Kita akan coba tingkatkan kedalaman pohon `1 hingga 20`, dan jumlah pohon `1 hingga 70 (inkremen 5)` yang akan kita cari `hyperparameter` terbaiknya."
   ]
  },
  {
   "cell_type": "code",
   "execution_count": 16,
   "metadata": {},
   "outputs": [
    {
     "name": "stdout",
     "output_type": "stream",
     "text": [
      "Akurasi Model Terbaik (Random Forest)\n",
      "Akurasi\t\t: 0.81535\n",
      "Depth\t\t: 9\n",
      "N_Estimators\t: 51\n"
     ]
    }
   ],
   "source": [
    "# percobaan algoritma random forest\n",
    "# kedalaman pohon: depth -> 1 ~ 20\n",
    "# jumlah pohon: n_estimators -> 1 ~ 70 {increment 5}\n",
    "\n",
    "# membuat temporary\n",
    "best_result = 0\n",
    "best_est = 0\n",
    "best_depth = 0\n",
    "\n",
    "# pengujian kedalaman model dan jumlah pohon\n",
    "# pengaturan jumlah pohon\n",
    "for est in range(1, 71, 5):\n",
    "    # pengaturan jumlah kedalaman pohon\n",
    "    for depth in range (1, 21):\n",
    "        # membuat model random forest classifier\n",
    "        model = RandomForestClassifier(random_state=147, n_estimators=est, max_depth=depth)\n",
    "        # melatih model menggunakan features dan target train\n",
    "        model.fit(features_train, target_train)\n",
    "        # menghitung akurasi menggunakan features dan target validation\n",
    "        result = model.score(features_valid,target_valid)\n",
    "        if result > best_result:\n",
    "            best_result = result\n",
    "            best_est = est\n",
    "            best_depth = depth\n",
    "\n",
    "# menampilkan output        \n",
    "print(\"Akurasi Model Terbaik (Random Forest)\")\n",
    "print(f\"Akurasi\\t\\t: {best_result:.5f}\")\n",
    "print(f\"Depth\\t\\t: {best_depth}\")\n",
    "print(f\"N_Estimators\\t: {best_est}\")"
   ]
  },
  {
   "cell_type": "markdown",
   "metadata": {},
   "source": [
    "Bisa dilihat kita bisa mendapatkan akurasi skor sebesar `81,53%` hanya menggunakan kedalaman pohon `9` dan jumlah pohon `51`.\n",
    "\n",
    "Disini kita simpulkan semakin tinggi `hyperparameter` tidak menyebabkan kenaikan akurasi skor yang signifikan, bahkan hampir sama. Maka kita ambil `hyperparameter` terbaik untuk `algoritma random forest` kali ini pada kedalaman pohon `7` dan jumlah pohon `6`."
   ]
  },
  {
   "cell_type": "markdown",
   "metadata": {},
   "source": [
    "### Algoritma Regresi Logistik <a id='cont_11'></a>"
   ]
  },
  {
   "cell_type": "markdown",
   "metadata": {},
   "source": [
    "Dengan cara yang sama kita akan menguji `algoritma regresi logistik` menggunakan `solver` 'liblinear'."
   ]
  },
  {
   "cell_type": "code",
   "execution_count": 17,
   "metadata": {},
   "outputs": [
    {
     "name": "stdout",
     "output_type": "stream",
     "text": [
      "Akurasi Model Terbaik (Regresi Logistik)\n",
      "Akurasi\t: 0.72822\n"
     ]
    }
   ],
   "source": [
    "# percobaan algoritma regresi logistik\n",
    "\n",
    "# membuat model regresi logistik\n",
    "model = LogisticRegression(random_state=147, solver='liblinear') \n",
    "\n",
    "# melatih model menggunakan features dan target train\n",
    "model.fit(features_train, target_train)\n",
    "\n",
    "# menghitung akurasi menggunakan features dan target validation\n",
    "result = model.score(features_valid,target_valid)\n",
    "\n",
    "# menampilkan output        \n",
    "print(\"Akurasi Model Terbaik (Regresi Logistik)\")\n",
    "print(f\"Akurasi\\t: {result:.5f}\")"
   ]
  },
  {
   "cell_type": "markdown",
   "metadata": {},
   "source": [
    "Disini kita mendapatkan skor yang lebih rendah dari kedua algoritma sebelumnya yang kita ujikan yaitu hanya `72.8%`."
   ]
  },
  {
   "cell_type": "markdown",
   "metadata": {},
   "source": [
    "## Model Dengan Algoritma Terbaik <a id='cont_12'></a>"
   ]
  },
  {
   "cell_type": "markdown",
   "metadata": {},
   "source": [
    "Dari pengujian sebelumnya, kita memilih algoritma terbaik dengan `hyperparameter`nya adalah `Algoritma Klasifikasi Random Forest` dengan kedalaman pohon `depth` sebanyak `7` dan jumlah pohon sebanyak `6`.\n",
    "\n",
    "Model tersebut hanya menggunakan `60%` dataset sebagai latihan, bagaimana jika kita tingkatkan menjadi `80%`, tentu berharap model akan bisa memprediksi dengan lebih baik.\n",
    "\n",
    "Mari kita gabungkan dataset training dan validasi menjadi satu dataset."
   ]
  },
  {
   "cell_type": "code",
   "execution_count": 18,
   "metadata": {},
   "outputs": [
    {
     "name": "stdout",
     "output_type": "stream",
     "text": [
      "New Dataset: (2249, 5)\n"
     ]
    },
    {
     "data": {
      "text/html": [
       "<style>#sk-container-id-1 {color: black;background-color: white;}#sk-container-id-1 pre{padding: 0;}#sk-container-id-1 div.sk-toggleable {background-color: white;}#sk-container-id-1 label.sk-toggleable__label {cursor: pointer;display: block;width: 100%;margin-bottom: 0;padding: 0.3em;box-sizing: border-box;text-align: center;}#sk-container-id-1 label.sk-toggleable__label-arrow:before {content: \"▸\";float: left;margin-right: 0.25em;color: #696969;}#sk-container-id-1 label.sk-toggleable__label-arrow:hover:before {color: black;}#sk-container-id-1 div.sk-estimator:hover label.sk-toggleable__label-arrow:before {color: black;}#sk-container-id-1 div.sk-toggleable__content {max-height: 0;max-width: 0;overflow: hidden;text-align: left;background-color: #f0f8ff;}#sk-container-id-1 div.sk-toggleable__content pre {margin: 0.2em;color: black;border-radius: 0.25em;background-color: #f0f8ff;}#sk-container-id-1 input.sk-toggleable__control:checked~div.sk-toggleable__content {max-height: 200px;max-width: 100%;overflow: auto;}#sk-container-id-1 input.sk-toggleable__control:checked~label.sk-toggleable__label-arrow:before {content: \"▾\";}#sk-container-id-1 div.sk-estimator input.sk-toggleable__control:checked~label.sk-toggleable__label {background-color: #d4ebff;}#sk-container-id-1 div.sk-label input.sk-toggleable__control:checked~label.sk-toggleable__label {background-color: #d4ebff;}#sk-container-id-1 input.sk-hidden--visually {border: 0;clip: rect(1px 1px 1px 1px);clip: rect(1px, 1px, 1px, 1px);height: 1px;margin: -1px;overflow: hidden;padding: 0;position: absolute;width: 1px;}#sk-container-id-1 div.sk-estimator {font-family: monospace;background-color: #f0f8ff;border: 1px dotted black;border-radius: 0.25em;box-sizing: border-box;margin-bottom: 0.5em;}#sk-container-id-1 div.sk-estimator:hover {background-color: #d4ebff;}#sk-container-id-1 div.sk-parallel-item::after {content: \"\";width: 100%;border-bottom: 1px solid gray;flex-grow: 1;}#sk-container-id-1 div.sk-label:hover label.sk-toggleable__label {background-color: #d4ebff;}#sk-container-id-1 div.sk-serial::before {content: \"\";position: absolute;border-left: 1px solid gray;box-sizing: border-box;top: 0;bottom: 0;left: 50%;z-index: 0;}#sk-container-id-1 div.sk-serial {display: flex;flex-direction: column;align-items: center;background-color: white;padding-right: 0.2em;padding-left: 0.2em;position: relative;}#sk-container-id-1 div.sk-item {position: relative;z-index: 1;}#sk-container-id-1 div.sk-parallel {display: flex;align-items: stretch;justify-content: center;background-color: white;position: relative;}#sk-container-id-1 div.sk-item::before, #sk-container-id-1 div.sk-parallel-item::before {content: \"\";position: absolute;border-left: 1px solid gray;box-sizing: border-box;top: 0;bottom: 0;left: 50%;z-index: -1;}#sk-container-id-1 div.sk-parallel-item {display: flex;flex-direction: column;z-index: 1;position: relative;background-color: white;}#sk-container-id-1 div.sk-parallel-item:first-child::after {align-self: flex-end;width: 50%;}#sk-container-id-1 div.sk-parallel-item:last-child::after {align-self: flex-start;width: 50%;}#sk-container-id-1 div.sk-parallel-item:only-child::after {width: 0;}#sk-container-id-1 div.sk-dashed-wrapped {border: 1px dashed gray;margin: 0 0.4em 0.5em 0.4em;box-sizing: border-box;padding-bottom: 0.4em;background-color: white;}#sk-container-id-1 div.sk-label label {font-family: monospace;font-weight: bold;display: inline-block;line-height: 1.2em;}#sk-container-id-1 div.sk-label-container {text-align: center;}#sk-container-id-1 div.sk-container {/* jupyter's `normalize.less` sets `[hidden] { display: none; }` but bootstrap.min.css set `[hidden] { display: none !important; }` so we also need the `!important` here to be able to override the default hidden behavior on the sphinx rendered scikit-learn.org. See: https://github.com/scikit-learn/scikit-learn/issues/21755 */display: inline-block !important;position: relative;}#sk-container-id-1 div.sk-text-repr-fallback {display: none;}</style><div id=\"sk-container-id-1\" class=\"sk-top-container\"><div class=\"sk-text-repr-fallback\"><pre>RandomForestClassifier(max_depth=7, n_estimators=6, random_state=147)</pre><b>In a Jupyter environment, please rerun this cell to show the HTML representation or trust the notebook. <br />On GitHub, the HTML representation is unable to render, please try loading this page with nbviewer.org.</b></div><div class=\"sk-container\" hidden><div class=\"sk-item\"><div class=\"sk-estimator sk-toggleable\"><input class=\"sk-toggleable__control sk-hidden--visually\" id=\"sk-estimator-id-1\" type=\"checkbox\" checked><label for=\"sk-estimator-id-1\" class=\"sk-toggleable__label sk-toggleable__label-arrow\">RandomForestClassifier</label><div class=\"sk-toggleable__content\"><pre>RandomForestClassifier(max_depth=7, n_estimators=6, random_state=147)</pre></div></div></div></div></div>"
      ],
      "text/plain": [
       "RandomForestClassifier(max_depth=7, n_estimators=6, random_state=147)"
      ]
     },
     "execution_count": 18,
     "metadata": {},
     "output_type": "execute_result"
    }
   ],
   "source": [
    "# melatih model menggunakan dataset training dan validasi untuk mendapatkan hasil yang lebih akurat menggunakan random forest\n",
    "\n",
    "# menggabungkan dataset training dan validasi\n",
    "merge_df = pd.concat([df_train,df_validation],axis=0)\n",
    "print('New Dataset:',merge_df.shape)\n",
    "\n",
    "# membagi dataset akhir menjadi fitur dan target\n",
    "features = merge_df.drop(['is_ultra'],axis=1)\n",
    "target = merge_df['is_ultra']\n",
    "\n",
    "# max_depth = 7\n",
    "# n_estimators = 6\n",
    "best_model = RandomForestClassifier(random_state=147, n_estimators=6, max_depth=7)\n",
    "\n",
    "# melatih model terbaik\n",
    "best_model.fit(features,target)"
   ]
  },
  {
   "cell_type": "markdown",
   "metadata": {},
   "source": [
    "## Menguji Kelayakan Model (Sanity Check) <a id='cont_13'></a>"
   ]
  },
  {
   "cell_type": "markdown",
   "metadata": {},
   "source": [
    "Mari kita uji kelayakanya `sanity check` menggunakan `dataset testing` yang sudah dibuat sebelumnya dimana jawaban yang benar tidak dimasukan pada saat pelatihan model terbaik."
   ]
  },
  {
   "cell_type": "code",
   "execution_count": 19,
   "metadata": {},
   "outputs": [
    {
     "name": "stdout",
     "output_type": "stream",
     "text": [
      "Akurasi best_model: 0.8072538860103627\n"
     ]
    }
   ],
   "source": [
    "# uji kelayakan model (sanity check)\n",
    "accuracy = best_model.score(features_test,target_test)\n",
    "\n",
    "# menampilkan output\n",
    "print(\"Akurasi best_model:\",accuracy)"
   ]
  },
  {
   "cell_type": "markdown",
   "metadata": {},
   "source": [
    "Bisa dilihat ternyata akurasinya masih bertahan disekitar `81%` dan masih diatas ambang batas akurasi skor `75%`."
   ]
  },
  {
   "cell_type": "markdown",
   "metadata": {},
   "source": [
    "# Aplikasi Model Machine Learning <a id='cont_14'></a>"
   ]
  },
  {
   "cell_type": "markdown",
   "metadata": {},
   "source": [
    "Disini kita akan membuat sembarang dataset dimana kita akan mengetahui paket mana yang cocok jika kita memiliki fitur-fitur seperti berikut."
   ]
  },
  {
   "cell_type": "code",
   "execution_count": 20,
   "metadata": {},
   "outputs": [
    {
     "data": {
      "text/html": [
       "<div>\n",
       "<style scoped>\n",
       "    .dataframe tbody tr th:only-of-type {\n",
       "        vertical-align: middle;\n",
       "    }\n",
       "\n",
       "    .dataframe tbody tr th {\n",
       "        vertical-align: top;\n",
       "    }\n",
       "\n",
       "    .dataframe thead th {\n",
       "        text-align: right;\n",
       "    }\n",
       "</style>\n",
       "<table border=\"1\" class=\"dataframe\">\n",
       "  <thead>\n",
       "    <tr style=\"text-align: right;\">\n",
       "      <th></th>\n",
       "      <th>calls</th>\n",
       "      <th>minutes</th>\n",
       "      <th>messages</th>\n",
       "      <th>mb_used</th>\n",
       "    </tr>\n",
       "  </thead>\n",
       "  <tbody>\n",
       "    <tr>\n",
       "      <th>0</th>\n",
       "      <td>70</td>\n",
       "      <td>100</td>\n",
       "      <td>50</td>\n",
       "      <td>10000</td>\n",
       "    </tr>\n",
       "    <tr>\n",
       "      <th>1</th>\n",
       "      <td>20</td>\n",
       "      <td>85</td>\n",
       "      <td>35</td>\n",
       "      <td>500</td>\n",
       "    </tr>\n",
       "    <tr>\n",
       "      <th>2</th>\n",
       "      <td>50</td>\n",
       "      <td>300</td>\n",
       "      <td>300</td>\n",
       "      <td>7000</td>\n",
       "    </tr>\n",
       "    <tr>\n",
       "      <th>3</th>\n",
       "      <td>100</td>\n",
       "      <td>250</td>\n",
       "      <td>60</td>\n",
       "      <td>3000</td>\n",
       "    </tr>\n",
       "    <tr>\n",
       "      <th>4</th>\n",
       "      <td>90</td>\n",
       "      <td>30</td>\n",
       "      <td>500</td>\n",
       "      <td>1000</td>\n",
       "    </tr>\n",
       "  </tbody>\n",
       "</table>\n",
       "</div>"
      ],
      "text/plain": [
       "   calls  minutes  messages  mb_used\n",
       "0     70      100        50    10000\n",
       "1     20       85        35      500\n",
       "2     50      300       300     7000\n",
       "3    100      250        60     3000\n",
       "4     90       30       500     1000"
      ]
     },
     "execution_count": 20,
     "metadata": {},
     "output_type": "execute_result"
    }
   ],
   "source": [
    "# membuat sembarang dataframe untuk menguji model yang terpilih\n",
    "data_test = pd.DataFrame({\n",
    "    'calls':[70,20,50,100,90],\n",
    "    'minutes':[100,85,300,250,30],\n",
    "    'messages':[50,35,300,60,500],\n",
    "    'mb_used':[10000,500,7000,3000,1000]\n",
    "})\n",
    "\n",
    "# menampilkan dataframe\n",
    "data_test"
   ]
  },
  {
   "cell_type": "markdown",
   "metadata": {},
   "source": [
    "Mari kita prediksi paketnya untuk kelima pengguna tersebut."
   ]
  },
  {
   "cell_type": "code",
   "execution_count": 21,
   "metadata": {},
   "outputs": [
    {
     "data": {
      "text/plain": [
       "array([0, 0, 1, 1, 1], dtype=int64)"
      ]
     },
     "execution_count": 21,
     "metadata": {},
     "output_type": "execute_result"
    }
   ],
   "source": [
    "# memprediksi data_test\n",
    "best_model.predict(data_test)"
   ]
  },
  {
   "cell_type": "markdown",
   "metadata": {},
   "source": [
    "Bisa dilihat kita bisa memprediksi user yang menggunakan paket `smart` sebanyak 2 user dan paket `ultra` sebanyak 3 user."
   ]
  },
  {
   "cell_type": "markdown",
   "metadata": {},
   "source": [
    "# Kesimpulan Umum <a id='cont_15'></a>"
   ]
  },
  {
   "cell_type": "markdown",
   "metadata": {},
   "source": [
    "Dari projek ini kita sudah memuat library yang diperlukan, mempersiapkan dataset, membagi dataset, melatih serta menguji `model machine learning` untuk memprediksi paket yang direkomendasikan kepada user berdasarkan prilaku user. Dapat disimpulkan sebagai berikut:\n",
    "- Pembagian dataset untuk melatih serta menguji `model machine learning` dibagi menjadi `60%` untuk `training`, `20%` untuk `validasi` dan `20%` untuk `testing`.\n",
    "- Algoritma yang diujikan diantaranya: `Klasifikasi Decision Tree`, `Klasifikasi Random Forest` dan `Regresi Logistik`.\n",
    "- Algoritma terbaik dengan `hyperparameter`nya adalah `Algoritma Klasifikasi Random Forest` dengan kedalaman pohon `depth` sebanyak `7` dan jumlah pohon sebanyak `6` menghasilkan akurasi skor `81%`.\n",
    "- Pengujian kelayakan `Sanity Check` dilakukan dan model mampu mempertahankan akurasi skornya sebesar `81%`."
   ]
  }
 ],
 "metadata": {
  "kernelspec": {
   "display_name": "Python 3 (ipykernel)",
   "language": "python",
   "name": "python3"
  },
  "language_info": {
   "codemirror_mode": {
    "name": "ipython",
    "version": 3
   },
   "file_extension": ".py",
   "mimetype": "text/x-python",
   "name": "python",
   "nbconvert_exporter": "python",
   "pygments_lexer": "ipython3",
   "version": "3.11.5"
  },
  "toc": {
   "base_numbering": 1,
   "nav_menu": {},
   "number_sections": true,
   "sideBar": true,
   "skip_h1_title": true,
   "title_cell": "Table of Contents",
   "title_sidebar": "Contents",
   "toc_cell": false,
   "toc_position": {},
   "toc_section_display": true,
   "toc_window_display": false
  }
 },
 "nbformat": 4,
 "nbformat_minor": 2
}
