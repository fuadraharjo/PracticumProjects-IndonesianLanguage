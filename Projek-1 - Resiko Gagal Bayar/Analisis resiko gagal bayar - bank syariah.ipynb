{
 "cells": [
  {
   "attachments": {},
   "cell_type": "markdown",
   "metadata": {},
   "source": [
    "# Menganalisis Risiko Gagal Bayar: Studi Kasus Bank Syariah <a id='intro'></a>\n",
    "\n",
    "Sebuah `Bank Syariah` yang menerapkan akad syariah `agama islam` dalam proses bisnisnya dimana hanya menyediakan layanan jual beli, bukan akad peminjaman uang dengan riba terhadap pihak pertama (`developer/penjual`), kedua(`bank`) dan ketiga(`nasabah`). Nasabah yang menginginkan sesuatu namun terkendala biaya bisa menggunakan fasilitas ini, dimana barang dibeli oleh bank kemudian dijual kembali dengan margin yang lebih tinggi kepada nasabah dengan pembayaran cicil selama jangka waktu tertentu. Tugas kita adalah menyiapkan laporan untuk divisi bisnis suatu bank. Kita akan mencari tahu pengaruh status perkawinan seorang nasabah dan jumlah anak yang dimilikinya terhadap probabilitas gagal bayar dalam pelunasan cicilan. Pihak bank sudah memiliki beberapa data mengenai kelayakan nasabah. Dataset ini bukan merupakan dataset asli dari `Bank Syariah`, hanya dijadikan sebagai tujuan pembelajaran.\n",
    "\n",
    "Tujuan utama yang dilakukan adalah untuk mengetahui seberapa besar resiko `Gagal Bayar` yang dilakukan nasabah berdasarkan beberapa kategori diantaranya `Tingkat Pendapatan`, `Status Keluarga`, `Tujuan Cicilan` dan `Jumlah Anak` agar digunakan oleh perusahaan untuk menilai calon nasabahnya. Hipotesis yang dibuat untuk analisa `Gagal Bayar` diantaranya:\n",
    "- Apakah benar bahwa peringkat tertinggi `Gagal Bayar` oleh nasabah dengan `Tingkat Pendapatan Rendah`?\n",
    "- Apakah benar bahwa peringkat tertinggi `Gagal Bayar` oleh nasabah dengan status keluarga `Unmarried`?\n",
    "- Apakah benar bahwa peringkat tertinggi `Gagal Bayar` oleh nasabah dengan tujuan kredit `Keperluan Estate`?\n",
    "- Apakah benar bahwa peringkat tertinggi `Gagal Bayar` oleh nasabah dengan nasabah yang `Tidak Mempunyai Anak`?"
   ]
  },
  {
   "attachments": {},
   "cell_type": "markdown",
   "metadata": {},
   "source": [
    "# Konten <a id='back'></a>\n",
    "\n",
    "* [Pendahuluan](#intro)\n",
    "* [Tahap 1. Eksplorasi Data](#cont_1)\n",
    "    * [1.1 Buka *file* data dan informasi umum data](#cont_2)\n",
    "    * [1.2 Kesimpulan sementara](#cont_3)\n",
    "* [Tahap 2. Transformasi Data](#cont_4)\n",
    "    * [2.1 Bekerja dengan nilai yang hilang](#cont_5)\n",
    "    * [2.2 Memperbaiki nilai yang hilang di **{total_income}**](#cont_6)\n",
    "    * [2.3 Memperbaiki nilai di **{days_employed}**](#cont_7)\n",
    "    * [2.4 Pengkategorian Data](#cont_8)\n",
    "* [Tahap 3. Memeriksa Hipotesis](#cont_9)\n",
    "    * [3.1 Hipotesis 1: Apakah terdapat korelasi antara memiliki anak dengan probabilitas melakukan gagal bayar?](#cont_10)\n",
    "    * [3.2 Hipotesis 2: Apakah terdapat korelasi antara status keluarga dengan probabilitas melakukan gagal bayar?](#cont_11)\n",
    "    * [3.3 Hipotesis 3: Apakah terdapat korelasi antara tingkat pendapatan dengan probabilitas melakukan gagal bayar?](#cont_12)\n",
    "    * [3.4 Hipotesis 3: Bagaimana tujuan cicilan memengaruhi persentase gagal bayar?](#cont_13)\n",
    "* [Tahap 4. Kesimpulan Umum](#cont_14)"
   ]
  },
  {
   "attachments": {},
   "cell_type": "markdown",
   "metadata": {},
   "source": [
    "## Buka *file* data dan informasi umum data <a id= 'cont_2' ></a>"
   ]
  },
  {
   "attachments": {},
   "cell_type": "markdown",
   "metadata": {},
   "source": [
    "Library yang digunakan adalah `pandas` sebagai dataframe analisis dan `numpy` sebagai generator nan values. Dataset yang digunakan berasal dari `customers_scoring_eng.csv`. Dataset ini bukan merupakan dataset asli dari bank syariah dan ini hanya sebuah latihan analisis."
   ]
  },
  {
   "cell_type": "code",
   "execution_count": 3,
   "metadata": {},
   "outputs": [],
   "source": [
    "# memuat library yang dibutuhkan\n",
    "import pandas as pd\n",
    "import numpy as np"
   ]
  },
  {
   "cell_type": "code",
   "execution_count": 4,
   "metadata": {},
   "outputs": [],
   "source": [
    "# memuat dataset\n",
    "df = pd.read_csv('customers_scoring_eng.csv')"
   ]
  },
  {
   "attachments": {},
   "cell_type": "markdown",
   "metadata": {},
   "source": [
    "## Eksplorasi Data <a id= 'cont_1' ></a>\n",
    "\n",
    "**Deskripsi Data**\n",
    "Dataset berisi berbagai variabel/kolom yang dirincikan sebagai berikut:\n",
    "- `children` - jumlah anak dalam keluarga\n",
    "- `days_employed` - pengalaman kerja nasabah dalam hari\n",
    "- `dob_years` - usia nasabah dalam tahun\n",
    "- `education` - tingkat pendidikan nasabah\n",
    "- `education_id` - pengidentifikasi untuk tingkat pendidikan nasabah\n",
    "- `family_status` - pengidentifikasi untuk status perkawinan nasabah\n",
    "- `family_status_id` - tanda pengenal status perkawinan\n",
    "- `gender` - jenis kelamin nasabah\n",
    "- `income_type` - jenis pekerjaan\n",
    "- `debt` - apakah nasabah pernah melakukan gagal bayar pinjaman\n",
    "- `total_income` - pendapatan bulanan\n",
    "- `purpose` - tujuan mendapatkan pinjaman\n"
   ]
  },
  {
   "cell_type": "code",
   "execution_count": 5,
   "metadata": {
    "scrolled": true
   },
   "outputs": [
    {
     "name": "stdout",
     "output_type": "stream",
     "text": [
      "<class 'pandas.core.frame.DataFrame'>\n",
      "RangeIndex: 21525 entries, 0 to 21524\n",
      "Data columns (total 12 columns):\n",
      " #   Column            Non-Null Count  Dtype  \n",
      "---  ------            --------------  -----  \n",
      " 0   children          21525 non-null  int64  \n",
      " 1   days_employed     19351 non-null  float64\n",
      " 2   dob_years         21525 non-null  int64  \n",
      " 3   education         21525 non-null  object \n",
      " 4   education_id      21525 non-null  int64  \n",
      " 5   family_status     21525 non-null  object \n",
      " 6   family_status_id  21525 non-null  int64  \n",
      " 7   gender            21525 non-null  object \n",
      " 8   income_type       21525 non-null  object \n",
      " 9   debt              21525 non-null  int64  \n",
      " 10  total_income      19351 non-null  float64\n",
      " 11  purpose           21525 non-null  object \n",
      "dtypes: float64(2), int64(5), object(5)\n",
      "memory usage: 2.0+ MB\n"
     ]
    },
    {
     "data": {
      "text/html": [
       "<div>\n",
       "<style scoped>\n",
       "    .dataframe tbody tr th:only-of-type {\n",
       "        vertical-align: middle;\n",
       "    }\n",
       "\n",
       "    .dataframe tbody tr th {\n",
       "        vertical-align: top;\n",
       "    }\n",
       "\n",
       "    .dataframe thead th {\n",
       "        text-align: right;\n",
       "    }\n",
       "</style>\n",
       "<table border=\"1\" class=\"dataframe\">\n",
       "  <thead>\n",
       "    <tr style=\"text-align: right;\">\n",
       "      <th></th>\n",
       "      <th>children</th>\n",
       "      <th>days_employed</th>\n",
       "      <th>dob_years</th>\n",
       "      <th>education</th>\n",
       "      <th>education_id</th>\n",
       "      <th>family_status</th>\n",
       "      <th>family_status_id</th>\n",
       "      <th>gender</th>\n",
       "      <th>income_type</th>\n",
       "      <th>debt</th>\n",
       "      <th>total_income</th>\n",
       "      <th>purpose</th>\n",
       "    </tr>\n",
       "  </thead>\n",
       "  <tbody>\n",
       "    <tr>\n",
       "      <th>0</th>\n",
       "      <td>1</td>\n",
       "      <td>-8437.673028</td>\n",
       "      <td>42</td>\n",
       "      <td>bachelor's degree</td>\n",
       "      <td>0</td>\n",
       "      <td>married</td>\n",
       "      <td>0</td>\n",
       "      <td>F</td>\n",
       "      <td>employee</td>\n",
       "      <td>0</td>\n",
       "      <td>40620.102</td>\n",
       "      <td>purchase of the house</td>\n",
       "    </tr>\n",
       "    <tr>\n",
       "      <th>1</th>\n",
       "      <td>1</td>\n",
       "      <td>-4024.803754</td>\n",
       "      <td>36</td>\n",
       "      <td>secondary education</td>\n",
       "      <td>1</td>\n",
       "      <td>married</td>\n",
       "      <td>0</td>\n",
       "      <td>F</td>\n",
       "      <td>employee</td>\n",
       "      <td>0</td>\n",
       "      <td>17932.802</td>\n",
       "      <td>car purchase</td>\n",
       "    </tr>\n",
       "    <tr>\n",
       "      <th>2</th>\n",
       "      <td>0</td>\n",
       "      <td>-5623.422610</td>\n",
       "      <td>33</td>\n",
       "      <td>Secondary Education</td>\n",
       "      <td>1</td>\n",
       "      <td>married</td>\n",
       "      <td>0</td>\n",
       "      <td>M</td>\n",
       "      <td>employee</td>\n",
       "      <td>0</td>\n",
       "      <td>23341.752</td>\n",
       "      <td>purchase of the house</td>\n",
       "    </tr>\n",
       "    <tr>\n",
       "      <th>3</th>\n",
       "      <td>3</td>\n",
       "      <td>-4124.747207</td>\n",
       "      <td>32</td>\n",
       "      <td>secondary education</td>\n",
       "      <td>1</td>\n",
       "      <td>married</td>\n",
       "      <td>0</td>\n",
       "      <td>M</td>\n",
       "      <td>employee</td>\n",
       "      <td>0</td>\n",
       "      <td>42820.568</td>\n",
       "      <td>supplementary education</td>\n",
       "    </tr>\n",
       "    <tr>\n",
       "      <th>4</th>\n",
       "      <td>0</td>\n",
       "      <td>340266.072047</td>\n",
       "      <td>53</td>\n",
       "      <td>secondary education</td>\n",
       "      <td>1</td>\n",
       "      <td>civil partnership</td>\n",
       "      <td>1</td>\n",
       "      <td>F</td>\n",
       "      <td>retiree</td>\n",
       "      <td>0</td>\n",
       "      <td>25378.572</td>\n",
       "      <td>to have a wedding</td>\n",
       "    </tr>\n",
       "  </tbody>\n",
       "</table>\n",
       "</div>"
      ],
      "text/plain": [
       "   children  days_employed  dob_years            education  education_id   \n",
       "0         1   -8437.673028         42    bachelor's degree             0  \\\n",
       "1         1   -4024.803754         36  secondary education             1   \n",
       "2         0   -5623.422610         33  Secondary Education             1   \n",
       "3         3   -4124.747207         32  secondary education             1   \n",
       "4         0  340266.072047         53  secondary education             1   \n",
       "\n",
       "       family_status  family_status_id gender income_type  debt  total_income   \n",
       "0            married                 0      F    employee     0     40620.102  \\\n",
       "1            married                 0      F    employee     0     17932.802   \n",
       "2            married                 0      M    employee     0     23341.752   \n",
       "3            married                 0      M    employee     0     42820.568   \n",
       "4  civil partnership                 1      F     retiree     0     25378.572   \n",
       "\n",
       "                   purpose  \n",
       "0    purchase of the house  \n",
       "1             car purchase  \n",
       "2    purchase of the house  \n",
       "3  supplementary education  \n",
       "4        to have a wedding  "
      ]
     },
     "execution_count": 5,
     "metadata": {},
     "output_type": "execute_result"
    }
   ],
   "source": [
    "# menampilkan informasi dataset\n",
    "df.info()\n",
    "\n",
    "# menampilkan sampel dataset\n",
    "df.head()"
   ]
  },
  {
   "attachments": {},
   "cell_type": "markdown",
   "metadata": {},
   "source": [
    "Jumlah baris dan kolom pada dataframe `credit_score` yaitu sebanyak `21525 baris` dan `12 kolom`\n",
    "\n",
    "Dari dataframe tersebut terlihat beberapa kesalahan yang perlu diperbaiki untuk mempermudah dalam menganalisis daintaranya:\n",
    "- Pada kolom `days_employed` terdapat angka negatif dan masih berupa float number \n",
    "- Pada kolom `education` tiap value berisi makna yang sama namun beda penulisan dalam bentuk huruf besar dan kecil\n",
    "- Pada kolom `total_income` untuk values masih menggunakan float number yang panjang"
   ]
  },
  {
   "attachments": {},
   "cell_type": "markdown",
   "metadata": {},
   "source": [
    "**Memfilter Data yang Hilang**"
   ]
  },
  {
   "cell_type": "code",
   "execution_count": 6,
   "metadata": {
    "scrolled": true
   },
   "outputs": [
    {
     "data": {
      "text/html": [
       "<div>\n",
       "<style scoped>\n",
       "    .dataframe tbody tr th:only-of-type {\n",
       "        vertical-align: middle;\n",
       "    }\n",
       "\n",
       "    .dataframe tbody tr th {\n",
       "        vertical-align: top;\n",
       "    }\n",
       "\n",
       "    .dataframe thead th {\n",
       "        text-align: right;\n",
       "    }\n",
       "</style>\n",
       "<table border=\"1\" class=\"dataframe\">\n",
       "  <thead>\n",
       "    <tr style=\"text-align: right;\">\n",
       "      <th></th>\n",
       "      <th>children</th>\n",
       "      <th>days_employed</th>\n",
       "      <th>dob_years</th>\n",
       "      <th>education</th>\n",
       "      <th>education_id</th>\n",
       "      <th>family_status</th>\n",
       "      <th>family_status_id</th>\n",
       "      <th>gender</th>\n",
       "      <th>income_type</th>\n",
       "      <th>debt</th>\n",
       "      <th>total_income</th>\n",
       "      <th>purpose</th>\n",
       "    </tr>\n",
       "  </thead>\n",
       "  <tbody>\n",
       "    <tr>\n",
       "      <th>12</th>\n",
       "      <td>0</td>\n",
       "      <td>NaN</td>\n",
       "      <td>65</td>\n",
       "      <td>secondary education</td>\n",
       "      <td>1</td>\n",
       "      <td>civil partnership</td>\n",
       "      <td>1</td>\n",
       "      <td>M</td>\n",
       "      <td>retiree</td>\n",
       "      <td>0</td>\n",
       "      <td>NaN</td>\n",
       "      <td>to have a wedding</td>\n",
       "    </tr>\n",
       "    <tr>\n",
       "      <th>26</th>\n",
       "      <td>0</td>\n",
       "      <td>NaN</td>\n",
       "      <td>41</td>\n",
       "      <td>secondary education</td>\n",
       "      <td>1</td>\n",
       "      <td>married</td>\n",
       "      <td>0</td>\n",
       "      <td>M</td>\n",
       "      <td>civil servant</td>\n",
       "      <td>0</td>\n",
       "      <td>NaN</td>\n",
       "      <td>education</td>\n",
       "    </tr>\n",
       "    <tr>\n",
       "      <th>29</th>\n",
       "      <td>0</td>\n",
       "      <td>NaN</td>\n",
       "      <td>63</td>\n",
       "      <td>secondary education</td>\n",
       "      <td>1</td>\n",
       "      <td>unmarried</td>\n",
       "      <td>4</td>\n",
       "      <td>F</td>\n",
       "      <td>retiree</td>\n",
       "      <td>0</td>\n",
       "      <td>NaN</td>\n",
       "      <td>building a real estate</td>\n",
       "    </tr>\n",
       "    <tr>\n",
       "      <th>41</th>\n",
       "      <td>0</td>\n",
       "      <td>NaN</td>\n",
       "      <td>50</td>\n",
       "      <td>secondary education</td>\n",
       "      <td>1</td>\n",
       "      <td>married</td>\n",
       "      <td>0</td>\n",
       "      <td>F</td>\n",
       "      <td>civil servant</td>\n",
       "      <td>0</td>\n",
       "      <td>NaN</td>\n",
       "      <td>second-hand car purchase</td>\n",
       "    </tr>\n",
       "    <tr>\n",
       "      <th>55</th>\n",
       "      <td>0</td>\n",
       "      <td>NaN</td>\n",
       "      <td>54</td>\n",
       "      <td>secondary education</td>\n",
       "      <td>1</td>\n",
       "      <td>civil partnership</td>\n",
       "      <td>1</td>\n",
       "      <td>F</td>\n",
       "      <td>retiree</td>\n",
       "      <td>1</td>\n",
       "      <td>NaN</td>\n",
       "      <td>to have a wedding</td>\n",
       "    </tr>\n",
       "  </tbody>\n",
       "</table>\n",
       "</div>"
      ],
      "text/plain": [
       "    children  days_employed  dob_years            education  education_id   \n",
       "12         0            NaN         65  secondary education             1  \\\n",
       "26         0            NaN         41  secondary education             1   \n",
       "29         0            NaN         63  secondary education             1   \n",
       "41         0            NaN         50  secondary education             1   \n",
       "55         0            NaN         54  secondary education             1   \n",
       "\n",
       "        family_status  family_status_id gender    income_type  debt   \n",
       "12  civil partnership                 1      M        retiree     0  \\\n",
       "26            married                 0      M  civil servant     0   \n",
       "29          unmarried                 4      F        retiree     0   \n",
       "41            married                 0      F  civil servant     0   \n",
       "55  civil partnership                 1      F        retiree     1   \n",
       "\n",
       "    total_income                   purpose  \n",
       "12           NaN         to have a wedding  \n",
       "26           NaN                 education  \n",
       "29           NaN    building a real estate  \n",
       "41           NaN  second-hand car purchase  \n",
       "55           NaN         to have a wedding  "
      ]
     },
     "execution_count": 6,
     "metadata": {},
     "output_type": "execute_result"
    }
   ],
   "source": [
    "# mari kita lihat tabel yang telah difilter dengan nilai yang hilang di kolom pertama yang mengandung data yang hilang\n",
    "df_filter = df[df['days_employed'].isna()]\n",
    "\n",
    "# menampilkan sampel dataset yang hilang\n",
    "df_filter.head()"
   ]
  },
  {
   "cell_type": "code",
   "execution_count": 7,
   "metadata": {},
   "outputs": [
    {
     "data": {
      "text/plain": [
       "children               0\n",
       "days_employed       2174\n",
       "dob_years              0\n",
       "education              0\n",
       "education_id           0\n",
       "family_status          0\n",
       "family_status_id       0\n",
       "gender                 0\n",
       "income_type            0\n",
       "debt                   0\n",
       "total_income        2174\n",
       "purpose                0\n",
       "dtype: int64"
      ]
     },
     "execution_count": 7,
     "metadata": {},
     "output_type": "execute_result"
    }
   ],
   "source": [
    "# menghitung jumlah nilai yang hilang\n",
    "df.isna().sum()"
   ]
  },
  {
   "attachments": {},
   "cell_type": "markdown",
   "metadata": {},
   "source": [
    "Dari informasi diatas terlihat bahwa ada indikasi kemiripan antara `days_employed` dan `total_income` untuk nilai yang `hilang` dengan dibuktikanya pengecekan nilai `kosong` dan berjumlah sama `2174`. Selanjutnya kita akan membuktikanya."
   ]
  },
  {
   "cell_type": "code",
   "execution_count": 8,
   "metadata": {},
   "outputs": [
    {
     "name": "stdout",
     "output_type": "stream",
     "text": [
      "days_employed --> 2174\n",
      "total_income --> 2174\n"
     ]
    }
   ],
   "source": [
    "# mengecek relasi nilai yang hilang antara kolom `days_employed` dan `total_income`\n",
    "df_filter_simmetry = df.loc[(df['days_employed'].isna()) & (df['total_income'].isna())]\n",
    "\n",
    "# jumlah nilai yang hilang pada kolom `days_employed` dan `total_income`\n",
    "print('days_employed -->', df_filter_simmetry['days_employed'].isna().sum())\n",
    "print('total_income -->', df_filter_simmetry['total_income'].isna().sum())"
   ]
  },
  {
   "cell_type": "code",
   "execution_count": 9,
   "metadata": {},
   "outputs": [
    {
     "name": "stdout",
     "output_type": "stream",
     "text": [
      "Missing Values --> 10.10%\n"
     ]
    }
   ],
   "source": [
    "# menghitung persentase nilai yang hilang\n",
    "mean_missing_values = df['days_employed'].isna().sum()/len(df)\n",
    "print(f'Missing Values --> {mean_missing_values:.2%}')"
   ]
  },
  {
   "attachments": {},
   "cell_type": "markdown",
   "metadata": {},
   "source": [
    "Setelah pengecekan, benar bahwa jumlah nilai `hilang` pada kolom `days_employed` sama dengan jumlah nilai `hilang` pada kolom `total_income` sebesar `2174` dan persentase nilai yang hilang sebesar `10.10%`. Hal tersebut mengindikasikan bahwa nilai `hilang` tersebut bukan merupakan nilai acak dan ada indikasi kesalahan teknis. Mari kita buktikan"
   ]
  },
  {
   "attachments": {},
   "cell_type": "markdown",
   "metadata": {},
   "source": [
    "**Mengecek Distribusi pada DF_Filter**"
   ]
  },
  {
   "cell_type": "code",
   "execution_count": 10,
   "metadata": {
    "scrolled": true
   },
   "outputs": [
    {
     "data": {
      "text/html": [
       "<div>\n",
       "<style scoped>\n",
       "    .dataframe tbody tr th:only-of-type {\n",
       "        vertical-align: middle;\n",
       "    }\n",
       "\n",
       "    .dataframe tbody tr th {\n",
       "        vertical-align: top;\n",
       "    }\n",
       "\n",
       "    .dataframe thead th {\n",
       "        text-align: right;\n",
       "    }\n",
       "</style>\n",
       "<table border=\"1\" class=\"dataframe\">\n",
       "  <thead>\n",
       "    <tr style=\"text-align: right;\">\n",
       "      <th></th>\n",
       "      <th>percent%</th>\n",
       "      <th>count</th>\n",
       "    </tr>\n",
       "    <tr>\n",
       "      <th>unique</th>\n",
       "      <th></th>\n",
       "      <th></th>\n",
       "    </tr>\n",
       "  </thead>\n",
       "  <tbody>\n",
       "    <tr>\n",
       "      <th>0</th>\n",
       "      <td>66.19%</td>\n",
       "      <td>1439</td>\n",
       "    </tr>\n",
       "    <tr>\n",
       "      <th>1</th>\n",
       "      <td>21.85%</td>\n",
       "      <td>475</td>\n",
       "    </tr>\n",
       "    <tr>\n",
       "      <th>2</th>\n",
       "      <td>9.38%</td>\n",
       "      <td>204</td>\n",
       "    </tr>\n",
       "    <tr>\n",
       "      <th>3</th>\n",
       "      <td>1.66%</td>\n",
       "      <td>36</td>\n",
       "    </tr>\n",
       "    <tr>\n",
       "      <th>20</th>\n",
       "      <td>0.41%</td>\n",
       "      <td>9</td>\n",
       "    </tr>\n",
       "    <tr>\n",
       "      <th>4</th>\n",
       "      <td>0.32%</td>\n",
       "      <td>7</td>\n",
       "    </tr>\n",
       "    <tr>\n",
       "      <th>-1</th>\n",
       "      <td>0.14%</td>\n",
       "      <td>3</td>\n",
       "    </tr>\n",
       "    <tr>\n",
       "      <th>5</th>\n",
       "      <td>0.05%</td>\n",
       "      <td>1</td>\n",
       "    </tr>\n",
       "  </tbody>\n",
       "</table>\n",
       "</div>"
      ],
      "text/plain": [
       "       percent%  count\n",
       "unique                \n",
       " 0       66.19%   1439\n",
       " 1       21.85%    475\n",
       " 2        9.38%    204\n",
       " 3        1.66%     36\n",
       " 20       0.41%      9\n",
       " 4        0.32%      7\n",
       "-1        0.14%      3\n",
       " 5        0.05%      1"
      ]
     },
     "execution_count": 10,
     "metadata": {},
     "output_type": "execute_result"
    }
   ],
   "source": [
    "# distribusi children\n",
    "child_count = df_filter[\"children\"].value_counts()\n",
    "child_percent = df_filter[\"children\"].value_counts(normalize=True).mul(100).round(2).astype(str)+\"%\"\n",
    "pd.DataFrame(data={\"percent%\" : child_count.index.map(child_percent), \"count\" : child_count}).rename_axis(\"unique\")"
   ]
  },
  {
   "cell_type": "code",
   "execution_count": 11,
   "metadata": {
    "scrolled": false
   },
   "outputs": [
    {
     "data": {
      "text/html": [
       "<div>\n",
       "<style scoped>\n",
       "    .dataframe tbody tr th:only-of-type {\n",
       "        vertical-align: middle;\n",
       "    }\n",
       "\n",
       "    .dataframe tbody tr th {\n",
       "        vertical-align: top;\n",
       "    }\n",
       "\n",
       "    .dataframe thead th {\n",
       "        text-align: right;\n",
       "    }\n",
       "</style>\n",
       "<table border=\"1\" class=\"dataframe\">\n",
       "  <thead>\n",
       "    <tr style=\"text-align: right;\">\n",
       "      <th></th>\n",
       "      <th>percent%</th>\n",
       "      <th>count</th>\n",
       "    </tr>\n",
       "    <tr>\n",
       "      <th>unique</th>\n",
       "      <th></th>\n",
       "      <th></th>\n",
       "    </tr>\n",
       "  </thead>\n",
       "  <tbody>\n",
       "    <tr>\n",
       "      <th>secondary education</th>\n",
       "      <td>64.77%</td>\n",
       "      <td>1408</td>\n",
       "    </tr>\n",
       "    <tr>\n",
       "      <th>bachelor's degree</th>\n",
       "      <td>22.82%</td>\n",
       "      <td>496</td>\n",
       "    </tr>\n",
       "    <tr>\n",
       "      <th>SECONDARY EDUCATION</th>\n",
       "      <td>3.08%</td>\n",
       "      <td>67</td>\n",
       "    </tr>\n",
       "    <tr>\n",
       "      <th>Secondary Education</th>\n",
       "      <td>2.99%</td>\n",
       "      <td>65</td>\n",
       "    </tr>\n",
       "    <tr>\n",
       "      <th>some college</th>\n",
       "      <td>2.53%</td>\n",
       "      <td>55</td>\n",
       "    </tr>\n",
       "    <tr>\n",
       "      <th>Bachelor's Degree</th>\n",
       "      <td>1.15%</td>\n",
       "      <td>25</td>\n",
       "    </tr>\n",
       "    <tr>\n",
       "      <th>BACHELOR'S DEGREE</th>\n",
       "      <td>1.06%</td>\n",
       "      <td>23</td>\n",
       "    </tr>\n",
       "    <tr>\n",
       "      <th>primary education</th>\n",
       "      <td>0.87%</td>\n",
       "      <td>19</td>\n",
       "    </tr>\n",
       "    <tr>\n",
       "      <th>Some College</th>\n",
       "      <td>0.32%</td>\n",
       "      <td>7</td>\n",
       "    </tr>\n",
       "    <tr>\n",
       "      <th>SOME COLLEGE</th>\n",
       "      <td>0.32%</td>\n",
       "      <td>7</td>\n",
       "    </tr>\n",
       "    <tr>\n",
       "      <th>Primary Education</th>\n",
       "      <td>0.05%</td>\n",
       "      <td>1</td>\n",
       "    </tr>\n",
       "    <tr>\n",
       "      <th>PRIMARY EDUCATION</th>\n",
       "      <td>0.05%</td>\n",
       "      <td>1</td>\n",
       "    </tr>\n",
       "  </tbody>\n",
       "</table>\n",
       "</div>"
      ],
      "text/plain": [
       "                    percent%  count\n",
       "unique                             \n",
       "secondary education   64.77%   1408\n",
       "bachelor's degree     22.82%    496\n",
       "SECONDARY EDUCATION    3.08%     67\n",
       "Secondary Education    2.99%     65\n",
       "some college           2.53%     55\n",
       "Bachelor's Degree      1.15%     25\n",
       "BACHELOR'S DEGREE      1.06%     23\n",
       "primary education      0.87%     19\n",
       "Some College           0.32%      7\n",
       "SOME COLLEGE           0.32%      7\n",
       "Primary Education      0.05%      1\n",
       "PRIMARY EDUCATION      0.05%      1"
      ]
     },
     "execution_count": 11,
     "metadata": {},
     "output_type": "execute_result"
    }
   ],
   "source": [
    "# distribusi education\n",
    "edu_count = df_filter[\"education\"].value_counts()\n",
    "edu_percent = df_filter[\"education\"].value_counts(normalize=True).mul(100).round(2).astype(str)+\"%\"\n",
    "pd.DataFrame(data={\"percent%\" : edu_count.index.map(edu_percent), \"count\" : edu_count}).rename_axis(\"unique\")"
   ]
  },
  {
   "cell_type": "code",
   "execution_count": 12,
   "metadata": {
    "scrolled": true
   },
   "outputs": [
    {
     "data": {
      "text/html": [
       "<div>\n",
       "<style scoped>\n",
       "    .dataframe tbody tr th:only-of-type {\n",
       "        vertical-align: middle;\n",
       "    }\n",
       "\n",
       "    .dataframe tbody tr th {\n",
       "        vertical-align: top;\n",
       "    }\n",
       "\n",
       "    .dataframe thead th {\n",
       "        text-align: right;\n",
       "    }\n",
       "</style>\n",
       "<table border=\"1\" class=\"dataframe\">\n",
       "  <thead>\n",
       "    <tr style=\"text-align: right;\">\n",
       "      <th></th>\n",
       "      <th>percent%</th>\n",
       "      <th>count</th>\n",
       "    </tr>\n",
       "    <tr>\n",
       "      <th>unique</th>\n",
       "      <th></th>\n",
       "      <th></th>\n",
       "    </tr>\n",
       "  </thead>\n",
       "  <tbody>\n",
       "    <tr>\n",
       "      <th>0</th>\n",
       "      <td>56.9%</td>\n",
       "      <td>1237</td>\n",
       "    </tr>\n",
       "    <tr>\n",
       "      <th>1</th>\n",
       "      <td>20.33%</td>\n",
       "      <td>442</td>\n",
       "    </tr>\n",
       "    <tr>\n",
       "      <th>4</th>\n",
       "      <td>13.25%</td>\n",
       "      <td>288</td>\n",
       "    </tr>\n",
       "    <tr>\n",
       "      <th>3</th>\n",
       "      <td>5.15%</td>\n",
       "      <td>112</td>\n",
       "    </tr>\n",
       "    <tr>\n",
       "      <th>2</th>\n",
       "      <td>4.37%</td>\n",
       "      <td>95</td>\n",
       "    </tr>\n",
       "  </tbody>\n",
       "</table>\n",
       "</div>"
      ],
      "text/plain": [
       "       percent%  count\n",
       "unique                \n",
       "0         56.9%   1237\n",
       "1        20.33%    442\n",
       "4        13.25%    288\n",
       "3         5.15%    112\n",
       "2         4.37%     95"
      ]
     },
     "execution_count": 12,
     "metadata": {},
     "output_type": "execute_result"
    }
   ],
   "source": [
    "# distribusi family_status_id\n",
    "famid_count = df_filter[\"family_status_id\"].value_counts()\n",
    "famid_percent = df_filter[\"family_status_id\"].value_counts(normalize=True).mul(100).round(2).astype(str)+\"%\"\n",
    "pd.DataFrame(data={\"percent%\" : famid_count.index.map(famid_percent), \"count\" : famid_count}).rename_axis(\"unique\")"
   ]
  },
  {
   "cell_type": "code",
   "execution_count": 13,
   "metadata": {
    "scrolled": true
   },
   "outputs": [
    {
     "data": {
      "text/html": [
       "<div>\n",
       "<style scoped>\n",
       "    .dataframe tbody tr th:only-of-type {\n",
       "        vertical-align: middle;\n",
       "    }\n",
       "\n",
       "    .dataframe tbody tr th {\n",
       "        vertical-align: top;\n",
       "    }\n",
       "\n",
       "    .dataframe thead th {\n",
       "        text-align: right;\n",
       "    }\n",
       "</style>\n",
       "<table border=\"1\" class=\"dataframe\">\n",
       "  <thead>\n",
       "    <tr style=\"text-align: right;\">\n",
       "      <th></th>\n",
       "      <th>percent%</th>\n",
       "      <th>count</th>\n",
       "    </tr>\n",
       "    <tr>\n",
       "      <th>unique</th>\n",
       "      <th></th>\n",
       "      <th></th>\n",
       "    </tr>\n",
       "  </thead>\n",
       "  <tbody>\n",
       "    <tr>\n",
       "      <th>employee</th>\n",
       "      <td>50.83%</td>\n",
       "      <td>1105</td>\n",
       "    </tr>\n",
       "    <tr>\n",
       "      <th>business</th>\n",
       "      <td>23.37%</td>\n",
       "      <td>508</td>\n",
       "    </tr>\n",
       "    <tr>\n",
       "      <th>retiree</th>\n",
       "      <td>19.0%</td>\n",
       "      <td>413</td>\n",
       "    </tr>\n",
       "    <tr>\n",
       "      <th>civil servant</th>\n",
       "      <td>6.76%</td>\n",
       "      <td>147</td>\n",
       "    </tr>\n",
       "    <tr>\n",
       "      <th>entrepreneur</th>\n",
       "      <td>0.05%</td>\n",
       "      <td>1</td>\n",
       "    </tr>\n",
       "  </tbody>\n",
       "</table>\n",
       "</div>"
      ],
      "text/plain": [
       "              percent%  count\n",
       "unique                       \n",
       "employee        50.83%   1105\n",
       "business        23.37%    508\n",
       "retiree          19.0%    413\n",
       "civil servant    6.76%    147\n",
       "entrepreneur     0.05%      1"
      ]
     },
     "execution_count": 13,
     "metadata": {},
     "output_type": "execute_result"
    }
   ],
   "source": [
    "# distribusi income_type\n",
    "income_count = df_filter[\"income_type\"].value_counts()\n",
    "income_percent = df_filter[\"income_type\"].value_counts(normalize=True).mul(100).round(2).astype(str)+\"%\"\n",
    "pd.DataFrame(data={\"percent%\" : income_count.index.map(income_percent), \"count\" : income_count}).rename_axis(\"unique\")"
   ]
  },
  {
   "attachments": {},
   "cell_type": "markdown",
   "metadata": {},
   "source": [
    "Dari temuan diatas persentase nilai yang `hilang` sebesar `10%` dari dataset, nilai ini merupakan nilai yang cukup besar dan tidak bisa langsung dihilangkan begitu saja. kemungkinan penyebab nilai yang hilang bisa dilihat dari distribusi kolom `education` yang masih bercampur nilai huruf besar dan kecil (tidak bisa membedakan)."
   ]
  },
  {
   "attachments": {},
   "cell_type": "markdown",
   "metadata": {},
   "source": [
    "**Mengecek Distribusi pada DF**"
   ]
  },
  {
   "cell_type": "code",
   "execution_count": 14,
   "metadata": {},
   "outputs": [
    {
     "data": {
      "text/html": [
       "<div>\n",
       "<style scoped>\n",
       "    .dataframe tbody tr th:only-of-type {\n",
       "        vertical-align: middle;\n",
       "    }\n",
       "\n",
       "    .dataframe tbody tr th {\n",
       "        vertical-align: top;\n",
       "    }\n",
       "\n",
       "    .dataframe thead th {\n",
       "        text-align: right;\n",
       "    }\n",
       "</style>\n",
       "<table border=\"1\" class=\"dataframe\">\n",
       "  <thead>\n",
       "    <tr style=\"text-align: right;\">\n",
       "      <th></th>\n",
       "      <th>percent%</th>\n",
       "      <th>count</th>\n",
       "    </tr>\n",
       "    <tr>\n",
       "      <th>unique</th>\n",
       "      <th></th>\n",
       "      <th></th>\n",
       "    </tr>\n",
       "  </thead>\n",
       "  <tbody>\n",
       "    <tr>\n",
       "      <th>0</th>\n",
       "      <td>65.73%</td>\n",
       "      <td>14149</td>\n",
       "    </tr>\n",
       "    <tr>\n",
       "      <th>1</th>\n",
       "      <td>22.38%</td>\n",
       "      <td>4818</td>\n",
       "    </tr>\n",
       "    <tr>\n",
       "      <th>2</th>\n",
       "      <td>9.55%</td>\n",
       "      <td>2055</td>\n",
       "    </tr>\n",
       "    <tr>\n",
       "      <th>3</th>\n",
       "      <td>1.53%</td>\n",
       "      <td>330</td>\n",
       "    </tr>\n",
       "    <tr>\n",
       "      <th>20</th>\n",
       "      <td>0.35%</td>\n",
       "      <td>76</td>\n",
       "    </tr>\n",
       "    <tr>\n",
       "      <th>-1</th>\n",
       "      <td>0.22%</td>\n",
       "      <td>47</td>\n",
       "    </tr>\n",
       "    <tr>\n",
       "      <th>4</th>\n",
       "      <td>0.19%</td>\n",
       "      <td>41</td>\n",
       "    </tr>\n",
       "    <tr>\n",
       "      <th>5</th>\n",
       "      <td>0.04%</td>\n",
       "      <td>9</td>\n",
       "    </tr>\n",
       "  </tbody>\n",
       "</table>\n",
       "</div>"
      ],
      "text/plain": [
       "       percent%  count\n",
       "unique                \n",
       " 0       65.73%  14149\n",
       " 1       22.38%   4818\n",
       " 2        9.55%   2055\n",
       " 3        1.53%    330\n",
       " 20       0.35%     76\n",
       "-1        0.22%     47\n",
       " 4        0.19%     41\n",
       " 5        0.04%      9"
      ]
     },
     "execution_count": 14,
     "metadata": {},
     "output_type": "execute_result"
    }
   ],
   "source": [
    "# distribusi children\n",
    "child_all_count = df[\"children\"].value_counts()\n",
    "child_all_percent = df[\"children\"].value_counts(normalize=True).mul(100).round(2).astype(str)+\"%\"\n",
    "pd.DataFrame(data={\"percent%\" : child_all_count.index.map(child_all_percent), \"count\" : child_all_count}).rename_axis(\"unique\")"
   ]
  },
  {
   "cell_type": "code",
   "execution_count": 15,
   "metadata": {},
   "outputs": [
    {
     "data": {
      "text/html": [
       "<div>\n",
       "<style scoped>\n",
       "    .dataframe tbody tr th:only-of-type {\n",
       "        vertical-align: middle;\n",
       "    }\n",
       "\n",
       "    .dataframe tbody tr th {\n",
       "        vertical-align: top;\n",
       "    }\n",
       "\n",
       "    .dataframe thead th {\n",
       "        text-align: right;\n",
       "    }\n",
       "</style>\n",
       "<table border=\"1\" class=\"dataframe\">\n",
       "  <thead>\n",
       "    <tr style=\"text-align: right;\">\n",
       "      <th></th>\n",
       "      <th>percent%</th>\n",
       "      <th>count</th>\n",
       "    </tr>\n",
       "    <tr>\n",
       "      <th>unique</th>\n",
       "      <th></th>\n",
       "      <th></th>\n",
       "    </tr>\n",
       "  </thead>\n",
       "  <tbody>\n",
       "    <tr>\n",
       "      <th>1</th>\n",
       "      <td>70.77%</td>\n",
       "      <td>15233</td>\n",
       "    </tr>\n",
       "    <tr>\n",
       "      <th>0</th>\n",
       "      <td>24.44%</td>\n",
       "      <td>5260</td>\n",
       "    </tr>\n",
       "    <tr>\n",
       "      <th>2</th>\n",
       "      <td>3.46%</td>\n",
       "      <td>744</td>\n",
       "    </tr>\n",
       "    <tr>\n",
       "      <th>3</th>\n",
       "      <td>1.31%</td>\n",
       "      <td>282</td>\n",
       "    </tr>\n",
       "    <tr>\n",
       "      <th>4</th>\n",
       "      <td>0.03%</td>\n",
       "      <td>6</td>\n",
       "    </tr>\n",
       "  </tbody>\n",
       "</table>\n",
       "</div>"
      ],
      "text/plain": [
       "       percent%  count\n",
       "unique                \n",
       "1        70.77%  15233\n",
       "0        24.44%   5260\n",
       "2         3.46%    744\n",
       "3         1.31%    282\n",
       "4         0.03%      6"
      ]
     },
     "execution_count": 15,
     "metadata": {},
     "output_type": "execute_result"
    }
   ],
   "source": [
    "# distribusi education_id\n",
    "edu_id_all_count = df[\"education_id\"].value_counts()\n",
    "edu_id_all_percent = df[\"education_id\"].value_counts(normalize=True).mul(100).round(2).astype(str)+\"%\"\n",
    "pd.DataFrame(data={\"percent%\" : edu_id_all_count.index.map(edu_id_all_percent), \"count\" : edu_id_all_count}).rename_axis(\"unique\")"
   ]
  },
  {
   "cell_type": "code",
   "execution_count": 16,
   "metadata": {},
   "outputs": [
    {
     "data": {
      "text/html": [
       "<div>\n",
       "<style scoped>\n",
       "    .dataframe tbody tr th:only-of-type {\n",
       "        vertical-align: middle;\n",
       "    }\n",
       "\n",
       "    .dataframe tbody tr th {\n",
       "        vertical-align: top;\n",
       "    }\n",
       "\n",
       "    .dataframe thead th {\n",
       "        text-align: right;\n",
       "    }\n",
       "</style>\n",
       "<table border=\"1\" class=\"dataframe\">\n",
       "  <thead>\n",
       "    <tr style=\"text-align: right;\">\n",
       "      <th></th>\n",
       "      <th>percent%</th>\n",
       "      <th>count</th>\n",
       "    </tr>\n",
       "    <tr>\n",
       "      <th>unique</th>\n",
       "      <th></th>\n",
       "      <th></th>\n",
       "    </tr>\n",
       "  </thead>\n",
       "  <tbody>\n",
       "    <tr>\n",
       "      <th>secondary education</th>\n",
       "      <td>63.88%</td>\n",
       "      <td>13750</td>\n",
       "    </tr>\n",
       "    <tr>\n",
       "      <th>bachelor's degree</th>\n",
       "      <td>21.92%</td>\n",
       "      <td>4718</td>\n",
       "    </tr>\n",
       "    <tr>\n",
       "      <th>SECONDARY EDUCATION</th>\n",
       "      <td>3.59%</td>\n",
       "      <td>772</td>\n",
       "    </tr>\n",
       "    <tr>\n",
       "      <th>Secondary Education</th>\n",
       "      <td>3.3%</td>\n",
       "      <td>711</td>\n",
       "    </tr>\n",
       "    <tr>\n",
       "      <th>some college</th>\n",
       "      <td>3.1%</td>\n",
       "      <td>668</td>\n",
       "    </tr>\n",
       "    <tr>\n",
       "      <th>BACHELOR'S DEGREE</th>\n",
       "      <td>1.27%</td>\n",
       "      <td>274</td>\n",
       "    </tr>\n",
       "    <tr>\n",
       "      <th>Bachelor's Degree</th>\n",
       "      <td>1.25%</td>\n",
       "      <td>268</td>\n",
       "    </tr>\n",
       "    <tr>\n",
       "      <th>primary education</th>\n",
       "      <td>1.16%</td>\n",
       "      <td>250</td>\n",
       "    </tr>\n",
       "    <tr>\n",
       "      <th>Some College</th>\n",
       "      <td>0.22%</td>\n",
       "      <td>47</td>\n",
       "    </tr>\n",
       "    <tr>\n",
       "      <th>SOME COLLEGE</th>\n",
       "      <td>0.13%</td>\n",
       "      <td>29</td>\n",
       "    </tr>\n",
       "    <tr>\n",
       "      <th>PRIMARY EDUCATION</th>\n",
       "      <td>0.08%</td>\n",
       "      <td>17</td>\n",
       "    </tr>\n",
       "    <tr>\n",
       "      <th>Primary Education</th>\n",
       "      <td>0.07%</td>\n",
       "      <td>15</td>\n",
       "    </tr>\n",
       "    <tr>\n",
       "      <th>graduate degree</th>\n",
       "      <td>0.02%</td>\n",
       "      <td>4</td>\n",
       "    </tr>\n",
       "    <tr>\n",
       "      <th>Graduate Degree</th>\n",
       "      <td>0.0%</td>\n",
       "      <td>1</td>\n",
       "    </tr>\n",
       "    <tr>\n",
       "      <th>GRADUATE DEGREE</th>\n",
       "      <td>0.0%</td>\n",
       "      <td>1</td>\n",
       "    </tr>\n",
       "  </tbody>\n",
       "</table>\n",
       "</div>"
      ],
      "text/plain": [
       "                    percent%  count\n",
       "unique                             \n",
       "secondary education   63.88%  13750\n",
       "bachelor's degree     21.92%   4718\n",
       "SECONDARY EDUCATION    3.59%    772\n",
       "Secondary Education     3.3%    711\n",
       "some college            3.1%    668\n",
       "BACHELOR'S DEGREE      1.27%    274\n",
       "Bachelor's Degree      1.25%    268\n",
       "primary education      1.16%    250\n",
       "Some College           0.22%     47\n",
       "SOME COLLEGE           0.13%     29\n",
       "PRIMARY EDUCATION      0.08%     17\n",
       "Primary Education      0.07%     15\n",
       "graduate degree        0.02%      4\n",
       "Graduate Degree         0.0%      1\n",
       "GRADUATE DEGREE         0.0%      1"
      ]
     },
     "execution_count": 16,
     "metadata": {},
     "output_type": "execute_result"
    }
   ],
   "source": [
    "# distribusi education\n",
    "edu_all_count = df[\"education\"].value_counts()\n",
    "edu_all_percent = df[\"education\"].value_counts(normalize=True).mul(100).round(2).astype(str)+\"%\"\n",
    "pd.DataFrame(data={\"percent%\" : edu_all_count.index.map(edu_all_percent), \"count\" : edu_all_count}).rename_axis(\"unique\")"
   ]
  },
  {
   "cell_type": "code",
   "execution_count": 17,
   "metadata": {
    "scrolled": true
   },
   "outputs": [
    {
     "data": {
      "text/html": [
       "<div>\n",
       "<style scoped>\n",
       "    .dataframe tbody tr th:only-of-type {\n",
       "        vertical-align: middle;\n",
       "    }\n",
       "\n",
       "    .dataframe tbody tr th {\n",
       "        vertical-align: top;\n",
       "    }\n",
       "\n",
       "    .dataframe thead th {\n",
       "        text-align: right;\n",
       "    }\n",
       "</style>\n",
       "<table border=\"1\" class=\"dataframe\">\n",
       "  <thead>\n",
       "    <tr style=\"text-align: right;\">\n",
       "      <th></th>\n",
       "      <th>percent%</th>\n",
       "      <th>count</th>\n",
       "    </tr>\n",
       "    <tr>\n",
       "      <th>unique</th>\n",
       "      <th></th>\n",
       "      <th></th>\n",
       "    </tr>\n",
       "  </thead>\n",
       "  <tbody>\n",
       "    <tr>\n",
       "      <th>0</th>\n",
       "      <td>57.51%</td>\n",
       "      <td>12380</td>\n",
       "    </tr>\n",
       "    <tr>\n",
       "      <th>1</th>\n",
       "      <td>19.41%</td>\n",
       "      <td>4177</td>\n",
       "    </tr>\n",
       "    <tr>\n",
       "      <th>4</th>\n",
       "      <td>13.07%</td>\n",
       "      <td>2813</td>\n",
       "    </tr>\n",
       "    <tr>\n",
       "      <th>3</th>\n",
       "      <td>5.55%</td>\n",
       "      <td>1195</td>\n",
       "    </tr>\n",
       "    <tr>\n",
       "      <th>2</th>\n",
       "      <td>4.46%</td>\n",
       "      <td>960</td>\n",
       "    </tr>\n",
       "  </tbody>\n",
       "</table>\n",
       "</div>"
      ],
      "text/plain": [
       "       percent%  count\n",
       "unique                \n",
       "0        57.51%  12380\n",
       "1        19.41%   4177\n",
       "4        13.07%   2813\n",
       "3         5.55%   1195\n",
       "2         4.46%    960"
      ]
     },
     "execution_count": 17,
     "metadata": {},
     "output_type": "execute_result"
    }
   ],
   "source": [
    "# distribusi family_status_id\n",
    "fam_id_all_count = df[\"family_status_id\"].value_counts()\n",
    "fam_id_all_percent = df[\"family_status_id\"].value_counts(normalize=True).mul(100).round(2).astype(str)+\"%\"\n",
    "pd.DataFrame(data={\"percent%\" : fam_id_all_count.index.map(fam_id_all_percent), \"count\" : fam_id_all_count}).rename_axis(\"unique\")"
   ]
  },
  {
   "cell_type": "code",
   "execution_count": 18,
   "metadata": {},
   "outputs": [
    {
     "data": {
      "text/html": [
       "<div>\n",
       "<style scoped>\n",
       "    .dataframe tbody tr th:only-of-type {\n",
       "        vertical-align: middle;\n",
       "    }\n",
       "\n",
       "    .dataframe tbody tr th {\n",
       "        vertical-align: top;\n",
       "    }\n",
       "\n",
       "    .dataframe thead th {\n",
       "        text-align: right;\n",
       "    }\n",
       "</style>\n",
       "<table border=\"1\" class=\"dataframe\">\n",
       "  <thead>\n",
       "    <tr style=\"text-align: right;\">\n",
       "      <th></th>\n",
       "      <th>percent%</th>\n",
       "      <th>count</th>\n",
       "    </tr>\n",
       "    <tr>\n",
       "      <th>unique</th>\n",
       "      <th></th>\n",
       "      <th></th>\n",
       "    </tr>\n",
       "  </thead>\n",
       "  <tbody>\n",
       "    <tr>\n",
       "      <th>employee</th>\n",
       "      <td>51.66%</td>\n",
       "      <td>11119</td>\n",
       "    </tr>\n",
       "    <tr>\n",
       "      <th>business</th>\n",
       "      <td>23.62%</td>\n",
       "      <td>5085</td>\n",
       "    </tr>\n",
       "    <tr>\n",
       "      <th>retiree</th>\n",
       "      <td>17.91%</td>\n",
       "      <td>3856</td>\n",
       "    </tr>\n",
       "    <tr>\n",
       "      <th>civil servant</th>\n",
       "      <td>6.78%</td>\n",
       "      <td>1459</td>\n",
       "    </tr>\n",
       "    <tr>\n",
       "      <th>unemployed</th>\n",
       "      <td>0.01%</td>\n",
       "      <td>2</td>\n",
       "    </tr>\n",
       "    <tr>\n",
       "      <th>entrepreneur</th>\n",
       "      <td>0.01%</td>\n",
       "      <td>2</td>\n",
       "    </tr>\n",
       "    <tr>\n",
       "      <th>student</th>\n",
       "      <td>0.0%</td>\n",
       "      <td>1</td>\n",
       "    </tr>\n",
       "    <tr>\n",
       "      <th>paternity / maternity leave</th>\n",
       "      <td>0.0%</td>\n",
       "      <td>1</td>\n",
       "    </tr>\n",
       "  </tbody>\n",
       "</table>\n",
       "</div>"
      ],
      "text/plain": [
       "                            percent%  count\n",
       "unique                                     \n",
       "employee                      51.66%  11119\n",
       "business                      23.62%   5085\n",
       "retiree                       17.91%   3856\n",
       "civil servant                  6.78%   1459\n",
       "unemployed                     0.01%      2\n",
       "entrepreneur                   0.01%      2\n",
       "student                         0.0%      1\n",
       "paternity / maternity leave     0.0%      1"
      ]
     },
     "execution_count": 18,
     "metadata": {},
     "output_type": "execute_result"
    }
   ],
   "source": [
    "# distribusi income_type\n",
    "income_all_count = df[\"income_type\"].value_counts()\n",
    "income_all_percent = df[\"income_type\"].value_counts(normalize=True).mul(100).round(2).astype(str)+\"%\"\n",
    "pd.DataFrame(data={\"percent%\" : income_all_count.index.map(income_all_percent), \"count\" : income_all_count}).rename_axis(\"unique\")"
   ]
  },
  {
   "attachments": {},
   "cell_type": "markdown",
   "metadata": {},
   "source": [
    "Setelah pengecekan distribusi dari dataset `dataframe asli` dan dsitribusi dari dataset `datasets filter` menunjukan kesamaan persis polanya bahwa untuk masing-masing value `datasets filter` yaitu sebesar `10x lipat` dari datasets asli `dataframe asli`. Ada indikasi kuat bahwa nilai yang `hilang` bukan nilai acak."
   ]
  },
  {
   "attachments": {},
   "cell_type": "markdown",
   "metadata": {},
   "source": [
    "**Mengecek Distribusi Kolom `family_status`**"
   ]
  },
  {
   "cell_type": "code",
   "execution_count": 19,
   "metadata": {},
   "outputs": [
    {
     "data": {
      "text/html": [
       "<div>\n",
       "<style scoped>\n",
       "    .dataframe tbody tr th:only-of-type {\n",
       "        vertical-align: middle;\n",
       "    }\n",
       "\n",
       "    .dataframe tbody tr th {\n",
       "        vertical-align: top;\n",
       "    }\n",
       "\n",
       "    .dataframe thead th {\n",
       "        text-align: right;\n",
       "    }\n",
       "</style>\n",
       "<table border=\"1\" class=\"dataframe\">\n",
       "  <thead>\n",
       "    <tr style=\"text-align: right;\">\n",
       "      <th></th>\n",
       "      <th>percent%</th>\n",
       "      <th>count</th>\n",
       "    </tr>\n",
       "    <tr>\n",
       "      <th>unique</th>\n",
       "      <th></th>\n",
       "      <th></th>\n",
       "    </tr>\n",
       "  </thead>\n",
       "  <tbody>\n",
       "    <tr>\n",
       "      <th>married</th>\n",
       "      <td>57.51%</td>\n",
       "      <td>12380</td>\n",
       "    </tr>\n",
       "    <tr>\n",
       "      <th>civil partnership</th>\n",
       "      <td>19.41%</td>\n",
       "      <td>4177</td>\n",
       "    </tr>\n",
       "    <tr>\n",
       "      <th>unmarried</th>\n",
       "      <td>13.07%</td>\n",
       "      <td>2813</td>\n",
       "    </tr>\n",
       "    <tr>\n",
       "      <th>divorced</th>\n",
       "      <td>5.55%</td>\n",
       "      <td>1195</td>\n",
       "    </tr>\n",
       "    <tr>\n",
       "      <th>widow / widower</th>\n",
       "      <td>4.46%</td>\n",
       "      <td>960</td>\n",
       "    </tr>\n",
       "  </tbody>\n",
       "</table>\n",
       "</div>"
      ],
      "text/plain": [
       "                  percent%  count\n",
       "unique                           \n",
       "married             57.51%  12380\n",
       "civil partnership   19.41%   4177\n",
       "unmarried           13.07%   2813\n",
       "divorced             5.55%   1195\n",
       "widow / widower      4.46%    960"
      ]
     },
     "execution_count": 19,
     "metadata": {},
     "output_type": "execute_result"
    }
   ],
   "source": [
    "# mencari pola lain\n",
    "# distribusi family_status dataframe\n",
    "famstat_all_count = df[\"family_status\"].value_counts()\n",
    "famstat_all_percent = df[\"family_status\"].value_counts(normalize=True).mul(100).round(2).astype(str)+\"%\"\n",
    "pd.DataFrame(data={\"percent%\" : famstat_all_count.index.map(famstat_all_percent), \"count\" : famstat_all_count}).rename_axis(\"unique\")"
   ]
  },
  {
   "cell_type": "code",
   "execution_count": 20,
   "metadata": {},
   "outputs": [
    {
     "data": {
      "text/html": [
       "<div>\n",
       "<style scoped>\n",
       "    .dataframe tbody tr th:only-of-type {\n",
       "        vertical-align: middle;\n",
       "    }\n",
       "\n",
       "    .dataframe tbody tr th {\n",
       "        vertical-align: top;\n",
       "    }\n",
       "\n",
       "    .dataframe thead th {\n",
       "        text-align: right;\n",
       "    }\n",
       "</style>\n",
       "<table border=\"1\" class=\"dataframe\">\n",
       "  <thead>\n",
       "    <tr style=\"text-align: right;\">\n",
       "      <th></th>\n",
       "      <th>percent%</th>\n",
       "      <th>count</th>\n",
       "    </tr>\n",
       "    <tr>\n",
       "      <th>unique</th>\n",
       "      <th></th>\n",
       "      <th></th>\n",
       "    </tr>\n",
       "  </thead>\n",
       "  <tbody>\n",
       "    <tr>\n",
       "      <th>married</th>\n",
       "      <td>56.9%</td>\n",
       "      <td>1237</td>\n",
       "    </tr>\n",
       "    <tr>\n",
       "      <th>civil partnership</th>\n",
       "      <td>20.33%</td>\n",
       "      <td>442</td>\n",
       "    </tr>\n",
       "    <tr>\n",
       "      <th>unmarried</th>\n",
       "      <td>13.25%</td>\n",
       "      <td>288</td>\n",
       "    </tr>\n",
       "    <tr>\n",
       "      <th>divorced</th>\n",
       "      <td>5.15%</td>\n",
       "      <td>112</td>\n",
       "    </tr>\n",
       "    <tr>\n",
       "      <th>widow / widower</th>\n",
       "      <td>4.37%</td>\n",
       "      <td>95</td>\n",
       "    </tr>\n",
       "  </tbody>\n",
       "</table>\n",
       "</div>"
      ],
      "text/plain": [
       "                  percent%  count\n",
       "unique                           \n",
       "married              56.9%   1237\n",
       "civil partnership   20.33%    442\n",
       "unmarried           13.25%    288\n",
       "divorced             5.15%    112\n",
       "widow / widower      4.37%     95"
      ]
     },
     "execution_count": 20,
     "metadata": {},
     "output_type": "execute_result"
    }
   ],
   "source": [
    "# distribusi family_status dataframe_filter\n",
    "famstat_count = df_filter[\"family_status\"].value_counts()\n",
    "famstat_percent = df_filter[\"family_status\"].value_counts(normalize=True).mul(100).round(2).astype(str)+\"%\"\n",
    "pd.DataFrame(data={\"percent%\" : famstat_count.index.map(famstat_percent), \"count\" : famstat_count}).rename_axis(\"unique\")"
   ]
  },
  {
   "attachments": {},
   "cell_type": "markdown",
   "metadata": {},
   "source": [
    "**Mengecek Distribusi Kolom `education_id`**"
   ]
  },
  {
   "cell_type": "code",
   "execution_count": 21,
   "metadata": {},
   "outputs": [
    {
     "data": {
      "text/html": [
       "<div>\n",
       "<style scoped>\n",
       "    .dataframe tbody tr th:only-of-type {\n",
       "        vertical-align: middle;\n",
       "    }\n",
       "\n",
       "    .dataframe tbody tr th {\n",
       "        vertical-align: top;\n",
       "    }\n",
       "\n",
       "    .dataframe thead th {\n",
       "        text-align: right;\n",
       "    }\n",
       "</style>\n",
       "<table border=\"1\" class=\"dataframe\">\n",
       "  <thead>\n",
       "    <tr style=\"text-align: right;\">\n",
       "      <th></th>\n",
       "      <th>percent%</th>\n",
       "      <th>count</th>\n",
       "    </tr>\n",
       "    <tr>\n",
       "      <th>unique</th>\n",
       "      <th></th>\n",
       "      <th></th>\n",
       "    </tr>\n",
       "  </thead>\n",
       "  <tbody>\n",
       "    <tr>\n",
       "      <th>1</th>\n",
       "      <td>70.77%</td>\n",
       "      <td>15233</td>\n",
       "    </tr>\n",
       "    <tr>\n",
       "      <th>0</th>\n",
       "      <td>24.44%</td>\n",
       "      <td>5260</td>\n",
       "    </tr>\n",
       "    <tr>\n",
       "      <th>2</th>\n",
       "      <td>3.46%</td>\n",
       "      <td>744</td>\n",
       "    </tr>\n",
       "    <tr>\n",
       "      <th>3</th>\n",
       "      <td>1.31%</td>\n",
       "      <td>282</td>\n",
       "    </tr>\n",
       "    <tr>\n",
       "      <th>4</th>\n",
       "      <td>0.03%</td>\n",
       "      <td>6</td>\n",
       "    </tr>\n",
       "  </tbody>\n",
       "</table>\n",
       "</div>"
      ],
      "text/plain": [
       "       percent%  count\n",
       "unique                \n",
       "1        70.77%  15233\n",
       "0        24.44%   5260\n",
       "2         3.46%    744\n",
       "3         1.31%    282\n",
       "4         0.03%      6"
      ]
     },
     "execution_count": 21,
     "metadata": {},
     "output_type": "execute_result"
    }
   ],
   "source": [
    "# distribusi education_id dataframe\n",
    "eduid_all_count = df[\"education_id\"].value_counts()\n",
    "eduid_all_percent = df[\"education_id\"].value_counts(normalize=True).mul(100).round(2).astype(str)+\"%\"\n",
    "pd.DataFrame(data={\"percent%\" : eduid_all_count.index.map(eduid_all_percent), \"count\" : eduid_all_count}).rename_axis(\"unique\")"
   ]
  },
  {
   "cell_type": "code",
   "execution_count": 22,
   "metadata": {},
   "outputs": [
    {
     "data": {
      "text/html": [
       "<div>\n",
       "<style scoped>\n",
       "    .dataframe tbody tr th:only-of-type {\n",
       "        vertical-align: middle;\n",
       "    }\n",
       "\n",
       "    .dataframe tbody tr th {\n",
       "        vertical-align: top;\n",
       "    }\n",
       "\n",
       "    .dataframe thead th {\n",
       "        text-align: right;\n",
       "    }\n",
       "</style>\n",
       "<table border=\"1\" class=\"dataframe\">\n",
       "  <thead>\n",
       "    <tr style=\"text-align: right;\">\n",
       "      <th></th>\n",
       "      <th>percent%</th>\n",
       "      <th>count</th>\n",
       "    </tr>\n",
       "    <tr>\n",
       "      <th>unique</th>\n",
       "      <th></th>\n",
       "      <th></th>\n",
       "    </tr>\n",
       "  </thead>\n",
       "  <tbody>\n",
       "    <tr>\n",
       "      <th>1</th>\n",
       "      <td>70.84%</td>\n",
       "      <td>1540</td>\n",
       "    </tr>\n",
       "    <tr>\n",
       "      <th>0</th>\n",
       "      <td>25.02%</td>\n",
       "      <td>544</td>\n",
       "    </tr>\n",
       "    <tr>\n",
       "      <th>2</th>\n",
       "      <td>3.17%</td>\n",
       "      <td>69</td>\n",
       "    </tr>\n",
       "    <tr>\n",
       "      <th>3</th>\n",
       "      <td>0.97%</td>\n",
       "      <td>21</td>\n",
       "    </tr>\n",
       "  </tbody>\n",
       "</table>\n",
       "</div>"
      ],
      "text/plain": [
       "       percent%  count\n",
       "unique                \n",
       "1        70.84%   1540\n",
       "0        25.02%    544\n",
       "2         3.17%     69\n",
       "3         0.97%     21"
      ]
     },
     "execution_count": 22,
     "metadata": {},
     "output_type": "execute_result"
    }
   ],
   "source": [
    "# distribusi education_id dataframe_filter\n",
    "eduid_count = df_filter[\"education_id\"].value_counts()\n",
    "eduid_percent = df_filter[\"education_id\"].value_counts(normalize=True).mul(100).round(2).astype(str)+\"%\"\n",
    "pd.DataFrame(data={\"percent%\" : eduid_count.index.map(eduid_percent), \"count\" : eduid_count}).rename_axis(\"unique\")"
   ]
  },
  {
   "attachments": {},
   "cell_type": "markdown",
   "metadata": {},
   "source": [
    "**Kesimpulan sementara** <a id= 'cont_3' ></a>"
   ]
  },
  {
   "attachments": {},
   "cell_type": "markdown",
   "metadata": {},
   "source": [
    "Dari temuan kolom `education_id` mengindikasikan bahwa pola dari `datasets filter` tidak memiliki semua values dari `datasets asli` yang berarti tidak ada value khusus yang berkaitan dengan nilai `kosong` dan bukan merupakan kebetulan."
   ]
  },
  {
   "cell_type": "code",
   "execution_count": 23,
   "metadata": {
    "scrolled": true
   },
   "outputs": [
    {
     "data": {
      "text/html": [
       "<div>\n",
       "<style scoped>\n",
       "    .dataframe tbody tr th:only-of-type {\n",
       "        vertical-align: middle;\n",
       "    }\n",
       "\n",
       "    .dataframe tbody tr th {\n",
       "        vertical-align: top;\n",
       "    }\n",
       "\n",
       "    .dataframe thead th {\n",
       "        text-align: right;\n",
       "    }\n",
       "</style>\n",
       "<table border=\"1\" class=\"dataframe\">\n",
       "  <thead>\n",
       "    <tr style=\"text-align: right;\">\n",
       "      <th></th>\n",
       "      <th>percent%</th>\n",
       "      <th>count</th>\n",
       "    </tr>\n",
       "    <tr>\n",
       "      <th>unique</th>\n",
       "      <th></th>\n",
       "      <th></th>\n",
       "    </tr>\n",
       "  </thead>\n",
       "  <tbody>\n",
       "    <tr>\n",
       "      <th>employee</th>\n",
       "      <td>51.66%</td>\n",
       "      <td>11119</td>\n",
       "    </tr>\n",
       "    <tr>\n",
       "      <th>business</th>\n",
       "      <td>23.62%</td>\n",
       "      <td>5085</td>\n",
       "    </tr>\n",
       "    <tr>\n",
       "      <th>retiree</th>\n",
       "      <td>17.91%</td>\n",
       "      <td>3856</td>\n",
       "    </tr>\n",
       "    <tr>\n",
       "      <th>civil servant</th>\n",
       "      <td>6.78%</td>\n",
       "      <td>1459</td>\n",
       "    </tr>\n",
       "    <tr>\n",
       "      <th>unemployed</th>\n",
       "      <td>0.01%</td>\n",
       "      <td>2</td>\n",
       "    </tr>\n",
       "    <tr>\n",
       "      <th>entrepreneur</th>\n",
       "      <td>0.01%</td>\n",
       "      <td>2</td>\n",
       "    </tr>\n",
       "    <tr>\n",
       "      <th>student</th>\n",
       "      <td>0.0%</td>\n",
       "      <td>1</td>\n",
       "    </tr>\n",
       "    <tr>\n",
       "      <th>paternity / maternity leave</th>\n",
       "      <td>0.0%</td>\n",
       "      <td>1</td>\n",
       "    </tr>\n",
       "  </tbody>\n",
       "</table>\n",
       "</div>"
      ],
      "text/plain": [
       "                            percent%  count\n",
       "unique                                     \n",
       "employee                      51.66%  11119\n",
       "business                      23.62%   5085\n",
       "retiree                       17.91%   3856\n",
       "civil servant                  6.78%   1459\n",
       "unemployed                     0.01%      2\n",
       "entrepreneur                   0.01%      2\n",
       "student                         0.0%      1\n",
       "paternity / maternity leave     0.0%      1"
      ]
     },
     "execution_count": 23,
     "metadata": {},
     "output_type": "execute_result"
    }
   ],
   "source": [
    "# distribusi income_type dataftame\n",
    "inc_all_count = df['income_type'].value_counts()\n",
    "inc_all_percent = df['income_type'].value_counts(normalize=True).mul(100).round(2).astype(str)+\"%\"\n",
    "pd.DataFrame(data={\"percent%\" : inc_all_count.index.map(inc_all_percent), \"count\" : inc_all_count}).rename_axis(\"unique\")"
   ]
  },
  {
   "cell_type": "code",
   "execution_count": 24,
   "metadata": {},
   "outputs": [
    {
     "data": {
      "text/html": [
       "<div>\n",
       "<style scoped>\n",
       "    .dataframe tbody tr th:only-of-type {\n",
       "        vertical-align: middle;\n",
       "    }\n",
       "\n",
       "    .dataframe tbody tr th {\n",
       "        vertical-align: top;\n",
       "    }\n",
       "\n",
       "    .dataframe thead th {\n",
       "        text-align: right;\n",
       "    }\n",
       "</style>\n",
       "<table border=\"1\" class=\"dataframe\">\n",
       "  <thead>\n",
       "    <tr style=\"text-align: right;\">\n",
       "      <th></th>\n",
       "      <th>percent%</th>\n",
       "      <th>count</th>\n",
       "    </tr>\n",
       "    <tr>\n",
       "      <th>unique</th>\n",
       "      <th></th>\n",
       "      <th></th>\n",
       "    </tr>\n",
       "  </thead>\n",
       "  <tbody>\n",
       "    <tr>\n",
       "      <th>employee</th>\n",
       "      <td>50.83%</td>\n",
       "      <td>1105</td>\n",
       "    </tr>\n",
       "    <tr>\n",
       "      <th>business</th>\n",
       "      <td>23.37%</td>\n",
       "      <td>508</td>\n",
       "    </tr>\n",
       "    <tr>\n",
       "      <th>retiree</th>\n",
       "      <td>19.0%</td>\n",
       "      <td>413</td>\n",
       "    </tr>\n",
       "    <tr>\n",
       "      <th>civil servant</th>\n",
       "      <td>6.76%</td>\n",
       "      <td>147</td>\n",
       "    </tr>\n",
       "    <tr>\n",
       "      <th>entrepreneur</th>\n",
       "      <td>0.05%</td>\n",
       "      <td>1</td>\n",
       "    </tr>\n",
       "  </tbody>\n",
       "</table>\n",
       "</div>"
      ],
      "text/plain": [
       "              percent%  count\n",
       "unique                       \n",
       "employee        50.83%   1105\n",
       "business        23.37%    508\n",
       "retiree          19.0%    413\n",
       "civil servant    6.76%    147\n",
       "entrepreneur     0.05%      1"
      ]
     },
     "execution_count": 24,
     "metadata": {},
     "output_type": "execute_result"
    }
   ],
   "source": [
    "# distribusi income_type dataftame_filter\n",
    "inc_all_count = df_filter['income_type'].value_counts()\n",
    "inc_all_percent = df_filter['income_type'].value_counts(normalize=True).mul(100).round(2).astype(str)+\"%\"\n",
    "pd.DataFrame(data={\"percent%\" : inc_all_count.index.map(inc_all_percent), \"count\" : inc_all_count}).rename_axis(\"unique\")"
   ]
  },
  {
   "attachments": {},
   "cell_type": "markdown",
   "metadata": {},
   "source": [
    "**Kesimpulan Sementara**"
   ]
  },
  {
   "attachments": {},
   "cell_type": "markdown",
   "metadata": {},
   "source": [
    "Dari kolom `income_type` mengindikasikan bahwa nilai `student` dan `paternity / maternity leave` masih memiliki pendapatan `total_income` dibandikan nilai lain. Hal ini dapat disimpukan bahwa nilai yang `hilang` disebabkan kesalahan teknis dan bukan nilai acak. Untuk mengatasinya diperlukan langkah sebagai berikut:\n",
    "- Karena nilai yang hilang berupa `numerik` maka perlu dilakukan pencarian nilai statistik seperti `mean` dan `median`.\n",
    "- Mempertimbangkan manakah nilai yang digunakan untuk mengisi nilai yang hilang seperti nilai `mean` atau `median`.\n",
    "- Pengecekan duplikat \n",
    "- Menghapus duplikat\n",
    "- Merubah tipe data"
   ]
  },
  {
   "attachments": {},
   "cell_type": "markdown",
   "metadata": {},
   "source": [
    "## Transformasi data <a id= 'cont_4' ></a>"
   ]
  },
  {
   "attachments": {},
   "cell_type": "markdown",
   "metadata": {},
   "source": [
    "Selanjutnya mari kita perbaiki kesalahan-kesalahan yang ada pada dataset untuk mempermudah dalam melakukan analisis berikutnya."
   ]
  },
  {
   "cell_type": "code",
   "execution_count": 25,
   "metadata": {},
   "outputs": [
    {
     "data": {
      "text/plain": [
       "education\n",
       "secondary education    13750\n",
       "bachelor's degree       4718\n",
       "SECONDARY EDUCATION      772\n",
       "Secondary Education      711\n",
       "some college             668\n",
       "BACHELOR'S DEGREE        274\n",
       "Bachelor's Degree        268\n",
       "primary education        250\n",
       "Some College              47\n",
       "SOME COLLEGE              29\n",
       "PRIMARY EDUCATION         17\n",
       "Primary Education         15\n",
       "graduate degree            4\n",
       "Graduate Degree            1\n",
       "GRADUATE DEGREE            1\n",
       "Name: count, dtype: int64"
      ]
     },
     "execution_count": 25,
     "metadata": {},
     "output_type": "execute_result"
    }
   ],
   "source": [
    "# melihat nilai unik pada kolom `education`\n",
    "df['education'].value_counts()"
   ]
  },
  {
   "attachments": {},
   "cell_type": "markdown",
   "metadata": {},
   "source": [
    "Nilai pada kolom `education` masih belum dihitung dengan benar karena format huruf belum seragam. Mari ubah ke huruf yang seragam"
   ]
  },
  {
   "cell_type": "code",
   "execution_count": 26,
   "metadata": {
    "scrolled": true
   },
   "outputs": [],
   "source": [
    "# mengubah semua value pada kolom `education` menjadi huruf kecil\n",
    "df['education'] = df['education'].str.lower()"
   ]
  },
  {
   "cell_type": "code",
   "execution_count": 27,
   "metadata": {},
   "outputs": [
    {
     "data": {
      "text/plain": [
       "education\n",
       "secondary education    15233\n",
       "bachelor's degree       5260\n",
       "some college             744\n",
       "primary education        282\n",
       "graduate degree            6\n",
       "Name: count, dtype: int64"
      ]
     },
     "execution_count": 27,
     "metadata": {},
     "output_type": "execute_result"
    }
   ],
   "source": [
    "# memeriksa kolom `education` untuk memastikan bahwa semuanya telah diperbaiki\n",
    "df['education'].value_counts()"
   ]
  },
  {
   "attachments": {},
   "cell_type": "markdown",
   "metadata": {},
   "source": [
    "Nilai pada kolom `education` sudah bisa dihitung dengan benar karena format huruf sudah seragam."
   ]
  },
  {
   "cell_type": "code",
   "execution_count": 28,
   "metadata": {},
   "outputs": [
    {
     "data": {
      "text/plain": [
       "children\n",
       " 0     14149\n",
       " 1      4818\n",
       " 2      2055\n",
       " 3       330\n",
       " 20       76\n",
       "-1        47\n",
       " 4        41\n",
       " 5         9\n",
       "Name: count, dtype: int64"
      ]
     },
     "execution_count": 28,
     "metadata": {},
     "output_type": "execute_result"
    }
   ],
   "source": [
    "# memeriksa `children` untuk nilai yang mencurigakan\n",
    "df['children'].value_counts()"
   ]
  },
  {
   "attachments": {},
   "cell_type": "markdown",
   "metadata": {},
   "source": [
    "Untuk jumlah anak pada kolom `children` terdapat nilai yang janggal yaitu `'-1'` hal tersebut mungkin dikarenakan kesalahan input user yang tidak sengaja memasukan tanda `'-'`. Mari ubah ke bentuk positif dengan menghilangkan tanda `'-'`."
   ]
  },
  {
   "cell_type": "code",
   "execution_count": 29,
   "metadata": {},
   "outputs": [],
   "source": [
    "# mengubah nilai `-1` menjadi `1` pada kolom children\n",
    "df.loc[df['children'] == -1, 'children'] = 1"
   ]
  },
  {
   "cell_type": "code",
   "execution_count": 30,
   "metadata": {},
   "outputs": [
    {
     "data": {
      "text/plain": [
       "array([ 1,  0,  3,  2,  4, 20,  5], dtype=int64)"
      ]
     },
     "execution_count": 30,
     "metadata": {},
     "output_type": "execute_result"
    }
   ],
   "source": [
    "# memeriksa kolom `children` untuk memastikan bahwa semuanya telah diperbaiki\n",
    "df['children'].unique()"
   ]
  },
  {
   "attachments": {},
   "cell_type": "markdown",
   "metadata": {},
   "source": [
    "Kolom `children` sudah tidak memiliki nilai negatif."
   ]
  },
  {
   "cell_type": "code",
   "execution_count": 31,
   "metadata": {},
   "outputs": [
    {
     "name": "stdout",
     "output_type": "stream",
     "text": [
      "Persentase nilai negatif `days_employed` --> 82%\n",
      "\n"
     ]
    },
    {
     "data": {
      "text/html": [
       "<div>\n",
       "<style scoped>\n",
       "    .dataframe tbody tr th:only-of-type {\n",
       "        vertical-align: middle;\n",
       "    }\n",
       "\n",
       "    .dataframe tbody tr th {\n",
       "        vertical-align: top;\n",
       "    }\n",
       "\n",
       "    .dataframe thead th {\n",
       "        text-align: right;\n",
       "    }\n",
       "</style>\n",
       "<table border=\"1\" class=\"dataframe\">\n",
       "  <thead>\n",
       "    <tr style=\"text-align: right;\">\n",
       "      <th></th>\n",
       "      <th>children</th>\n",
       "      <th>days_employed</th>\n",
       "      <th>dob_years</th>\n",
       "      <th>education</th>\n",
       "      <th>education_id</th>\n",
       "      <th>family_status</th>\n",
       "      <th>family_status_id</th>\n",
       "      <th>gender</th>\n",
       "      <th>income_type</th>\n",
       "      <th>debt</th>\n",
       "      <th>total_income</th>\n",
       "      <th>purpose</th>\n",
       "    </tr>\n",
       "  </thead>\n",
       "  <tbody>\n",
       "    <tr>\n",
       "      <th>0</th>\n",
       "      <td>1</td>\n",
       "      <td>-8437.673028</td>\n",
       "      <td>42</td>\n",
       "      <td>bachelor's degree</td>\n",
       "      <td>0</td>\n",
       "      <td>married</td>\n",
       "      <td>0</td>\n",
       "      <td>F</td>\n",
       "      <td>employee</td>\n",
       "      <td>0</td>\n",
       "      <td>40620.102</td>\n",
       "      <td>purchase of the house</td>\n",
       "    </tr>\n",
       "    <tr>\n",
       "      <th>1</th>\n",
       "      <td>1</td>\n",
       "      <td>-4024.803754</td>\n",
       "      <td>36</td>\n",
       "      <td>secondary education</td>\n",
       "      <td>1</td>\n",
       "      <td>married</td>\n",
       "      <td>0</td>\n",
       "      <td>F</td>\n",
       "      <td>employee</td>\n",
       "      <td>0</td>\n",
       "      <td>17932.802</td>\n",
       "      <td>car purchase</td>\n",
       "    </tr>\n",
       "    <tr>\n",
       "      <th>2</th>\n",
       "      <td>0</td>\n",
       "      <td>-5623.422610</td>\n",
       "      <td>33</td>\n",
       "      <td>secondary education</td>\n",
       "      <td>1</td>\n",
       "      <td>married</td>\n",
       "      <td>0</td>\n",
       "      <td>M</td>\n",
       "      <td>employee</td>\n",
       "      <td>0</td>\n",
       "      <td>23341.752</td>\n",
       "      <td>purchase of the house</td>\n",
       "    </tr>\n",
       "    <tr>\n",
       "      <th>3</th>\n",
       "      <td>3</td>\n",
       "      <td>-4124.747207</td>\n",
       "      <td>32</td>\n",
       "      <td>secondary education</td>\n",
       "      <td>1</td>\n",
       "      <td>married</td>\n",
       "      <td>0</td>\n",
       "      <td>M</td>\n",
       "      <td>employee</td>\n",
       "      <td>0</td>\n",
       "      <td>42820.568</td>\n",
       "      <td>supplementary education</td>\n",
       "    </tr>\n",
       "    <tr>\n",
       "      <th>4</th>\n",
       "      <td>0</td>\n",
       "      <td>340266.072047</td>\n",
       "      <td>53</td>\n",
       "      <td>secondary education</td>\n",
       "      <td>1</td>\n",
       "      <td>civil partnership</td>\n",
       "      <td>1</td>\n",
       "      <td>F</td>\n",
       "      <td>retiree</td>\n",
       "      <td>0</td>\n",
       "      <td>25378.572</td>\n",
       "      <td>to have a wedding</td>\n",
       "    </tr>\n",
       "  </tbody>\n",
       "</table>\n",
       "</div>"
      ],
      "text/plain": [
       "   children  days_employed  dob_years            education  education_id   \n",
       "0         1   -8437.673028         42    bachelor's degree             0  \\\n",
       "1         1   -4024.803754         36  secondary education             1   \n",
       "2         0   -5623.422610         33  secondary education             1   \n",
       "3         3   -4124.747207         32  secondary education             1   \n",
       "4         0  340266.072047         53  secondary education             1   \n",
       "\n",
       "       family_status  family_status_id gender income_type  debt  total_income   \n",
       "0            married                 0      F    employee     0     40620.102  \\\n",
       "1            married                 0      F    employee     0     17932.802   \n",
       "2            married                 0      M    employee     0     23341.752   \n",
       "3            married                 0      M    employee     0     42820.568   \n",
       "4  civil partnership                 1      F     retiree     0     25378.572   \n",
       "\n",
       "                   purpose  \n",
       "0    purchase of the house  \n",
       "1             car purchase  \n",
       "2    purchase of the house  \n",
       "3  supplementary education  \n",
       "4        to have a wedding  "
      ]
     },
     "execution_count": 31,
     "metadata": {},
     "output_type": "execute_result"
    }
   ],
   "source": [
    "# menemukan data yang bermasalah di kolom `days_employed` dan menghitung persentasenya\n",
    "negative_values = df.loc[df['days_employed'] < 0, 'days_employed'].count()\n",
    "percent_neg = negative_values/df['days_employed'].count()\n",
    "print(f'Persentase nilai negatif `days_employed` --> {percent_neg:.0%}\\n')\n",
    "\n",
    "# menampilkan sampel data\n",
    "df.head()"
   ]
  },
  {
   "attachments": {},
   "cell_type": "markdown",
   "metadata": {},
   "source": [
    "Dari temuan sebelumnya terdapat angka `negatif` pada kolom `days_employed` sebanyak `82%`. Mengingat jumlah hari tidak ada yang `negatif` maka perlu mengubahnya menjadi `positif` sebagai berikut:"
   ]
  },
  {
   "cell_type": "code",
   "execution_count": 32,
   "metadata": {},
   "outputs": [],
   "source": [
    "# mengubah nilai negatif menjadi nilai positif\n",
    "df['days_employed'] = df['days_employed'].abs()"
   ]
  },
  {
   "cell_type": "code",
   "execution_count": 33,
   "metadata": {},
   "outputs": [
    {
     "name": "stdout",
     "output_type": "stream",
     "text": [
      "Persentase nilai negatif `days_employed` --> 0%\n",
      "\n"
     ]
    },
    {
     "data": {
      "text/html": [
       "<div>\n",
       "<style scoped>\n",
       "    .dataframe tbody tr th:only-of-type {\n",
       "        vertical-align: middle;\n",
       "    }\n",
       "\n",
       "    .dataframe tbody tr th {\n",
       "        vertical-align: top;\n",
       "    }\n",
       "\n",
       "    .dataframe thead th {\n",
       "        text-align: right;\n",
       "    }\n",
       "</style>\n",
       "<table border=\"1\" class=\"dataframe\">\n",
       "  <thead>\n",
       "    <tr style=\"text-align: right;\">\n",
       "      <th></th>\n",
       "      <th>children</th>\n",
       "      <th>days_employed</th>\n",
       "      <th>dob_years</th>\n",
       "      <th>education</th>\n",
       "      <th>education_id</th>\n",
       "      <th>family_status</th>\n",
       "      <th>family_status_id</th>\n",
       "      <th>gender</th>\n",
       "      <th>income_type</th>\n",
       "      <th>debt</th>\n",
       "      <th>total_income</th>\n",
       "      <th>purpose</th>\n",
       "    </tr>\n",
       "  </thead>\n",
       "  <tbody>\n",
       "    <tr>\n",
       "      <th>0</th>\n",
       "      <td>1</td>\n",
       "      <td>8437.673028</td>\n",
       "      <td>42</td>\n",
       "      <td>bachelor's degree</td>\n",
       "      <td>0</td>\n",
       "      <td>married</td>\n",
       "      <td>0</td>\n",
       "      <td>F</td>\n",
       "      <td>employee</td>\n",
       "      <td>0</td>\n",
       "      <td>40620.102</td>\n",
       "      <td>purchase of the house</td>\n",
       "    </tr>\n",
       "    <tr>\n",
       "      <th>1</th>\n",
       "      <td>1</td>\n",
       "      <td>4024.803754</td>\n",
       "      <td>36</td>\n",
       "      <td>secondary education</td>\n",
       "      <td>1</td>\n",
       "      <td>married</td>\n",
       "      <td>0</td>\n",
       "      <td>F</td>\n",
       "      <td>employee</td>\n",
       "      <td>0</td>\n",
       "      <td>17932.802</td>\n",
       "      <td>car purchase</td>\n",
       "    </tr>\n",
       "    <tr>\n",
       "      <th>2</th>\n",
       "      <td>0</td>\n",
       "      <td>5623.422610</td>\n",
       "      <td>33</td>\n",
       "      <td>secondary education</td>\n",
       "      <td>1</td>\n",
       "      <td>married</td>\n",
       "      <td>0</td>\n",
       "      <td>M</td>\n",
       "      <td>employee</td>\n",
       "      <td>0</td>\n",
       "      <td>23341.752</td>\n",
       "      <td>purchase of the house</td>\n",
       "    </tr>\n",
       "    <tr>\n",
       "      <th>3</th>\n",
       "      <td>3</td>\n",
       "      <td>4124.747207</td>\n",
       "      <td>32</td>\n",
       "      <td>secondary education</td>\n",
       "      <td>1</td>\n",
       "      <td>married</td>\n",
       "      <td>0</td>\n",
       "      <td>M</td>\n",
       "      <td>employee</td>\n",
       "      <td>0</td>\n",
       "      <td>42820.568</td>\n",
       "      <td>supplementary education</td>\n",
       "    </tr>\n",
       "    <tr>\n",
       "      <th>4</th>\n",
       "      <td>0</td>\n",
       "      <td>340266.072047</td>\n",
       "      <td>53</td>\n",
       "      <td>secondary education</td>\n",
       "      <td>1</td>\n",
       "      <td>civil partnership</td>\n",
       "      <td>1</td>\n",
       "      <td>F</td>\n",
       "      <td>retiree</td>\n",
       "      <td>0</td>\n",
       "      <td>25378.572</td>\n",
       "      <td>to have a wedding</td>\n",
       "    </tr>\n",
       "  </tbody>\n",
       "</table>\n",
       "</div>"
      ],
      "text/plain": [
       "   children  days_employed  dob_years            education  education_id   \n",
       "0         1    8437.673028         42    bachelor's degree             0  \\\n",
       "1         1    4024.803754         36  secondary education             1   \n",
       "2         0    5623.422610         33  secondary education             1   \n",
       "3         3    4124.747207         32  secondary education             1   \n",
       "4         0  340266.072047         53  secondary education             1   \n",
       "\n",
       "       family_status  family_status_id gender income_type  debt  total_income   \n",
       "0            married                 0      F    employee     0     40620.102  \\\n",
       "1            married                 0      F    employee     0     17932.802   \n",
       "2            married                 0      M    employee     0     23341.752   \n",
       "3            married                 0      M    employee     0     42820.568   \n",
       "4  civil partnership                 1      F     retiree     0     25378.572   \n",
       "\n",
       "                   purpose  \n",
       "0    purchase of the house  \n",
       "1             car purchase  \n",
       "2    purchase of the house  \n",
       "3  supplementary education  \n",
       "4        to have a wedding  "
      ]
     },
     "execution_count": 33,
     "metadata": {},
     "output_type": "execute_result"
    }
   ],
   "source": [
    "# memastikan sudah tidak ada nilai negatif\n",
    "negative_values = df.loc[df['days_employed'] < 0, 'days_employed'].count()\n",
    "percent_neg = negative_values/df['days_employed'].count()\n",
    "print(f'Persentase nilai negatif `days_employed` --> {percent_neg:.0%}\\n')\n",
    "\n",
    "# menampilkan sampel data\n",
    "df.head()"
   ]
  },
  {
   "attachments": {},
   "cell_type": "markdown",
   "metadata": {},
   "source": [
    "Sudah tidak ada nilai yang `negatif` pada kolom `days_employed`."
   ]
  },
  {
   "cell_type": "code",
   "execution_count": 34,
   "metadata": {
    "scrolled": true
   },
   "outputs": [
    {
     "name": "stdout",
     "output_type": "stream",
     "text": [
      "dob_years\n",
      "0     101\n",
      "19     14\n",
      "20     51\n",
      "21    111\n",
      "22    183\n",
      "Name: count, dtype: int64\n",
      "dob_years\n",
      "71    58\n",
      "72    33\n",
      "73     8\n",
      "74     6\n",
      "75     1\n",
      "Name: count, dtype: int64\n"
     ]
    }
   ],
   "source": [
    "# memeriksa `dob_years` untuk nilai yang mencurigakan\n",
    "\n",
    "# menampilkan head\n",
    "print(df['dob_years'].value_counts().sort_index().head())\n",
    "\n",
    "# menampilkan tail\n",
    "print(df['dob_years'].value_counts().sort_index().tail())"
   ]
  },
  {
   "cell_type": "code",
   "execution_count": 35,
   "metadata": {},
   "outputs": [
    {
     "name": "stdout",
     "output_type": "stream",
     "text": [
      "Persentase Nilai 0 dalam \"dob_years\" adalah: 0.47%\n"
     ]
    }
   ],
   "source": [
    "# persentase nilai yang bernilai nol\n",
    "zero_values = df.loc[df['dob_years'] == 0]['dob_years'].count()\n",
    "percent_zero  = zero_values/df['dob_years'].count()\n",
    "print(f'Persentase Nilai 0 dalam \"dob_years\" adalah: {percent_zero:.2%}')"
   ]
  },
  {
   "attachments": {},
   "cell_type": "markdown",
   "metadata": {},
   "source": [
    "Dari temuan diatas terdapat value yang janggal yaitu masih ada usia yang bernilai `'0'` pada kolom `dob_years`. Mengingat usia tidak ada yang bernilai `'0'`. Selanjutnya kita menggantinya dengan nilai rata-rata `dob_years`."
   ]
  },
  {
   "cell_type": "code",
   "execution_count": 36,
   "metadata": {},
   "outputs": [],
   "source": [
    "# mengganti nilai 0 pada kolom `dob_years` dengan nilai rata-ratanya\n",
    "df.loc[df['dob_years'] == 0,'dob_years'] = int(df['dob_years'].mean())"
   ]
  },
  {
   "cell_type": "code",
   "execution_count": 37,
   "metadata": {},
   "outputs": [
    {
     "name": "stdout",
     "output_type": "stream",
     "text": [
      "Persentase Nilai 0 dalam \"dob_years\" adalah: 0.00%\n"
     ]
    }
   ],
   "source": [
    "# memastikan sudah tidak ada nilai 0 pada kolom `dob_years`\n",
    "zero_values = df.loc[df['dob_years'] == 0]['dob_years'].count()\n",
    "percent_zero  = zero_values/df['dob_years'].count()\n",
    "print(f'Persentase Nilai 0 dalam \"dob_years\" adalah: {percent_zero:.2%}')"
   ]
  },
  {
   "cell_type": "code",
   "execution_count": 38,
   "metadata": {},
   "outputs": [
    {
     "data": {
      "text/plain": [
       "family_status\n",
       "married              12380\n",
       "civil partnership     4177\n",
       "unmarried             2813\n",
       "divorced              1195\n",
       "widow / widower        960\n",
       "Name: count, dtype: int64"
      ]
     },
     "execution_count": 38,
     "metadata": {},
     "output_type": "execute_result"
    }
   ],
   "source": [
    "# memeriksa `family_status` untuk nilai yang mencurigakan\n",
    "df['family_status'].value_counts()"
   ]
  },
  {
   "attachments": {},
   "cell_type": "markdown",
   "metadata": {},
   "source": [
    "Terdapat nilai `widow / widower` pada kolom `family_status`. Mari ubah ke nilai yang lebih sederhana untuk menganalis."
   ]
  },
  {
   "cell_type": "code",
   "execution_count": 39,
   "metadata": {},
   "outputs": [],
   "source": [
    "# mengubah nilai `widow/widower` menjadi `widowed`\n",
    "df.loc[df['family_status'] == 'widow / widower','family_status'] = 'widowed'"
   ]
  },
  {
   "cell_type": "code",
   "execution_count": 40,
   "metadata": {},
   "outputs": [
    {
     "data": {
      "text/plain": [
       "family_status\n",
       "married              12380\n",
       "civil partnership     4177\n",
       "unmarried             2813\n",
       "divorced              1195\n",
       "widowed                960\n",
       "Name: count, dtype: int64"
      ]
     },
     "execution_count": 40,
     "metadata": {},
     "output_type": "execute_result"
    }
   ],
   "source": [
    "# memeriksa kembali kolom `family_status` yang sudah diperbaiki\n",
    "df['family_status'].value_counts()"
   ]
  },
  {
   "attachments": {},
   "cell_type": "markdown",
   "metadata": {},
   "source": [
    "nilai `widow / widower` sudah diubah kedalam `widowed`."
   ]
  },
  {
   "cell_type": "code",
   "execution_count": 41,
   "metadata": {},
   "outputs": [
    {
     "data": {
      "text/plain": [
       "gender\n",
       "F      14236\n",
       "M       7288\n",
       "XNA        1\n",
       "Name: count, dtype: int64"
      ]
     },
     "execution_count": 41,
     "metadata": {},
     "output_type": "execute_result"
    }
   ],
   "source": [
    "# memeriksa `gender` untuk nilai yang mencurigakan\n",
    "df['gender'].value_counts()"
   ]
  },
  {
   "attachments": {},
   "cell_type": "markdown",
   "metadata": {},
   "source": [
    "Dari kolom `gender` terdapat tiga nilai. Untuk mempermudah dalam pembacaan maka kita perjelas kembali sebagai berikut:"
   ]
  },
  {
   "cell_type": "code",
   "execution_count": 42,
   "metadata": {},
   "outputs": [],
   "source": [
    "# memperbaiki kolom gender sesuai dengan makna aslinya\n",
    "df.loc[df['gender'] == 'F','gender'] = 'female'\n",
    "df.loc[df['gender'] == 'M','gender'] = 'male'\n",
    "df.loc[df['gender'] == 'XNA','gender'] = 'unknown'"
   ]
  },
  {
   "cell_type": "code",
   "execution_count": 43,
   "metadata": {},
   "outputs": [
    {
     "data": {
      "text/plain": [
       "gender\n",
       "female     14236\n",
       "male        7288\n",
       "unknown        1\n",
       "Name: count, dtype: int64"
      ]
     },
     "execution_count": 43,
     "metadata": {},
     "output_type": "execute_result"
    }
   ],
   "source": [
    "# memeriksa kembali kolom `gender` yang sudah diperbaiki\n",
    "df['gender'].value_counts()"
   ]
  },
  {
   "cell_type": "code",
   "execution_count": 44,
   "metadata": {},
   "outputs": [
    {
     "data": {
      "text/plain": [
       "income_type\n",
       "employee                       11119\n",
       "business                        5085\n",
       "retiree                         3856\n",
       "civil servant                   1459\n",
       "unemployed                         2\n",
       "entrepreneur                       2\n",
       "student                            1\n",
       "paternity / maternity leave        1\n",
       "Name: count, dtype: int64"
      ]
     },
     "execution_count": 44,
     "metadata": {},
     "output_type": "execute_result"
    }
   ],
   "source": [
    "# memeriksa `income_type` untuk nilai yang mencurigakan\n",
    "df['income_type'].value_counts()"
   ]
  },
  {
   "attachments": {},
   "cell_type": "markdown",
   "metadata": {},
   "source": [
    "Terdapat nilai `paternity / maternity leave` pada kolom `income_status`. Mari ubah ke nilai yang lebih sederhana untuk menganalis."
   ]
  },
  {
   "cell_type": "code",
   "execution_count": 45,
   "metadata": {},
   "outputs": [],
   "source": [
    "# mengubah nilai `paternity / maternity leave` menjadi `furlough`\n",
    "df.loc[df['income_type'] == 'paternity / maternity leave','income_type'] = 'furlough'"
   ]
  },
  {
   "cell_type": "code",
   "execution_count": 46,
   "metadata": {},
   "outputs": [
    {
     "data": {
      "text/plain": [
       "income_type\n",
       "employee         11119\n",
       "business          5085\n",
       "retiree           3856\n",
       "civil servant     1459\n",
       "unemployed           2\n",
       "entrepreneur         2\n",
       "student              1\n",
       "furlough             1\n",
       "Name: count, dtype: int64"
      ]
     },
     "execution_count": 46,
     "metadata": {},
     "output_type": "execute_result"
    }
   ],
   "source": [
    "# memeriksa kembali kolom `income_type` yang sudah diperbaiki\n",
    "df['income_type'].value_counts()"
   ]
  },
  {
   "attachments": {},
   "cell_type": "markdown",
   "metadata": {},
   "source": [
    "nilai `paternity / maternity leave` sudah diubah kedalam `furlough`."
   ]
  },
  {
   "attachments": {},
   "cell_type": "markdown",
   "metadata": {},
   "source": [
    "**Memeriksa Duplikat Data**"
   ]
  },
  {
   "attachments": {},
   "cell_type": "markdown",
   "metadata": {},
   "source": [
    "Selanjutnya mari kita cek apakah terdapat duplikat dalam dataset yang kita miliki."
   ]
  },
  {
   "cell_type": "code",
   "execution_count": 47,
   "metadata": {},
   "outputs": [
    {
     "data": {
      "text/plain": [
       "71"
      ]
     },
     "execution_count": 47,
     "metadata": {},
     "output_type": "execute_result"
    }
   ],
   "source": [
    "# memeriksa duplikat dataset\n",
    "df.duplicated().sum()"
   ]
  },
  {
   "attachments": {},
   "cell_type": "markdown",
   "metadata": {},
   "source": [
    "Terdapat sebanyak `71` duplikat pada `dataframe asli`. Duplikat tersebut harus kita hilangkan untuk mendapatkan hasil yang akurat karena akan mempengaruhi dalam perhitungan."
   ]
  },
  {
   "cell_type": "code",
   "execution_count": 48,
   "metadata": {},
   "outputs": [],
   "source": [
    "# mengatasi nilai duplikat\n",
    "df.drop_duplicates(inplace=True)"
   ]
  },
  {
   "cell_type": "code",
   "execution_count": 49,
   "metadata": {},
   "outputs": [
    {
     "data": {
      "text/plain": [
       "0"
      ]
     },
     "execution_count": 49,
     "metadata": {},
     "output_type": "execute_result"
    }
   ],
   "source": [
    "# mengecek kembali terhadap nilai yang hilang\n",
    "df.duplicated().sum()"
   ]
  },
  {
   "attachments": {},
   "cell_type": "markdown",
   "metadata": {},
   "source": [
    "# Bekerja dengan nilai yang hilang <a id= 'cont_5' ></a>"
   ]
  },
  {
   "attachments": {},
   "cell_type": "markdown",
   "metadata": {},
   "source": [
    "Dictionary digunakan untuk mempermudah dalam pembacaan suatu data atau nilai. Disini kita ingin memuat dictionary yang ditemukan pada dataset. Adapun dictionary yang akan kita buat yaitu `education` dan `family_status`."
   ]
  },
  {
   "cell_type": "code",
   "execution_count": 50,
   "metadata": {},
   "outputs": [
    {
     "data": {
      "text/plain": [
       "{0: \"bachelor's degree\",\n",
       " 1: 'secondary education',\n",
       " 2: 'some college',\n",
       " 3: 'primary education',\n",
       " 4: 'graduate degree'}"
      ]
     },
     "execution_count": 50,
     "metadata": {},
     "output_type": "execute_result"
    }
   ],
   "source": [
    "# dictionary education\n",
    "edu_dict = dict(zip(df.education_id,df.education))\n",
    "edu_dict"
   ]
  },
  {
   "cell_type": "code",
   "execution_count": 51,
   "metadata": {},
   "outputs": [
    {
     "data": {
      "text/plain": [
       "{0: 'married',\n",
       " 1: 'civil partnership',\n",
       " 2: 'widowed',\n",
       " 3: 'divorced',\n",
       " 4: 'unmarried'}"
      ]
     },
     "execution_count": 51,
     "metadata": {},
     "output_type": "execute_result"
    }
   ],
   "source": [
    "# dictionary family_status\n",
    "fam_dict = dict(zip(df.family_status_id,df.family_status))\n",
    "fam_dict"
   ]
  },
  {
   "attachments": {},
   "cell_type": "markdown",
   "metadata": {},
   "source": [
    "### Memperbaiki nilai yang hilang di `total_income` <a id= 'cont_6' ></a>"
   ]
  },
  {
   "attachments": {},
   "cell_type": "markdown",
   "metadata": {},
   "source": [
    "Untuk memperbaiki nilai yang `hilang` pada kolom `total_income` diperlukan strategi seperti berikut:\n",
    "- Mengidentifikasi manakah yang efektif untuk mengisi nilai yang hilang apakah dengan `mean` atau `median`\n",
    "- Pengelompokan kategori nasabah berdasarkan usianya `dob_years` buat dalam kolom baru\n",
    "- Menghitung `mean` dan `median` dari kolom `total_income` untuk kategori kelompok nasabah\n",
    "- Menentukan apakah `mean` atau `median` yang dipakai\n",
    "- Mengisi nilai yang `hilang`\n",
    "- Mengecek apakah masih ada nilai yang `hilang`"
   ]
  },
  {
   "cell_type": "code",
   "execution_count": 52,
   "metadata": {},
   "outputs": [],
   "source": [
    "# membuat fungsi untuk mengkategorikan usia\n",
    "def kategori_usia(umur):\n",
    "    if isinstance(umur, (int, float, complex)):\n",
    "        if umur < 25:\n",
    "            return 'remaja'\n",
    "        elif 25 <= umur < 60:\n",
    "            return 'dewasa'\n",
    "        elif umur >= 60:\n",
    "            return 'tua'\n",
    "    else:\n",
    "        return 'unknown'"
   ]
  },
  {
   "cell_type": "code",
   "execution_count": 53,
   "metadata": {},
   "outputs": [
    {
     "name": "stdout",
     "output_type": "stream",
     "text": [
      "kategori : remaja\n",
      "kategori : dewasa\n",
      "kategori : tua\n"
     ]
    }
   ],
   "source": [
    "# menguji fungsi yang sudah dibuat untuk mengkategorikan umur\n",
    "\n",
    "# uji remaja\n",
    "budi = 18\n",
    "print(f'kategori : {kategori_usia(budi)}')\n",
    "\n",
    "# uji dewasa\n",
    "dudung = 34\n",
    "print(f'kategori : {kategori_usia(dudung)}')\n",
    "\n",
    "# uji tua\n",
    "andi = 65\n",
    "print(f'kategori : {kategori_usia(andi)}')"
   ]
  },
  {
   "cell_type": "code",
   "execution_count": 54,
   "metadata": {},
   "outputs": [],
   "source": [
    "# membuat kolom baru berdasarkan kategori usia\n",
    "df['kategori_usia'] = df['dob_years'].agg(kategori_usia)"
   ]
  },
  {
   "cell_type": "code",
   "execution_count": 55,
   "metadata": {},
   "outputs": [
    {
     "data": {
      "text/plain": [
       "kategori_usia\n",
       "dewasa    18079\n",
       "tua        2500\n",
       "remaja      875\n",
       "Name: count, dtype: int64"
      ]
     },
     "execution_count": 55,
     "metadata": {},
     "output_type": "execute_result"
    }
   ],
   "source": [
    "# mengecek kolom baru yang sudah dibuat\n",
    "df['kategori_usia'].value_counts()"
   ]
  },
  {
   "attachments": {},
   "cell_type": "markdown",
   "metadata": {},
   "source": [
    "Banyak faktor yang mempengaruhi pendapatan, namun kali ini akan dibahas beberapa faktor yang mempengaruhi pendapatan `total_income` untuk menentukan manakah nilai `mean` atau `median` yang dipakai."
   ]
  },
  {
   "cell_type": "code",
   "execution_count": 56,
   "metadata": {},
   "outputs": [
    {
     "name": "stdout",
     "output_type": "stream",
     "text": [
      "children            0\n",
      "days_employed       0\n",
      "dob_years           0\n",
      "education           0\n",
      "education_id        0\n",
      "family_status       0\n",
      "family_status_id    0\n",
      "gender              0\n",
      "income_type         0\n",
      "debt                0\n",
      "total_income        0\n",
      "purpose             0\n",
      "kategori_usia       0\n",
      "dtype: int64\n",
      "\n"
     ]
    },
    {
     "data": {
      "text/html": [
       "<div>\n",
       "<style scoped>\n",
       "    .dataframe tbody tr th:only-of-type {\n",
       "        vertical-align: middle;\n",
       "    }\n",
       "\n",
       "    .dataframe tbody tr th {\n",
       "        vertical-align: top;\n",
       "    }\n",
       "\n",
       "    .dataframe thead th {\n",
       "        text-align: right;\n",
       "    }\n",
       "</style>\n",
       "<table border=\"1\" class=\"dataframe\">\n",
       "  <thead>\n",
       "    <tr style=\"text-align: right;\">\n",
       "      <th></th>\n",
       "      <th>children</th>\n",
       "      <th>days_employed</th>\n",
       "      <th>dob_years</th>\n",
       "      <th>education</th>\n",
       "      <th>education_id</th>\n",
       "      <th>family_status</th>\n",
       "      <th>family_status_id</th>\n",
       "      <th>gender</th>\n",
       "      <th>income_type</th>\n",
       "      <th>debt</th>\n",
       "      <th>total_income</th>\n",
       "      <th>purpose</th>\n",
       "      <th>kategori_usia</th>\n",
       "    </tr>\n",
       "  </thead>\n",
       "  <tbody>\n",
       "    <tr>\n",
       "      <th>0</th>\n",
       "      <td>1</td>\n",
       "      <td>8437.673028</td>\n",
       "      <td>42</td>\n",
       "      <td>bachelor's degree</td>\n",
       "      <td>0</td>\n",
       "      <td>married</td>\n",
       "      <td>0</td>\n",
       "      <td>female</td>\n",
       "      <td>employee</td>\n",
       "      <td>0</td>\n",
       "      <td>40620.102</td>\n",
       "      <td>purchase of the house</td>\n",
       "      <td>dewasa</td>\n",
       "    </tr>\n",
       "    <tr>\n",
       "      <th>1</th>\n",
       "      <td>1</td>\n",
       "      <td>4024.803754</td>\n",
       "      <td>36</td>\n",
       "      <td>secondary education</td>\n",
       "      <td>1</td>\n",
       "      <td>married</td>\n",
       "      <td>0</td>\n",
       "      <td>female</td>\n",
       "      <td>employee</td>\n",
       "      <td>0</td>\n",
       "      <td>17932.802</td>\n",
       "      <td>car purchase</td>\n",
       "      <td>dewasa</td>\n",
       "    </tr>\n",
       "    <tr>\n",
       "      <th>2</th>\n",
       "      <td>0</td>\n",
       "      <td>5623.422610</td>\n",
       "      <td>33</td>\n",
       "      <td>secondary education</td>\n",
       "      <td>1</td>\n",
       "      <td>married</td>\n",
       "      <td>0</td>\n",
       "      <td>male</td>\n",
       "      <td>employee</td>\n",
       "      <td>0</td>\n",
       "      <td>23341.752</td>\n",
       "      <td>purchase of the house</td>\n",
       "      <td>dewasa</td>\n",
       "    </tr>\n",
       "    <tr>\n",
       "      <th>3</th>\n",
       "      <td>3</td>\n",
       "      <td>4124.747207</td>\n",
       "      <td>32</td>\n",
       "      <td>secondary education</td>\n",
       "      <td>1</td>\n",
       "      <td>married</td>\n",
       "      <td>0</td>\n",
       "      <td>male</td>\n",
       "      <td>employee</td>\n",
       "      <td>0</td>\n",
       "      <td>42820.568</td>\n",
       "      <td>supplementary education</td>\n",
       "      <td>dewasa</td>\n",
       "    </tr>\n",
       "    <tr>\n",
       "      <th>4</th>\n",
       "      <td>0</td>\n",
       "      <td>340266.072047</td>\n",
       "      <td>53</td>\n",
       "      <td>secondary education</td>\n",
       "      <td>1</td>\n",
       "      <td>civil partnership</td>\n",
       "      <td>1</td>\n",
       "      <td>female</td>\n",
       "      <td>retiree</td>\n",
       "      <td>0</td>\n",
       "      <td>25378.572</td>\n",
       "      <td>to have a wedding</td>\n",
       "      <td>dewasa</td>\n",
       "    </tr>\n",
       "  </tbody>\n",
       "</table>\n",
       "</div>"
      ],
      "text/plain": [
       "   children  days_employed  dob_years            education  education_id   \n",
       "0         1    8437.673028         42    bachelor's degree             0  \\\n",
       "1         1    4024.803754         36  secondary education             1   \n",
       "2         0    5623.422610         33  secondary education             1   \n",
       "3         3    4124.747207         32  secondary education             1   \n",
       "4         0  340266.072047         53  secondary education             1   \n",
       "\n",
       "       family_status  family_status_id  gender income_type  debt   \n",
       "0            married                 0  female    employee     0  \\\n",
       "1            married                 0  female    employee     0   \n",
       "2            married                 0    male    employee     0   \n",
       "3            married                 0    male    employee     0   \n",
       "4  civil partnership                 1  female     retiree     0   \n",
       "\n",
       "   total_income                  purpose kategori_usia  \n",
       "0     40620.102    purchase of the house        dewasa  \n",
       "1     17932.802             car purchase        dewasa  \n",
       "2     23341.752    purchase of the house        dewasa  \n",
       "3     42820.568  supplementary education        dewasa  \n",
       "4     25378.572        to have a wedding        dewasa  "
      ]
     },
     "execution_count": 56,
     "metadata": {},
     "output_type": "execute_result"
    }
   ],
   "source": [
    "# memfilter dataset tanpa adanya nilai yang hilang\n",
    "df_without_nan = df.dropna(subset=['days_employed','total_income'])\n",
    "print(f'{df_without_nan.isna().sum()}\\n')\n",
    "\n",
    "# menamilkan sampel dataset yang sudah difilter\n",
    "df_without_nan.head()"
   ]
  },
  {
   "cell_type": "code",
   "execution_count": 57,
   "metadata": {},
   "outputs": [
    {
     "data": {
      "text/plain": [
       "kategori_usia\n",
       "dewasa    27503.004629\n",
       "remaja    22703.351103\n",
       "tua       23021.639994\n",
       "Name: total_income, dtype: float64"
      ]
     },
     "execution_count": 57,
     "metadata": {},
     "output_type": "execute_result"
    }
   ],
   "source": [
    "# menghitung nilai rata-rata untuk pendapatan berdasarkan faktor kategori usia\n",
    "mean_income = df_without_nan.groupby('kategori_usia')['total_income'].mean()\n",
    "mean_income"
   ]
  },
  {
   "cell_type": "code",
   "execution_count": 58,
   "metadata": {
    "scrolled": true
   },
   "outputs": [
    {
     "data": {
      "text/plain": [
       "kategori_usia\n",
       "dewasa    23857.962\n",
       "remaja    20572.209\n",
       "tua       19761.425\n",
       "Name: total_income, dtype: float64"
      ]
     },
     "execution_count": 58,
     "metadata": {},
     "output_type": "execute_result"
    }
   ],
   "source": [
    "# menghitung nilai median untuk pendapatan berdasarkan faktor kategori usia\n",
    "median_income = df_without_nan.groupby('kategori_usia')['total_income'].median()\n",
    "median_income"
   ]
  },
  {
   "cell_type": "code",
   "execution_count": 59,
   "metadata": {},
   "outputs": [
    {
     "data": {
      "text/plain": [
       "education\n",
       "bachelor's degree      33142.802434\n",
       "graduate degree        27960.024667\n",
       "primary education      21144.882211\n",
       "secondary education    24594.503037\n",
       "some college           29045.443644\n",
       "Name: total_income, dtype: float64"
      ]
     },
     "execution_count": 59,
     "metadata": {},
     "output_type": "execute_result"
    }
   ],
   "source": [
    "# menghitung nilai rata-rata untuk pendapatan berdasarkan edukasi\n",
    "mean_income_edu = df_without_nan.groupby('education')['total_income'].mean()\n",
    "mean_income_edu"
   ]
  },
  {
   "cell_type": "code",
   "execution_count": 60,
   "metadata": {},
   "outputs": [
    {
     "data": {
      "text/plain": [
       "education\n",
       "bachelor's degree      28054.5310\n",
       "graduate degree        25161.5835\n",
       "primary education      18741.9760\n",
       "secondary education    21836.5830\n",
       "some college           25618.4640\n",
       "Name: total_income, dtype: float64"
      ]
     },
     "execution_count": 60,
     "metadata": {},
     "output_type": "execute_result"
    }
   ],
   "source": [
    "# menghitung nilai median untuk pendapatan berdasarkan edukasi\n",
    "median_income_edu = df_without_nan.groupby('education')['total_income'].median()\n",
    "median_income_edu"
   ]
  },
  {
   "cell_type": "code",
   "execution_count": 61,
   "metadata": {},
   "outputs": [
    {
     "data": {
      "text/plain": [
       "family_status\n",
       "civil partnership    26694.428597\n",
       "divorced             27189.354550\n",
       "married              27041.784689\n",
       "unmarried            26934.069805\n",
       "widowed              22984.208556\n",
       "Name: total_income, dtype: float64"
      ]
     },
     "execution_count": 61,
     "metadata": {},
     "output_type": "execute_result"
    }
   ],
   "source": [
    "# menghitung nilai rata-rata untuk pendapatan berdasarkan family_status\n",
    "mean_income_fam = df_without_nan.groupby('family_status')['total_income'].mean()\n",
    "mean_income_fam"
   ]
  },
  {
   "cell_type": "code",
   "execution_count": 62,
   "metadata": {},
   "outputs": [
    {
     "data": {
      "text/plain": [
       "family_status\n",
       "civil partnership    23186.534\n",
       "divorced             23515.096\n",
       "married              23389.540\n",
       "unmarried            23149.028\n",
       "widowed              20514.190\n",
       "Name: total_income, dtype: float64"
      ]
     },
     "execution_count": 62,
     "metadata": {},
     "output_type": "execute_result"
    }
   ],
   "source": [
    "# menghitung nilai median untuk pendapatan berdasarkan family_status\n",
    "median_income_fam = df_without_nan.groupby('family_status')['total_income'].median()\n",
    "median_income_fam"
   ]
  },
  {
   "attachments": {},
   "cell_type": "markdown",
   "metadata": {},
   "source": [
    "Dari beberapa pengujian yang telah dilakukan dapat disimpulkan bahwa nilai `mean` dan `median` dari `total_income` berdasarkan beberapa faktor yang diujikan memiliki nilai yang tidak jauh berbeda. Hal tersebut menunjukan bahwa nilai hampir seragam. Sehingga `mean` akan diterapkan untuk mengisi nilai yang hilang."
   ]
  },
  {
   "cell_type": "code",
   "execution_count": 63,
   "metadata": {},
   "outputs": [],
   "source": [
    "#  membuat fungsi untuk mengisi nilai yang hilang\n",
    "def fill_na_category(data,col,value):\n",
    "    data[col] = data[col].fillna(value)\n",
    "    return data[col]"
   ]
  },
  {
   "cell_type": "code",
   "execution_count": 64,
   "metadata": {},
   "outputs": [
    {
     "data": {
      "text/plain": [
       "26787.568354658673"
      ]
     },
     "execution_count": 64,
     "metadata": {},
     "output_type": "execute_result"
    }
   ],
   "source": [
    "# menghitung nilai rata-rata pada kolom `total_income`\n",
    "mean_all = df_without_nan['total_income'].mean()\n",
    "mean_all"
   ]
  },
  {
   "cell_type": "code",
   "execution_count": 65,
   "metadata": {},
   "outputs": [
    {
     "data": {
      "text/plain": [
       "0        40620.102\n",
       "1        17932.802\n",
       "2        23341.752\n",
       "3        42820.568\n",
       "4        25378.572\n",
       "           ...    \n",
       "21520    35966.698\n",
       "21521    24959.969\n",
       "21522    14347.610\n",
       "21523    39054.888\n",
       "21524    13127.587\n",
       "Name: total_income, Length: 21454, dtype: float64"
      ]
     },
     "execution_count": 65,
     "metadata": {},
     "output_type": "execute_result"
    }
   ],
   "source": [
    "# menerapkan fungsi tersebut ke setiap baris\n",
    "fill_na_category(df,'total_income',mean_all)"
   ]
  },
  {
   "cell_type": "code",
   "execution_count": 66,
   "metadata": {},
   "outputs": [
    {
     "data": {
      "text/plain": [
       "0"
      ]
     },
     "execution_count": 66,
     "metadata": {},
     "output_type": "execute_result"
    }
   ],
   "source": [
    "# memeriksa apakah nilai yang hilang masih ada pada kolom `total_income`\n",
    "df['total_income'].isna().sum()"
   ]
  },
  {
   "attachments": {},
   "cell_type": "markdown",
   "metadata": {},
   "source": [
    "Setelah memperbaiki nilai yang `hilang` pada kolom `total_income`, maka jumlah nilai pada kolom `total_income` sudah sama dengan jumlah kolom-kolom lainya kecuali pada kolom `days_employed` yang akan diperbaiki setelahnya."
   ]
  },
  {
   "attachments": {},
   "cell_type": "markdown",
   "metadata": {},
   "source": [
    "###  Memperbaiki nilai di `days_employed` <a id= 'cont_7' ></a>"
   ]
  },
  {
   "cell_type": "code",
   "execution_count": 67,
   "metadata": {
    "pycharm": {
     "name": "#%%\n"
    }
   },
   "outputs": [
    {
     "data": {
      "text/plain": [
       "kategori_usia\n",
       "dewasa      1978.781961\n",
       "remaja       744.542130\n",
       "tua       355229.618218\n",
       "Name: days_employed, dtype: float64"
      ]
     },
     "execution_count": 67,
     "metadata": {},
     "output_type": "execute_result"
    }
   ],
   "source": [
    "# menghitung median dari `days_employed` \n",
    "median_days = df_without_nan.groupby('kategori_usia')['days_employed'].median()\n",
    "median_days"
   ]
  },
  {
   "cell_type": "code",
   "execution_count": 68,
   "metadata": {},
   "outputs": [
    {
     "data": {
      "text/plain": [
       "kategori_usia\n",
       "dewasa     39695.452041\n",
       "remaja      1282.650421\n",
       "tua       286544.143436\n",
       "Name: days_employed, dtype: float64"
      ]
     },
     "execution_count": 68,
     "metadata": {},
     "output_type": "execute_result"
    }
   ],
   "source": [
    "# menghitung rata-rata dari `days_employed`\n",
    "mean_days = df_without_nan.groupby('kategori_usia')['days_employed'].mean()\n",
    "mean_days"
   ]
  },
  {
   "attachments": {},
   "cell_type": "markdown",
   "metadata": {},
   "source": [
    "Dari hasil perhitungan untuk mengkomparasi nilai `mean` dan `median` berdasarkan kategori usia nasabah, terlihat bahwa nilai yang ada pada kolom `days_employed` tidak seragam disetiap kategorinya. Hal tersebut membuktikan bahwa nilai tidak terkonsentrasi ke satu pusat sehingga nilai `mean` tidak bisa digunakan untuk mengisi nilai yang hilang. Nilai `median` yang bisa mengisi nilai yang hilang tersebut."
   ]
  },
  {
   "cell_type": "code",
   "execution_count": 69,
   "metadata": {},
   "outputs": [],
   "source": [
    "# membuat fungsi untuk mendapatkan nilai median\n",
    "def median_days(data,col):\n",
    "    calc_median = data[col].median(skipna=True)\n",
    "    return calc_median"
   ]
  },
  {
   "cell_type": "code",
   "execution_count": 70,
   "metadata": {},
   "outputs": [
    {
     "data": {
      "text/plain": [
       "71.5"
      ]
     },
     "execution_count": 70,
     "metadata": {},
     "output_type": "execute_result"
    }
   ],
   "source": [
    "# mencoba fungsi apakah bekerja?\n",
    "row = [45,np.nan,66,np.nan,77,88]\n",
    "col = ['coba']\n",
    "try_df = pd.DataFrame(data=row,columns=col)\n",
    "median_days(try_df,'coba')"
   ]
  },
  {
   "cell_type": "code",
   "execution_count": 71,
   "metadata": {},
   "outputs": [],
   "source": [
    "# menerapkan fungsi ke days_employed untuk mendapatkan nilai median\n",
    "calc_median_days = median_days(df,'days_employed')"
   ]
  },
  {
   "cell_type": "code",
   "execution_count": 72,
   "metadata": {},
   "outputs": [
    {
     "data": {
      "text/plain": [
       "0          8437.673028\n",
       "1          4024.803754\n",
       "2          5623.422610\n",
       "3          4124.747207\n",
       "4        340266.072047\n",
       "             ...      \n",
       "21520      4529.316663\n",
       "21521    343937.404131\n",
       "21522      2113.346888\n",
       "21523      3112.481705\n",
       "21524      1984.507589\n",
       "Name: days_employed, Length: 21454, dtype: float64"
      ]
     },
     "execution_count": 72,
     "metadata": {},
     "output_type": "execute_result"
    }
   ],
   "source": [
    "# mengganti nilai yang hilang pada kolom `days_employed` menggunakan nilai medianya\n",
    "fill_na_category(df,'days_employed',calc_median_days)"
   ]
  },
  {
   "cell_type": "code",
   "execution_count": 73,
   "metadata": {},
   "outputs": [
    {
     "data": {
      "text/plain": [
       "0"
      ]
     },
     "execution_count": 73,
     "metadata": {},
     "output_type": "execute_result"
    }
   ],
   "source": [
    "# memeriksa apakah nilai yang hilang masih ada pada kolom `days_employed`\n",
    "df['days_employed'].isna().sum()"
   ]
  },
  {
   "attachments": {},
   "cell_type": "markdown",
   "metadata": {},
   "source": [
    "Untuk mempermudah pembacaan kita akan mengubah tipe data pada kolom `days_employed` dan `total_income` mejadi tipe `integer` sebagai berikut:"
   ]
  },
  {
   "cell_type": "code",
   "execution_count": 74,
   "metadata": {},
   "outputs": [],
   "source": [
    "# mengubah tipe data kategori dari float menjadi integer\n",
    "df['days_employed'] = df['days_employed'].astype('int')\n",
    "df['total_income'] = df['total_income'].astype('int')"
   ]
  },
  {
   "cell_type": "code",
   "execution_count": 75,
   "metadata": {},
   "outputs": [
    {
     "name": "stdout",
     "output_type": "stream",
     "text": [
      "<class 'pandas.core.frame.DataFrame'>\n",
      "Index: 21454 entries, 0 to 21524\n",
      "Data columns (total 13 columns):\n",
      " #   Column            Non-Null Count  Dtype \n",
      "---  ------            --------------  ----- \n",
      " 0   children          21454 non-null  int64 \n",
      " 1   days_employed     21454 non-null  int32 \n",
      " 2   dob_years         21454 non-null  int64 \n",
      " 3   education         21454 non-null  object\n",
      " 4   education_id      21454 non-null  int64 \n",
      " 5   family_status     21454 non-null  object\n",
      " 6   family_status_id  21454 non-null  int64 \n",
      " 7   gender            21454 non-null  object\n",
      " 8   income_type       21454 non-null  object\n",
      " 9   debt              21454 non-null  int64 \n",
      " 10  total_income      21454 non-null  int32 \n",
      " 11  purpose           21454 non-null  object\n",
      " 12  kategori_usia     21454 non-null  object\n",
      "dtypes: int32(2), int64(5), object(6)\n",
      "memory usage: 2.1+ MB\n"
     ]
    }
   ],
   "source": [
    "# memeriksa keseluruhan dataset\n",
    "df.info()"
   ]
  },
  {
   "attachments": {},
   "cell_type": "markdown",
   "metadata": {},
   "source": [
    "Setelah memperbaiki nilai yang `hilang` pada kolom `days_employed`, maka jumlah nilai pada kolom `days_employed` sudah sama dengan jumlah kolom-kolom lainya."
   ]
  },
  {
   "attachments": {},
   "cell_type": "markdown",
   "metadata": {},
   "source": [
    "## Pengkategorian Data <a id= 'cont_8' ></a>"
   ]
  },
  {
   "attachments": {},
   "cell_type": "markdown",
   "metadata": {},
   "source": [
    "Selanjutnya mari kita membuat beberapa kolom tambahan berupa pengkategorian data menggunakan `Data Kategorik` dan `Data Numerik` seperti berikut:"
   ]
  },
  {
   "attachments": {},
   "cell_type": "markdown",
   "metadata": {},
   "source": [
    "**Data Kategorik**"
   ]
  },
  {
   "cell_type": "code",
   "execution_count": 76,
   "metadata": {
    "scrolled": true
   },
   "outputs": [
    {
     "data": {
      "text/html": [
       "<div>\n",
       "<style scoped>\n",
       "    .dataframe tbody tr th:only-of-type {\n",
       "        vertical-align: middle;\n",
       "    }\n",
       "\n",
       "    .dataframe tbody tr th {\n",
       "        vertical-align: top;\n",
       "    }\n",
       "\n",
       "    .dataframe thead th {\n",
       "        text-align: right;\n",
       "    }\n",
       "</style>\n",
       "<table border=\"1\" class=\"dataframe\">\n",
       "  <thead>\n",
       "    <tr style=\"text-align: right;\">\n",
       "      <th></th>\n",
       "      <th>children</th>\n",
       "      <th>debt</th>\n",
       "      <th>purpose</th>\n",
       "    </tr>\n",
       "  </thead>\n",
       "  <tbody>\n",
       "    <tr>\n",
       "      <th>0</th>\n",
       "      <td>1</td>\n",
       "      <td>0</td>\n",
       "      <td>purchase of the house</td>\n",
       "    </tr>\n",
       "    <tr>\n",
       "      <th>1</th>\n",
       "      <td>1</td>\n",
       "      <td>0</td>\n",
       "      <td>car purchase</td>\n",
       "    </tr>\n",
       "    <tr>\n",
       "      <th>2</th>\n",
       "      <td>0</td>\n",
       "      <td>0</td>\n",
       "      <td>purchase of the house</td>\n",
       "    </tr>\n",
       "    <tr>\n",
       "      <th>3</th>\n",
       "      <td>3</td>\n",
       "      <td>0</td>\n",
       "      <td>supplementary education</td>\n",
       "    </tr>\n",
       "    <tr>\n",
       "      <th>4</th>\n",
       "      <td>0</td>\n",
       "      <td>0</td>\n",
       "      <td>to have a wedding</td>\n",
       "    </tr>\n",
       "  </tbody>\n",
       "</table>\n",
       "</div>"
      ],
      "text/plain": [
       "   children  debt                  purpose\n",
       "0         1     0    purchase of the house\n",
       "1         1     0             car purchase\n",
       "2         0     0    purchase of the house\n",
       "3         3     0  supplementary education\n",
       "4         0     0        to have a wedding"
      ]
     },
     "execution_count": 76,
     "metadata": {},
     "output_type": "execute_result"
    }
   ],
   "source": [
    "# memilih kolom yang akan dibuatkan kategorinya\n",
    "df_categories = df[['children','debt','purpose']]\n",
    "\n",
    "# menampilkan sampel data\n",
    "df_categories.head()"
   ]
  },
  {
   "cell_type": "code",
   "execution_count": 77,
   "metadata": {},
   "outputs": [
    {
     "data": {
      "text/plain": [
       "array([ 1,  0,  3,  2,  4, 20,  5], dtype=int64)"
      ]
     },
     "execution_count": 77,
     "metadata": {},
     "output_type": "execute_result"
    }
   ],
   "source": [
    "# mengecek nilai unik `children`\n",
    "df['children'].unique()"
   ]
  },
  {
   "cell_type": "code",
   "execution_count": 78,
   "metadata": {},
   "outputs": [
    {
     "data": {
      "text/plain": [
       "array([0, 1], dtype=int64)"
      ]
     },
     "execution_count": 78,
     "metadata": {},
     "output_type": "execute_result"
    }
   ],
   "source": [
    "# mengecek nilai unik `debt`\n",
    "df['debt'].unique()"
   ]
  },
  {
   "cell_type": "code",
   "execution_count": 79,
   "metadata": {},
   "outputs": [
    {
     "data": {
      "text/plain": [
       "array(['purchase of the house', 'car purchase', 'supplementary education',\n",
       "       'to have a wedding', 'housing transactions', 'education',\n",
       "       'having a wedding', 'purchase of the house for my family',\n",
       "       'buy real estate', 'buy commercial real estate',\n",
       "       'buy residential real estate', 'construction of own property',\n",
       "       'property', 'building a property', 'buying a second-hand car',\n",
       "       'buying my own car', 'transactions with commercial real estate',\n",
       "       'building a real estate', 'housing',\n",
       "       'transactions with my real estate', 'cars', 'to become educated',\n",
       "       'second-hand car purchase', 'getting an education', 'car',\n",
       "       'wedding ceremony', 'to get a supplementary education',\n",
       "       'purchase of my own house', 'real estate transactions',\n",
       "       'getting higher education', 'to own a car', 'purchase of a car',\n",
       "       'profile education', 'university education',\n",
       "       'buying property for renting out', 'to buy a car',\n",
       "       'housing renovation', 'going to university'], dtype=object)"
      ]
     },
     "execution_count": 79,
     "metadata": {},
     "output_type": "execute_result"
    }
   ],
   "source": [
    "# mengecek nilai unik `purpose`\n",
    "df['purpose'].unique()"
   ]
  },
  {
   "attachments": {},
   "cell_type": "markdown",
   "metadata": {},
   "source": [
    "Terdapat beberapa kolom yang akan kita kategorikan kembali untuk mempermudah pembacaan dan kita buat kolom baru berdasarkan pengkategorian tersebut. kolom `children` dan `debt` kita kategorikan bedasarkan dictionarynya, sedangkan kolom `purpose` kita kategorikan berdasarkan keumuman."
   ]
  },
  {
   "cell_type": "code",
   "execution_count": 80,
   "metadata": {},
   "outputs": [],
   "source": [
    "# membuat fungsi untuk mengategorikan data berdasarkan topik umum\n",
    "\n",
    "# Untuk kategori children_status\n",
    "def children(children):\n",
    "    if children == 0:\n",
    "        return 'tidak mempunyai anak' \n",
    "    else:\n",
    "        return 'mempunyai anak'\n",
    "\n",
    "# Untuk kategori debt_status\n",
    "def debt_status(debt):\n",
    "    if debt == 0:\n",
    "        return 'tepat waktu'\n",
    "    else:\n",
    "        return 'gagal bayar'\n",
    "\n",
    "# Untuk kategori purpose_status\n",
    "def purpose_status(purpose):\n",
    "    if 'cars' in purpose:\n",
    "        return 'keperluan mobil'\n",
    "    elif 'car' in purpose:\n",
    "        return 'keperluan mobil'\n",
    "    elif 'education' in purpose:\n",
    "        return 'keperluan edukasi'\n",
    "    elif 'university' in purpose:\n",
    "        return 'keperluan edukasi'\n",
    "    elif 'educated' in purpose:\n",
    "        return 'keperluan edukasi'\n",
    "    elif 'wedding' in purpose:\n",
    "        return 'keperluan pernikahan'\n",
    "    elif 'house' in purpose:\n",
    "        return 'keperluan properti'\n",
    "    elif 'housing' in purpose:\n",
    "        return 'keperluan properti'\n",
    "    elif 'estate' in purpose:\n",
    "        return 'keperluan properti'\n",
    "    elif 'property' in purpose:\n",
    "        return 'keperluan properti'"
   ]
  },
  {
   "cell_type": "code",
   "execution_count": 81,
   "metadata": {},
   "outputs": [],
   "source": [
    "# menerapkan masing-masing fungsi untuk membuat kolom baru\n",
    "df['children_status'] = df['children'].agg(children)\n",
    "df['debt_status'] = df['debt'].agg(debt_status)\n",
    "df['purpose_status'] = df['purpose'].agg(purpose_status)"
   ]
  },
  {
   "cell_type": "code",
   "execution_count": 82,
   "metadata": {},
   "outputs": [
    {
     "data": {
      "text/plain": [
       "children_status\n",
       "tidak mempunyai anak    14091\n",
       "mempunyai anak           7363\n",
       "Name: count, dtype: int64"
      ]
     },
     "execution_count": 82,
     "metadata": {},
     "output_type": "execute_result"
    }
   ],
   "source": [
    "# menampilkan hasil kolom `children_status`\n",
    "df['children_status'].value_counts()"
   ]
  },
  {
   "cell_type": "code",
   "execution_count": 83,
   "metadata": {},
   "outputs": [
    {
     "data": {
      "text/plain": [
       "debt_status\n",
       "tepat waktu    19713\n",
       "gagal bayar     1741\n",
       "Name: count, dtype: int64"
      ]
     },
     "execution_count": 83,
     "metadata": {},
     "output_type": "execute_result"
    }
   ],
   "source": [
    "# menampilkan hasil kolom `debt_status`\n",
    "df['debt_status'].value_counts()"
   ]
  },
  {
   "cell_type": "code",
   "execution_count": 84,
   "metadata": {},
   "outputs": [
    {
     "data": {
      "text/plain": [
       "purpose_status\n",
       "keperluan properti      10811\n",
       "keperluan mobil          4306\n",
       "keperluan edukasi        4013\n",
       "keperluan pernikahan     2324\n",
       "Name: count, dtype: int64"
      ]
     },
     "execution_count": 84,
     "metadata": {},
     "output_type": "execute_result"
    }
   ],
   "source": [
    "# menampilkan hasil kolom `purpose_status`\n",
    "df['purpose_status'].value_counts()"
   ]
  },
  {
   "attachments": {},
   "cell_type": "markdown",
   "metadata": {},
   "source": [
    "**Data Numerik**"
   ]
  },
  {
   "cell_type": "code",
   "execution_count": 85,
   "metadata": {},
   "outputs": [
    {
     "data": {
      "text/html": [
       "<div>\n",
       "<style scoped>\n",
       "    .dataframe tbody tr th:only-of-type {\n",
       "        vertical-align: middle;\n",
       "    }\n",
       "\n",
       "    .dataframe tbody tr th {\n",
       "        vertical-align: top;\n",
       "    }\n",
       "\n",
       "    .dataframe thead th {\n",
       "        text-align: right;\n",
       "    }\n",
       "</style>\n",
       "<table border=\"1\" class=\"dataframe\">\n",
       "  <thead>\n",
       "    <tr style=\"text-align: right;\">\n",
       "      <th></th>\n",
       "      <th>total_income</th>\n",
       "    </tr>\n",
       "  </thead>\n",
       "  <tbody>\n",
       "    <tr>\n",
       "      <th>0</th>\n",
       "      <td>40620</td>\n",
       "    </tr>\n",
       "    <tr>\n",
       "      <th>1</th>\n",
       "      <td>17932</td>\n",
       "    </tr>\n",
       "    <tr>\n",
       "      <th>2</th>\n",
       "      <td>23341</td>\n",
       "    </tr>\n",
       "    <tr>\n",
       "      <th>3</th>\n",
       "      <td>42820</td>\n",
       "    </tr>\n",
       "    <tr>\n",
       "      <th>4</th>\n",
       "      <td>25378</td>\n",
       "    </tr>\n",
       "  </tbody>\n",
       "</table>\n",
       "</div>"
      ],
      "text/plain": [
       "   total_income\n",
       "0         40620\n",
       "1         17932\n",
       "2         23341\n",
       "3         42820\n",
       "4         25378"
      ]
     },
     "execution_count": 85,
     "metadata": {},
     "output_type": "execute_result"
    }
   ],
   "source": [
    "# memilih kolom `total_income` sebagai data numerik\n",
    "df_numeric = df[['total_income']]\n",
    "\n",
    "# menampilkan sampel data\n",
    "df_numeric.head()"
   ]
  },
  {
   "cell_type": "code",
   "execution_count": 86,
   "metadata": {},
   "outputs": [
    {
     "name": "stdout",
     "output_type": "stream",
     "text": [
      "Nilai mean income : 26787\n",
      "Nilai median income : 24966\n"
     ]
    }
   ],
   "source": [
    "# mendapatkan nilai rata-rata dan median pada kolom `total_income`\n",
    "\n",
    "dict_income = {'total_income':['mean','median']}\n",
    "stat_income_new = df.agg(dict_income)\n",
    "\n",
    "mean_income_new = int(stat_income_new['total_income']['mean'])\n",
    "median_income_new = int(stat_income_new['total_income']['median'])\n",
    "\n",
    "print(f\"Nilai mean income : {mean_income_new}\")\n",
    "print(f\"Nilai median income : {median_income_new}\")"
   ]
  },
  {
   "attachments": {},
   "cell_type": "markdown",
   "metadata": {},
   "source": [
    "Untuk kategori numerik kita akan kelompokan `total_income` bedasarkan nilai `mean` dari `total_income` tersebut. nilai `mean` dipilih karena data atau nilai `total_income` terkonsentrasi mengarah pusat yang sama yaitu `mean`."
   ]
  },
  {
   "cell_type": "code",
   "execution_count": 87,
   "metadata": {},
   "outputs": [],
   "source": [
    "# fungsi untuk melakukan pengkategorian kelompok numerik menjadi kategorik\n",
    "def income_status(income):\n",
    "    if income < mean_income_new:\n",
    "        return 'pendapatan dibawah rata-rata'\n",
    "    else:\n",
    "        return 'pendapatan diatas rata-rata'"
   ]
  },
  {
   "cell_type": "code",
   "execution_count": 88,
   "metadata": {},
   "outputs": [],
   "source": [
    "# membuat kolom baru kategorik dari kolom `total_income`\n",
    "df['income_status'] = df['total_income'].agg(income_status)"
   ]
  },
  {
   "cell_type": "code",
   "execution_count": 89,
   "metadata": {
    "scrolled": true
   },
   "outputs": [
    {
     "data": {
      "text/plain": [
       "income_status\n",
       "pendapatan dibawah rata-rata    11892\n",
       "pendapatan diatas rata-rata      9562\n",
       "Name: count, dtype: int64"
      ]
     },
     "execution_count": 89,
     "metadata": {},
     "output_type": "execute_result"
    }
   ],
   "source": [
    "# menampilkan hasil kolom `total_income`\n",
    "df['income_status'].value_counts()"
   ]
  },
  {
   "cell_type": "code",
   "execution_count": 90,
   "metadata": {
    "scrolled": true
   },
   "outputs": [
    {
     "data": {
      "text/html": [
       "<div>\n",
       "<style scoped>\n",
       "    .dataframe tbody tr th:only-of-type {\n",
       "        vertical-align: middle;\n",
       "    }\n",
       "\n",
       "    .dataframe tbody tr th {\n",
       "        vertical-align: top;\n",
       "    }\n",
       "\n",
       "    .dataframe thead th {\n",
       "        text-align: right;\n",
       "    }\n",
       "</style>\n",
       "<table border=\"1\" class=\"dataframe\">\n",
       "  <thead>\n",
       "    <tr style=\"text-align: right;\">\n",
       "      <th></th>\n",
       "      <th>children</th>\n",
       "      <th>days_employed</th>\n",
       "      <th>dob_years</th>\n",
       "      <th>education</th>\n",
       "      <th>education_id</th>\n",
       "      <th>family_status</th>\n",
       "      <th>family_status_id</th>\n",
       "      <th>gender</th>\n",
       "      <th>income_type</th>\n",
       "      <th>debt</th>\n",
       "      <th>total_income</th>\n",
       "      <th>purpose</th>\n",
       "      <th>kategori_usia</th>\n",
       "      <th>children_status</th>\n",
       "      <th>debt_status</th>\n",
       "      <th>purpose_status</th>\n",
       "      <th>income_status</th>\n",
       "    </tr>\n",
       "  </thead>\n",
       "  <tbody>\n",
       "    <tr>\n",
       "      <th>0</th>\n",
       "      <td>1</td>\n",
       "      <td>8437</td>\n",
       "      <td>42</td>\n",
       "      <td>bachelor's degree</td>\n",
       "      <td>0</td>\n",
       "      <td>married</td>\n",
       "      <td>0</td>\n",
       "      <td>female</td>\n",
       "      <td>employee</td>\n",
       "      <td>0</td>\n",
       "      <td>40620</td>\n",
       "      <td>purchase of the house</td>\n",
       "      <td>dewasa</td>\n",
       "      <td>mempunyai anak</td>\n",
       "      <td>tepat waktu</td>\n",
       "      <td>keperluan properti</td>\n",
       "      <td>pendapatan diatas rata-rata</td>\n",
       "    </tr>\n",
       "    <tr>\n",
       "      <th>1</th>\n",
       "      <td>1</td>\n",
       "      <td>4024</td>\n",
       "      <td>36</td>\n",
       "      <td>secondary education</td>\n",
       "      <td>1</td>\n",
       "      <td>married</td>\n",
       "      <td>0</td>\n",
       "      <td>female</td>\n",
       "      <td>employee</td>\n",
       "      <td>0</td>\n",
       "      <td>17932</td>\n",
       "      <td>car purchase</td>\n",
       "      <td>dewasa</td>\n",
       "      <td>mempunyai anak</td>\n",
       "      <td>tepat waktu</td>\n",
       "      <td>keperluan mobil</td>\n",
       "      <td>pendapatan dibawah rata-rata</td>\n",
       "    </tr>\n",
       "    <tr>\n",
       "      <th>2</th>\n",
       "      <td>0</td>\n",
       "      <td>5623</td>\n",
       "      <td>33</td>\n",
       "      <td>secondary education</td>\n",
       "      <td>1</td>\n",
       "      <td>married</td>\n",
       "      <td>0</td>\n",
       "      <td>male</td>\n",
       "      <td>employee</td>\n",
       "      <td>0</td>\n",
       "      <td>23341</td>\n",
       "      <td>purchase of the house</td>\n",
       "      <td>dewasa</td>\n",
       "      <td>tidak mempunyai anak</td>\n",
       "      <td>tepat waktu</td>\n",
       "      <td>keperluan properti</td>\n",
       "      <td>pendapatan dibawah rata-rata</td>\n",
       "    </tr>\n",
       "    <tr>\n",
       "      <th>3</th>\n",
       "      <td>3</td>\n",
       "      <td>4124</td>\n",
       "      <td>32</td>\n",
       "      <td>secondary education</td>\n",
       "      <td>1</td>\n",
       "      <td>married</td>\n",
       "      <td>0</td>\n",
       "      <td>male</td>\n",
       "      <td>employee</td>\n",
       "      <td>0</td>\n",
       "      <td>42820</td>\n",
       "      <td>supplementary education</td>\n",
       "      <td>dewasa</td>\n",
       "      <td>mempunyai anak</td>\n",
       "      <td>tepat waktu</td>\n",
       "      <td>keperluan edukasi</td>\n",
       "      <td>pendapatan diatas rata-rata</td>\n",
       "    </tr>\n",
       "    <tr>\n",
       "      <th>4</th>\n",
       "      <td>0</td>\n",
       "      <td>340266</td>\n",
       "      <td>53</td>\n",
       "      <td>secondary education</td>\n",
       "      <td>1</td>\n",
       "      <td>civil partnership</td>\n",
       "      <td>1</td>\n",
       "      <td>female</td>\n",
       "      <td>retiree</td>\n",
       "      <td>0</td>\n",
       "      <td>25378</td>\n",
       "      <td>to have a wedding</td>\n",
       "      <td>dewasa</td>\n",
       "      <td>tidak mempunyai anak</td>\n",
       "      <td>tepat waktu</td>\n",
       "      <td>keperluan pernikahan</td>\n",
       "      <td>pendapatan dibawah rata-rata</td>\n",
       "    </tr>\n",
       "  </tbody>\n",
       "</table>\n",
       "</div>"
      ],
      "text/plain": [
       "   children  days_employed  dob_years            education  education_id   \n",
       "0         1           8437         42    bachelor's degree             0  \\\n",
       "1         1           4024         36  secondary education             1   \n",
       "2         0           5623         33  secondary education             1   \n",
       "3         3           4124         32  secondary education             1   \n",
       "4         0         340266         53  secondary education             1   \n",
       "\n",
       "       family_status  family_status_id  gender income_type  debt   \n",
       "0            married                 0  female    employee     0  \\\n",
       "1            married                 0  female    employee     0   \n",
       "2            married                 0    male    employee     0   \n",
       "3            married                 0    male    employee     0   \n",
       "4  civil partnership                 1  female     retiree     0   \n",
       "\n",
       "   total_income                  purpose kategori_usia       children_status   \n",
       "0         40620    purchase of the house        dewasa        mempunyai anak  \\\n",
       "1         17932             car purchase        dewasa        mempunyai anak   \n",
       "2         23341    purchase of the house        dewasa  tidak mempunyai anak   \n",
       "3         42820  supplementary education        dewasa        mempunyai anak   \n",
       "4         25378        to have a wedding        dewasa  tidak mempunyai anak   \n",
       "\n",
       "   debt_status        purpose_status                 income_status  \n",
       "0  tepat waktu    keperluan properti   pendapatan diatas rata-rata  \n",
       "1  tepat waktu       keperluan mobil  pendapatan dibawah rata-rata  \n",
       "2  tepat waktu    keperluan properti  pendapatan dibawah rata-rata  \n",
       "3  tepat waktu     keperluan edukasi   pendapatan diatas rata-rata  \n",
       "4  tepat waktu  keperluan pernikahan  pendapatan dibawah rata-rata  "
      ]
     },
     "execution_count": 90,
     "metadata": {},
     "output_type": "execute_result"
    }
   ],
   "source": [
    "# menampilkan hasil akhir pengkategorian data\n",
    "df.head()"
   ]
  },
  {
   "attachments": {},
   "cell_type": "markdown",
   "metadata": {},
   "source": [
    "## Memeriksa hipotesis <a id= 'cont_9' ></a>\n"
   ]
  },
  {
   "attachments": {},
   "cell_type": "markdown",
   "metadata": {},
   "source": [
    "Terakhir mari kita uji beberapa hipotesis yang sudah dibuat sebelumnya menggunakan data yang sudah kita persiapkan sebelumnya."
   ]
  },
  {
   "attachments": {},
   "cell_type": "markdown",
   "metadata": {},
   "source": [
    "**Hipotesis 1: Apakah terdapat korelasi antara memiliki anak dengan probabilitas melakukan gagal bayar?** <a id= 'cont_10' ></a>"
   ]
  },
  {
   "cell_type": "code",
   "execution_count": 91,
   "metadata": {},
   "outputs": [
    {
     "data": {
      "text/html": [
       "<div>\n",
       "<style scoped>\n",
       "    .dataframe tbody tr th:only-of-type {\n",
       "        vertical-align: middle;\n",
       "    }\n",
       "\n",
       "    .dataframe tbody tr th {\n",
       "        vertical-align: top;\n",
       "    }\n",
       "\n",
       "    .dataframe thead th {\n",
       "        text-align: right;\n",
       "    }\n",
       "</style>\n",
       "<table border=\"1\" class=\"dataframe\">\n",
       "  <thead>\n",
       "    <tr style=\"text-align: right;\">\n",
       "      <th></th>\n",
       "      <th>children_status</th>\n",
       "      <th>debt_status</th>\n",
       "      <th>count</th>\n",
       "    </tr>\n",
       "  </thead>\n",
       "  <tbody>\n",
       "    <tr>\n",
       "      <th>0</th>\n",
       "      <td>mempunyai anak</td>\n",
       "      <td>tepat waktu</td>\n",
       "      <td>6685</td>\n",
       "    </tr>\n",
       "    <tr>\n",
       "      <th>1</th>\n",
       "      <td>mempunyai anak</td>\n",
       "      <td>gagal bayar</td>\n",
       "      <td>678</td>\n",
       "    </tr>\n",
       "    <tr>\n",
       "      <th>2</th>\n",
       "      <td>tidak mempunyai anak</td>\n",
       "      <td>tepat waktu</td>\n",
       "      <td>13028</td>\n",
       "    </tr>\n",
       "    <tr>\n",
       "      <th>3</th>\n",
       "      <td>tidak mempunyai anak</td>\n",
       "      <td>gagal bayar</td>\n",
       "      <td>1063</td>\n",
       "    </tr>\n",
       "  </tbody>\n",
       "</table>\n",
       "</div>"
      ],
      "text/plain": [
       "        children_status  debt_status  count\n",
       "0        mempunyai anak  tepat waktu   6685\n",
       "1        mempunyai anak  gagal bayar    678\n",
       "2  tidak mempunyai anak  tepat waktu  13028\n",
       "3  tidak mempunyai anak  gagal bayar   1063"
      ]
     },
     "execution_count": 91,
     "metadata": {},
     "output_type": "execute_result"
    }
   ],
   "source": [
    "# memeriksa data anak dan data gagal bayar\n",
    "debt_status_children = pd.DataFrame(df.groupby('children_status')['debt_status'].value_counts())\n",
    "debt_status_children.reset_index(inplace=True)\n",
    "debt_status_children"
   ]
  },
  {
   "cell_type": "code",
   "execution_count": 92,
   "metadata": {},
   "outputs": [
    {
     "data": {
      "text/plain": [
       "children_status\n",
       "mempunyai anak          9.21 %\n",
       "tidak mempunyai anak    7.54 %\n",
       "Name: count, dtype: object"
      ]
     },
     "execution_count": 92,
     "metadata": {},
     "output_type": "execute_result"
    }
   ],
   "source": [
    "# menghitung persentase gagal bayar berdasarkan jumlah anak\n",
    "group_count = debt_status_children.groupby('children_status')['count'].sum()\n",
    "percent_chld = debt_status_children[debt_status_children['debt_status']=='gagal bayar'].groupby('children_status')['count'].sum()\n",
    "percent_chld = round(percent_chld/group_count*100,2)\n",
    "percent_chld.map('{:.2f} %'.format)"
   ]
  },
  {
   "attachments": {},
   "cell_type": "markdown",
   "metadata": {},
   "source": [
    "Dapat kita simpulkan bahwa persentase `Gagal Bayar` untuk nasabah yang `Memiliki Anak` lebih tinggi dibandingkan dengan nasabah yang `Tidak Memiliki Anak` dengan masing-masing nilai `9.21 %` dan `7.54 %`."
   ]
  },
  {
   "attachments": {},
   "cell_type": "markdown",
   "metadata": {},
   "source": [
    "**Hipotesis 2: Apakah terdapat korelasi antara status keluarga dengan probabilitas melakukan gagal bayar?** <a id= 'cont_11' ></a>"
   ]
  },
  {
   "cell_type": "code",
   "execution_count": 93,
   "metadata": {},
   "outputs": [
    {
     "data": {
      "text/html": [
       "<div>\n",
       "<style scoped>\n",
       "    .dataframe tbody tr th:only-of-type {\n",
       "        vertical-align: middle;\n",
       "    }\n",
       "\n",
       "    .dataframe tbody tr th {\n",
       "        vertical-align: top;\n",
       "    }\n",
       "\n",
       "    .dataframe thead th {\n",
       "        text-align: right;\n",
       "    }\n",
       "</style>\n",
       "<table border=\"1\" class=\"dataframe\">\n",
       "  <thead>\n",
       "    <tr style=\"text-align: right;\">\n",
       "      <th></th>\n",
       "      <th>family_status</th>\n",
       "      <th>debt_status</th>\n",
       "      <th>count</th>\n",
       "    </tr>\n",
       "  </thead>\n",
       "  <tbody>\n",
       "    <tr>\n",
       "      <th>0</th>\n",
       "      <td>civil partnership</td>\n",
       "      <td>tepat waktu</td>\n",
       "      <td>3763</td>\n",
       "    </tr>\n",
       "    <tr>\n",
       "      <th>1</th>\n",
       "      <td>civil partnership</td>\n",
       "      <td>gagal bayar</td>\n",
       "      <td>388</td>\n",
       "    </tr>\n",
       "    <tr>\n",
       "      <th>2</th>\n",
       "      <td>divorced</td>\n",
       "      <td>tepat waktu</td>\n",
       "      <td>1110</td>\n",
       "    </tr>\n",
       "    <tr>\n",
       "      <th>3</th>\n",
       "      <td>divorced</td>\n",
       "      <td>gagal bayar</td>\n",
       "      <td>85</td>\n",
       "    </tr>\n",
       "    <tr>\n",
       "      <th>4</th>\n",
       "      <td>married</td>\n",
       "      <td>tepat waktu</td>\n",
       "      <td>11408</td>\n",
       "    </tr>\n",
       "    <tr>\n",
       "      <th>5</th>\n",
       "      <td>married</td>\n",
       "      <td>gagal bayar</td>\n",
       "      <td>931</td>\n",
       "    </tr>\n",
       "    <tr>\n",
       "      <th>6</th>\n",
       "      <td>unmarried</td>\n",
       "      <td>tepat waktu</td>\n",
       "      <td>2536</td>\n",
       "    </tr>\n",
       "    <tr>\n",
       "      <th>7</th>\n",
       "      <td>unmarried</td>\n",
       "      <td>gagal bayar</td>\n",
       "      <td>274</td>\n",
       "    </tr>\n",
       "    <tr>\n",
       "      <th>8</th>\n",
       "      <td>widowed</td>\n",
       "      <td>tepat waktu</td>\n",
       "      <td>896</td>\n",
       "    </tr>\n",
       "    <tr>\n",
       "      <th>9</th>\n",
       "      <td>widowed</td>\n",
       "      <td>gagal bayar</td>\n",
       "      <td>63</td>\n",
       "    </tr>\n",
       "  </tbody>\n",
       "</table>\n",
       "</div>"
      ],
      "text/plain": [
       "       family_status  debt_status  count\n",
       "0  civil partnership  tepat waktu   3763\n",
       "1  civil partnership  gagal bayar    388\n",
       "2           divorced  tepat waktu   1110\n",
       "3           divorced  gagal bayar     85\n",
       "4            married  tepat waktu  11408\n",
       "5            married  gagal bayar    931\n",
       "6          unmarried  tepat waktu   2536\n",
       "7          unmarried  gagal bayar    274\n",
       "8            widowed  tepat waktu    896\n",
       "9            widowed  gagal bayar     63"
      ]
     },
     "execution_count": 93,
     "metadata": {},
     "output_type": "execute_result"
    }
   ],
   "source": [
    "# memeriksa data status keluarga dan data gagal bayar\n",
    "debt_status_family = pd.DataFrame(df.groupby('family_status')['debt_status'].value_counts())\n",
    "debt_status_family.reset_index(inplace=True)\n",
    "debt_status_family"
   ]
  },
  {
   "cell_type": "code",
   "execution_count": 94,
   "metadata": {},
   "outputs": [
    {
     "data": {
      "text/plain": [
       "family_status\n",
       "civil partnership    9.35 %\n",
       "divorced             7.11 %\n",
       "married              7.55 %\n",
       "unmarried            9.75 %\n",
       "widowed              6.57 %\n",
       "Name: count, dtype: object"
      ]
     },
     "execution_count": 94,
     "metadata": {},
     "output_type": "execute_result"
    }
   ],
   "source": [
    "# menghitung persentase gagal bayar berdasarkan status keluarga\n",
    "group_count = debt_status_family.groupby('family_status')['count'].sum()\n",
    "percent_fml = debt_status_family[debt_status_family['debt_status']=='gagal bayar'].groupby('family_status')['count'].sum()\n",
    "percent_fml = round(percent_fml/group_count*100,2)\n",
    "percent_fml.map('{:.2f} %'.format)"
   ]
  },
  {
   "attachments": {},
   "cell_type": "markdown",
   "metadata": {},
   "source": [
    "Dapat kita simpulkan bahwa persentase `Gagal Bayar` untuk nasabah berdasarkan `Status Keluarga` yang paling tinggi hingga rendah yaitu status `unmarried` sebesar `9.75 %`, status `civil parnership` - `9.35 %`, `married` - `7.55 %` status `divorced` - `7.11 %` dan status `widowed` - `6.57 %`."
   ]
  },
  {
   "attachments": {},
   "cell_type": "markdown",
   "metadata": {},
   "source": [
    "**Hipotesis 3: Apakah terdapat korelasi antara tingkat pendapatan dengan probabilitas melakukan gagal bayar?** <a id= 'cont_12' ></a>"
   ]
  },
  {
   "cell_type": "code",
   "execution_count": 95,
   "metadata": {},
   "outputs": [
    {
     "data": {
      "text/html": [
       "<div>\n",
       "<style scoped>\n",
       "    .dataframe tbody tr th:only-of-type {\n",
       "        vertical-align: middle;\n",
       "    }\n",
       "\n",
       "    .dataframe tbody tr th {\n",
       "        vertical-align: top;\n",
       "    }\n",
       "\n",
       "    .dataframe thead th {\n",
       "        text-align: right;\n",
       "    }\n",
       "</style>\n",
       "<table border=\"1\" class=\"dataframe\">\n",
       "  <thead>\n",
       "    <tr style=\"text-align: right;\">\n",
       "      <th></th>\n",
       "      <th>income_status</th>\n",
       "      <th>debt_status</th>\n",
       "      <th>count</th>\n",
       "    </tr>\n",
       "  </thead>\n",
       "  <tbody>\n",
       "    <tr>\n",
       "      <th>0</th>\n",
       "      <td>pendapatan diatas rata-rata</td>\n",
       "      <td>tepat waktu</td>\n",
       "      <td>8824</td>\n",
       "    </tr>\n",
       "    <tr>\n",
       "      <th>1</th>\n",
       "      <td>pendapatan diatas rata-rata</td>\n",
       "      <td>gagal bayar</td>\n",
       "      <td>738</td>\n",
       "    </tr>\n",
       "    <tr>\n",
       "      <th>2</th>\n",
       "      <td>pendapatan dibawah rata-rata</td>\n",
       "      <td>tepat waktu</td>\n",
       "      <td>10889</td>\n",
       "    </tr>\n",
       "    <tr>\n",
       "      <th>3</th>\n",
       "      <td>pendapatan dibawah rata-rata</td>\n",
       "      <td>gagal bayar</td>\n",
       "      <td>1003</td>\n",
       "    </tr>\n",
       "  </tbody>\n",
       "</table>\n",
       "</div>"
      ],
      "text/plain": [
       "                  income_status  debt_status  count\n",
       "0   pendapatan diatas rata-rata  tepat waktu   8824\n",
       "1   pendapatan diatas rata-rata  gagal bayar    738\n",
       "2  pendapatan dibawah rata-rata  tepat waktu  10889\n",
       "3  pendapatan dibawah rata-rata  gagal bayar   1003"
      ]
     },
     "execution_count": 95,
     "metadata": {},
     "output_type": "execute_result"
    }
   ],
   "source": [
    "# menghitung data tingkat pendapatan dan data gagal bayar\n",
    "debt_status_income = pd.DataFrame(df.groupby('income_status')['debt_status'].value_counts())\n",
    "debt_status_income.reset_index(inplace=True)\n",
    "debt_status_income"
   ]
  },
  {
   "cell_type": "code",
   "execution_count": 96,
   "metadata": {},
   "outputs": [
    {
     "data": {
      "text/plain": [
       "income_status\n",
       "pendapatan diatas rata-rata     7.72 %\n",
       "pendapatan dibawah rata-rata    8.43 %\n",
       "Name: count, dtype: object"
      ]
     },
     "execution_count": 96,
     "metadata": {},
     "output_type": "execute_result"
    }
   ],
   "source": [
    "# menghitung persentase gagal bayar berdasarkan tingkat pendapatan\n",
    "group_count = debt_status_income.groupby('income_status')['count'].sum()\n",
    "percent_inc = debt_status_income[debt_status_income['debt_status']=='gagal bayar'].groupby('income_status')['count'].sum()\n",
    "percent_inc = round(percent_inc/group_count*100,2)\n",
    "percent_inc.map('{:.2f} %'.format)"
   ]
  },
  {
   "attachments": {},
   "cell_type": "markdown",
   "metadata": {},
   "source": [
    "Dapat kita simpulkan bahwa persentase `Gagal Bayar` untuk nasabah yang memiliki `Pendapatan Dibawah Rata-Rata` lebih tinggi dibandingkan dengan nasabah yang memiliki `Pendapatan Diatas Rata-Rata` dengan masing-masing nilai `8.43 %` dan `7.72 %`."
   ]
  },
  {
   "attachments": {},
   "cell_type": "markdown",
   "metadata": {},
   "source": [
    "**Hipotesis 3: Bagaimana tujuan cicilan memengaruhi persentase gagal bayar?** <a id= 'cont_13' ></a>"
   ]
  },
  {
   "cell_type": "code",
   "execution_count": 97,
   "metadata": {},
   "outputs": [
    {
     "data": {
      "text/html": [
       "<div>\n",
       "<style scoped>\n",
       "    .dataframe tbody tr th:only-of-type {\n",
       "        vertical-align: middle;\n",
       "    }\n",
       "\n",
       "    .dataframe tbody tr th {\n",
       "        vertical-align: top;\n",
       "    }\n",
       "\n",
       "    .dataframe thead th {\n",
       "        text-align: right;\n",
       "    }\n",
       "</style>\n",
       "<table border=\"1\" class=\"dataframe\">\n",
       "  <thead>\n",
       "    <tr style=\"text-align: right;\">\n",
       "      <th></th>\n",
       "      <th>purpose_status</th>\n",
       "      <th>debt_status</th>\n",
       "      <th>count</th>\n",
       "    </tr>\n",
       "  </thead>\n",
       "  <tbody>\n",
       "    <tr>\n",
       "      <th>0</th>\n",
       "      <td>keperluan edukasi</td>\n",
       "      <td>tepat waktu</td>\n",
       "      <td>3643</td>\n",
       "    </tr>\n",
       "    <tr>\n",
       "      <th>1</th>\n",
       "      <td>keperluan edukasi</td>\n",
       "      <td>gagal bayar</td>\n",
       "      <td>370</td>\n",
       "    </tr>\n",
       "    <tr>\n",
       "      <th>2</th>\n",
       "      <td>keperluan mobil</td>\n",
       "      <td>tepat waktu</td>\n",
       "      <td>3903</td>\n",
       "    </tr>\n",
       "    <tr>\n",
       "      <th>3</th>\n",
       "      <td>keperluan mobil</td>\n",
       "      <td>gagal bayar</td>\n",
       "      <td>403</td>\n",
       "    </tr>\n",
       "    <tr>\n",
       "      <th>4</th>\n",
       "      <td>keperluan pernikahan</td>\n",
       "      <td>tepat waktu</td>\n",
       "      <td>2138</td>\n",
       "    </tr>\n",
       "    <tr>\n",
       "      <th>5</th>\n",
       "      <td>keperluan pernikahan</td>\n",
       "      <td>gagal bayar</td>\n",
       "      <td>186</td>\n",
       "    </tr>\n",
       "    <tr>\n",
       "      <th>6</th>\n",
       "      <td>keperluan properti</td>\n",
       "      <td>tepat waktu</td>\n",
       "      <td>10029</td>\n",
       "    </tr>\n",
       "    <tr>\n",
       "      <th>7</th>\n",
       "      <td>keperluan properti</td>\n",
       "      <td>gagal bayar</td>\n",
       "      <td>782</td>\n",
       "    </tr>\n",
       "  </tbody>\n",
       "</table>\n",
       "</div>"
      ],
      "text/plain": [
       "         purpose_status  debt_status  count\n",
       "0     keperluan edukasi  tepat waktu   3643\n",
       "1     keperluan edukasi  gagal bayar    370\n",
       "2       keperluan mobil  tepat waktu   3903\n",
       "3       keperluan mobil  gagal bayar    403\n",
       "4  keperluan pernikahan  tepat waktu   2138\n",
       "5  keperluan pernikahan  gagal bayar    186\n",
       "6    keperluan properti  tepat waktu  10029\n",
       "7    keperluan properti  gagal bayar    782"
      ]
     },
     "execution_count": 97,
     "metadata": {},
     "output_type": "execute_result"
    }
   ],
   "source": [
    "# menghitung data tujuan kredit dan data gagal bayar\n",
    "debt_status_purpose = pd.DataFrame(df.groupby('purpose_status')['debt_status'].value_counts())\n",
    "debt_status_purpose.reset_index(inplace=True)\n",
    "debt_status_purpose"
   ]
  },
  {
   "cell_type": "code",
   "execution_count": 98,
   "metadata": {},
   "outputs": [
    {
     "data": {
      "text/plain": [
       "purpose_status\n",
       "keperluan edukasi       9.22 %\n",
       "keperluan mobil         9.36 %\n",
       "keperluan pernikahan    8.00 %\n",
       "keperluan properti      7.23 %\n",
       "Name: count, dtype: object"
      ]
     },
     "execution_count": 98,
     "metadata": {},
     "output_type": "execute_result"
    }
   ],
   "source": [
    "# menghitung persentase tingkat gagal bayar untuk setiap tujuan cicilan dan lakukan penganalisisan\n",
    "group_count = debt_status_purpose.groupby('purpose_status')['count'].sum()\n",
    "percent_prps = debt_status_purpose[debt_status_purpose['debt_status']=='gagal bayar'].groupby('purpose_status')['count'].sum()\n",
    "percent_prps = round(percent_prps/group_count*100,2)\n",
    "percent_prps.map('{:.2f} %'.format)"
   ]
  },
  {
   "attachments": {},
   "cell_type": "markdown",
   "metadata": {},
   "source": [
    "Dapat kita simpulkan bahwa persentase `Gagal Bayar` untuk nasabah berdasarkan `Tujuan Cicilan` yang paling tinggi hingga rendah yaitu tujuan cicilan `keperluan mobil` - `9.36 %`, `keperluan edukasi` - `9.22 %`, `keperluan pernikahan` - `8.00 %` dan `keperluan properti` - `7.23%`."
   ]
  },
  {
   "attachments": {},
   "cell_type": "markdown",
   "metadata": {},
   "source": [
    "# Kesimpulan umum <a id= 'cont_14' ></a>"
   ]
  },
  {
   "attachments": {},
   "cell_type": "markdown",
   "metadata": {},
   "source": [
    "`Gagal Bayar` merupakan fenomena dimana nasabah tidak mampu membayar secara tepat waktu, sehingga diperlukan analisis untuk mengetahui dikategori seperti apa yang menyebabkan `Gagal Bayar` terjadi. Analisis membutuhkan data yang relevan terkait fenomena `Gagal Bayar` tersebut dimulai dari proses identikasi jumlah baris dan kolom pada dataframe. Memperbaiki nilai pada kategori apakah sudah benar atau perlu diperbaiki. Kemudian dilakukan pencarian nilai yang hilang pada dataframe tersebut, pencarian penyebab kenapa bisa terjadi nilai yang hilang. Apakah nilai yang hilang tersebut merupakan kejadian acak atau berpola. Memeriksa pola yang berkaitan dengan nilai yang hilang, jika memang nilai yang hilang bukan secara acak maka pencarian nilai lain berdasarkan statistiknya seperti `mean` dan `median` dari masing-masing kolom `total_income` dan `days_employed`. Kemudian setelah diperoleh nilai pengganti, masukan nilai tersebut kepada nilai yang hilang.\n",
    "\n",
    "Setelah proses memperbaiki dilakukan maka dilakukan proses analisis untuk menguji hipotesis yang telah dibuat. Tahap pertama yang dilakukan yaitu pengkategorian data. Pencarian nilai unik dan membuat kategori yang baru dapat mempermudah dalam pengerjaan analisis, disni dibuatlah kolom baru yaitu `debt_status`, `children_status` dan `purpose_status` untuk memudahkan pengelompokan data. Selanjutnya adalah membuat dictionary berdasarkan data yang memiliki ID dan deskripsi ID tersebut. Disini dictionary yang dibuat adalah dictionary `education` dan dictionary `family_status`.\n",
    "\n",
    "Tahap final yaitu menguji hipotesis diantaranya sebagai berikut:\n",
    "- Hubungan antara `Gagal Bayar` terhadap `Jumlah Anak` diperoleh bahwa nasabah yang `Memiliki Anak` memiliki nilai yang lebih tinggi dibandingkan dengan nasabah yang `Tidak Memiliki Anak` yaitu sebesar `9.21 %`.\n",
    "- Hubungan antara `Gagal Bayar` terhadap `Status Keluarga` diperoleh bahwa nasabah tertinggi adalah `unmarried` sebesar `9.75 %`.\n",
    "- Hubungan antara `Gagal Bayar` terhadap `Tingkat Pendapatan` diperoleh bahwa nasabah tertinggi adalah nasabah dengan `Tingkat Pendapatan Dibawah Rata-Rata` yaitu sebesar `8.43 %`.\n",
    "- Hubungan antara `Gagal Bayar` terhadap `Tujuan Cicilan` diperoleh bahwa nasabah tertinggi adalah untuk tujuan `Keperluan Mobil` yaitu sebesar `9.36 %`."
   ]
  }
 ],
 "metadata": {
  "ExecuteTimeLog": [
   {
    "duration": 2741,
    "start_time": "2021-10-21T01:08:49.480Z"
   },
   {
    "duration": 52,
    "start_time": "2021-10-21T01:08:53.315Z"
   },
   {
    "duration": 49,
    "start_time": "2021-10-21T01:08:57.432Z"
   },
   {
    "duration": 70,
    "start_time": "2021-10-21T01:09:07.706Z"
   }
  ],
  "kernelspec": {
   "display_name": "Python 3 (ipykernel)",
   "language": "python",
   "name": "python3"
  },
  "language_info": {
   "codemirror_mode": {
    "name": "ipython",
    "version": 3
   },
   "file_extension": ".py",
   "mimetype": "text/x-python",
   "name": "python",
   "nbconvert_exporter": "python",
   "pygments_lexer": "ipython3",
   "version": "3.11.2"
  },
  "toc": {
   "base_numbering": 1,
   "nav_menu": {},
   "number_sections": true,
   "sideBar": true,
   "skip_h1_title": true,
   "title_cell": "Table of Contents",
   "title_sidebar": "Contents",
   "toc_cell": false,
   "toc_position": {},
   "toc_section_display": true,
   "toc_window_display": false
  },
  "vscode": {
   "interpreter": {
    "hash": "ab65b00bfa80514a5a04ab07d4069513f896b3f0c940aa0726d185c6c2172d04"
   }
  }
 },
 "nbformat": 4,
 "nbformat_minor": 2
}
