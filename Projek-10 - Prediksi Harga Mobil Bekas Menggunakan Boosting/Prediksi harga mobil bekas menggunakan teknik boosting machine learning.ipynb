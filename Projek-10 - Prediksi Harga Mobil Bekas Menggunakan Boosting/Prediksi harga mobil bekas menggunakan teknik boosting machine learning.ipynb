{
 "cells": [
  {
   "cell_type": "markdown",
   "metadata": {},
   "source": [
    "# Prediksi Harga Mobil Bekas Menggunakan Teknik Boosting Machine Learning <a id='intro'></a>"
   ]
  },
  {
   "cell_type": "markdown",
   "metadata": {},
   "source": [
    "`Rusty Bargain` adalah perusahaan `jual beli` mobil bekas yang sedang mengembangkan sebuah aplikasi untuk menarik pembeli baru. Dalam aplikasi tersebut, kita bisa dengan cepat mengetahui `nilai pasar mobil` yang akan dijual. Kita diminta untuk membuat sebuah `model machine learning` untuk menentukan nilai pasar mobil. Perusahaan sudah memiliki data historis harga kendaraan beserta parameter-parameter yang menentukan harga mobil seperti `spesifikasi teknis kendaraan` dan `versi model kendaraan`. Kita akan menggunakan beberapa `model machine learning` khususnya model yang menggunakan teknik `boosting` dan beberapa model yang bukan `boosting` sebagai pembanding. Perusahaan `Rusty Bargain` tertarik pada:\n",
    "- Kualitas prediksi.\n",
    "- Kecepatan model dalam memprediksi.\n",
    "- Waktu yang diperlukan untuk melatih model.\n",
    "\n",
    "Beberapa model terkenal akan kita uji menggunakan dataset yang kita punya untuk menentukan yang terbaik diantaranya:\n",
    "- Regresi Linier\n",
    "- Random Forest\n",
    "- XGBoost\n",
    "- LightGBM\n",
    "- CatBoost"
   ]
  },
  {
   "cell_type": "markdown",
   "metadata": {},
   "source": [
    "# Konten <a id='back'></a>\n",
    "\n",
    "* [Pendahuluan](#intro)\n",
    "* [Konten](#back)\n",
    "* [Tahap 1. Persiapan Data](#cont_1)\n",
    "    * [1.1 Mengecek Duplikasi Data](#cont_2) \n",
    "    * [1.2 Mengecek Nilai yang Hilang](#cont_3) \n",
    "    * [1.3 Analisis Data Eksploratif (EDA)](#cont_4) \n",
    "* [Tahap 2. Pelatihan Model](#cont_5)\n",
    "    * [2.1 Model 1: Regresi Linier](#cont_6) \n",
    "    * [2.2 Model 2: Random Forest](#cont_7) \n",
    "    * [2.3 Model 3: XGBoost](#cont_8) \n",
    "    * [2.4 Model 4: LightGBM](#cont_9) \n",
    "    * [2.5 Model 5: CatBoost](#cont_10) \n",
    "* [Tahap 3. Analisis Model](#cont_11)\n",
    "    * [3.1 Model 1: Regresi Linier](#cont_12) \n",
    "    * [3.2 Model 2: Random Forest](#cont_13) \n",
    "    * [3.3 Model 3: XGBoost](#cont_14) \n",
    "    * [3.4 Model 4: LightGBM](#cont_15) \n",
    "    * [3.5 Model 5: CatBoost](#cont_16) \n",
    "* [Tahap 4. Model Komparasi](#cont_17)\n",
    "* [Tahap 5. Kesimpulan](#cont_18)"
   ]
  },
  {
   "cell_type": "markdown",
   "metadata": {},
   "source": [
    "## Persiapan Data <a id='cont_1'></a>"
   ]
  },
  {
   "cell_type": "markdown",
   "metadata": {},
   "source": [
    "Silahkan upgrade package-package berikut jika diperlukan untuk menunjang projek ini diantaranya `sklearn`, `xgboost`, `lightGBM`, `catboost`."
   ]
  },
  {
   "cell_type": "code",
   "execution_count": 1,
   "metadata": {},
   "outputs": [],
   "source": [
    "# installation requirements\n",
    "# !pip install --upgrade pandas\n",
    "# !pip install --upgrade sklearn\n",
    "# !pip install --upgrade xgboost\n",
    "# !pip install --upgrade lightgbm\n",
    "# !pip install --upgrade catboost\n",
    "# !pip install --upgrade ipywidgets\n",
    "# !jupyter nbextension enable --py widgetsnbextension"
   ]
  },
  {
   "cell_type": "code",
   "execution_count": 2,
   "metadata": {},
   "outputs": [],
   "source": [
    "# memuat modul\n",
    "import pandas as pd\n",
    "import time\n",
    "import matplotlib.pyplot as plt\n",
    "import seaborn as sns\n",
    "import numpy as np\n",
    "from sklearn.compose import ColumnTransformer\n",
    "from sklearn.pipeline import Pipeline\n",
    "from sklearn.impute import SimpleImputer\n",
    "from sklearn.linear_model import LinearRegression\n",
    "from sklearn.preprocessing import MinMaxScaler, OneHotEncoder, OrdinalEncoder\n",
    "from sklearn.metrics import mean_squared_error, make_scorer\n",
    "from sklearn.model_selection import cross_val_score, train_test_split\n",
    "from sklearn.ensemble import RandomForestRegressor\n",
    "from xgboost import XGBRegressor, callback\n",
    "import lightgbm as lgb\n",
    "from catboost import CatBoostRegressor, Pool, cv\n",
    "\n",
    "# set tema seaborn\n",
    "sns.set_theme(palette='bright')"
   ]
  },
  {
   "cell_type": "code",
   "execution_count": 3,
   "metadata": {},
   "outputs": [],
   "source": [
    "# memuat dataset\n",
    "try:\n",
    "    df = pd.read_csv('car_data.csv')\n",
    "except:\n",
    "    df = pd.read_csv('/datasets/car_data.csv')"
   ]
  },
  {
   "cell_type": "code",
   "execution_count": 4,
   "metadata": {},
   "outputs": [
    {
     "data": {
      "text/html": [
       "<div>\n",
       "<style scoped>\n",
       "    .dataframe tbody tr th:only-of-type {\n",
       "        vertical-align: middle;\n",
       "    }\n",
       "\n",
       "    .dataframe tbody tr th {\n",
       "        vertical-align: top;\n",
       "    }\n",
       "\n",
       "    .dataframe thead th {\n",
       "        text-align: right;\n",
       "    }\n",
       "</style>\n",
       "<table border=\"1\" class=\"dataframe\">\n",
       "  <thead>\n",
       "    <tr style=\"text-align: right;\">\n",
       "      <th></th>\n",
       "      <th>DateCrawled</th>\n",
       "      <th>Price</th>\n",
       "      <th>VehicleType</th>\n",
       "      <th>RegistrationYear</th>\n",
       "      <th>Gearbox</th>\n",
       "      <th>Power</th>\n",
       "      <th>Model</th>\n",
       "      <th>Mileage</th>\n",
       "      <th>RegistrationMonth</th>\n",
       "      <th>FuelType</th>\n",
       "      <th>Brand</th>\n",
       "      <th>NotRepaired</th>\n",
       "      <th>DateCreated</th>\n",
       "      <th>NumberOfPictures</th>\n",
       "      <th>PostalCode</th>\n",
       "      <th>LastSeen</th>\n",
       "    </tr>\n",
       "  </thead>\n",
       "  <tbody>\n",
       "    <tr>\n",
       "      <th>102884</th>\n",
       "      <td>12/03/2016 09:37</td>\n",
       "      <td>300</td>\n",
       "      <td>small</td>\n",
       "      <td>1999</td>\n",
       "      <td>manual</td>\n",
       "      <td>0</td>\n",
       "      <td>polo</td>\n",
       "      <td>5000</td>\n",
       "      <td>2</td>\n",
       "      <td>petrol</td>\n",
       "      <td>volkswagen</td>\n",
       "      <td>NaN</td>\n",
       "      <td>12/03/2016 00:00</td>\n",
       "      <td>0</td>\n",
       "      <td>26446</td>\n",
       "      <td>12/03/2016 09:37</td>\n",
       "    </tr>\n",
       "    <tr>\n",
       "      <th>3605</th>\n",
       "      <td>31/03/2016 23:50</td>\n",
       "      <td>3650</td>\n",
       "      <td>bus</td>\n",
       "      <td>2001</td>\n",
       "      <td>manual</td>\n",
       "      <td>192</td>\n",
       "      <td>zafira</td>\n",
       "      <td>150000</td>\n",
       "      <td>0</td>\n",
       "      <td>NaN</td>\n",
       "      <td>opel</td>\n",
       "      <td>no</td>\n",
       "      <td>31/03/2016 00:00</td>\n",
       "      <td>0</td>\n",
       "      <td>54550</td>\n",
       "      <td>07/04/2016 00:17</td>\n",
       "    </tr>\n",
       "    <tr>\n",
       "      <th>301424</th>\n",
       "      <td>29/03/2016 21:36</td>\n",
       "      <td>1150</td>\n",
       "      <td>sedan</td>\n",
       "      <td>1996</td>\n",
       "      <td>manual</td>\n",
       "      <td>118</td>\n",
       "      <td>golf</td>\n",
       "      <td>150000</td>\n",
       "      <td>8</td>\n",
       "      <td>petrol</td>\n",
       "      <td>volkswagen</td>\n",
       "      <td>no</td>\n",
       "      <td>29/03/2016 00:00</td>\n",
       "      <td>0</td>\n",
       "      <td>71665</td>\n",
       "      <td>04/04/2016 08:45</td>\n",
       "    </tr>\n",
       "    <tr>\n",
       "      <th>219782</th>\n",
       "      <td>29/03/2016 16:06</td>\n",
       "      <td>5100</td>\n",
       "      <td>wagon</td>\n",
       "      <td>2005</td>\n",
       "      <td>manual</td>\n",
       "      <td>0</td>\n",
       "      <td>a6</td>\n",
       "      <td>150000</td>\n",
       "      <td>8</td>\n",
       "      <td>gasoline</td>\n",
       "      <td>audi</td>\n",
       "      <td>no</td>\n",
       "      <td>29/03/2016 00:00</td>\n",
       "      <td>0</td>\n",
       "      <td>35713</td>\n",
       "      <td>02/04/2016 05:16</td>\n",
       "    </tr>\n",
       "    <tr>\n",
       "      <th>209008</th>\n",
       "      <td>14/03/2016 20:37</td>\n",
       "      <td>8400</td>\n",
       "      <td>coupe</td>\n",
       "      <td>2007</td>\n",
       "      <td>auto</td>\n",
       "      <td>204</td>\n",
       "      <td>4_reihe</td>\n",
       "      <td>70000</td>\n",
       "      <td>9</td>\n",
       "      <td>gasoline</td>\n",
       "      <td>peugeot</td>\n",
       "      <td>no</td>\n",
       "      <td>14/03/2016 00:00</td>\n",
       "      <td>0</td>\n",
       "      <td>86554</td>\n",
       "      <td>06/04/2016 07:17</td>\n",
       "    </tr>\n",
       "    <tr>\n",
       "      <th>58119</th>\n",
       "      <td>05/03/2016 18:06</td>\n",
       "      <td>3774</td>\n",
       "      <td>sedan</td>\n",
       "      <td>2005</td>\n",
       "      <td>manual</td>\n",
       "      <td>116</td>\n",
       "      <td>a_klasse</td>\n",
       "      <td>150000</td>\n",
       "      <td>5</td>\n",
       "      <td>petrol</td>\n",
       "      <td>mercedes_benz</td>\n",
       "      <td>no</td>\n",
       "      <td>05/03/2016 00:00</td>\n",
       "      <td>0</td>\n",
       "      <td>55252</td>\n",
       "      <td>17/03/2016 08:15</td>\n",
       "    </tr>\n",
       "    <tr>\n",
       "      <th>13652</th>\n",
       "      <td>25/03/2016 15:25</td>\n",
       "      <td>11148</td>\n",
       "      <td>bus</td>\n",
       "      <td>2007</td>\n",
       "      <td>manual</td>\n",
       "      <td>131</td>\n",
       "      <td>transporter</td>\n",
       "      <td>150000</td>\n",
       "      <td>2</td>\n",
       "      <td>gasoline</td>\n",
       "      <td>volkswagen</td>\n",
       "      <td>no</td>\n",
       "      <td>25/03/2016 00:00</td>\n",
       "      <td>0</td>\n",
       "      <td>55129</td>\n",
       "      <td>30/03/2016 18:16</td>\n",
       "    </tr>\n",
       "    <tr>\n",
       "      <th>52170</th>\n",
       "      <td>20/03/2016 14:50</td>\n",
       "      <td>14800</td>\n",
       "      <td>suv</td>\n",
       "      <td>2012</td>\n",
       "      <td>manual</td>\n",
       "      <td>163</td>\n",
       "      <td>captiva</td>\n",
       "      <td>90000</td>\n",
       "      <td>2</td>\n",
       "      <td>gasoline</td>\n",
       "      <td>chevrolet</td>\n",
       "      <td>no</td>\n",
       "      <td>20/03/2016 00:00</td>\n",
       "      <td>0</td>\n",
       "      <td>24248</td>\n",
       "      <td>24/03/2016 07:16</td>\n",
       "    </tr>\n",
       "    <tr>\n",
       "      <th>261914</th>\n",
       "      <td>22/03/2016 22:51</td>\n",
       "      <td>3999</td>\n",
       "      <td>coupe</td>\n",
       "      <td>2004</td>\n",
       "      <td>auto</td>\n",
       "      <td>218</td>\n",
       "      <td>crossfire</td>\n",
       "      <td>150000</td>\n",
       "      <td>1</td>\n",
       "      <td>petrol</td>\n",
       "      <td>chrysler</td>\n",
       "      <td>no</td>\n",
       "      <td>22/03/2016 00:00</td>\n",
       "      <td>0</td>\n",
       "      <td>67677</td>\n",
       "      <td>07/04/2016 04:17</td>\n",
       "    </tr>\n",
       "    <tr>\n",
       "      <th>295816</th>\n",
       "      <td>30/03/2016 14:47</td>\n",
       "      <td>250</td>\n",
       "      <td>wagon</td>\n",
       "      <td>1995</td>\n",
       "      <td>manual</td>\n",
       "      <td>100</td>\n",
       "      <td>astra</td>\n",
       "      <td>150000</td>\n",
       "      <td>12</td>\n",
       "      <td>petrol</td>\n",
       "      <td>opel</td>\n",
       "      <td>no</td>\n",
       "      <td>30/03/2016 00:00</td>\n",
       "      <td>0</td>\n",
       "      <td>44866</td>\n",
       "      <td>01/04/2016 08:46</td>\n",
       "    </tr>\n",
       "  </tbody>\n",
       "</table>\n",
       "</div>"
      ],
      "text/plain": [
       "             DateCrawled  Price VehicleType  RegistrationYear Gearbox  Power  \\\n",
       "102884  12/03/2016 09:37    300       small              1999  manual      0   \n",
       "3605    31/03/2016 23:50   3650         bus              2001  manual    192   \n",
       "301424  29/03/2016 21:36   1150       sedan              1996  manual    118   \n",
       "219782  29/03/2016 16:06   5100       wagon              2005  manual      0   \n",
       "209008  14/03/2016 20:37   8400       coupe              2007    auto    204   \n",
       "58119   05/03/2016 18:06   3774       sedan              2005  manual    116   \n",
       "13652   25/03/2016 15:25  11148         bus              2007  manual    131   \n",
       "52170   20/03/2016 14:50  14800         suv              2012  manual    163   \n",
       "261914  22/03/2016 22:51   3999       coupe              2004    auto    218   \n",
       "295816  30/03/2016 14:47    250       wagon              1995  manual    100   \n",
       "\n",
       "              Model  Mileage  RegistrationMonth  FuelType          Brand  \\\n",
       "102884         polo     5000                  2    petrol     volkswagen   \n",
       "3605         zafira   150000                  0       NaN           opel   \n",
       "301424         golf   150000                  8    petrol     volkswagen   \n",
       "219782           a6   150000                  8  gasoline           audi   \n",
       "209008      4_reihe    70000                  9  gasoline        peugeot   \n",
       "58119      a_klasse   150000                  5    petrol  mercedes_benz   \n",
       "13652   transporter   150000                  2  gasoline     volkswagen   \n",
       "52170       captiva    90000                  2  gasoline      chevrolet   \n",
       "261914    crossfire   150000                  1    petrol       chrysler   \n",
       "295816        astra   150000                 12    petrol           opel   \n",
       "\n",
       "       NotRepaired       DateCreated  NumberOfPictures  PostalCode  \\\n",
       "102884         NaN  12/03/2016 00:00                 0       26446   \n",
       "3605            no  31/03/2016 00:00                 0       54550   \n",
       "301424          no  29/03/2016 00:00                 0       71665   \n",
       "219782          no  29/03/2016 00:00                 0       35713   \n",
       "209008          no  14/03/2016 00:00                 0       86554   \n",
       "58119           no  05/03/2016 00:00                 0       55252   \n",
       "13652           no  25/03/2016 00:00                 0       55129   \n",
       "52170           no  20/03/2016 00:00                 0       24248   \n",
       "261914          no  22/03/2016 00:00                 0       67677   \n",
       "295816          no  30/03/2016 00:00                 0       44866   \n",
       "\n",
       "                LastSeen  \n",
       "102884  12/03/2016 09:37  \n",
       "3605    07/04/2016 00:17  \n",
       "301424  04/04/2016 08:45  \n",
       "219782  02/04/2016 05:16  \n",
       "209008  06/04/2016 07:17  \n",
       "58119   17/03/2016 08:15  \n",
       "13652   30/03/2016 18:16  \n",
       "52170   24/03/2016 07:16  \n",
       "261914  07/04/2016 04:17  \n",
       "295816  01/04/2016 08:46  "
      ]
     },
     "execution_count": 4,
     "metadata": {},
     "output_type": "execute_result"
    }
   ],
   "source": [
    "# menampilkan sampel dataset\n",
    "df.sample(10)"
   ]
  },
  {
   "cell_type": "code",
   "execution_count": 5,
   "metadata": {},
   "outputs": [],
   "source": [
    "# mengubah tipe data tanggal menjadi datetime\n",
    "df['DateCrawled'] = pd.to_datetime(df['DateCrawled'], format='%d/%m/%Y %H:%M')\n",
    "df['DateCreated'] = pd.to_datetime(df['DateCreated'], format='%d/%m/%Y %H:%M')\n",
    "df['LastSeen'] = pd.to_datetime(df['LastSeen'], format='%d/%m/%Y %H:%M')"
   ]
  },
  {
   "cell_type": "code",
   "execution_count": 6,
   "metadata": {},
   "outputs": [
    {
     "name": "stdout",
     "output_type": "stream",
     "text": [
      "<class 'pandas.core.frame.DataFrame'>\n",
      "RangeIndex: 354369 entries, 0 to 354368\n",
      "Data columns (total 16 columns):\n",
      " #   Column             Non-Null Count   Dtype         \n",
      "---  ------             --------------   -----         \n",
      " 0   DateCrawled        354369 non-null  datetime64[ns]\n",
      " 1   Price              354369 non-null  int64         \n",
      " 2   VehicleType        316879 non-null  object        \n",
      " 3   RegistrationYear   354369 non-null  int64         \n",
      " 4   Gearbox            334536 non-null  object        \n",
      " 5   Power              354369 non-null  int64         \n",
      " 6   Model              334664 non-null  object        \n",
      " 7   Mileage            354369 non-null  int64         \n",
      " 8   RegistrationMonth  354369 non-null  int64         \n",
      " 9   FuelType           321474 non-null  object        \n",
      " 10  Brand              354369 non-null  object        \n",
      " 11  NotRepaired        283215 non-null  object        \n",
      " 12  DateCreated        354369 non-null  datetime64[ns]\n",
      " 13  NumberOfPictures   354369 non-null  int64         \n",
      " 14  PostalCode         354369 non-null  int64         \n",
      " 15  LastSeen           354369 non-null  datetime64[ns]\n",
      "dtypes: datetime64[ns](3), int64(7), object(6)\n",
      "memory usage: 43.3+ MB\n"
     ]
    }
   ],
   "source": [
    "# melihat informasi dataset\n",
    "df.info()"
   ]
  },
  {
   "cell_type": "markdown",
   "metadata": {},
   "source": [
    "Dataset memiliki beberapa kolom-kolom diantaranya:\n",
    "<br><br>\n",
    "Fitur:\n",
    "- `DateCrawled` — tanggal ketika profil diunduh dari database\n",
    "- `VehicleType` — jenis bodi kendaraan\n",
    "- `RegistrationYear` — tahun registrasi kendaraan\n",
    "- `Gearbox` — jenis transmisi\n",
    "- `Power` — daya (hp)\n",
    "- `Model` — model kendaraan\n",
    "- `Mileage` — jarak tempuh (diukur dalam satuan km berdasarkan dataset regional tertentu)\n",
    "- `RegistrationMonth` — bulan registrasi kendaraan\n",
    "- `FuelType` — jenis bahan bakar\n",
    "- `Brand` — merek kendaraan\n",
    "- `NotRepaired` — apakah kendaraan pernah direparasi sebelumnya\n",
    "- `DateCreated` — tanggal pembuatan profil\n",
    "- `NumberOfPictures` — jumlah gambar kendaraan\n",
    "- `PostalCode` — kode pos pemilik profil (pengguna)\n",
    "- `LastSeen` — tanggal aktivitas terakhir pengguna\n",
    "\n",
    "Target:\n",
    "- `Price` — harga (dalam satuan Euro)"
   ]
  },
  {
   "cell_type": "markdown",
   "metadata": {},
   "source": [
    "Tampaknya dataset yang kita punya masih memiliki `nilai yang hilang` dibeberapa kolom. Kita juga sudah mengubah tipe data tanggal menjadi `datetime`. Selanjutnya mari kita cek data `numerik`."
   ]
  },
  {
   "cell_type": "code",
   "execution_count": 7,
   "metadata": {},
   "outputs": [
    {
     "data": {
      "text/html": [
       "<div>\n",
       "<style scoped>\n",
       "    .dataframe tbody tr th:only-of-type {\n",
       "        vertical-align: middle;\n",
       "    }\n",
       "\n",
       "    .dataframe tbody tr th {\n",
       "        vertical-align: top;\n",
       "    }\n",
       "\n",
       "    .dataframe thead th {\n",
       "        text-align: right;\n",
       "    }\n",
       "</style>\n",
       "<table border=\"1\" class=\"dataframe\">\n",
       "  <thead>\n",
       "    <tr style=\"text-align: right;\">\n",
       "      <th></th>\n",
       "      <th>DateCrawled</th>\n",
       "      <th>Price</th>\n",
       "      <th>RegistrationYear</th>\n",
       "      <th>Power</th>\n",
       "      <th>Mileage</th>\n",
       "      <th>RegistrationMonth</th>\n",
       "      <th>DateCreated</th>\n",
       "      <th>NumberOfPictures</th>\n",
       "      <th>PostalCode</th>\n",
       "      <th>LastSeen</th>\n",
       "    </tr>\n",
       "  </thead>\n",
       "  <tbody>\n",
       "    <tr>\n",
       "      <th>count</th>\n",
       "      <td>354369</td>\n",
       "      <td>354369.000000</td>\n",
       "      <td>354369.000000</td>\n",
       "      <td>354369.000000</td>\n",
       "      <td>354369.000000</td>\n",
       "      <td>354369.000000</td>\n",
       "      <td>354369</td>\n",
       "      <td>354369.0</td>\n",
       "      <td>354369.000000</td>\n",
       "      <td>354369</td>\n",
       "    </tr>\n",
       "    <tr>\n",
       "      <th>mean</th>\n",
       "      <td>2016-03-21 12:57:41.165057280</td>\n",
       "      <td>4416.656776</td>\n",
       "      <td>2004.234448</td>\n",
       "      <td>110.094337</td>\n",
       "      <td>128211.172535</td>\n",
       "      <td>5.714645</td>\n",
       "      <td>2016-03-20 19:12:07.753274112</td>\n",
       "      <td>0.0</td>\n",
       "      <td>50508.689087</td>\n",
       "      <td>2016-03-29 23:50:30.593703680</td>\n",
       "    </tr>\n",
       "    <tr>\n",
       "      <th>min</th>\n",
       "      <td>2016-03-05 14:06:00</td>\n",
       "      <td>0.000000</td>\n",
       "      <td>1000.000000</td>\n",
       "      <td>0.000000</td>\n",
       "      <td>5000.000000</td>\n",
       "      <td>0.000000</td>\n",
       "      <td>2014-03-10 00:00:00</td>\n",
       "      <td>0.0</td>\n",
       "      <td>1067.000000</td>\n",
       "      <td>2016-03-05 14:15:00</td>\n",
       "    </tr>\n",
       "    <tr>\n",
       "      <th>25%</th>\n",
       "      <td>2016-03-13 11:52:00</td>\n",
       "      <td>1050.000000</td>\n",
       "      <td>1999.000000</td>\n",
       "      <td>69.000000</td>\n",
       "      <td>125000.000000</td>\n",
       "      <td>3.000000</td>\n",
       "      <td>2016-03-13 00:00:00</td>\n",
       "      <td>0.0</td>\n",
       "      <td>30165.000000</td>\n",
       "      <td>2016-03-23 02:50:00</td>\n",
       "    </tr>\n",
       "    <tr>\n",
       "      <th>50%</th>\n",
       "      <td>2016-03-21 17:50:00</td>\n",
       "      <td>2700.000000</td>\n",
       "      <td>2003.000000</td>\n",
       "      <td>105.000000</td>\n",
       "      <td>150000.000000</td>\n",
       "      <td>6.000000</td>\n",
       "      <td>2016-03-21 00:00:00</td>\n",
       "      <td>0.0</td>\n",
       "      <td>49413.000000</td>\n",
       "      <td>2016-04-03 15:15:00</td>\n",
       "    </tr>\n",
       "    <tr>\n",
       "      <th>75%</th>\n",
       "      <td>2016-03-29 14:37:00</td>\n",
       "      <td>6400.000000</td>\n",
       "      <td>2008.000000</td>\n",
       "      <td>143.000000</td>\n",
       "      <td>150000.000000</td>\n",
       "      <td>9.000000</td>\n",
       "      <td>2016-03-29 00:00:00</td>\n",
       "      <td>0.0</td>\n",
       "      <td>71083.000000</td>\n",
       "      <td>2016-04-06 10:15:00</td>\n",
       "    </tr>\n",
       "    <tr>\n",
       "      <th>max</th>\n",
       "      <td>2016-04-07 14:36:00</td>\n",
       "      <td>20000.000000</td>\n",
       "      <td>9999.000000</td>\n",
       "      <td>20000.000000</td>\n",
       "      <td>150000.000000</td>\n",
       "      <td>12.000000</td>\n",
       "      <td>2016-04-07 00:00:00</td>\n",
       "      <td>0.0</td>\n",
       "      <td>99998.000000</td>\n",
       "      <td>2016-04-07 14:58:00</td>\n",
       "    </tr>\n",
       "    <tr>\n",
       "      <th>std</th>\n",
       "      <td>NaN</td>\n",
       "      <td>4514.158514</td>\n",
       "      <td>90.227958</td>\n",
       "      <td>189.850405</td>\n",
       "      <td>37905.341530</td>\n",
       "      <td>3.726421</td>\n",
       "      <td>NaN</td>\n",
       "      <td>0.0</td>\n",
       "      <td>25783.096248</td>\n",
       "      <td>NaN</td>\n",
       "    </tr>\n",
       "  </tbody>\n",
       "</table>\n",
       "</div>"
      ],
      "text/plain": [
       "                         DateCrawled          Price  RegistrationYear  \\\n",
       "count                         354369  354369.000000     354369.000000   \n",
       "mean   2016-03-21 12:57:41.165057280    4416.656776       2004.234448   \n",
       "min              2016-03-05 14:06:00       0.000000       1000.000000   \n",
       "25%              2016-03-13 11:52:00    1050.000000       1999.000000   \n",
       "50%              2016-03-21 17:50:00    2700.000000       2003.000000   \n",
       "75%              2016-03-29 14:37:00    6400.000000       2008.000000   \n",
       "max              2016-04-07 14:36:00   20000.000000       9999.000000   \n",
       "std                              NaN    4514.158514         90.227958   \n",
       "\n",
       "               Power        Mileage  RegistrationMonth  \\\n",
       "count  354369.000000  354369.000000      354369.000000   \n",
       "mean      110.094337  128211.172535           5.714645   \n",
       "min         0.000000    5000.000000           0.000000   \n",
       "25%        69.000000  125000.000000           3.000000   \n",
       "50%       105.000000  150000.000000           6.000000   \n",
       "75%       143.000000  150000.000000           9.000000   \n",
       "max     20000.000000  150000.000000          12.000000   \n",
       "std       189.850405   37905.341530           3.726421   \n",
       "\n",
       "                         DateCreated  NumberOfPictures     PostalCode  \\\n",
       "count                         354369          354369.0  354369.000000   \n",
       "mean   2016-03-20 19:12:07.753274112               0.0   50508.689087   \n",
       "min              2014-03-10 00:00:00               0.0    1067.000000   \n",
       "25%              2016-03-13 00:00:00               0.0   30165.000000   \n",
       "50%              2016-03-21 00:00:00               0.0   49413.000000   \n",
       "75%              2016-03-29 00:00:00               0.0   71083.000000   \n",
       "max              2016-04-07 00:00:00               0.0   99998.000000   \n",
       "std                              NaN               0.0   25783.096248   \n",
       "\n",
       "                            LastSeen  \n",
       "count                         354369  \n",
       "mean   2016-03-29 23:50:30.593703680  \n",
       "min              2016-03-05 14:15:00  \n",
       "25%              2016-03-23 02:50:00  \n",
       "50%              2016-04-03 15:15:00  \n",
       "75%              2016-04-06 10:15:00  \n",
       "max              2016-04-07 14:58:00  \n",
       "std                              NaN  "
      ]
     },
     "execution_count": 7,
     "metadata": {},
     "output_type": "execute_result"
    }
   ],
   "source": [
    "# melihat statistik deskriptif data numerik\n",
    "df.describe()"
   ]
  },
  {
   "cell_type": "markdown",
   "metadata": {},
   "source": [
    "Dari informasi statistik diatas terlihat beberapa informasi yang janggal dan tidak masuk akal seperti berikut:\n",
    "- Kolom `Price` terdapat nilai yang bernilai `nol`.\n",
    "- Kolom `RegistrationYear` memiliki tahun terendah `1000` dan tertinggi `9999`.\n",
    "- Kolom `Power` memiliki daya terendah `0` dan tertinggi `20000`.\n",
    "- Kolom `RegistrationMonth` memiliki bulan registrasi terendah `0`.\n",
    "- Kolom `NumberOfPictures` semua data bernilai `nol`.\n",
    "\n",
    "Mari kita analisis kolom yang bermasalah."
   ]
  },
  {
   "cell_type": "code",
   "execution_count": 8,
   "metadata": {},
   "outputs": [
    {
     "data": {
      "text/plain": [
       "array([1000, 1001, 1039, 1111, 1200, 1234, 1253, 1255, 1300, 1400, 1500,\n",
       "       1600, 1602, 1688, 1800, 1910, 1915, 1919, 1920, 1923, 1925, 1927,\n",
       "       1928, 1929, 1930, 1931, 1932, 1933, 1934, 1935, 1936, 1937, 1938,\n",
       "       1940, 1941, 1942, 1943, 1944, 1945, 1946, 1947, 1948, 1949, 1950,\n",
       "       1951, 1952, 1953, 1954, 1955, 1956, 1957, 1958, 1959, 1960, 1961,\n",
       "       1962, 1963, 1964, 1965, 1966, 1967, 1968, 1969, 1970, 1971, 1972,\n",
       "       1973, 1974, 1975, 1976, 1977, 1978, 1979, 1980, 1981, 1982, 1983,\n",
       "       1984, 1985, 1986, 1987, 1988, 1989, 1990, 1991, 1992, 1993, 1994,\n",
       "       1995, 1996, 1997, 1998, 1999, 2000, 2001, 2002, 2003, 2004, 2005,\n",
       "       2006, 2007, 2008, 2009, 2010, 2011, 2012, 2013, 2014, 2015, 2016,\n",
       "       2017, 2018, 2019, 2066, 2200, 2222, 2290, 2500, 2800, 2900, 3000,\n",
       "       3200, 3500, 3700, 3800, 4000, 4100, 4500, 4800, 5000, 5300, 5555,\n",
       "       5600, 5900, 5911, 6000, 6500, 7000, 7100, 7500, 7800, 8000, 8200,\n",
       "       8455, 8500, 8888, 9000, 9229, 9450, 9996, 9999], dtype=int64)"
      ]
     },
     "execution_count": 8,
     "metadata": {},
     "output_type": "execute_result"
    }
   ],
   "source": [
    "# melihat distribusi tahun registrasi\n",
    "RY = df['RegistrationYear'].unique()\n",
    "np.sort(RY)"
   ]
  },
  {
   "cell_type": "code",
   "execution_count": 9,
   "metadata": {},
   "outputs": [
    {
     "data": {
      "text/plain": [
       "array([    0,     1,     2,     3,     4,     5,     6,     7,     8,\n",
       "           9,    10,    11,    12,    13,    14,    15,    16,    17,\n",
       "          18,    19,    20,    21,    22,    23,    24,    25,    26,\n",
       "          27,    28,    29,    30,    31,    32,    33,    34,    35,\n",
       "          36,    37,    38,    39,    40,    41,    42,    43,    44,\n",
       "          45,    46,    47,    48,    49,    50,    51,    52,    53,\n",
       "          54,    55,    56,    57,    58,    59,    60,    61,    62,\n",
       "          63,    64,    65,    66,    67,    68,    69,    70,    71,\n",
       "          72,    73,    74,    75,    76,    77,    78,    79,    80,\n",
       "          81,    82,    83,    84,    85,    86,    87,    88,    89,\n",
       "          90,    91,    92,    93,    94,    95,    96,    97,    98,\n",
       "          99,   100,   101,   102,   103,   104,   105,   106,   107,\n",
       "         108,   109,   110,   111,   112,   113,   114,   115,   116,\n",
       "         117,   118,   119,   120,   121,   122,   123,   124,   125,\n",
       "         126,   127,   128,   129,   130,   131,   132,   133,   134,\n",
       "         135,   136,   137,   138,   139,   140,   141,   142,   143,\n",
       "         144,   145,   146,   147,   148,   149,   150,   151,   152,\n",
       "         153,   154,   155,   156,   157,   158,   159,   160,   161,\n",
       "         162,   163,   164,   165,   166,   167,   168,   169,   170,\n",
       "         171,   172,   173,   174,   175,   176,   177,   178,   179,\n",
       "         180,   181,   182,   183,   184,   185,   186,   187,   188,\n",
       "         189,   190,   191,   192,   193,   194,   195,   196,   197,\n",
       "         198,   199,   200,   201,   202,   203,   204,   205,   206,\n",
       "         207,   208,   209,   210,   211,   212,   213,   214,   215,\n",
       "         216,   217,   218,   219,   220,   221,   222,   223,   224,\n",
       "         225,   226,   227,   228,   229,   230,   231,   232,   233,\n",
       "         234,   235,   236,   237,   238,   239,   240,   241,   242,\n",
       "         243,   244,   245,   246,   247,   248,   249,   250,   251,\n",
       "         252,   253,   254,   255,   256,   257,   258,   259,   260,\n",
       "         261,   262,   264,   265,   266,   267,   268,   269,   270,\n",
       "         271,   272,   273,   274,   275,   276,   277,   278,   279,\n",
       "         280,   281,   282,   283,   284,   285,   286,   287,   288,\n",
       "         289,   290,   292,   293,   294,   295,   296,   297,   298,\n",
       "         299,   300,   301,   303,   304,   305,   306,   307,   308,\n",
       "         309,   310,   311,   313,   314,   315,   316,   317,   318,\n",
       "         320,   321,   322,   323,   324,   325,   326,   327,   328,\n",
       "         329,   330,   331,   332,   333,   334,   335,   336,   337,\n",
       "         338,   339,   340,   341,   343,   344,   345,   346,   347,\n",
       "         348,   349,   350,   351,   352,   353,   354,   355,   356,\n",
       "         357,   358,   360,   361,   362,   363,   364,   365,   367,\n",
       "         368,   370,   371,   374,   375,   376,   377,   379,   380,\n",
       "         381,   382,   385,   386,   387,   388,   390,   392,   394,\n",
       "         396,   398,   399,   400,   401,   402,   405,   408,   409,\n",
       "         411,   416,   420,   421,   425,   426,   428,   430,   431,\n",
       "         435,   440,   442,   445,   449,   450,   454,   457,   459,\n",
       "         460,   475,   476,   485,   487,   489,   490,   500,   504,\n",
       "         505,   507,   508,   510,   514,   515,   517,   519,   520,\n",
       "         521,   525,   530,   540,   541,   544,   550,   551,   553,\n",
       "         560,   572,   574,   579,   580,   584,   585,   599,   600,\n",
       "         601,   602,   603,   604,   606,   607,   610,   612,   620,\n",
       "         640,   645,   650,   651,   671,   678,   682,   685,   696,\n",
       "         700,   702,   703,   732,   743,   750,   751,   754,   771,\n",
       "         776,   800,   805,   808,   850,   851,   871,   900,   901,\n",
       "         902,   903,   907,   909,   923,   950,   952,   953,   960,\n",
       "         998,   999,  1000,  1001,  1002,  1003,  1004,  1005,  1011,\n",
       "        1012,  1016,  1017,  1021,  1024,  1054,  1055,  1056,  1062,\n",
       "        1079,  1082,  1090,  1100,  1102,  1103,  1105,  1111,  1115,\n",
       "        1120,  1149,  1151,  1158,  1160,  1162,  1164,  1199,  1200,\n",
       "        1202,  1221,  1223,  1230,  1239,  1240,  1241,  1250,  1252,\n",
       "        1256,  1275,  1288,  1299,  1300,  1312,  1317,  1324,  1339,\n",
       "        1351,  1360,  1362,  1363,  1367,  1390,  1394,  1398,  1399,\n",
       "        1400,  1401,  1403,  1405,  1416,  1432,  1433,  1436,  1500,\n",
       "        1501,  1502,  1503,  1506,  1521,  1548,  1595,  1596,  1597,\n",
       "        1598,  1600,  1625,  1631,  1653,  1659,  1689,  1700,  1701,\n",
       "        1703,  1704,  1707,  1753,  1771,  1779,  1780,  1781,  1783,\n",
       "        1793,  1796,  1799,  1800,  1801,  1870,  1895,  1896,  1900,\n",
       "        1910,  1920,  1922,  1933,  1937,  1968,  1986,  1988,  1992,\n",
       "        1993,  1995,  1998,  1999,  2000,  2004,  2005,  2007,  2009,\n",
       "        2016,  2017,  2018,  2172,  2200,  2201,  2331,  2340,  2389,\n",
       "        2402,  2461,  2598,  2729,  2789,  2792,  2799,  3000,  3199,\n",
       "        3454,  3500,  3750,  4400,  4507,  4700,  5000,  5411,  5420,\n",
       "        5575,  5809,  5815,  5867,  6006,  6010,  6011,  6012,  6018,\n",
       "        6045,  6062,  6226,  6512,  6920,  7508,  7511,  7512,  7515,\n",
       "        7518,  7529,  7544,  8011,  8259,  8404,  8500,  9000,  9007,\n",
       "        9010,  9011,  9012,  9013,  9710, 10000, 10110, 10218, 10311,\n",
       "       10317, 10520, 10522, 10710, 10910, 10912, 11011, 11025, 11111,\n",
       "       11509, 11530, 11635, 12012, 12510, 12512, 12684, 13616, 13636,\n",
       "       14009, 15001, 15016, 15017, 15020, 15033, 16011, 16051, 16311,\n",
       "       16312, 17011, 17019, 17410, 17700, 17932, 19208, 19211, 19312,\n",
       "       20000], dtype=int64)"
      ]
     },
     "execution_count": 9,
     "metadata": {},
     "output_type": "execute_result"
    }
   ],
   "source": [
    "# melihat distribusi horsepower\n",
    "PWR = df['Power'].unique()\n",
    "np.sort(PWR)"
   ]
  },
  {
   "cell_type": "markdown",
   "metadata": {},
   "source": [
    "Kita akan perbaiki dataset dengan melakukan `filtering` dan `drop kolom`. Untuk `filtering` kita akan seleksi nilai/value yang masuk akal dan membuang `drop` kolom `NumberOfPictures`."
   ]
  },
  {
   "cell_type": "code",
   "execution_count": 10,
   "metadata": {},
   "outputs": [],
   "source": [
    "# menghilangkan harga (price) yang nol\n",
    "df = df[df['Price'] >= 500]\n",
    "\n",
    "# memfilter tahun registrasi dari 1900 hingga 2020\n",
    "df = df[(df['RegistrationYear'] >= 1900)&(df['RegistrationYear'] <= 2020)]\n",
    "\n",
    "# memfilter power dari > 0 dan kurang dari sama dengan 2000\n",
    "df = df[(df['Power'] != 0)&(df['Power'] <= 2000)]\n",
    "\n",
    "# memfilter registrasi bulan membuang bulan 0\n",
    "df = df[df['RegistrationMonth'] != 0]\n",
    "\n",
    "# menghilangkan kolom NumberOfPictures\n",
    "df.drop('NumberOfPictures',axis=1,inplace=True)"
   ]
  },
  {
   "cell_type": "code",
   "execution_count": 11,
   "metadata": {},
   "outputs": [
    {
     "data": {
      "text/html": [
       "<div>\n",
       "<style scoped>\n",
       "    .dataframe tbody tr th:only-of-type {\n",
       "        vertical-align: middle;\n",
       "    }\n",
       "\n",
       "    .dataframe tbody tr th {\n",
       "        vertical-align: top;\n",
       "    }\n",
       "\n",
       "    .dataframe thead th {\n",
       "        text-align: right;\n",
       "    }\n",
       "</style>\n",
       "<table border=\"1\" class=\"dataframe\">\n",
       "  <thead>\n",
       "    <tr style=\"text-align: right;\">\n",
       "      <th></th>\n",
       "      <th>DateCrawled</th>\n",
       "      <th>Price</th>\n",
       "      <th>RegistrationYear</th>\n",
       "      <th>Power</th>\n",
       "      <th>Mileage</th>\n",
       "      <th>RegistrationMonth</th>\n",
       "      <th>DateCreated</th>\n",
       "      <th>PostalCode</th>\n",
       "      <th>LastSeen</th>\n",
       "    </tr>\n",
       "  </thead>\n",
       "  <tbody>\n",
       "    <tr>\n",
       "      <th>count</th>\n",
       "      <td>273337</td>\n",
       "      <td>273337.000000</td>\n",
       "      <td>273337.000000</td>\n",
       "      <td>273337.000000</td>\n",
       "      <td>273337.000000</td>\n",
       "      <td>273337.000000</td>\n",
       "      <td>273337</td>\n",
       "      <td>273337.000000</td>\n",
       "      <td>273337</td>\n",
       "    </tr>\n",
       "    <tr>\n",
       "      <th>mean</th>\n",
       "      <td>2016-03-21 13:29:10.928707072</td>\n",
       "      <td>5211.992416</td>\n",
       "      <td>2003.617194</td>\n",
       "      <td>123.716423</td>\n",
       "      <td>127428.064989</td>\n",
       "      <td>6.396452</td>\n",
       "      <td>2016-03-20 19:31:51.482163456</td>\n",
       "      <td>51478.623615</td>\n",
       "      <td>2016-03-30 07:29:05.812604928</td>\n",
       "    </tr>\n",
       "    <tr>\n",
       "      <th>min</th>\n",
       "      <td>2016-03-05 14:06:00</td>\n",
       "      <td>500.000000</td>\n",
       "      <td>1910.000000</td>\n",
       "      <td>1.000000</td>\n",
       "      <td>5000.000000</td>\n",
       "      <td>1.000000</td>\n",
       "      <td>2015-08-07 00:00:00</td>\n",
       "      <td>1067.000000</td>\n",
       "      <td>2016-03-05 14:15:00</td>\n",
       "    </tr>\n",
       "    <tr>\n",
       "      <th>25%</th>\n",
       "      <td>2016-03-13 11:42:00</td>\n",
       "      <td>1600.000000</td>\n",
       "      <td>2000.000000</td>\n",
       "      <td>82.000000</td>\n",
       "      <td>125000.000000</td>\n",
       "      <td>4.000000</td>\n",
       "      <td>2016-03-13 00:00:00</td>\n",
       "      <td>31162.000000</td>\n",
       "      <td>2016-03-23 17:18:00</td>\n",
       "    </tr>\n",
       "    <tr>\n",
       "      <th>50%</th>\n",
       "      <td>2016-03-21 18:37:00</td>\n",
       "      <td>3550.000000</td>\n",
       "      <td>2004.000000</td>\n",
       "      <td>116.000000</td>\n",
       "      <td>150000.000000</td>\n",
       "      <td>6.000000</td>\n",
       "      <td>2016-03-21 00:00:00</td>\n",
       "      <td>50739.000000</td>\n",
       "      <td>2016-04-04 09:44:00</td>\n",
       "    </tr>\n",
       "    <tr>\n",
       "      <th>75%</th>\n",
       "      <td>2016-03-29 14:53:00</td>\n",
       "      <td>7500.000000</td>\n",
       "      <td>2008.000000</td>\n",
       "      <td>150.000000</td>\n",
       "      <td>150000.000000</td>\n",
       "      <td>9.000000</td>\n",
       "      <td>2016-03-29 00:00:00</td>\n",
       "      <td>72213.000000</td>\n",
       "      <td>2016-04-06 11:16:00</td>\n",
       "    </tr>\n",
       "    <tr>\n",
       "      <th>max</th>\n",
       "      <td>2016-04-07 14:36:00</td>\n",
       "      <td>20000.000000</td>\n",
       "      <td>2019.000000</td>\n",
       "      <td>2000.000000</td>\n",
       "      <td>150000.000000</td>\n",
       "      <td>12.000000</td>\n",
       "      <td>2016-04-07 00:00:00</td>\n",
       "      <td>99998.000000</td>\n",
       "      <td>2016-04-07 14:58:00</td>\n",
       "    </tr>\n",
       "    <tr>\n",
       "      <th>std</th>\n",
       "      <td>NaN</td>\n",
       "      <td>4622.035318</td>\n",
       "      <td>6.722419</td>\n",
       "      <td>62.335180</td>\n",
       "      <td>37005.460544</td>\n",
       "      <td>3.346175</td>\n",
       "      <td>NaN</td>\n",
       "      <td>25700.754631</td>\n",
       "      <td>NaN</td>\n",
       "    </tr>\n",
       "  </tbody>\n",
       "</table>\n",
       "</div>"
      ],
      "text/plain": [
       "                         DateCrawled          Price  RegistrationYear  \\\n",
       "count                         273337  273337.000000     273337.000000   \n",
       "mean   2016-03-21 13:29:10.928707072    5211.992416       2003.617194   \n",
       "min              2016-03-05 14:06:00     500.000000       1910.000000   \n",
       "25%              2016-03-13 11:42:00    1600.000000       2000.000000   \n",
       "50%              2016-03-21 18:37:00    3550.000000       2004.000000   \n",
       "75%              2016-03-29 14:53:00    7500.000000       2008.000000   \n",
       "max              2016-04-07 14:36:00   20000.000000       2019.000000   \n",
       "std                              NaN    4622.035318          6.722419   \n",
       "\n",
       "               Power        Mileage  RegistrationMonth  \\\n",
       "count  273337.000000  273337.000000      273337.000000   \n",
       "mean      123.716423  127428.064989           6.396452   \n",
       "min         1.000000    5000.000000           1.000000   \n",
       "25%        82.000000  125000.000000           4.000000   \n",
       "50%       116.000000  150000.000000           6.000000   \n",
       "75%       150.000000  150000.000000           9.000000   \n",
       "max      2000.000000  150000.000000          12.000000   \n",
       "std        62.335180   37005.460544           3.346175   \n",
       "\n",
       "                         DateCreated     PostalCode  \\\n",
       "count                         273337  273337.000000   \n",
       "mean   2016-03-20 19:31:51.482163456   51478.623615   \n",
       "min              2015-08-07 00:00:00    1067.000000   \n",
       "25%              2016-03-13 00:00:00   31162.000000   \n",
       "50%              2016-03-21 00:00:00   50739.000000   \n",
       "75%              2016-03-29 00:00:00   72213.000000   \n",
       "max              2016-04-07 00:00:00   99998.000000   \n",
       "std                              NaN   25700.754631   \n",
       "\n",
       "                            LastSeen  \n",
       "count                         273337  \n",
       "mean   2016-03-30 07:29:05.812604928  \n",
       "min              2016-03-05 14:15:00  \n",
       "25%              2016-03-23 17:18:00  \n",
       "50%              2016-04-04 09:44:00  \n",
       "75%              2016-04-06 11:16:00  \n",
       "max              2016-04-07 14:58:00  \n",
       "std                              NaN  "
      ]
     },
     "execution_count": 11,
     "metadata": {},
     "output_type": "execute_result"
    }
   ],
   "source": [
    "# menampilkan kembali statistik deskriptif untuk data numerik\n",
    "df.describe()"
   ]
  },
  {
   "cell_type": "markdown",
   "metadata": {},
   "source": [
    "Hasil sudah menunjukan yang lebih baik sebelum dilakukan `filtering` dan `drop kolom`. Data `numerik`  juga tidak memiliki `outlier` yang signifikan. Selanjutnya mari kita cek kolom `kategorik`."
   ]
  },
  {
   "cell_type": "code",
   "execution_count": 12,
   "metadata": {},
   "outputs": [
    {
     "data": {
      "text/html": [
       "<div>\n",
       "<style scoped>\n",
       "    .dataframe tbody tr th:only-of-type {\n",
       "        vertical-align: middle;\n",
       "    }\n",
       "\n",
       "    .dataframe tbody tr th {\n",
       "        vertical-align: top;\n",
       "    }\n",
       "\n",
       "    .dataframe thead th {\n",
       "        text-align: right;\n",
       "    }\n",
       "</style>\n",
       "<table border=\"1\" class=\"dataframe\">\n",
       "  <thead>\n",
       "    <tr style=\"text-align: right;\">\n",
       "      <th></th>\n",
       "      <th>VehicleType</th>\n",
       "      <th>Gearbox</th>\n",
       "      <th>Model</th>\n",
       "      <th>FuelType</th>\n",
       "      <th>Brand</th>\n",
       "      <th>NotRepaired</th>\n",
       "    </tr>\n",
       "  </thead>\n",
       "  <tbody>\n",
       "    <tr>\n",
       "      <th>count</th>\n",
       "      <td>259339</td>\n",
       "      <td>269557</td>\n",
       "      <td>264340</td>\n",
       "      <td>260580</td>\n",
       "      <td>273337</td>\n",
       "      <td>240529</td>\n",
       "    </tr>\n",
       "    <tr>\n",
       "      <th>unique</th>\n",
       "      <td>8</td>\n",
       "      <td>2</td>\n",
       "      <td>249</td>\n",
       "      <td>7</td>\n",
       "      <td>40</td>\n",
       "      <td>2</td>\n",
       "    </tr>\n",
       "    <tr>\n",
       "      <th>top</th>\n",
       "      <td>sedan</td>\n",
       "      <td>manual</td>\n",
       "      <td>golf</td>\n",
       "      <td>petrol</td>\n",
       "      <td>volkswagen</td>\n",
       "      <td>no</td>\n",
       "    </tr>\n",
       "    <tr>\n",
       "      <th>freq</th>\n",
       "      <td>76697</td>\n",
       "      <td>212692</td>\n",
       "      <td>22714</td>\n",
       "      <td>169396</td>\n",
       "      <td>58842</td>\n",
       "      <td>218617</td>\n",
       "    </tr>\n",
       "  </tbody>\n",
       "</table>\n",
       "</div>"
      ],
      "text/plain": [
       "       VehicleType Gearbox   Model FuelType       Brand NotRepaired\n",
       "count       259339  269557  264340   260580      273337      240529\n",
       "unique           8       2     249        7          40           2\n",
       "top          sedan  manual    golf   petrol  volkswagen          no\n",
       "freq         76697  212692   22714   169396       58842      218617"
      ]
     },
     "execution_count": 12,
     "metadata": {},
     "output_type": "execute_result"
    }
   ],
   "source": [
    "# melihat statistik deskriptif untuk data categorik\n",
    "df.select_dtypes(exclude=['int','float','datetime']).describe()"
   ]
  },
  {
   "cell_type": "markdown",
   "metadata": {},
   "source": [
    "Nampaknya kita memiliki banyak kategori pada kolom `Model` dan `Brand`."
   ]
  },
  {
   "cell_type": "code",
   "execution_count": 13,
   "metadata": {},
   "outputs": [
    {
     "name": "stdout",
     "output_type": "stream",
     "text": [
      "First DateCreated 2015-08-07 00:00:00\n",
      "Last DateCreated 2016-04-07 00:00:00\n",
      "First DateCrawled 2016-03-05 14:06:00\n",
      "Last DateCrawled 2016-04-07 14:36:00\n"
     ]
    }
   ],
   "source": [
    "# menampilkan informasi lain\n",
    "print('First DateCreated', min(df['DateCreated']))\n",
    "print('Last DateCreated', max(df['DateCreated']))\n",
    "print('First DateCrawled', min(df['DateCrawled']))\n",
    "print('Last DateCrawled', max(df['DateCrawled']))"
   ]
  },
  {
   "cell_type": "markdown",
   "metadata": {},
   "source": [
    "Data `dibuat` dari tahun `2015` hingga `2016` sedangkan data `diunduh` dari `2016 bulan ke-3` hingga `2016 bulan ke-4`."
   ]
  },
  {
   "cell_type": "markdown",
   "metadata": {},
   "source": [
    "### Mengecek Duplikasi Data <a id='cont_2'></a>"
   ]
  },
  {
   "cell_type": "markdown",
   "metadata": {},
   "source": [
    "Selanjutnya kita buang kolom `tanggal` yang tidak berpengaruh terhadap `machine learning` kemudian dilanjutkan dengan pengecekan duplikat pada data."
   ]
  },
  {
   "cell_type": "code",
   "execution_count": 14,
   "metadata": {},
   "outputs": [],
   "source": [
    "# melakukan drop untuk semua datetime\n",
    "df.drop(['DateCrawled','DateCreated','LastSeen'],axis=1,inplace=True)"
   ]
  },
  {
   "cell_type": "code",
   "execution_count": 15,
   "metadata": {},
   "outputs": [
    {
     "name": "stdout",
     "output_type": "stream",
     "text": [
      "Jumlah dataset awal 273337\n",
      "Jumlah duplikasi data 18012\n",
      "Jumlah dataset akhir 255325\n"
     ]
    }
   ],
   "source": [
    "# jumlah datset awal\n",
    "print('Jumlah dataset awal', len(df))\n",
    "\n",
    "# jumlah duplikasi data\n",
    "print('Jumlah duplikasi data',df.duplicated().sum())\n",
    "\n",
    "# menghilangkan duplikasi data\n",
    "df.drop_duplicates(inplace=True)\n",
    "\n",
    "# jumlah datset akhir\n",
    "print('Jumlah dataset akhir', len(df))"
   ]
  },
  {
   "cell_type": "markdown",
   "metadata": {},
   "source": [
    "Kita sudah menghilangkan `18012` duplikat pada dataset dan dataset kita berjumlah `255325`."
   ]
  },
  {
   "cell_type": "markdown",
   "metadata": {},
   "source": [
    "### Mengecek Nilai yang Hilang <a id='cont_3'></a>"
   ]
  },
  {
   "cell_type": "code",
   "execution_count": 16,
   "metadata": {},
   "outputs": [
    {
     "data": {
      "text/plain": [
       "Price                 0.000000\n",
       "VehicleType           5.272887\n",
       "RegistrationYear      0.000000\n",
       "Gearbox               1.446784\n",
       "Power                 0.000000\n",
       "Model                 3.394889\n",
       "Mileage               0.000000\n",
       "RegistrationMonth     0.000000\n",
       "FuelType              4.858122\n",
       "Brand                 0.000000\n",
       "NotRepaired          12.309018\n",
       "PostalCode            0.000000\n",
       "dtype: float64"
      ]
     },
     "execution_count": 16,
     "metadata": {},
     "output_type": "execute_result"
    }
   ],
   "source": [
    "# menghitung jumlah nilai yang hilang dalam persentase\n",
    "df.isna().sum()/len(df)*100"
   ]
  },
  {
   "cell_type": "markdown",
   "metadata": {},
   "source": [
    "Terlihat data yang hilang pada kolom `NotRepaired` sebanyak kurang lebih `12%`. Kita tidak akan memprosesnya disini dan akan diproses lebih lanjut menggunakan teknik `preprocessing` di `machine learning`."
   ]
  },
  {
   "cell_type": "markdown",
   "metadata": {},
   "source": [
    "### Analisis Data Eksploratif (EDA) <a id='cont_4'></a>"
   ]
  },
  {
   "cell_type": "code",
   "execution_count": 17,
   "metadata": {},
   "outputs": [
    {
     "data": {
      "image/png": "[encoded data removed]",
      "text/plain": [
       "<Figure size 800x500 with 2 Axes>"
      ]
     },
     "metadata": {},
     "output_type": "display_data"
    }
   ],
   "source": [
    "# mengecek korelasi pada dataset numerik\n",
    "plt.figure(figsize=(8,5))\n",
    "sns.heatmap(df.select_dtypes(exclude='object').corr(),annot=True,cmap='RdBu_r')\n",
    "plt.title('Correlation Table')\n",
    "plt.xticks(rotation=20)\n",
    "plt.show()"
   ]
  },
  {
   "cell_type": "markdown",
   "metadata": {},
   "source": [
    "Terlihat korelasi yang cukup kuat dan masuk akal antara `Price` terhadap `RegistrationYear`, `Power` dan `Mileage`. `Price` memiliki korelasi positif terhadap `RegistrationYear` dan `Power`. Sedangkan `Price` memiliki korelasi positif terhadap `Mileage`."
   ]
  },
  {
   "cell_type": "markdown",
   "metadata": {},
   "source": [
    "## Pelatihan Model <a id='cont_5'></a>"
   ]
  },
  {
   "cell_type": "markdown",
   "metadata": {},
   "source": [
    "Disini kita akan melakukan pengujian terhadap `model machine learning` yang cukup populer diantaranya `regresi linier`, `random forest`, `xgboost`, `lightGBM` dan `catboost`. Kita akan melakukan pengujian performa terhadap `kecepatan waktu` dan `hasil skor RMSE` terhadap masing-masing model. Mari kita pisahkan dataset menjadi `fitur` dan `target`.\n",
    "\n",
    "Model yang tidak menggunakan teknik `boosting`:\n",
    "- Regresi Linier\n",
    "- Random Forest\n",
    "\n",
    "Model yang menggunakan teknik `boosting`:\n",
    "- XGBoost\n",
    "- LightGBM\n",
    "- CatBoost"
   ]
  },
  {
   "cell_type": "code",
   "execution_count": 18,
   "metadata": {},
   "outputs": [
    {
     "name": "stdout",
     "output_type": "stream",
     "text": [
      "(204260, 11)\n",
      "(51065, 11)\n",
      "(204260,)\n",
      "(51065,)\n"
     ]
    }
   ],
   "source": [
    "# memisahkan dataset \n",
    "features = df.drop('Price',axis=1).reset_index(drop=True)\n",
    "target = df.Price.reset_index(drop=True)\n",
    "\n",
    "# membagi dataset untuk model regresi linier, random forest dan xgboost\n",
    "features_train, features_test, target_train, target_test = train_test_split(features, target, test_size=0.2, random_state=75)\n",
    "print(features_train.shape)\n",
    "print(features_test.shape)\n",
    "print(target_train.shape)\n",
    "print(target_test.shape)"
   ]
  },
  {
   "cell_type": "markdown",
   "metadata": {},
   "source": [
    "### Model 1: Regresi Linier <a id='cont_6'></a>"
   ]
  },
  {
   "cell_type": "markdown",
   "metadata": {},
   "source": [
    "Kita akan menjadikan model ini sebagai dasar `base` acuan yang akan kita bandingkan dengan beberapa model `boosting` yang disebutkan sebelumnya. Adapun proses kerja untuk `regresi linier` dari `scikit-learn` sebagai berikut:\n",
    "1. Melakukan teknik pemrosesan data terhadap `nilai yang hilang` dan `data kategorik`.\n",
    "2. Data `numerik` yang hilang akan diisi menggunakan `rata-rata` sedangkan data kategorik menggunakan `most_frequent`.\n",
    "3. Data `numerik` dilakukan proses `scaling` menggunakan `minmax scaling` sedangkan data kategorik dilakukan proses `OneHot Encoding`.\n",
    "4. Preprocessing semuanya dilakukan menggunakan `Pipeline`.\n",
    "5. Tahap pelatihan dan perhitungan `waktu pelatihan (preprocessing + training)` yang dilakukan perhitungan `waktu prediksi`.\n",
    "6. Perhitungan skor RMSE untuk data `test` dan juga `cross validation`."
   ]
  },
  {
   "cell_type": "code",
   "execution_count": 19,
   "metadata": {},
   "outputs": [],
   "source": [
    "# mengelompokan nama-nama kolom numerik dan nama-nama kolom kategorik \n",
    "num_col = features.select_dtypes(include=['int','float']).columns\n",
    "cat_col = features.select_dtypes(include='object').columns\n",
    "\n",
    "# transformer untuk data numerik\n",
    "numerical = Pipeline(steps=[\n",
    "    ('imputer',SimpleImputer(strategy='mean')),\n",
    "    ('scaler',MinMaxScaler())\n",
    "])\n",
    "\n",
    "# transformer untuk data kategorik\n",
    "categorical = Pipeline(steps=[\n",
    "    ('imputer',SimpleImputer(strategy='most_frequent')),\n",
    "    ('ohe',OneHotEncoder()),\n",
    "])\n",
    "\n",
    "# menggabungkan transformer numerik dan transformer kategorik\n",
    "preprocessor_linreg = ColumnTransformer(transformers=[\n",
    "    ('num',numerical, num_col),\n",
    "    ('cat',categorical, cat_col)\n",
    "])"
   ]
  },
  {
   "cell_type": "code",
   "execution_count": 20,
   "metadata": {},
   "outputs": [
    {
     "name": "stdout",
     "output_type": "stream",
     "text": [
      "Waktu untuk melatih model: 3.742 detik\n"
     ]
    }
   ],
   "source": [
    "# membuat model regresi linier\n",
    "lr_model = LinearRegression()\n",
    "\n",
    "# membuat pipeline regresi linier\n",
    "linereg_pipe = Pipeline(steps=[\n",
    "    ('prep', preprocessor_linreg),\n",
    "    ('lr_model', lr_model)\n",
    "])\n",
    "\n",
    "# melatih model (fit model) regresi linier\n",
    "time_start = time.time()\n",
    "linereg_pipe.fit(features_train,target_train)\n",
    "time_end = time.time()\n",
    "diff_fit_linreg = np.round(time_end -  time_start, 3)\n",
    "print('Waktu untuk melatih model:', f'{diff_fit_linreg}','detik')"
   ]
  },
  {
   "cell_type": "markdown",
   "metadata": {},
   "source": [
    "### Model 2: Random Forest <a id='cont_7'></a>"
   ]
  },
  {
   "cell_type": "markdown",
   "metadata": {},
   "source": [
    "Sama seperti teknik `regresi linier` menggunakan langkah-langkah diatas namun sedikit ada perbedaan. Adapun proses kerja untuk `random forest` dari `scikit-learn` sebagai berikut:\n",
    "1. Melakukan teknik pemrosesan data terhadap `nilai yang hilang` dan `data kategorik`.\n",
    "2. Data `numerik` yang hilang akan diisi menggunakan `rata-rata` sedangkan data kategorik menggunakan `most_frequent`.\n",
    "3. Hanya data `kategorik` yang diproses menggunakan teknik `label` merubahnya menjadi `numerik`.\n",
    "4. Preprocessing semuanya dilakukan menggunakan `Pipeline`.\n",
    "5. Tahap pelatihan dan perhitungan `waktu pelatihan (preprocessing + training)` yang dilakukan perhitungan `waktu prediksi`.\n",
    "6. Perhitungan skor RMSE untuk data `test` dan juga `cross validation`."
   ]
  },
  {
   "cell_type": "code",
   "execution_count": 21,
   "metadata": {},
   "outputs": [],
   "source": [
    "# mendefiniskan preprocessor data untuk random forest, xgboost dan lgbm\n",
    "\n",
    "# transformer untuk data numerik\n",
    "numerical = Pipeline(steps=[\n",
    "    ('imputer',SimpleImputer(strategy='mean')),\n",
    "])\n",
    "\n",
    "# transformer untuk data kategorik\n",
    "categorical = Pipeline(steps=[\n",
    "    ('imputer',SimpleImputer(strategy='most_frequent')),\n",
    "    ('class',OrdinalEncoder()),\n",
    "])\n",
    "\n",
    "# menggabungkan transformer numerik dan transformer kategorik\n",
    "preprocessor_boost = ColumnTransformer(transformers=[\n",
    "    ('num',numerical, num_col),\n",
    "    ('cat',categorical, cat_col)\n",
    "])"
   ]
  },
  {
   "cell_type": "code",
   "execution_count": 22,
   "metadata": {},
   "outputs": [
    {
     "name": "stdout",
     "output_type": "stream",
     "text": [
      "Waktu untuk melatih model: 10.771 detik\n"
     ]
    }
   ],
   "source": [
    "# membuat model random forest\n",
    "rf_model = RandomForestRegressor(n_estimators=20, max_depth=10, min_samples_split=10)\n",
    "\n",
    "# membuat pipeline random forest\n",
    "rf_pipe = Pipeline(steps=[\n",
    "    ('prep', preprocessor_boost),\n",
    "    ('rf_model', rf_model)\n",
    "])\n",
    "\n",
    "# melatih model (fit model) random forest\n",
    "time_start = time.time()\n",
    "rf_pipe.fit(features_train,target_train)\n",
    "time_end = time.time()\n",
    "diff_fit_rf = np.round(time_end -  time_start, 3)\n",
    "print('Waktu untuk melatih model:', f'{diff_fit_rf}','detik')"
   ]
  },
  {
   "cell_type": "markdown",
   "metadata": {},
   "source": [
    "### Model 3: XGBoost <a id='cont_8'></a>"
   ]
  },
  {
   "cell_type": "markdown",
   "metadata": {},
   "source": [
    "Sama seperti teknik-teknik sebelumnya menggunakan langkah-langkah diatas namun sedikit ada perbedaan. Adapun proses kerja untuk `XGBoost` sebagai berikut:\n",
    "1. Melakukan teknik pemrosesan data terhadap `nilai yang hilang` dan `data kategorik`.\n",
    "2. Data `numerik` yang hilang akan diisi menggunakan `rata-rata` sedangkan data kategorik menggunakan `most_frequent`.\n",
    "3. Hanya data `kategorik` yang diproses menggunakan teknik `label` merubahnya menjadi `numerik`.\n",
    "4. Preprocessing semuanya dilakukan menggunakan `Pipeline`.\n",
    "5. Kita menggunakan `callback` untuk mencegah terjadinya pemborosan `waktu komputasi`.\n",
    "5. Tahap pelatihan dan perhitungan `waktu pelatihan (preprocessing + training)` yang dilakukan perhitungan `waktu prediksi`.\n",
    "6. Perhitungan skor RMSE untuk data `test` dan juga `cross validation`."
   ]
  },
  {
   "cell_type": "code",
   "execution_count": 23,
   "metadata": {},
   "outputs": [
    {
     "name": "stdout",
     "output_type": "stream",
     "text": [
      "Waktu untuk melatih model: 8.383 detik\n"
     ]
    }
   ],
   "source": [
    "# mendefinisikan callback xgboost\n",
    "clb_xgb = callback.EarlyStopping(3)\n",
    "\n",
    "# membuat model xgboost\n",
    "xgb_model = XGBRegressor(\n",
    "    n_estimators=1000,\n",
    "    eval_metric='rmse',\n",
    "    learning_rate=0.1,\n",
    "    callbacks=[clb_xgb],\n",
    "    )\n",
    "\n",
    "# membuat pipeline xgboost\n",
    "xgb_pipe = Pipeline(steps=[\n",
    "    ('prep', preprocessor_boost),\n",
    "    ('xgb_model', xgb_model)\n",
    "])\n",
    "\n",
    "# melatih model (fit model) xgboost\n",
    "time_start = time.time()\n",
    "transform_features_test = preprocessor_boost.fit_transform(features_test)\n",
    "transform_features_train = preprocessor_boost.fit_transform(features_train)\n",
    "xgb_pipe.fit(features_train,target_train, \n",
    "            xgb_model__eval_set=[(transform_features_train, target_train),(transform_features_test, target_test)], \n",
    "            xgb_model__verbose = False\n",
    "            )\n",
    "time_end = time.time()\n",
    "diff_fit_xgb = np.round(time_end -  time_start, 3)\n",
    "print('Waktu untuk melatih model:', f'{diff_fit_xgb}','detik')"
   ]
  },
  {
   "cell_type": "code",
   "execution_count": 24,
   "metadata": {},
   "outputs": [
    {
     "data": {
      "image/png": "[encoded data removed]",
      "text/plain": [
       "<Figure size 800x500 with 1 Axes>"
      ]
     },
     "metadata": {},
     "output_type": "display_data"
    }
   ],
   "source": [
    "# melakukan plot grafik loss pada XGBoost\n",
    "results = xgb_model.evals_result()\n",
    "plt.figure(figsize=(8,5))\n",
    "plt.plot(results[\"validation_0\"][\"rmse\"], label=\"Train loss\")\n",
    "plt.plot(results[\"validation_1\"][\"rmse\"], label=\"Test loss\")\n",
    "plt.axvline(xgb_model.best_ntree_limit, color=\"gray\", label=\"Optimal tree number\")\n",
    "plt.xlabel(\"Number of trees\")\n",
    "plt.ylabel(\"Loss\")\n",
    "plt.title('XGBoost Loss Curve')\n",
    "plt.legend()\n",
    "plt.show()"
   ]
  },
  {
   "cell_type": "markdown",
   "metadata": {},
   "source": [
    "### Model 4: LightGBM <a id='cont_9'></a>"
   ]
  },
  {
   "cell_type": "markdown",
   "metadata": {},
   "source": [
    "Model ini hampir mirip seperti `XGBoost`, namun ada sedikit perbedaan parameter didalamnya. Adapun proses kerja untuk `LightGBM` sebagai berikut:\n",
    "1. Melakukan teknik pemrosesan data terhadap `nilai yang hilang` dan `data kategorik`.\n",
    "2. Data `numerik` yang hilang akan diisi menggunakan `rata-rata` sedangkan data kategorik menggunakan `most_frequent`.\n",
    "3. Hanya data `kategorik` yang diproses menggunakan teknik `label` merubahnya menjadi `numerik`.\n",
    "4. Preprocessing semuanya dilakukan menggunakan `Pipeline`.\n",
    "5. Kita menggunakan `callback` untuk mencegah terjadinya pemborosan `waktu komputasi`.\n",
    "5. Tahap pelatihan dan perhitungan `waktu pelatihan (preprocessing + training)` yang dilakukan perhitungan `waktu prediksi`.\n",
    "6. Perhitungan skor RMSE untuk data `test` dan juga `cross validation`."
   ]
  },
  {
   "cell_type": "code",
   "execution_count": 25,
   "metadata": {},
   "outputs": [
    {
     "name": "stdout",
     "output_type": "stream",
     "text": [
      "Training until validation scores don't improve for 3 rounds\n",
      "Early stopping, best iteration is:\n",
      "[72]\tvalid_0's rmse: 1662.2\n",
      "Waktu untuk melatih model: 2.394 detik\n"
     ]
    }
   ],
   "source": [
    "# start time\n",
    "time_start = time.time()\n",
    "\n",
    "# mempersiapkan preprocessor\n",
    "features_lgb = pd.DataFrame(preprocessor_boost.fit_transform(features),columns=features.columns)\n",
    "target_lgb = target.copy()\n",
    "\n",
    "# membagi dataset untuk lgbm\n",
    "X_train_lgb, X_test_lgb, y_train_lgb, y_test_lgb = train_test_split(features_lgb, target_lgb, test_size=0.2, random_state=75)\n",
    "\n",
    "# transformasi dataset ke lgbm dataset\n",
    "full_data = lgb.Dataset(data=features_lgb, label=target_lgb, feature_name=list(features_lgb.columns), categorical_feature=list(cat_col))\n",
    "train_data = lgb.Dataset(data=X_train_lgb, label=y_train_lgb, feature_name=list(features_lgb.columns), categorical_feature=list(cat_col))\n",
    "test_data = lgb.Dataset(data=X_test_lgb, label=y_test_lgb, feature_name=list(features_lgb.columns), categorical_feature=list(cat_col))\n",
    "\n",
    "# mendefinisikan parameter lgbm\n",
    "param_lgb = {\n",
    "    'objective': 'regression',\n",
    "    'metric': 'rmse',\n",
    "    'boosting_type': 'gbdt',\n",
    "    'num_leaves': 31,\n",
    "    'learning_rate': 0.2,\n",
    "    'verbose': -1\n",
    "}\n",
    "\n",
    "# melatih model lgbm\n",
    "lgbm_model = lgb.train(\n",
    "    params=param_lgb,\n",
    "    train_set=train_data,\n",
    "    num_boost_round=200,\n",
    "    valid_sets=[test_data], \n",
    "    callbacks=[lgb.early_stopping(stopping_rounds=3)]\n",
    ")\n",
    "\n",
    "# end time\n",
    "time_end = time.time()\n",
    "diff_fit_lgb = np.round(time_end -  time_start, 3)\n",
    "print('Waktu untuk melatih model:', f'{diff_fit_lgb}','detik')"
   ]
  },
  {
   "cell_type": "markdown",
   "metadata": {},
   "source": [
    "### Model 5: CatBoost <a id='cont_10'></a>"
   ]
  },
  {
   "cell_type": "markdown",
   "metadata": {},
   "source": [
    "Model ini berbeda dari semua model yang ada dimana kita tidak perlu melakukan pengkategorian untuk data `kategori` maupun mengisi nilai yang hilang pada kolom `numerik`. Adapun proses kerja untuk `CatBoost` sebagai berikut:\n",
    "1. Melakukan teknik pemrosesan data terhadap `nilai yang hilang` dan `data kategorik`.\n",
    "2. Kita tidak perlu melakukan pengisian nilai yang hilang untuk data `numerik`, nilai yang hilang akan diproses secara otomatis di dalam `catboost`, sedangkan data `kategorik` kita perlu mendefinisikan secara manual menggunakan `most_frequent`.\n",
    "4. Preprocessing data `kategorik` dilakukan menggunakan `Pipeline`.\n",
    "5. Kita menggunakan `early_stopping` untuk mencegah terjadinya pemborosan `waktu komputasi`.\n",
    "5. Tahap pelatihan dan perhitungan `waktu pelatihan (preprocessing + training)` yang dilakukan perhitungan `waktu prediksi`.\n",
    "6. Perhitungan skor RMSE untuk data `test` dan juga `cross validation`."
   ]
  },
  {
   "cell_type": "code",
   "execution_count": 26,
   "metadata": {},
   "outputs": [
    {
     "data": {
      "application/vnd.jupyter.widget-view+json": {
       "model_id": "cc1c712266e04ad89d4cdc914d5db41f",
       "version_major": 2,
       "version_minor": 0
      },
      "text/plain": [
       "MetricVisualizer(layout=Layout(align_self='stretch', height='500px'))"
      ]
     },
     "metadata": {},
     "output_type": "display_data"
    },
    {
     "name": "stdout",
     "output_type": "stream",
     "text": [
      "0:\tlearn: 3781.4224099\ttest: 3790.4487217\tbest: 3790.4487217 (0)\ttotal: 300ms\tremaining: 4m 59s\n",
      "200:\tlearn: 1597.6977223\ttest: 1647.0286126\tbest: 1647.0286126 (200)\ttotal: 22.6s\tremaining: 1m 29s\n",
      "400:\tlearn: 1530.9481012\ttest: 1615.1600499\tbest: 1615.1600499 (400)\ttotal: 45s\tremaining: 1m 7s\n",
      "Stopped by overfitting detector  (3 iterations wait)\n",
      "\n",
      "bestTest = 1610.092539\n",
      "bestIteration = 460\n",
      "\n",
      "Shrink model to first 461 iterations.\n",
      "Waktu untuk melatih model: 53.386 detik\n"
     ]
    }
   ],
   "source": [
    "# transformasi untuk memperbaiki nilai yang hilang pada model catboost\n",
    "cat_cbt = Pipeline(steps=[('imputer',SimpleImputer(strategy='most_frequent')),])\n",
    "preprocessor_cat = ColumnTransformer(transformers=[('cat',cat_cbt, cat_col)])\n",
    "\n",
    "# start time\n",
    "time_start = time.time()\n",
    "\n",
    "# menduplikasi fitur dan target \n",
    "transformed = pd.DataFrame(preprocessor_cat.fit_transform(features),columns=cat_col)    # mengisi nilai kategorik yang hilang\n",
    "features_cbt = features.copy()                                                          # membuat duplikasi fitur\n",
    "for col in cat_col:                                                                     \n",
    "    features_cbt[col] = transformed[col]                                                # mereplace kolom kategorik pada duplikasi fitur\n",
    "    features_cbt[col] = features_cbt[col].astype('category')                            # mengubah tipe object menjadi category\n",
    "target_cbt = target.copy()                                                              # menduplikasi target\n",
    "\n",
    "# membagi dataset menjadi train dan test untuk catboost\n",
    "X_train_cbt, X_test_cbt, y_train_cbt, y_test_cbt = train_test_split(features_cbt, target_cbt, test_size=0.2, random_state=75)\n",
    "\n",
    "# melakukan pooling dataset\n",
    "full_pool = Pool(data=features_cbt, label=target_cbt, cat_features=list(cat_col))\n",
    "train_pool = Pool(data=X_train_cbt, label=y_train_cbt, cat_features=list(cat_col))\n",
    "test_pool = Pool(data=X_test_cbt, label=y_test_cbt, cat_features=list(cat_col))\n",
    "\n",
    "# mendefinisikan model catboost\n",
    "regcat_model = CatBoostRegressor(\n",
    "    iterations=1000,\n",
    "    learning_rate=0.3,\n",
    "    cat_features=list(cat_col),\n",
    "    objective='RMSE',\n",
    "    early_stopping_rounds=5,\n",
    "    verbose=200\n",
    ")\n",
    "\n",
    "# melatih model catboost\n",
    "regcat_model.fit(\n",
    "    train_pool,                 # fitur dan target train\n",
    "    eval_set=test_pool,         # fitur dan target test   \n",
    "    plot=True,\n",
    "    early_stopping_rounds=3\n",
    ")\n",
    "\n",
    "# end time\n",
    "time_end = time.time()\n",
    "diff_fit_cbt = np.round(time_end -  time_start, 3)\n",
    "print('Waktu untuk melatih model:', f'{diff_fit_cbt}','detik')"
   ]
  },
  {
   "cell_type": "markdown",
   "metadata": {},
   "source": [
    "## Analisis Model <a id='cont_11'></a>"
   ]
  },
  {
   "cell_type": "markdown",
   "metadata": {},
   "source": [
    "Pada sub pembahasan ini kita akan mengetahui `waktu prediksi`, `waktu pemrosesan total`, hasil `skor RMSE prediksi` menggunakan dataset `test` dan juga `hasil skor RMSE` menggunakan `cross validation`."
   ]
  },
  {
   "cell_type": "markdown",
   "metadata": {},
   "source": [
    "### Model 1: Regresi Linier <a id='cont_12'></a>"
   ]
  },
  {
   "cell_type": "code",
   "execution_count": 27,
   "metadata": {},
   "outputs": [],
   "source": [
    "# membuat skor RMSE\n",
    "def RMSE(true,pred):\n",
    "    mse = mean_squared_error(true,pred)\n",
    "    return np.sqrt(mse)\n",
    "\n",
    "RMSE_score = make_scorer(RMSE)"
   ]
  },
  {
   "cell_type": "code",
   "execution_count": 28,
   "metadata": {},
   "outputs": [
    {
     "name": "stdout",
     "output_type": "stream",
     "text": [
      "Waktu untuk predicting: 0.459 detik\n",
      "Total waktu linreg: 4.201 detik\n"
     ]
    }
   ],
   "source": [
    "# menghitung waktu untuk prediksi regresi linier\n",
    "time_start = time.time()\n",
    "predict_train_lr =  linereg_pipe.predict(features_train)\n",
    "predict_test_lr =  linereg_pipe.predict(features_test)\n",
    "time_end = time.time()\n",
    "diff_pred_linreg = np.round(time_end -  time_start, 3)\n",
    "total_linreg = np.round(diff_fit_linreg + diff_pred_linreg, 3) \n",
    "print('Waktu untuk predicting:', f'{diff_pred_linreg}','detik')\n",
    "print('Total waktu linreg:', f'{total_linreg}','detik')"
   ]
  },
  {
   "cell_type": "code",
   "execution_count": 29,
   "metadata": {},
   "outputs": [
    {
     "name": "stdout",
     "output_type": "stream",
     "text": [
      "RMSE test linreg: 2765.13\n",
      "RMSE cross linreg: 2790.61\n"
     ]
    }
   ],
   "source": [
    "# menghitung skor RMSE menggunakan cross validation\n",
    "cross_linreg = cross_val_score(lr_model,preprocessor_linreg.fit_transform(features),target,cv=3,scoring=RMSE_score)\n",
    "cross_linreg = np.mean(cross_linreg).round(2)\n",
    "pred_linreg = np.sqrt(mean_squared_error(target_test,predict_test_lr)).round(2)\n",
    "print('RMSE test linreg:',pred_linreg)\n",
    "print('RMSE cross linreg:',cross_linreg)"
   ]
  },
  {
   "cell_type": "markdown",
   "metadata": {},
   "source": [
    "### Model 2: Random Forest <a id='cont_13'></a>"
   ]
  },
  {
   "cell_type": "code",
   "execution_count": 30,
   "metadata": {},
   "outputs": [
    {
     "name": "stdout",
     "output_type": "stream",
     "text": [
      "Waktu untuk predicting: 0.985 detik\n",
      "Total waktu random forest: 11.756 detik\n"
     ]
    }
   ],
   "source": [
    "# menghitung waktu untuk prediksi random forest\n",
    "time_start = time.time()\n",
    "predict_train_rf =  rf_pipe.predict(features_train)\n",
    "predict_test_rf =  rf_pipe.predict(features_test)\n",
    "time_end = time.time()\n",
    "diff_pred_rf = np.round(time_end -  time_start, 3)\n",
    "total_rf = np.round(diff_fit_rf + diff_pred_rf, 3) \n",
    "print('Waktu untuk predicting:', f'{diff_pred_rf}','detik')\n",
    "print('Total waktu random forest:', f'{total_rf}','detik')"
   ]
  },
  {
   "cell_type": "code",
   "execution_count": 31,
   "metadata": {},
   "outputs": [
    {
     "name": "stdout",
     "output_type": "stream",
     "text": [
      "RMSE test rf: 1907.94\n",
      "RMSE cross rf: 1916.04\n"
     ]
    }
   ],
   "source": [
    "# menghitung skor RMSE menggunakan cross validation\n",
    "cross_rf = cross_val_score(rf_model,preprocessor_boost.fit_transform(features),target,cv=3,scoring=RMSE_score)\n",
    "cross_rf = np.mean(cross_rf).round(2)\n",
    "pred_rf = np.sqrt(mean_squared_error(target_test,predict_test_rf)).round(2)\n",
    "print('RMSE test rf:',pred_rf)\n",
    "print('RMSE cross rf:',cross_rf)"
   ]
  },
  {
   "cell_type": "markdown",
   "metadata": {},
   "source": [
    "### Model 3: XGBoost <a id='cont_14'></a>"
   ]
  },
  {
   "cell_type": "code",
   "execution_count": 32,
   "metadata": {},
   "outputs": [
    {
     "name": "stdout",
     "output_type": "stream",
     "text": [
      "Waktu untuk predicting: 0.522 detik\n",
      "Total waktu xgb: 8.905 detik\n"
     ]
    }
   ],
   "source": [
    "# menghitung waktu untuk prediksi xgboost\n",
    "time_start = time.time()\n",
    "predict_train_xgb =  xgb_pipe.predict(features_train)\n",
    "predict_test_xgb =  xgb_pipe.predict(features_test)\n",
    "time_end = time.time()\n",
    "diff_pred_xgb = np.round(time_end -  time_start, 3)\n",
    "total_xgb = np.round(diff_fit_xgb + diff_pred_xgb, 3)\n",
    "print('Waktu untuk predicting:', f'{diff_pred_xgb}','detik')\n",
    "print('Total waktu xgb:', f'{total_xgb}','detik')"
   ]
  },
  {
   "cell_type": "code",
   "execution_count": 33,
   "metadata": {},
   "outputs": [
    {
     "name": "stdout",
     "output_type": "stream",
     "text": [
      "RMSE test xgboost: 1685.61\n",
      "RMSE cross xgboost: 1694.46\n"
     ]
    }
   ],
   "source": [
    "# menghitung skor RMSE untuk dataset training dan dataset test menggunakan cross validation\n",
    "params = {\n",
    "        'eval_set':[(transform_features_train, target_train),(transform_features_test, target_test)], \n",
    "        'verbose': False\n",
    "}\n",
    "\n",
    "# menjalankan cross validation\n",
    "cross_xgb = cross_val_score(\n",
    "    XGBRegressor(learning_rate=0.1,n_estimators=xgb_model.best_ntree_limit,eval_metric='rmse'),\n",
    "    preprocessor_boost.fit_transform(features),\n",
    "    target,\n",
    "    cv=3,\n",
    "    fit_params=params,\n",
    "    scoring=RMSE_score)\n",
    "cross_xgb = np.mean(cross_xgb).round(2)\n",
    "pred_xgb = np.sqrt(mean_squared_error(target_test,predict_test_xgb)).round(2)\n",
    "print('RMSE test xgboost:',pred_xgb)\n",
    "print('RMSE cross xgboost:',cross_xgb)"
   ]
  },
  {
   "cell_type": "markdown",
   "metadata": {},
   "source": [
    "### Model 4: LightGBM <a id='cont_15'></a>"
   ]
  },
  {
   "cell_type": "code",
   "execution_count": 34,
   "metadata": {},
   "outputs": [
    {
     "name": "stdout",
     "output_type": "stream",
     "text": [
      "Waktu untuk predicting: 0.695 detik\n",
      "Total waktu lgbm: 3.089 detik\n"
     ]
    }
   ],
   "source": [
    "# menghitung waktu untuk prediksi lgbm\n",
    "time_start = time.time()\n",
    "predict_train_lgb =  lgbm_model.predict(X_train_lgb)\n",
    "predict_test_lgb =  lgbm_model.predict(X_test_lgb)\n",
    "time_end = time.time()\n",
    "diff_pred_lgb = np.round(time_end -  time_start, 3)\n",
    "total_lgb = np.round(diff_fit_lgb + diff_pred_lgb, 3)\n",
    "print('Waktu untuk predicting:', f'{diff_pred_lgb}','detik')\n",
    "print('Total waktu lgbm:', f'{total_lgb}','detik')"
   ]
  },
  {
   "cell_type": "code",
   "execution_count": 35,
   "metadata": {},
   "outputs": [
    {
     "name": "stderr",
     "output_type": "stream",
     "text": [
      "c:\\Users\\fuada\\AppData\\Local\\Programs\\Python\\Python311\\Lib\\site-packages\\sklearn\\model_selection\\_split.py:725: UserWarning: The least populated class in y has only 1 members, which is less than n_splits=3.\n",
      "  warnings.warn(\n"
     ]
    },
    {
     "name": "stdout",
     "output_type": "stream",
     "text": [
      "RMSE test lgb: 1662.2\n",
      "RMSE cross lgb: 1722.31\n"
     ]
    }
   ],
   "source": [
    "# menghitung skor RMSE untuk full data menggunakan cross validation\n",
    "cross_lgb = lgb.cv(param_lgb, full_data, num_boost_round=200, nfold=3)\n",
    "cross_lgb = np.mean(np.array(cross_lgb['valid rmse-mean'])).round(2)\n",
    "pred_lgb = np.sqrt(mean_squared_error(y_test_lgb,predict_test_lgb)).round(2)\n",
    "print('RMSE test lgb:',pred_lgb)\n",
    "print('RMSE cross lgb:',cross_lgb)"
   ]
  },
  {
   "cell_type": "markdown",
   "metadata": {},
   "source": [
    "### Model 5: CatBoost <a id='cont_16'></a>"
   ]
  },
  {
   "cell_type": "code",
   "execution_count": 36,
   "metadata": {},
   "outputs": [
    {
     "name": "stdout",
     "output_type": "stream",
     "text": [
      "Waktu untuk predicting: 0.442 detik\n",
      "Total waktu cbt: 53.828 detik\n"
     ]
    }
   ],
   "source": [
    "# menghitung waktu untuk prediksi catboost\n",
    "time_start = time.time()\n",
    "predict_train_cbt =  regcat_model.predict(X_train_cbt)\n",
    "predict_test_cbt =  regcat_model.predict(X_test_cbt)\n",
    "time_end = time.time()\n",
    "diff_pred_cbt = np.round(time_end -  time_start, 3)\n",
    "total_cbt = np.round(diff_fit_cbt + diff_pred_cbt, 3)\n",
    "print('Waktu untuk predicting:', f'{diff_pred_cbt}','detik')\n",
    "print('Total waktu cbt:', f'{total_cbt}','detik')"
   ]
  },
  {
   "cell_type": "code",
   "execution_count": 37,
   "metadata": {},
   "outputs": [
    {
     "name": "stdout",
     "output_type": "stream",
     "text": [
      "Training on fold [0/3]\n",
      "0:\tlearn: 5244.3404763\ttest: 5227.5612082\tbest: 5227.5612082 (0)\ttotal: 147ms\tremaining: 2m 26s\n",
      "100:\tlearn: 1675.0418585\ttest: 1684.4172587\tbest: 1684.4172587 (100)\ttotal: 11.7s\tremaining: 1m 43s\n",
      "200:\tlearn: 1606.7409432\ttest: 1643.2233201\tbest: 1643.2233201 (200)\ttotal: 23.2s\tremaining: 1m 32s\n",
      "\n",
      "bestTest = 1636.291363\n",
      "bestIteration = 234\n",
      "\n",
      "Training on fold [1/3]\n",
      "0:\tlearn: 5228.8974149\ttest: 5250.5131649\tbest: 5250.5131649 (0)\ttotal: 130ms\tremaining: 2m 9s\n",
      "100:\tlearn: 1667.7263553\ttest: 1686.2819238\tbest: 1686.2819238 (100)\ttotal: 12.3s\tremaining: 1m 49s\n",
      "\n",
      "bestTest = 1657.78897\n",
      "bestIteration = 159\n",
      "\n",
      "Training on fold [2/3]\n",
      "0:\tlearn: 5237.3258842\ttest: 5231.5589844\tbest: 5231.5589844 (0)\ttotal: 253ms\tremaining: 4m 12s\n",
      "100:\tlearn: 1658.1383140\ttest: 1718.3373343\tbest: 1718.3373343 (100)\ttotal: 16.4s\tremaining: 2m 25s\n",
      "200:\tlearn: 1591.6210139\ttest: 1675.0887023\tbest: 1675.0887023 (200)\ttotal: 31.4s\tremaining: 2m 4s\n",
      "\n",
      "bestTest = 1664.55862\n",
      "bestIteration = 246\n",
      "\n"
     ]
    }
   ],
   "source": [
    "# mendefinisikan parameter cross validation\n",
    "param_cbt = {\n",
    "    'iterations': 1000,\n",
    "    'learning_rate': 0.3,\n",
    "    'loss_function': 'RMSE',\n",
    "    'eval_metric': 'RMSE',   \n",
    "    'cat_features': list(cat_col), \n",
    "    'early_stopping_rounds': 3, \n",
    "    'verbose': 100             \n",
    "}\n",
    "\n",
    "# menjalankan cross validation\n",
    "cross_cbt = cv(full_pool,nfold=3,params=param_cbt)"
   ]
  },
  {
   "cell_type": "code",
   "execution_count": 38,
   "metadata": {},
   "outputs": [
    {
     "name": "stdout",
     "output_type": "stream",
     "text": [
      "RMSE test catboost: 1610.09\n",
      "RMSE cross catboost: 1652.33\n"
     ]
    }
   ],
   "source": [
    "# menghitung skor RMSE untuk full data menggunakan cross validation\n",
    "ave_cross_cbt = np.mean([1636,1657,1664]).round(2)\n",
    "pred_cat = np.sqrt(mean_squared_error(y_test_cbt,predict_test_cbt)).round(2)\n",
    "print('RMSE test catboost:',pred_cat)\n",
    "print('RMSE cross catboost:',ave_cross_cbt)"
   ]
  },
  {
   "cell_type": "markdown",
   "metadata": {},
   "source": [
    "## Komparasi Model <a id='cont_17'></a>"
   ]
  },
  {
   "cell_type": "code",
   "execution_count": 39,
   "metadata": {},
   "outputs": [
    {
     "data": {
      "text/html": [
       "<div>\n",
       "<style scoped>\n",
       "    .dataframe tbody tr th:only-of-type {\n",
       "        vertical-align: middle;\n",
       "    }\n",
       "\n",
       "    .dataframe tbody tr th {\n",
       "        vertical-align: top;\n",
       "    }\n",
       "\n",
       "    .dataframe thead th {\n",
       "        text-align: right;\n",
       "    }\n",
       "</style>\n",
       "<table border=\"1\" class=\"dataframe\">\n",
       "  <thead>\n",
       "    <tr style=\"text-align: right;\">\n",
       "      <th></th>\n",
       "      <th>fit time</th>\n",
       "      <th>pred time</th>\n",
       "      <th>total time</th>\n",
       "      <th>RMSE-test</th>\n",
       "      <th>RMSE-crossval</th>\n",
       "    </tr>\n",
       "  </thead>\n",
       "  <tbody>\n",
       "    <tr>\n",
       "      <th>Linear Regression</th>\n",
       "      <td>3.742</td>\n",
       "      <td>0.442</td>\n",
       "      <td>4.201</td>\n",
       "      <td>2765.13</td>\n",
       "      <td>2790.61</td>\n",
       "    </tr>\n",
       "    <tr>\n",
       "      <th>Random Forest</th>\n",
       "      <td>10.771</td>\n",
       "      <td>0.985</td>\n",
       "      <td>11.756</td>\n",
       "      <td>1907.94</td>\n",
       "      <td>1916.04</td>\n",
       "    </tr>\n",
       "    <tr>\n",
       "      <th>XGBoost</th>\n",
       "      <td>8.383</td>\n",
       "      <td>0.522</td>\n",
       "      <td>8.905</td>\n",
       "      <td>1685.61</td>\n",
       "      <td>1694.46</td>\n",
       "    </tr>\n",
       "    <tr>\n",
       "      <th>LightGBM</th>\n",
       "      <td>2.394</td>\n",
       "      <td>0.695</td>\n",
       "      <td>3.089</td>\n",
       "      <td>1662.20</td>\n",
       "      <td>1722.31</td>\n",
       "    </tr>\n",
       "    <tr>\n",
       "      <th>CatBoost</th>\n",
       "      <td>53.386</td>\n",
       "      <td>0.442</td>\n",
       "      <td>53.828</td>\n",
       "      <td>1610.09</td>\n",
       "      <td>1652.33</td>\n",
       "    </tr>\n",
       "  </tbody>\n",
       "</table>\n",
       "</div>"
      ],
      "text/plain": [
       "                   fit time  pred time  total time  RMSE-test  RMSE-crossval\n",
       "Linear Regression     3.742      0.442       4.201    2765.13        2790.61\n",
       "Random Forest        10.771      0.985      11.756    1907.94        1916.04\n",
       "XGBoost               8.383      0.522       8.905    1685.61        1694.46\n",
       "LightGBM              2.394      0.695       3.089    1662.20        1722.31\n",
       "CatBoost             53.386      0.442      53.828    1610.09        1652.33"
      ]
     },
     "execution_count": 39,
     "metadata": {},
     "output_type": "execute_result"
    }
   ],
   "source": [
    "# membuat tabel komparasi\n",
    "table_comp = pd.DataFrame(data = {\n",
    "    'fit time': [diff_fit_linreg, diff_fit_rf, diff_fit_xgb, diff_fit_lgb, diff_fit_cbt],\n",
    "    'pred time': [diff_pred_cbt, diff_pred_rf, diff_pred_xgb, diff_pred_lgb, diff_pred_cbt],\n",
    "    'total time': [total_linreg, total_rf, total_xgb, total_lgb, total_cbt],\n",
    "    'RMSE-test': [pred_linreg, pred_rf, pred_xgb, pred_lgb, pred_cat],\n",
    "    'RMSE-crossval': [cross_linreg, cross_rf, cross_xgb, cross_lgb, ave_cross_cbt]\n",
    "}, index=['Linear Regression','Random Forest','XGBoost','LightGBM','CatBoost'])\n",
    "\n",
    "# menampilkan tabel komparasi\n",
    "table_comp"
   ]
  },
  {
   "cell_type": "markdown",
   "metadata": {},
   "source": [
    "Berdasarkan tabel diatas bisa kita tarik beberapa kesimpulan diantaranya:\n",
    "- Semua model memberikan skor yang lebih baik daripada `model regresi linier`.\n",
    "- Model yang menghasilkan waktu komputasi (`preprocessing + predicting`) adalah `LightGBM` sebesar `3.089 detik`.\n",
    "- Model yang menghasilkan `skor prediksi RMSE` dam `skor crossval RMSE` terbaik (paling rendah) adalah `CatBoost`.\n",
    "- Model yang paling lama melakukan komputasi adalah `model CatBoost` sebesar `53 detik`.\n",
    "\n",
    "Note: Hasil perhitungan bisa berubah ubah tergantung perangkat komputasinya"
   ]
  },
  {
   "cell_type": "markdown",
   "metadata": {},
   "source": [
    "# Kesimpulan <a id='cont_18'></a>"
   ]
  },
  {
   "cell_type": "markdown",
   "metadata": {},
   "source": [
    "Kita sudah melakukan `pembersihan dataset` serta `merapihkan dataset`, melakukan `EDA` sederhana untuk mencari korelasi `Price` dengan variabel lain. Disini penulis sudah melakukan `Grid Search` secara manual untuk mencari beberapa parameter yang optimal untuk masing-masing `model` dan membiarkan parameter lain secara `defaultnya`. Jika mempertimbangkan keseluruhan aspek baik `waktu komputasi` maupun `skor RMSE` kita bisa urutkan sebagai berikut dari yang terbaik hingga yang kurang baik: `XGBoost`>`LightGBM`>`CatBoost`>`Random Forest`>`Linier Regresi`. Kenapa `XGBoost` dipilih, karena waktu komputasi yang singkat serta hasil antara `skor predict RMSE` dan `skor RMSE crossval` yang stabil dan cukup rendah."
   ]
  }
 ],
 "metadata": {
  "kernelspec": {
   "display_name": "Python 3 (ipykernel)",
   "language": "python",
   "name": "python3"
  },
  "language_info": {
   "codemirror_mode": {
    "name": "ipython",
    "version": 3
   },
   "file_extension": ".py",
   "mimetype": "text/x-python",
   "name": "python",
   "nbconvert_exporter": "python",
   "pygments_lexer": "ipython3",
   "version": "3.11.5"
  },
  "toc": {
   "base_numbering": 1,
   "nav_menu": {},
   "number_sections": true,
   "sideBar": true,
   "skip_h1_title": true,
   "title_cell": "Table of Contents",
   "title_sidebar": "Contents",
   "toc_cell": false,
   "toc_position": {},
   "toc_section_display": true,
   "toc_window_display": false
  }
 },
 "nbformat": 4,
 "nbformat_minor": 2
}
